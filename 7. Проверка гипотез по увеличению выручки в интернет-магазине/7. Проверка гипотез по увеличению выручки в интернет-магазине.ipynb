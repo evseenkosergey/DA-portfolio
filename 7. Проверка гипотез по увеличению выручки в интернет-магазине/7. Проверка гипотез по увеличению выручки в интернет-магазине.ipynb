{
 "cells": [
  {
   "cell_type": "markdown",
   "metadata": {},
   "source": [
    "**ПРИОРИТЕЗАЦИЯ ГИПОТЕЗ И А/В-ТЕСТ В КРУПНОМ ИНТЕРНЕТ-МАГАЗИНЕ**\n",
    "\n",
    "Вместе с отделом маркетинга подготовлен список гипотез для увеличения выручки.\n",
    "Необходимо приоритизировать гипотезы, запустить A/B-тест и проанализировать результаты.\n",
    "\n",
    "Задачи на проект:\n",
    "\n",
    "Часть 1. Приоритизация гипотез.\n",
    "- Примените фреймворк ICE для приоритизации гипотез. Отсортируйте их по убыванию приоритета.\n",
    "- Примените фреймворк RICE для приоритизации гипотез. Отсортируйте их по убыванию приоритета.\n",
    "- Укажите, как изменилась приоритизация гипотез при применении RICE вместо ICE. Объясните, почему так произошло.\n",
    "\n",
    "Часть 2. Анализ A/B-теста\n",
    "\n",
    "Проанализируйте A/B-тест:\n",
    "- Постройте график кумулятивной выручки по группам. Сделайте выводы и предположения.\n",
    "- Постройте график кумулятивного среднего чека по группам. Сделайте выводы и предположения.\n",
    "- Постройте график относительного изменения кумулятивного среднего чека группы B к группе A. Сделайте выводы и предположения.\n",
    "- Постройте график кумулятивной конверсии по группам. Сделайте выводы и предположения.\n",
    "- Постройте график относительного изменения кумулятивной конверсии группы B к группе A. Сделайте выводы и предположения.\n",
    "- Постройте точечный график количества заказов по пользователям. Сделайте выводы и предположения.\n",
    "- Посчитайте 95-й и 99-й перцентили количества заказов на пользователя. Выберите границу для определения аномальных пользователей.\n",
    "- Постройте точечный график стоимостей заказов. Сделайте выводы и предположения.\n",
    "- Посчитайте 95-й и 99-й перцентили стоимости заказов. Выберите границу для определения аномальных заказов.\n",
    "- Посчитайте статистическую значимость различий в конверсии между группами по «сырым» данным. Сделайте выводы и предположения.\n",
    "- Посчитайте статистическую значимость различий в среднем чеке заказа между группами по «сырым» данным. Сделайте выводы и предположения.\n",
    "- Посчитайте статистическую значимость различий в конверсии между группами по «очищенным» данным. Сделайте выводы и предположения.\n",
    "- Посчитайте статистическую значимость различий в среднем чеке заказа между группами по «очищенным» данным. Сделайте выводы и предположения.\n",
    "- Примите решение по результатам теста и объясните его. Варианты решений: 1. Остановить тест, зафиксировать победу одной из групп. 2. Остановить тест, зафиксировать отсутствие различий между группами. 3. Продолжить тест."
   ]
  },
  {
   "cell_type": "markdown",
   "metadata": {},
   "source": [
    "## Подготовка данных"
   ]
  },
  {
   "cell_type": "code",
   "execution_count": 1,
   "metadata": {},
   "outputs": [],
   "source": [
    "#импортируем библиотеки\n",
    "import pandas as pd\n",
    "\n",
    "import datetime as dt\n",
    "\n",
    "from IPython.display import display\n",
    "\n",
    "import matplotlib.pyplot as plt\n",
    "import seaborn as sns\n",
    "\n",
    "import numpy as np\n",
    "import scipy.stats as stats\n",
    "\n",
    "np.warnings.filterwarnings('ignore', category=np.VisibleDeprecationWarning)\n",
    "\n",
    "import warnings\n",
    "warnings.simplefilter('ignore')\n",
    "\n",
    "pd.set_option('display.max_colwidth', 1000)"
   ]
  },
  {
   "cell_type": "code",
   "execution_count": 2,
   "metadata": {},
   "outputs": [],
   "source": [
    "#извлекаем данные\n",
    "\n",
    "hypothesis = pd.read_csv('/datasets/hypothesis.csv')\n",
    "orders = pd.read_csv('/datasets/orders.csv')\n",
    "visitors = pd.read_csv('/datasets/visitors.csv')"
   ]
  },
  {
   "cell_type": "code",
   "execution_count": 3,
   "metadata": {},
   "outputs": [
    {
     "name": "stdout",
     "output_type": "stream",
     "text": [
      "Метод head и info для таблиц\n"
     ]
    },
    {
     "data": {
      "text/html": [
       "<div>\n",
       "<style scoped>\n",
       "    .dataframe tbody tr th:only-of-type {\n",
       "        vertical-align: middle;\n",
       "    }\n",
       "\n",
       "    .dataframe tbody tr th {\n",
       "        vertical-align: top;\n",
       "    }\n",
       "\n",
       "    .dataframe thead th {\n",
       "        text-align: right;\n",
       "    }\n",
       "</style>\n",
       "<table border=\"1\" class=\"dataframe\">\n",
       "  <thead>\n",
       "    <tr style=\"text-align: right;\">\n",
       "      <th></th>\n",
       "      <th>Hypothesis</th>\n",
       "      <th>Reach</th>\n",
       "      <th>Impact</th>\n",
       "      <th>Confidence</th>\n",
       "      <th>Efforts</th>\n",
       "    </tr>\n",
       "  </thead>\n",
       "  <tbody>\n",
       "    <tr>\n",
       "      <td>0</td>\n",
       "      <td>Добавить два новых канала привлечения трафика, что позволит привлекать на 30% больше пользователей</td>\n",
       "      <td>3</td>\n",
       "      <td>10</td>\n",
       "      <td>8</td>\n",
       "      <td>6</td>\n",
       "    </tr>\n",
       "    <tr>\n",
       "      <td>1</td>\n",
       "      <td>Запустить собственную службу доставки, что сократит срок доставки заказов</td>\n",
       "      <td>2</td>\n",
       "      <td>5</td>\n",
       "      <td>4</td>\n",
       "      <td>10</td>\n",
       "    </tr>\n",
       "    <tr>\n",
       "      <td>2</td>\n",
       "      <td>Добавить блоки рекомендаций товаров на сайт интернет магазина, чтобы повысить конверсию и средний чек заказа</td>\n",
       "      <td>8</td>\n",
       "      <td>3</td>\n",
       "      <td>7</td>\n",
       "      <td>3</td>\n",
       "    </tr>\n",
       "    <tr>\n",
       "      <td>3</td>\n",
       "      <td>Изменить структура категорий, что увеличит конверсию, т.к. пользователи быстрее найдут нужный товар</td>\n",
       "      <td>8</td>\n",
       "      <td>3</td>\n",
       "      <td>3</td>\n",
       "      <td>8</td>\n",
       "    </tr>\n",
       "    <tr>\n",
       "      <td>4</td>\n",
       "      <td>Изменить цвет фона главной страницы, чтобы увеличить вовлеченность пользователей</td>\n",
       "      <td>3</td>\n",
       "      <td>1</td>\n",
       "      <td>1</td>\n",
       "      <td>1</td>\n",
       "    </tr>\n",
       "    <tr>\n",
       "      <td>5</td>\n",
       "      <td>Добавить страницу отзывов клиентов о магазине, что позволит увеличить количество заказов</td>\n",
       "      <td>3</td>\n",
       "      <td>2</td>\n",
       "      <td>2</td>\n",
       "      <td>3</td>\n",
       "    </tr>\n",
       "    <tr>\n",
       "      <td>6</td>\n",
       "      <td>Показать на главной странице баннеры с актуальными акциями и распродажами, чтобы увеличить конверсию</td>\n",
       "      <td>5</td>\n",
       "      <td>3</td>\n",
       "      <td>8</td>\n",
       "      <td>3</td>\n",
       "    </tr>\n",
       "    <tr>\n",
       "      <td>7</td>\n",
       "      <td>Добавить форму подписки на все основные страницы, чтобы собрать базу клиентов для email-рассылок</td>\n",
       "      <td>10</td>\n",
       "      <td>7</td>\n",
       "      <td>8</td>\n",
       "      <td>5</td>\n",
       "    </tr>\n",
       "    <tr>\n",
       "      <td>8</td>\n",
       "      <td>Запустить акцию, дающую скидку на товар в день рождения</td>\n",
       "      <td>1</td>\n",
       "      <td>9</td>\n",
       "      <td>9</td>\n",
       "      <td>5</td>\n",
       "    </tr>\n",
       "  </tbody>\n",
       "</table>\n",
       "</div>"
      ],
      "text/plain": [
       "                                                                                                     Hypothesis  \\\n",
       "0            Добавить два новых канала привлечения трафика, что позволит привлекать на 30% больше пользователей   \n",
       "1                                     Запустить собственную службу доставки, что сократит срок доставки заказов   \n",
       "2  Добавить блоки рекомендаций товаров на сайт интернет магазина, чтобы повысить конверсию и средний чек заказа   \n",
       "3           Изменить структура категорий, что увеличит конверсию, т.к. пользователи быстрее найдут нужный товар   \n",
       "4                              Изменить цвет фона главной страницы, чтобы увеличить вовлеченность пользователей   \n",
       "5                      Добавить страницу отзывов клиентов о магазине, что позволит увеличить количество заказов   \n",
       "6          Показать на главной странице баннеры с актуальными акциями и распродажами, чтобы увеличить конверсию   \n",
       "7              Добавить форму подписки на все основные страницы, чтобы собрать базу клиентов для email-рассылок   \n",
       "8                                                       Запустить акцию, дающую скидку на товар в день рождения   \n",
       "\n",
       "   Reach  Impact  Confidence  Efforts  \n",
       "0      3      10           8        6  \n",
       "1      2       5           4       10  \n",
       "2      8       3           7        3  \n",
       "3      8       3           3        8  \n",
       "4      3       1           1        1  \n",
       "5      3       2           2        3  \n",
       "6      5       3           8        3  \n",
       "7     10       7           8        5  \n",
       "8      1       9           9        5  "
      ]
     },
     "metadata": {},
     "output_type": "display_data"
    },
    {
     "name": "stdout",
     "output_type": "stream",
     "text": [
      "<class 'pandas.core.frame.DataFrame'>\n",
      "RangeIndex: 9 entries, 0 to 8\n",
      "Data columns (total 5 columns):\n",
      "Hypothesis    9 non-null object\n",
      "Reach         9 non-null int64\n",
      "Impact        9 non-null int64\n",
      "Confidence    9 non-null int64\n",
      "Efforts       9 non-null int64\n",
      "dtypes: int64(4), object(1)\n",
      "memory usage: 488.0+ bytes\n"
     ]
    },
    {
     "data": {
      "text/html": [
       "<div>\n",
       "<style scoped>\n",
       "    .dataframe tbody tr th:only-of-type {\n",
       "        vertical-align: middle;\n",
       "    }\n",
       "\n",
       "    .dataframe tbody tr th {\n",
       "        vertical-align: top;\n",
       "    }\n",
       "\n",
       "    .dataframe thead th {\n",
       "        text-align: right;\n",
       "    }\n",
       "</style>\n",
       "<table border=\"1\" class=\"dataframe\">\n",
       "  <thead>\n",
       "    <tr style=\"text-align: right;\">\n",
       "      <th></th>\n",
       "      <th>transactionId</th>\n",
       "      <th>visitorId</th>\n",
       "      <th>date</th>\n",
       "      <th>revenue</th>\n",
       "      <th>group</th>\n",
       "    </tr>\n",
       "  </thead>\n",
       "  <tbody>\n",
       "    <tr>\n",
       "      <td>0</td>\n",
       "      <td>3667963787</td>\n",
       "      <td>3312258926</td>\n",
       "      <td>2019-08-15</td>\n",
       "      <td>1650</td>\n",
       "      <td>B</td>\n",
       "    </tr>\n",
       "    <tr>\n",
       "      <td>1</td>\n",
       "      <td>2804400009</td>\n",
       "      <td>3642806036</td>\n",
       "      <td>2019-08-15</td>\n",
       "      <td>730</td>\n",
       "      <td>B</td>\n",
       "    </tr>\n",
       "    <tr>\n",
       "      <td>2</td>\n",
       "      <td>2961555356</td>\n",
       "      <td>4069496402</td>\n",
       "      <td>2019-08-15</td>\n",
       "      <td>400</td>\n",
       "      <td>A</td>\n",
       "    </tr>\n",
       "    <tr>\n",
       "      <td>3</td>\n",
       "      <td>3797467345</td>\n",
       "      <td>1196621759</td>\n",
       "      <td>2019-08-15</td>\n",
       "      <td>9759</td>\n",
       "      <td>B</td>\n",
       "    </tr>\n",
       "    <tr>\n",
       "      <td>4</td>\n",
       "      <td>2282983706</td>\n",
       "      <td>2322279887</td>\n",
       "      <td>2019-08-15</td>\n",
       "      <td>2308</td>\n",
       "      <td>B</td>\n",
       "    </tr>\n",
       "  </tbody>\n",
       "</table>\n",
       "</div>"
      ],
      "text/plain": [
       "   transactionId   visitorId        date  revenue group\n",
       "0     3667963787  3312258926  2019-08-15     1650     B\n",
       "1     2804400009  3642806036  2019-08-15      730     B\n",
       "2     2961555356  4069496402  2019-08-15      400     A\n",
       "3     3797467345  1196621759  2019-08-15     9759     B\n",
       "4     2282983706  2322279887  2019-08-15     2308     B"
      ]
     },
     "metadata": {},
     "output_type": "display_data"
    },
    {
     "name": "stdout",
     "output_type": "stream",
     "text": [
      "<class 'pandas.core.frame.DataFrame'>\n",
      "RangeIndex: 1197 entries, 0 to 1196\n",
      "Data columns (total 5 columns):\n",
      "transactionId    1197 non-null int64\n",
      "visitorId        1197 non-null int64\n",
      "date             1197 non-null object\n",
      "revenue          1197 non-null int64\n",
      "group            1197 non-null object\n",
      "dtypes: int64(3), object(2)\n",
      "memory usage: 46.9+ KB\n"
     ]
    },
    {
     "data": {
      "text/html": [
       "<div>\n",
       "<style scoped>\n",
       "    .dataframe tbody tr th:only-of-type {\n",
       "        vertical-align: middle;\n",
       "    }\n",
       "\n",
       "    .dataframe tbody tr th {\n",
       "        vertical-align: top;\n",
       "    }\n",
       "\n",
       "    .dataframe thead th {\n",
       "        text-align: right;\n",
       "    }\n",
       "</style>\n",
       "<table border=\"1\" class=\"dataframe\">\n",
       "  <thead>\n",
       "    <tr style=\"text-align: right;\">\n",
       "      <th></th>\n",
       "      <th>date</th>\n",
       "      <th>group</th>\n",
       "      <th>visitors</th>\n",
       "    </tr>\n",
       "  </thead>\n",
       "  <tbody>\n",
       "    <tr>\n",
       "      <td>0</td>\n",
       "      <td>2019-08-01</td>\n",
       "      <td>A</td>\n",
       "      <td>719</td>\n",
       "    </tr>\n",
       "    <tr>\n",
       "      <td>1</td>\n",
       "      <td>2019-08-02</td>\n",
       "      <td>A</td>\n",
       "      <td>619</td>\n",
       "    </tr>\n",
       "    <tr>\n",
       "      <td>2</td>\n",
       "      <td>2019-08-03</td>\n",
       "      <td>A</td>\n",
       "      <td>507</td>\n",
       "    </tr>\n",
       "    <tr>\n",
       "      <td>3</td>\n",
       "      <td>2019-08-04</td>\n",
       "      <td>A</td>\n",
       "      <td>717</td>\n",
       "    </tr>\n",
       "    <tr>\n",
       "      <td>4</td>\n",
       "      <td>2019-08-05</td>\n",
       "      <td>A</td>\n",
       "      <td>756</td>\n",
       "    </tr>\n",
       "  </tbody>\n",
       "</table>\n",
       "</div>"
      ],
      "text/plain": [
       "         date group  visitors\n",
       "0  2019-08-01     A       719\n",
       "1  2019-08-02     A       619\n",
       "2  2019-08-03     A       507\n",
       "3  2019-08-04     A       717\n",
       "4  2019-08-05     A       756"
      ]
     },
     "metadata": {},
     "output_type": "display_data"
    },
    {
     "name": "stdout",
     "output_type": "stream",
     "text": [
      "<class 'pandas.core.frame.DataFrame'>\n",
      "RangeIndex: 62 entries, 0 to 61\n",
      "Data columns (total 3 columns):\n",
      "date        62 non-null object\n",
      "group       62 non-null object\n",
      "visitors    62 non-null int64\n",
      "dtypes: int64(1), object(2)\n",
      "memory usage: 1.6+ KB\n"
     ]
    }
   ],
   "source": [
    "#осуществим первичный взгляд\n",
    "\n",
    "print('Метод head и info для таблиц')\n",
    "\n",
    "display(hypothesis.head(10))\n",
    "hypothesis.info()\n",
    "\n",
    "display(orders.head())\n",
    "orders.info()\n",
    "\n",
    "display(visitors.head())\n",
    "visitors.info()"
   ]
  },
  {
   "cell_type": "code",
   "execution_count": 4,
   "metadata": {},
   "outputs": [],
   "source": [
    "#убрать пробелы и в нижний регистр\n",
    "hypothesis.set_axis(['hypothesis','reach','impact','confidence','efforts'],axis='columns',inplace=True)\n",
    "orders.set_axis(['transaction_id','user_id','date', 'revenue', 'group'],axis='columns',inplace=True)\n",
    "\n",
    "#дату в надлежащий тип\n",
    "orders['date'] = orders['date'].map(lambda x: dt.datetime.strptime(x, '%Y-%m-%d'))\n",
    "visitors['date'] = visitors['date'].map(lambda x: dt.datetime.strptime(x, '%Y-%m-%d'))"
   ]
  },
  {
   "cell_type": "code",
   "execution_count": 5,
   "metadata": {},
   "outputs": [
    {
     "name": "stdout",
     "output_type": "stream",
     "text": [
      "0\n",
      "0\n"
     ]
    }
   ],
   "source": [
    "#проверка на дубликаты\n",
    "print(orders.duplicated().sum())\n",
    "print(visitors.duplicated().sum())"
   ]
  },
  {
   "cell_type": "code",
   "execution_count": 6,
   "metadata": {},
   "outputs": [
    {
     "name": "stdout",
     "output_type": "stream",
     "text": [
      "Количество пользователей, которые есть в обоих группах:  58\n",
      "Всего уникальных пользователей:  1031\n"
     ]
    }
   ],
   "source": [
    "#проверка пользователей, которые попали в две группы одновременно\n",
    "print('Количество пользователей, которые есть в обоих группах: ',len(orders.groupby('user_id').agg({'group':'nunique'}).query('group > 1')))\n",
    "print('Всего уникальных пользователей: ', orders['user_id'].nunique())"
   ]
  },
  {
   "cell_type": "markdown",
   "metadata": {},
   "source": [
    "Обнаружено, что 58 уникальных пользователей попали в обе группы, что составляет 5,6% от всего количества пользователей.\n",
    "\n",
    "Других ошибок в исходных данных не обнаружено, подправили только названия столбцов и тип данных для столбцов с датой."
   ]
  },
  {
   "cell_type": "markdown",
   "metadata": {},
   "source": [
    "## Приоритизация гипотез"
   ]
  },
  {
   "attachments": {
    "image.png": {
     "image/png": "[encoded data removed]"
    }
   },
   "cell_type": "markdown",
   "metadata": {},
   "source": [
    "Применим фреймворк ICE для приоритизации гипотез и отсортируем их по убыванию приоритета:\n",
    "\n",
    "![image.png](attachment:image.png)"
   ]
  },
  {
   "cell_type": "code",
   "execution_count": 7,
   "metadata": {},
   "outputs": [
    {
     "data": {
      "text/html": [
       "<div>\n",
       "<style scoped>\n",
       "    .dataframe tbody tr th:only-of-type {\n",
       "        vertical-align: middle;\n",
       "    }\n",
       "\n",
       "    .dataframe tbody tr th {\n",
       "        vertical-align: top;\n",
       "    }\n",
       "\n",
       "    .dataframe thead th {\n",
       "        text-align: right;\n",
       "    }\n",
       "</style>\n",
       "<table border=\"1\" class=\"dataframe\">\n",
       "  <thead>\n",
       "    <tr style=\"text-align: right;\">\n",
       "      <th></th>\n",
       "      <th>ICE</th>\n",
       "      <th>hypothesis</th>\n",
       "    </tr>\n",
       "  </thead>\n",
       "  <tbody>\n",
       "    <tr>\n",
       "      <td>8</td>\n",
       "      <td>16.200000</td>\n",
       "      <td>Запустить акцию, дающую скидку на товар в день рождения</td>\n",
       "    </tr>\n",
       "    <tr>\n",
       "      <td>0</td>\n",
       "      <td>13.333333</td>\n",
       "      <td>Добавить два новых канала привлечения трафика, что позволит привлекать на 30% больше пользователей</td>\n",
       "    </tr>\n",
       "    <tr>\n",
       "      <td>7</td>\n",
       "      <td>11.200000</td>\n",
       "      <td>Добавить форму подписки на все основные страницы, чтобы собрать базу клиентов для email-рассылок</td>\n",
       "    </tr>\n",
       "    <tr>\n",
       "      <td>6</td>\n",
       "      <td>8.000000</td>\n",
       "      <td>Показать на главной странице баннеры с актуальными акциями и распродажами, чтобы увеличить конверсию</td>\n",
       "    </tr>\n",
       "    <tr>\n",
       "      <td>2</td>\n",
       "      <td>7.000000</td>\n",
       "      <td>Добавить блоки рекомендаций товаров на сайт интернет магазина, чтобы повысить конверсию и средний чек заказа</td>\n",
       "    </tr>\n",
       "    <tr>\n",
       "      <td>1</td>\n",
       "      <td>2.000000</td>\n",
       "      <td>Запустить собственную службу доставки, что сократит срок доставки заказов</td>\n",
       "    </tr>\n",
       "    <tr>\n",
       "      <td>5</td>\n",
       "      <td>1.333333</td>\n",
       "      <td>Добавить страницу отзывов клиентов о магазине, что позволит увеличить количество заказов</td>\n",
       "    </tr>\n",
       "    <tr>\n",
       "      <td>3</td>\n",
       "      <td>1.125000</td>\n",
       "      <td>Изменить структура категорий, что увеличит конверсию, т.к. пользователи быстрее найдут нужный товар</td>\n",
       "    </tr>\n",
       "    <tr>\n",
       "      <td>4</td>\n",
       "      <td>1.000000</td>\n",
       "      <td>Изменить цвет фона главной страницы, чтобы увеличить вовлеченность пользователей</td>\n",
       "    </tr>\n",
       "  </tbody>\n",
       "</table>\n",
       "</div>"
      ],
      "text/plain": [
       "         ICE  \\\n",
       "8  16.200000   \n",
       "0  13.333333   \n",
       "7  11.200000   \n",
       "6   8.000000   \n",
       "2   7.000000   \n",
       "1   2.000000   \n",
       "5   1.333333   \n",
       "3   1.125000   \n",
       "4   1.000000   \n",
       "\n",
       "                                                                                                     hypothesis  \n",
       "8                                                       Запустить акцию, дающую скидку на товар в день рождения  \n",
       "0            Добавить два новых канала привлечения трафика, что позволит привлекать на 30% больше пользователей  \n",
       "7              Добавить форму подписки на все основные страницы, чтобы собрать базу клиентов для email-рассылок  \n",
       "6          Показать на главной странице баннеры с актуальными акциями и распродажами, чтобы увеличить конверсию  \n",
       "2  Добавить блоки рекомендаций товаров на сайт интернет магазина, чтобы повысить конверсию и средний чек заказа  \n",
       "1                                     Запустить собственную службу доставки, что сократит срок доставки заказов  \n",
       "5                      Добавить страницу отзывов клиентов о магазине, что позволит увеличить количество заказов  \n",
       "3           Изменить структура категорий, что увеличит конверсию, т.к. пользователи быстрее найдут нужный товар  \n",
       "4                              Изменить цвет фона главной страницы, чтобы увеличить вовлеченность пользователей  "
      ]
     },
     "metadata": {},
     "output_type": "display_data"
    }
   ],
   "source": [
    "hypothesis['ICE'] = hypothesis['impact']*hypothesis['confidence']/hypothesis['efforts']\n",
    "\n",
    "display(hypothesis.sort_values(by='ICE',ascending=False)[{'hypothesis','ICE'}])\n"
   ]
  },
  {
   "attachments": {
    "image.png": {
     "image/png": "[encoded data removed]"
    }
   },
   "cell_type": "markdown",
   "metadata": {},
   "source": [
    "Далее применим фреймворк RICE для приоритизации гипотез и отсортируем их по убыванию приоритета:\n",
    "\n",
    "![image.png](attachment:image.png)"
   ]
  },
  {
   "cell_type": "code",
   "execution_count": 8,
   "metadata": {},
   "outputs": [
    {
     "data": {
      "text/html": [
       "<div>\n",
       "<style scoped>\n",
       "    .dataframe tbody tr th:only-of-type {\n",
       "        vertical-align: middle;\n",
       "    }\n",
       "\n",
       "    .dataframe tbody tr th {\n",
       "        vertical-align: top;\n",
       "    }\n",
       "\n",
       "    .dataframe thead th {\n",
       "        text-align: right;\n",
       "    }\n",
       "</style>\n",
       "<table border=\"1\" class=\"dataframe\">\n",
       "  <thead>\n",
       "    <tr style=\"text-align: right;\">\n",
       "      <th></th>\n",
       "      <th>RICE</th>\n",
       "      <th>hypothesis</th>\n",
       "    </tr>\n",
       "  </thead>\n",
       "  <tbody>\n",
       "    <tr>\n",
       "      <td>7</td>\n",
       "      <td>112.0</td>\n",
       "      <td>Добавить форму подписки на все основные страницы, чтобы собрать базу клиентов для email-рассылок</td>\n",
       "    </tr>\n",
       "    <tr>\n",
       "      <td>2</td>\n",
       "      <td>56.0</td>\n",
       "      <td>Добавить блоки рекомендаций товаров на сайт интернет магазина, чтобы повысить конверсию и средний чек заказа</td>\n",
       "    </tr>\n",
       "    <tr>\n",
       "      <td>0</td>\n",
       "      <td>40.0</td>\n",
       "      <td>Добавить два новых канала привлечения трафика, что позволит привлекать на 30% больше пользователей</td>\n",
       "    </tr>\n",
       "    <tr>\n",
       "      <td>6</td>\n",
       "      <td>40.0</td>\n",
       "      <td>Показать на главной странице баннеры с актуальными акциями и распродажами, чтобы увеличить конверсию</td>\n",
       "    </tr>\n",
       "    <tr>\n",
       "      <td>8</td>\n",
       "      <td>16.2</td>\n",
       "      <td>Запустить акцию, дающую скидку на товар в день рождения</td>\n",
       "    </tr>\n",
       "    <tr>\n",
       "      <td>3</td>\n",
       "      <td>9.0</td>\n",
       "      <td>Изменить структура категорий, что увеличит конверсию, т.к. пользователи быстрее найдут нужный товар</td>\n",
       "    </tr>\n",
       "    <tr>\n",
       "      <td>1</td>\n",
       "      <td>4.0</td>\n",
       "      <td>Запустить собственную службу доставки, что сократит срок доставки заказов</td>\n",
       "    </tr>\n",
       "    <tr>\n",
       "      <td>5</td>\n",
       "      <td>4.0</td>\n",
       "      <td>Добавить страницу отзывов клиентов о магазине, что позволит увеличить количество заказов</td>\n",
       "    </tr>\n",
       "    <tr>\n",
       "      <td>4</td>\n",
       "      <td>3.0</td>\n",
       "      <td>Изменить цвет фона главной страницы, чтобы увеличить вовлеченность пользователей</td>\n",
       "    </tr>\n",
       "  </tbody>\n",
       "</table>\n",
       "</div>"
      ],
      "text/plain": [
       "    RICE  \\\n",
       "7  112.0   \n",
       "2   56.0   \n",
       "0   40.0   \n",
       "6   40.0   \n",
       "8   16.2   \n",
       "3    9.0   \n",
       "1    4.0   \n",
       "5    4.0   \n",
       "4    3.0   \n",
       "\n",
       "                                                                                                     hypothesis  \n",
       "7              Добавить форму подписки на все основные страницы, чтобы собрать базу клиентов для email-рассылок  \n",
       "2  Добавить блоки рекомендаций товаров на сайт интернет магазина, чтобы повысить конверсию и средний чек заказа  \n",
       "0            Добавить два новых канала привлечения трафика, что позволит привлекать на 30% больше пользователей  \n",
       "6          Показать на главной странице баннеры с актуальными акциями и распродажами, чтобы увеличить конверсию  \n",
       "8                                                       Запустить акцию, дающую скидку на товар в день рождения  \n",
       "3           Изменить структура категорий, что увеличит конверсию, т.к. пользователи быстрее найдут нужный товар  \n",
       "1                                     Запустить собственную службу доставки, что сократит срок доставки заказов  \n",
       "5                      Добавить страницу отзывов клиентов о магазине, что позволит увеличить количество заказов  \n",
       "4                              Изменить цвет фона главной страницы, чтобы увеличить вовлеченность пользователей  "
      ]
     },
     "metadata": {},
     "output_type": "display_data"
    }
   ],
   "source": [
    "hypothesis['RICE'] = hypothesis['reach']*hypothesis['impact']*hypothesis['confidence']/hypothesis['efforts']\n",
    "\n",
    "display(hypothesis.sort_values(by='RICE',ascending=False)[{'hypothesis','RICE'}])"
   ]
  },
  {
   "cell_type": "code",
   "execution_count": 9,
   "metadata": {},
   "outputs": [
    {
     "data": {
      "text/html": [
       "<style  type=\"text/css\" >\n",
       "    #T_736c2508_238c_11ec_8dc2_02420a391bb1row0_col1 {\n",
       "            background-color:  #4caa4c;\n",
       "            color:  #000000;\n",
       "        }    #T_736c2508_238c_11ec_8dc2_02420a391bb1row0_col2 {\n",
       "            background-color:  #008000;\n",
       "            color:  #f1f1f1;\n",
       "        }    #T_736c2508_238c_11ec_8dc2_02420a391bb1row1_col1 {\n",
       "            background-color:  #8bcd8b;\n",
       "            color:  #000000;\n",
       "        }    #T_736c2508_238c_11ec_8dc2_02420a391bb1row1_col2 {\n",
       "            background-color:  #76c176;\n",
       "            color:  #000000;\n",
       "        }    #T_736c2508_238c_11ec_8dc2_02420a391bb1row2_col1 {\n",
       "            background-color:  #2b982b;\n",
       "            color:  #000000;\n",
       "        }    #T_736c2508_238c_11ec_8dc2_02420a391bb1row2_col2 {\n",
       "            background-color:  #98d498;\n",
       "            color:  #000000;\n",
       "        }    #T_736c2508_238c_11ec_8dc2_02420a391bb1row3_col1 {\n",
       "            background-color:  #7cc57c;\n",
       "            color:  #000000;\n",
       "        }    #T_736c2508_238c_11ec_8dc2_02420a391bb1row3_col2 {\n",
       "            background-color:  #98d498;\n",
       "            color:  #000000;\n",
       "        }    #T_736c2508_238c_11ec_8dc2_02420a391bb1row4_col1 {\n",
       "            background-color:  #008000;\n",
       "            color:  #f1f1f1;\n",
       "        }    #T_736c2508_238c_11ec_8dc2_02420a391bb1row4_col2 {\n",
       "            background-color:  #caf0ca;\n",
       "            color:  #000000;\n",
       "        }    #T_736c2508_238c_11ec_8dc2_02420a391bb1row5_col1 {\n",
       "            background-color:  #e4fee4;\n",
       "            color:  #000000;\n",
       "        }    #T_736c2508_238c_11ec_8dc2_02420a391bb1row5_col2 {\n",
       "            background-color:  #d9f8d9;\n",
       "            color:  #000000;\n",
       "        }    #T_736c2508_238c_11ec_8dc2_02420a391bb1row6_col1 {\n",
       "            background-color:  #d7f7d7;\n",
       "            color:  #000000;\n",
       "        }    #T_736c2508_238c_11ec_8dc2_02420a391bb1row6_col2 {\n",
       "            background-color:  #e4fee4;\n",
       "            color:  #000000;\n",
       "        }    #T_736c2508_238c_11ec_8dc2_02420a391bb1row7_col1 {\n",
       "            background-color:  #e1fde1;\n",
       "            color:  #000000;\n",
       "        }    #T_736c2508_238c_11ec_8dc2_02420a391bb1row7_col2 {\n",
       "            background-color:  #e4fee4;\n",
       "            color:  #000000;\n",
       "        }    #T_736c2508_238c_11ec_8dc2_02420a391bb1row8_col1 {\n",
       "            background-color:  #e5ffe5;\n",
       "            color:  #000000;\n",
       "        }    #T_736c2508_238c_11ec_8dc2_02420a391bb1row8_col2 {\n",
       "            background-color:  #e5ffe5;\n",
       "            color:  #000000;\n",
       "        }</style><table id=\"T_736c2508_238c_11ec_8dc2_02420a391bb1\" ><thead>    <tr>        <th class=\"blank level0\" ></th>        <th class=\"col_heading level0 col0\" >hypothesis</th>        <th class=\"col_heading level0 col1\" >ICE</th>        <th class=\"col_heading level0 col2\" >RICE</th>    </tr></thead><tbody>\n",
       "                <tr>\n",
       "                        <th id=\"T_736c2508_238c_11ec_8dc2_02420a391bb1level0_row0\" class=\"row_heading level0 row0\" >7</th>\n",
       "                        <td id=\"T_736c2508_238c_11ec_8dc2_02420a391bb1row0_col0\" class=\"data row0 col0\" >Добавить форму подписки на все основные страницы, чтобы собрать базу клиентов для email-рассылок</td>\n",
       "                        <td id=\"T_736c2508_238c_11ec_8dc2_02420a391bb1row0_col1\" class=\"data row0 col1\" >11.2</td>\n",
       "                        <td id=\"T_736c2508_238c_11ec_8dc2_02420a391bb1row0_col2\" class=\"data row0 col2\" >112</td>\n",
       "            </tr>\n",
       "            <tr>\n",
       "                        <th id=\"T_736c2508_238c_11ec_8dc2_02420a391bb1level0_row1\" class=\"row_heading level0 row1\" >2</th>\n",
       "                        <td id=\"T_736c2508_238c_11ec_8dc2_02420a391bb1row1_col0\" class=\"data row1 col0\" >Добавить блоки рекомендаций товаров на сайт интернет магазина, чтобы повысить конверсию и средний чек заказа</td>\n",
       "                        <td id=\"T_736c2508_238c_11ec_8dc2_02420a391bb1row1_col1\" class=\"data row1 col1\" >7</td>\n",
       "                        <td id=\"T_736c2508_238c_11ec_8dc2_02420a391bb1row1_col2\" class=\"data row1 col2\" >56</td>\n",
       "            </tr>\n",
       "            <tr>\n",
       "                        <th id=\"T_736c2508_238c_11ec_8dc2_02420a391bb1level0_row2\" class=\"row_heading level0 row2\" >0</th>\n",
       "                        <td id=\"T_736c2508_238c_11ec_8dc2_02420a391bb1row2_col0\" class=\"data row2 col0\" >Добавить два новых канала привлечения трафика, что позволит привлекать на 30% больше пользователей</td>\n",
       "                        <td id=\"T_736c2508_238c_11ec_8dc2_02420a391bb1row2_col1\" class=\"data row2 col1\" >13.3333</td>\n",
       "                        <td id=\"T_736c2508_238c_11ec_8dc2_02420a391bb1row2_col2\" class=\"data row2 col2\" >40</td>\n",
       "            </tr>\n",
       "            <tr>\n",
       "                        <th id=\"T_736c2508_238c_11ec_8dc2_02420a391bb1level0_row3\" class=\"row_heading level0 row3\" >6</th>\n",
       "                        <td id=\"T_736c2508_238c_11ec_8dc2_02420a391bb1row3_col0\" class=\"data row3 col0\" >Показать на главной странице баннеры с актуальными акциями и распродажами, чтобы увеличить конверсию</td>\n",
       "                        <td id=\"T_736c2508_238c_11ec_8dc2_02420a391bb1row3_col1\" class=\"data row3 col1\" >8</td>\n",
       "                        <td id=\"T_736c2508_238c_11ec_8dc2_02420a391bb1row3_col2\" class=\"data row3 col2\" >40</td>\n",
       "            </tr>\n",
       "            <tr>\n",
       "                        <th id=\"T_736c2508_238c_11ec_8dc2_02420a391bb1level0_row4\" class=\"row_heading level0 row4\" >8</th>\n",
       "                        <td id=\"T_736c2508_238c_11ec_8dc2_02420a391bb1row4_col0\" class=\"data row4 col0\" >Запустить акцию, дающую скидку на товар в день рождения</td>\n",
       "                        <td id=\"T_736c2508_238c_11ec_8dc2_02420a391bb1row4_col1\" class=\"data row4 col1\" >16.2</td>\n",
       "                        <td id=\"T_736c2508_238c_11ec_8dc2_02420a391bb1row4_col2\" class=\"data row4 col2\" >16.2</td>\n",
       "            </tr>\n",
       "            <tr>\n",
       "                        <th id=\"T_736c2508_238c_11ec_8dc2_02420a391bb1level0_row5\" class=\"row_heading level0 row5\" >3</th>\n",
       "                        <td id=\"T_736c2508_238c_11ec_8dc2_02420a391bb1row5_col0\" class=\"data row5 col0\" >Изменить структура категорий, что увеличит конверсию, т.к. пользователи быстрее найдут нужный товар</td>\n",
       "                        <td id=\"T_736c2508_238c_11ec_8dc2_02420a391bb1row5_col1\" class=\"data row5 col1\" >1.125</td>\n",
       "                        <td id=\"T_736c2508_238c_11ec_8dc2_02420a391bb1row5_col2\" class=\"data row5 col2\" >9</td>\n",
       "            </tr>\n",
       "            <tr>\n",
       "                        <th id=\"T_736c2508_238c_11ec_8dc2_02420a391bb1level0_row6\" class=\"row_heading level0 row6\" >1</th>\n",
       "                        <td id=\"T_736c2508_238c_11ec_8dc2_02420a391bb1row6_col0\" class=\"data row6 col0\" >Запустить собственную службу доставки, что сократит срок доставки заказов</td>\n",
       "                        <td id=\"T_736c2508_238c_11ec_8dc2_02420a391bb1row6_col1\" class=\"data row6 col1\" >2</td>\n",
       "                        <td id=\"T_736c2508_238c_11ec_8dc2_02420a391bb1row6_col2\" class=\"data row6 col2\" >4</td>\n",
       "            </tr>\n",
       "            <tr>\n",
       "                        <th id=\"T_736c2508_238c_11ec_8dc2_02420a391bb1level0_row7\" class=\"row_heading level0 row7\" >5</th>\n",
       "                        <td id=\"T_736c2508_238c_11ec_8dc2_02420a391bb1row7_col0\" class=\"data row7 col0\" >Добавить страницу отзывов клиентов о магазине, что позволит увеличить количество заказов</td>\n",
       "                        <td id=\"T_736c2508_238c_11ec_8dc2_02420a391bb1row7_col1\" class=\"data row7 col1\" >1.33333</td>\n",
       "                        <td id=\"T_736c2508_238c_11ec_8dc2_02420a391bb1row7_col2\" class=\"data row7 col2\" >4</td>\n",
       "            </tr>\n",
       "            <tr>\n",
       "                        <th id=\"T_736c2508_238c_11ec_8dc2_02420a391bb1level0_row8\" class=\"row_heading level0 row8\" >4</th>\n",
       "                        <td id=\"T_736c2508_238c_11ec_8dc2_02420a391bb1row8_col0\" class=\"data row8 col0\" >Изменить цвет фона главной страницы, чтобы увеличить вовлеченность пользователей</td>\n",
       "                        <td id=\"T_736c2508_238c_11ec_8dc2_02420a391bb1row8_col1\" class=\"data row8 col1\" >1</td>\n",
       "                        <td id=\"T_736c2508_238c_11ec_8dc2_02420a391bb1row8_col2\" class=\"data row8 col2\" >3</td>\n",
       "            </tr>\n",
       "    </tbody></table>"
      ],
      "text/plain": [
       "<pandas.io.formats.style.Styler at 0x7f4db297b210>"
      ]
     },
     "execution_count": 9,
     "metadata": {},
     "output_type": "execute_result"
    }
   ],
   "source": [
    "#выведем общую таблицу и выделим цветом по рангу\n",
    "\n",
    "cm = sns.light_palette(\"green\", as_cmap=True)\n",
    "\n",
    "hypothesis[['hypothesis','ICE','RICE']].sort_values(by='RICE',ascending=False).style.background_gradient(cmap=cm)"
   ]
  },
  {
   "cell_type": "markdown",
   "metadata": {},
   "source": [
    "Мы видим, что топ-3 приоритезации гипотез для фреймворков ICE и RICE  практически разные. Это произошло потому, что в RICE добавлена переменная, отражающая возможный охват.\n",
    "\n",
    "Например, гипотеза под номером 8 про день рождения улетела с 1 места в ICE на 5 место RICE, т.к. ее охват был оценен на минимально возможный уровень: единицу.\n",
    "\n",
    "Гипотеза 2 про блоки рекомендаций поднялась с 5 на 2 место из-за ранга охвата в 9 баллов. \n",
    "\n",
    "Гипотеза пот номером 0 о добавлении новых каналов трафика не сильно потеряла позиции в рейтинге: с 2 на 3-е место, т.к. impact у этой гипотезы максимальный 10 баллов."
   ]
  },
  {
   "cell_type": "markdown",
   "metadata": {},
   "source": [
    "## Анализ A/B-теста"
   ]
  },
  {
   "cell_type": "markdown",
   "metadata": {},
   "source": [
    "Построим график кумулятивной выручки по группам. "
   ]
  },
  {
   "cell_type": "code",
   "execution_count": 10,
   "metadata": {},
   "outputs": [],
   "source": [
    "# создаем массив уникальных пар значений дат и групп теста\n",
    "\n",
    "datesGroup = orders[['date','group']].drop_duplicates()"
   ]
  },
  {
   "cell_type": "code",
   "execution_count": 11,
   "metadata": {},
   "outputs": [
    {
     "data": {
      "text/html": [
       "<div>\n",
       "<style scoped>\n",
       "    .dataframe tbody tr th:only-of-type {\n",
       "        vertical-align: middle;\n",
       "    }\n",
       "\n",
       "    .dataframe tbody tr th {\n",
       "        vertical-align: top;\n",
       "    }\n",
       "\n",
       "    .dataframe thead th {\n",
       "        text-align: right;\n",
       "    }\n",
       "</style>\n",
       "<table border=\"1\" class=\"dataframe\">\n",
       "  <thead>\n",
       "    <tr style=\"text-align: right;\">\n",
       "      <th></th>\n",
       "      <th>date</th>\n",
       "      <th>group</th>\n",
       "      <th>orders</th>\n",
       "      <th>buyers</th>\n",
       "      <th>revenue</th>\n",
       "      <th>visitors</th>\n",
       "    </tr>\n",
       "  </thead>\n",
       "  <tbody>\n",
       "    <tr>\n",
       "      <td>0</td>\n",
       "      <td>2019-08-01</td>\n",
       "      <td>A</td>\n",
       "      <td>24</td>\n",
       "      <td>20</td>\n",
       "      <td>148579</td>\n",
       "      <td>719</td>\n",
       "    </tr>\n",
       "    <tr>\n",
       "      <td>1</td>\n",
       "      <td>2019-08-01</td>\n",
       "      <td>B</td>\n",
       "      <td>21</td>\n",
       "      <td>20</td>\n",
       "      <td>101217</td>\n",
       "      <td>713</td>\n",
       "    </tr>\n",
       "    <tr>\n",
       "      <td>2</td>\n",
       "      <td>2019-08-02</td>\n",
       "      <td>A</td>\n",
       "      <td>44</td>\n",
       "      <td>38</td>\n",
       "      <td>242401</td>\n",
       "      <td>1338</td>\n",
       "    </tr>\n",
       "    <tr>\n",
       "      <td>3</td>\n",
       "      <td>2019-08-02</td>\n",
       "      <td>B</td>\n",
       "      <td>45</td>\n",
       "      <td>43</td>\n",
       "      <td>266748</td>\n",
       "      <td>1294</td>\n",
       "    </tr>\n",
       "    <tr>\n",
       "      <td>4</td>\n",
       "      <td>2019-08-03</td>\n",
       "      <td>A</td>\n",
       "      <td>68</td>\n",
       "      <td>62</td>\n",
       "      <td>354874</td>\n",
       "      <td>1845</td>\n",
       "    </tr>\n",
       "  </tbody>\n",
       "</table>\n",
       "</div>"
      ],
      "text/plain": [
       "        date group  orders  buyers  revenue  visitors\n",
       "0 2019-08-01     A      24      20   148579       719\n",
       "1 2019-08-01     B      21      20   101217       713\n",
       "2 2019-08-02     A      44      38   242401      1338\n",
       "3 2019-08-02     B      45      43   266748      1294\n",
       "4 2019-08-03     A      68      62   354874      1845"
      ]
     },
     "execution_count": 11,
     "metadata": {},
     "output_type": "execute_result"
    }
   ],
   "source": [
    "#Соберём агрегированные кумулятивные по дням данные о заказа\n",
    "ordersAggregated = datesGroup.apply(lambda x: orders[np.logical_and(orders['date'] <= x['date'], orders['group'] == x['group'])]\\\n",
    "                                    .agg({'date':'max', 'group':'max', 'transaction_id':pd.Series.nunique, 'user_id':pd.Series.nunique, 'revenue':'sum'}), axis=1)\\\n",
    "                                    .sort_values(by=['date','group'])\n",
    "\n",
    "#то же самое с посетителями\n",
    "visitorsAggregated = datesGroup.apply(lambda x: visitors[np.logical_and(visitors['date'] <= x['date'], visitors['group'] == x['group'])]\\\n",
    "                                    .agg({'date':'max', 'group':'max', 'visitors':'sum'}), axis=1)\\\n",
    "                                    .sort_values(by=['date','group'])\n",
    "\n",
    "#объединим две таблицы\n",
    "cumData = ordersAggregated.merge(visitorsAggregated, left_on=['date','group'], right_on=['date','group'])\n",
    "cumData.columns = ['date', 'group', 'orders', 'buyers', 'revenue', 'visitors']\n",
    "cumData.head()"
   ]
  },
  {
   "cell_type": "code",
   "execution_count": 12,
   "metadata": {},
   "outputs": [
    {
     "data": {
      "image/png": "[encoded data removed]",
      "text/plain": [
       "<Figure size 1200x400 with 1 Axes>"
      ]
     },
     "metadata": {
      "needs_background": "light"
     },
     "output_type": "display_data"
    }
   ],
   "source": [
    "#построим графики кумулятивной выручки по дням и группам\n",
    "\n",
    "#кумулятивное количество заказов и выручки по дням в группе А и В\n",
    "cumRevenueA = cumData[cumData['group']=='A'][['date','revenue', 'orders']]\n",
    "cumRevenueB = cumData[cumData['group']=='B'][['date','revenue', 'orders']]\n",
    "\n",
    "plt.figure(figsize=(12,4), dpi=100)\n",
    "plt.grid()\n",
    "plt.title('Кумулятивная выручка по группам')\n",
    "plt.plot(cumRevenueA['date'], cumRevenueA['revenue'], label = 'A')\n",
    "plt.plot(cumRevenueB['date'], cumRevenueB['revenue'], label = 'B')\n",
    "plt.legend()\n",
    "plt.xlabel('Дата')\n",
    "plt.ylabel('Выручка, руб')\n",
    "plt.show()"
   ]
  },
  {
   "cell_type": "markdown",
   "metadata": {},
   "source": [
    "А/В-тест длился весь календарный месяц - август 2019г. Из графика кумулятивной выручки по сырым данным видно, что примерно до 18 числа выручка по группам росла примерно равными темпами, и группа В показывала чуть лучшие результаты. Однако 19 августа в группе В наблюдается резкий скачок вверх примерно на 30%, и эта группа отрывается от А, далее до конца теста темпы прироста выручки практически одинаковы. Скорее всего тогда в группу В попали какие-то аномальные заказы, тем самым исказив график."
   ]
  },
  {
   "cell_type": "code",
   "execution_count": 13,
   "metadata": {},
   "outputs": [
    {
     "data": {
      "image/png": "[encoded data removed]",
      "text/plain": [
       "<Figure size 1200x400 with 1 Axes>"
      ]
     },
     "metadata": {
      "needs_background": "light"
     },
     "output_type": "display_data"
    }
   ],
   "source": [
    "#построим график кумулятивного среднего чека\n",
    "\n",
    "from pandas.plotting import register_matplotlib_converters\n",
    "register_matplotlib_converters()\n",
    "\n",
    "plt.figure(figsize=(12,4), dpi=100)\n",
    "plt.grid()\n",
    "plt.title('Кумулятивный средний чек по группам')\n",
    "plt.plot(cumRevenueA['date'], cumRevenueA['revenue']/cumRevenueA['orders'], label = 'A')\n",
    "plt.plot(cumRevenueB['date'], cumRevenueB['revenue']/cumRevenueB['orders'], label = 'B')\n",
    "plt.legend()\n",
    "plt.xlabel('Дата')\n",
    "plt.ylabel('Средний чек, руб')\n",
    "plt.show()"
   ]
  },
  {
   "cell_type": "markdown",
   "metadata": {},
   "source": [
    "Средний чек примерно до 15 числа скачет и потом устаканивается, однако здесь опять виднен гигантский скачок в группе В. Видимо в тот день пришли несколько аномально крупных заказов, и из-за этого сложно сделать предположения о разнице в средних чеках по группам."
   ]
  },
  {
   "cell_type": "code",
   "execution_count": 14,
   "metadata": {},
   "outputs": [
    {
     "data": {
      "image/png": "[encoded data removed]",
      "text/plain": [
       "<Figure size 1200x400 with 1 Axes>"
      ]
     },
     "metadata": {
      "needs_background": "light"
     },
     "output_type": "display_data"
    }
   ],
   "source": [
    "#построим график относительного различия для среднего чека\n",
    "\n",
    "mergedCumRevenue = cumRevenueA.merge(cumRevenueB, left_on='date', right_on='date', how='left', suffixes=['A','B'])\n",
    "\n",
    "plt.figure(figsize=(12,4), dpi=100)\n",
    "plt.grid()\n",
    "plt.title('Отношение средних чеков')\n",
    "plt.plot(mergedCumRevenue['date'], (mergedCumRevenue['revenueB']/mergedCumRevenue['ordersB'])/(mergedCumRevenue['revenueA']/mergedCumRevenue['ordersA'])-1)\n",
    "plt.axhline(y=0, color='black', linestyle='--')\n",
    "plt.xlabel('Дата')\n",
    "plt.ylabel('Дельта')\n",
    "plt.show()"
   ]
  },
  {
   "cell_type": "markdown",
   "metadata": {},
   "source": [
    "Как раз когда средний чек по группам начал выравниваться, пришла аномалия и все сломала. Вероятно средний чек группы В потом опустился бы ниже ватерлинии, но это только догадка, надо очищать информацию от выбросов."
   ]
  },
  {
   "cell_type": "code",
   "execution_count": 15,
   "metadata": {},
   "outputs": [
    {
     "data": {
      "image/png": "[encoded data removed]",
      "text/plain": [
       "<Figure size 1200x400 with 1 Axes>"
      ]
     },
     "metadata": {
      "needs_background": "light"
     },
     "output_type": "display_data"
    }
   ],
   "source": [
    "#проанализируем график кумулятивной конверсии\n",
    "cumData['conversion'] = cumData['orders']/cumData['visitors']\n",
    "cumDataA = cumData[cumData['group']=='A']\n",
    "cumDataB = cumData[cumData['group']=='B']\n",
    "\n",
    "plt.figure(figsize=(12,4), dpi=100)\n",
    "plt.grid()\n",
    "plt.title('Кумулятивная конверсия по группам')\n",
    "plt.plot(cumDataA['date'], cumDataA['conversion'], label = 'A')\n",
    "plt.plot(cumDataB['date'], cumDataB['conversion'], label = 'B')\n",
    "plt.legend()\n",
    "plt.xlabel('Дата')\n",
    "plt.ylabel('Конверсия')\n",
    "plt.axis([\"2019-08-01\",\"2019-08-31\",0.02,0.04])\n",
    "plt.show()"
   ]
  },
  {
   "cell_type": "markdown",
   "metadata": {},
   "source": [
    "Конверсии понадобилось меньше времени, чтобы зафиксироваться (около недели), и по сырым данным видно, что после накопления достаточного количества данных конверсия группы В оторвалась на очень приличное расстояние и сохранила лидерство до конца теста. "
   ]
  },
  {
   "cell_type": "code",
   "execution_count": 16,
   "metadata": {},
   "outputs": [
    {
     "data": {
      "image/png": "[encoded data removed]",
      "text/plain": [
       "<Figure size 1200x400 with 1 Axes>"
      ]
     },
     "metadata": {
      "needs_background": "light"
     },
     "output_type": "display_data"
    }
   ],
   "source": [
    "#построим график относительного различия кумулятивных конверсий\n",
    "\n",
    "mergedCumConversion = cumDataA[['date','conversion']]\\\n",
    ".merge(cumDataB[['date','conversion']], left_on='date',right_on='date',how='left',suffixes=['A','B'])\n",
    "\n",
    "plt.figure(figsize=(12,4), dpi=100)\n",
    "plt.grid()\n",
    "plt.title('Относительный прирост конверсии группы B относительно группы A')\n",
    "plt.plot(mergedCumConversion['date'], mergedCumConversion['conversionB']/mergedCumConversion['conversionA']-1)\n",
    "plt.axhline(y=0, color='black', linestyle='--')\n",
    "plt.xlabel('Дата')\n",
    "plt.ylabel('Дельта')\n",
    "plt.show()"
   ]
  },
  {
   "cell_type": "markdown",
   "metadata": {},
   "source": [
    "На графике отношения конверсий видно то самое приличное расстояние составляет 10-20% в пользу группы В. По сырым данным  сложно сделать какие-то однозначные выводы касательно выручки и среднего чека, однако конверсия в группе В определенно лучше.\n",
    "\n",
    "Теперь необходимо очистить данные от аномалий, чтобы сделать более точные выводы."
   ]
  },
  {
   "cell_type": "code",
   "execution_count": 17,
   "metadata": {},
   "outputs": [
    {
     "data": {
      "image/png": "[encoded data removed]",
      "text/plain": [
       "<Figure size 1200x600 with 1 Axes>"
      ]
     },
     "metadata": {
      "needs_background": "light"
     },
     "output_type": "display_data"
    },
    {
     "data": {
      "text/html": [
       "<div>\n",
       "<style scoped>\n",
       "    .dataframe tbody tr th:only-of-type {\n",
       "        vertical-align: middle;\n",
       "    }\n",
       "\n",
       "    .dataframe tbody tr th {\n",
       "        vertical-align: top;\n",
       "    }\n",
       "\n",
       "    .dataframe thead th {\n",
       "        text-align: right;\n",
       "    }\n",
       "</style>\n",
       "<table border=\"1\" class=\"dataframe\">\n",
       "  <thead>\n",
       "    <tr style=\"text-align: right;\">\n",
       "      <th></th>\n",
       "      <th>transaction_id</th>\n",
       "      <th>user_id</th>\n",
       "      <th>date</th>\n",
       "      <th>revenue</th>\n",
       "      <th>group</th>\n",
       "    </tr>\n",
       "  </thead>\n",
       "  <tbody>\n",
       "    <tr>\n",
       "      <td>425</td>\n",
       "      <td>590470918</td>\n",
       "      <td>1920142716</td>\n",
       "      <td>2019-08-19</td>\n",
       "      <td>1294500</td>\n",
       "      <td>B</td>\n",
       "    </tr>\n",
       "    <tr>\n",
       "      <td>1196</td>\n",
       "      <td>3936777065</td>\n",
       "      <td>2108080724</td>\n",
       "      <td>2019-08-15</td>\n",
       "      <td>202740</td>\n",
       "      <td>B</td>\n",
       "    </tr>\n",
       "    <tr>\n",
       "      <td>858</td>\n",
       "      <td>192721366</td>\n",
       "      <td>1316129916</td>\n",
       "      <td>2019-08-27</td>\n",
       "      <td>93940</td>\n",
       "      <td>A</td>\n",
       "    </tr>\n",
       "    <tr>\n",
       "      <td>1136</td>\n",
       "      <td>666610489</td>\n",
       "      <td>1307669133</td>\n",
       "      <td>2019-08-13</td>\n",
       "      <td>92550</td>\n",
       "      <td>A</td>\n",
       "    </tr>\n",
       "    <tr>\n",
       "      <td>744</td>\n",
       "      <td>3668308183</td>\n",
       "      <td>888512513</td>\n",
       "      <td>2019-08-27</td>\n",
       "      <td>86620</td>\n",
       "      <td>B</td>\n",
       "    </tr>\n",
       "  </tbody>\n",
       "</table>\n",
       "</div>"
      ],
      "text/plain": [
       "      transaction_id     user_id       date  revenue group\n",
       "425        590470918  1920142716 2019-08-19  1294500     B\n",
       "1196      3936777065  2108080724 2019-08-15   202740     B\n",
       "858        192721366  1316129916 2019-08-27    93940     A\n",
       "1136       666610489  1307669133 2019-08-13    92550     A\n",
       "744       3668308183   888512513 2019-08-27    86620     B"
      ]
     },
     "execution_count": 17,
     "metadata": {},
     "output_type": "execute_result"
    }
   ],
   "source": [
    "#изучим график распределения стоимостей заказов\n",
    "\n",
    "order_values = pd.Series(range(0,len(orders['revenue'])))\n",
    "\n",
    "plt.figure(figsize=(12,6), dpi=100)\n",
    "plt.grid()\n",
    "plt.title('График распределения стоимостей заказов')\n",
    "plt.scatter(order_values, orders['revenue'])\n",
    "plt.xlabel('Порядковый номер заказа')\n",
    "plt.ylabel('Сумма заказа, руб')\n",
    "plt.show()\n",
    "\n",
    "#плюс посмотрим топ-5\n",
    "orders.sort_values(by='revenue', ascending=False).head(5)"
   ]
  },
  {
   "cell_type": "markdown",
   "metadata": {},
   "source": [
    "На графике определенно виден гигантский выброс в 1,3млн и еще один в 202тыс, когда все остальные заказы укладываются в порог 100 тысяч. Они явно аномалии, применим метод перцентилей, чтобы отсечь лишнее."
   ]
  },
  {
   "cell_type": "code",
   "execution_count": 18,
   "metadata": {},
   "outputs": [
    {
     "name": "stdout",
     "output_type": "stream",
     "text": [
      "[28000.  58233.2]\n"
     ]
    }
   ],
   "source": [
    "print(np.percentile(orders['revenue'], [95,99]))"
   ]
  },
  {
   "cell_type": "markdown",
   "metadata": {},
   "source": [
    "Не более 5% заказов дороже 28000, и не более 1% дороже 58223 рублей. Логично отсечь выборку по 99-му перцентилю, визуально это будет правильным решением, и мы применим минимальные изменения к выборке.\n",
    "\n",
    "Проделаем ту же самую работу в отношении параметра количества заказов на пользователя."
   ]
  },
  {
   "cell_type": "code",
   "execution_count": 19,
   "metadata": {},
   "outputs": [
    {
     "data": {
      "text/html": [
       "<div>\n",
       "<style scoped>\n",
       "    .dataframe tbody tr th:only-of-type {\n",
       "        vertical-align: middle;\n",
       "    }\n",
       "\n",
       "    .dataframe tbody tr th {\n",
       "        vertical-align: top;\n",
       "    }\n",
       "\n",
       "    .dataframe thead th {\n",
       "        text-align: right;\n",
       "    }\n",
       "</style>\n",
       "<table border=\"1\" class=\"dataframe\">\n",
       "  <thead>\n",
       "    <tr style=\"text-align: right;\">\n",
       "      <th></th>\n",
       "      <th>user_id</th>\n",
       "      <th>orders</th>\n",
       "    </tr>\n",
       "  </thead>\n",
       "  <tbody>\n",
       "    <tr>\n",
       "      <td>1023</td>\n",
       "      <td>4256040402</td>\n",
       "      <td>11</td>\n",
       "    </tr>\n",
       "    <tr>\n",
       "      <td>591</td>\n",
       "      <td>2458001652</td>\n",
       "      <td>11</td>\n",
       "    </tr>\n",
       "    <tr>\n",
       "      <td>569</td>\n",
       "      <td>2378935119</td>\n",
       "      <td>9</td>\n",
       "    </tr>\n",
       "    <tr>\n",
       "      <td>487</td>\n",
       "      <td>2038680547</td>\n",
       "      <td>8</td>\n",
       "    </tr>\n",
       "    <tr>\n",
       "      <td>44</td>\n",
       "      <td>199603092</td>\n",
       "      <td>5</td>\n",
       "    </tr>\n",
       "    <tr>\n",
       "      <td>744</td>\n",
       "      <td>3062433592</td>\n",
       "      <td>5</td>\n",
       "    </tr>\n",
       "    <tr>\n",
       "      <td>55</td>\n",
       "      <td>237748145</td>\n",
       "      <td>5</td>\n",
       "    </tr>\n",
       "    <tr>\n",
       "      <td>917</td>\n",
       "      <td>3803269165</td>\n",
       "      <td>5</td>\n",
       "    </tr>\n",
       "    <tr>\n",
       "      <td>299</td>\n",
       "      <td>1230306981</td>\n",
       "      <td>5</td>\n",
       "    </tr>\n",
       "    <tr>\n",
       "      <td>897</td>\n",
       "      <td>3717692402</td>\n",
       "      <td>5</td>\n",
       "    </tr>\n",
       "  </tbody>\n",
       "</table>\n",
       "</div>"
      ],
      "text/plain": [
       "         user_id  orders\n",
       "1023  4256040402      11\n",
       "591   2458001652      11\n",
       "569   2378935119       9\n",
       "487   2038680547       8\n",
       "44     199603092       5\n",
       "744   3062433592       5\n",
       "55     237748145       5\n",
       "917   3803269165       5\n",
       "299   1230306981       5\n",
       "897   3717692402       5"
      ]
     },
     "metadata": {},
     "output_type": "display_data"
    }
   ],
   "source": [
    "orders_by_users = orders.drop(['group','revenue','date'],axis=1)\\\n",
    "                                .groupby('user_id', as_index=False)\\\n",
    "                                .agg({'transaction_id':pd.Series.nunique})\n",
    "orders_by_users.columns=['user_id','orders']\n",
    "display(orders_by_users.sort_values(by='orders',ascending=False).head(10))"
   ]
  },
  {
   "cell_type": "markdown",
   "metadata": {},
   "source": [
    "Видим, что есть пользователи, которые совершали 5,8,9,11 заказов, и они конечно являются очень важными для интернет-магазина (очень лояльные покупатели), однако они могут сильно повлиять на конверсию, и их лучше исключить из выборки.\n",
    "\n",
    "Построим точечную диаграмму. "
   ]
  },
  {
   "cell_type": "code",
   "execution_count": 20,
   "metadata": {},
   "outputs": [
    {
     "data": {
      "image/png": "[encoded data removed]",
      "text/plain": [
       "<Figure size 1200x600 with 1 Axes>"
      ]
     },
     "metadata": {
      "needs_background": "light"
     },
     "output_type": "display_data"
    }
   ],
   "source": [
    "orders_by_users_values = pd.Series(range(0,len(orders_by_users)))\n",
    "\n",
    "plt.figure(figsize=(12,6), dpi=100)\n",
    "plt.grid()\n",
    "plt.title('График распределения количества заказов на пользователя')\n",
    "plt.scatter(orders_by_users_values, orders_by_users['orders'])\n",
    "plt.xlabel('Порядковый номер пользователя')\n",
    "plt.ylabel('Количество заказов на пользователя, шт')\n",
    "plt.show()"
   ]
  },
  {
   "cell_type": "markdown",
   "metadata": {},
   "source": [
    "Пользователей с количеством заказов больше 3 визулаьно очень мало, их можно посчитать по пальцам. Вероятно, спрос на товары интернет-магазина нельзя назвать регулярным. Посчитаем перцентили, чтобы точно выяснить, кого считать аномалией."
   ]
  },
  {
   "cell_type": "code",
   "execution_count": 21,
   "metadata": {},
   "outputs": [
    {
     "name": "stdout",
     "output_type": "stream",
     "text": [
      "[2. 4.]\n"
     ]
    }
   ],
   "source": [
    "print(np.percentile(orders_by_users['orders'], [95,99]))"
   ]
  },
  {
   "cell_type": "markdown",
   "metadata": {},
   "source": [
    "Не более 5% пользователей совершили больше 2х заказов, и не более 1% больше 4 заказов. Логично отсечь пользователей по 4-м заказам, чем по 2-м: один заказ в неделю не кажется чем-то из ряда вон выходящим, и 3 юзера не сделают нам большого влияния со своими 4-мя заказами.\n",
    "\n",
    "Поэтому в общем итоге примем за аномальных пользователей тех, кто совершил от 5 заказов или совершил заказ на сумму больше 60 000 рублей.\n",
    "\n",
    "Теперь посчитаем статистическую значимость различий в конверсии и среднем чеке между группами по «сырым» данным.\n",
    "\n",
    "Сформируем следующие гипотезы для проверки: \n",
    "- Нулевая гипотеза: **статистическая значимость в различиях конверсии/среднего чека между группами отсутствует**\n",
    "- Альтернативная гипотеза: **статистическая значимость в различиях конверсии/среднего чека между группами есть**. "
   ]
  },
  {
   "cell_type": "code",
   "execution_count": 22,
   "metadata": {},
   "outputs": [
    {
     "data": {
      "text/html": [
       "<div>\n",
       "<style scoped>\n",
       "    .dataframe tbody tr th:only-of-type {\n",
       "        vertical-align: middle;\n",
       "    }\n",
       "\n",
       "    .dataframe tbody tr th {\n",
       "        vertical-align: top;\n",
       "    }\n",
       "\n",
       "    .dataframe thead th {\n",
       "        text-align: right;\n",
       "    }\n",
       "</style>\n",
       "<table border=\"1\" class=\"dataframe\">\n",
       "  <thead>\n",
       "    <tr style=\"text-align: right;\">\n",
       "      <th></th>\n",
       "      <th>date</th>\n",
       "      <th>ordersPerDateA</th>\n",
       "      <th>revenuePerDateA</th>\n",
       "      <th>ordersPerDateB</th>\n",
       "      <th>revenuePerDateB</th>\n",
       "      <th>ordersCumA</th>\n",
       "      <th>revenueCumA</th>\n",
       "      <th>ordersCumB</th>\n",
       "      <th>revenueCumB</th>\n",
       "      <th>visitorsPerDateA</th>\n",
       "      <th>visitorsPerDateB</th>\n",
       "      <th>visitorsCumA</th>\n",
       "      <th>visitorsCumB</th>\n",
       "    </tr>\n",
       "  </thead>\n",
       "  <tbody>\n",
       "    <tr>\n",
       "      <td>0</td>\n",
       "      <td>2019-08-01</td>\n",
       "      <td>24</td>\n",
       "      <td>148579</td>\n",
       "      <td>21</td>\n",
       "      <td>101217</td>\n",
       "      <td>24</td>\n",
       "      <td>148579</td>\n",
       "      <td>21</td>\n",
       "      <td>101217</td>\n",
       "      <td>719</td>\n",
       "      <td>713</td>\n",
       "      <td>719</td>\n",
       "      <td>713</td>\n",
       "    </tr>\n",
       "    <tr>\n",
       "      <td>1</td>\n",
       "      <td>2019-08-02</td>\n",
       "      <td>20</td>\n",
       "      <td>93822</td>\n",
       "      <td>24</td>\n",
       "      <td>165531</td>\n",
       "      <td>44</td>\n",
       "      <td>242401</td>\n",
       "      <td>45</td>\n",
       "      <td>266748</td>\n",
       "      <td>619</td>\n",
       "      <td>581</td>\n",
       "      <td>1338</td>\n",
       "      <td>1294</td>\n",
       "    </tr>\n",
       "    <tr>\n",
       "      <td>2</td>\n",
       "      <td>2019-08-03</td>\n",
       "      <td>24</td>\n",
       "      <td>112473</td>\n",
       "      <td>16</td>\n",
       "      <td>114248</td>\n",
       "      <td>68</td>\n",
       "      <td>354874</td>\n",
       "      <td>61</td>\n",
       "      <td>380996</td>\n",
       "      <td>507</td>\n",
       "      <td>509</td>\n",
       "      <td>1845</td>\n",
       "      <td>1803</td>\n",
       "    </tr>\n",
       "    <tr>\n",
       "      <td>3</td>\n",
       "      <td>2019-08-04</td>\n",
       "      <td>16</td>\n",
       "      <td>70825</td>\n",
       "      <td>17</td>\n",
       "      <td>108571</td>\n",
       "      <td>84</td>\n",
       "      <td>425699</td>\n",
       "      <td>78</td>\n",
       "      <td>489567</td>\n",
       "      <td>717</td>\n",
       "      <td>770</td>\n",
       "      <td>2562</td>\n",
       "      <td>2573</td>\n",
       "    </tr>\n",
       "    <tr>\n",
       "      <td>4</td>\n",
       "      <td>2019-08-05</td>\n",
       "      <td>25</td>\n",
       "      <td>124218</td>\n",
       "      <td>23</td>\n",
       "      <td>92428</td>\n",
       "      <td>109</td>\n",
       "      <td>549917</td>\n",
       "      <td>101</td>\n",
       "      <td>581995</td>\n",
       "      <td>756</td>\n",
       "      <td>707</td>\n",
       "      <td>3318</td>\n",
       "      <td>3280</td>\n",
       "    </tr>\n",
       "  </tbody>\n",
       "</table>\n",
       "</div>"
      ],
      "text/plain": [
       "        date  ordersPerDateA  revenuePerDateA  ordersPerDateB  \\\n",
       "0 2019-08-01              24           148579              21   \n",
       "1 2019-08-02              20            93822              24   \n",
       "2 2019-08-03              24           112473              16   \n",
       "3 2019-08-04              16            70825              17   \n",
       "4 2019-08-05              25           124218              23   \n",
       "\n",
       "   revenuePerDateB  ordersCumA  revenueCumA  ordersCumB  revenueCumB  \\\n",
       "0           101217          24       148579          21       101217   \n",
       "1           165531          44       242401          45       266748   \n",
       "2           114248          68       354874          61       380996   \n",
       "3           108571          84       425699          78       489567   \n",
       "4            92428         109       549917         101       581995   \n",
       "\n",
       "   visitorsPerDateA  visitorsPerDateB  visitorsCumA  visitorsCumB  \n",
       "0               719               713           719           713  \n",
       "1               619               581          1338          1294  \n",
       "2               507               509          1845          1803  \n",
       "3               717               770          2562          2573  \n",
       "4               756               707          3318          3280  "
      ]
     },
     "execution_count": 22,
     "metadata": {},
     "output_type": "execute_result"
    }
   ],
   "source": [
    "#подготовим данные для анализа\n",
    "\n",
    "#визиты по дням и накопительные для группы А\n",
    "visitorsADaily = visitors[visitors['group']=='A'][['date','visitors']]\n",
    "visitorsADaily.columns=['date','visitorsPerDateA']\n",
    "\n",
    "visitorsACummulative = visitorsADaily.apply(lambda x: visitorsADaily[visitorsADaily['date']<=x['date']]\\\n",
    "                                           .agg({'date':'max','visitorsPerDateA':'sum'}),axis=1)\n",
    "visitorsACummulative.columns=['date','visitorsCumA']\n",
    "\n",
    "#визиты по дням и накопительные для группы В\n",
    "visitorsBDaily = visitors[visitors['group']=='B'][['date','visitors']]\n",
    "visitorsBDaily.columns=['date','visitorsPerDateB']\n",
    "\n",
    "visitorsBCummulative = visitorsBDaily.apply(lambda x: visitorsBDaily[visitorsBDaily['date']<=x['date']]\\\n",
    "                                           .agg({'date':'max','visitorsPerDateB':'sum'}),axis=1)\n",
    "visitorsBCummulative.columns=['date','visitorsCumB']\n",
    "\n",
    "#заказы по дням и накопительные для группы A\n",
    "ordersADaily = orders[orders['group']=='A'][['date','transaction_id','user_id','revenue']]\\\n",
    "                                            .groupby('date',as_index=False)\\\n",
    "                                            .agg({'transaction_id':pd.Series.nunique,'revenue':'sum'})\n",
    "ordersADaily.columns=['date','ordersPerDateA','revenuePerDateA']\n",
    "\n",
    "ordersACummulative = ordersADaily.apply(lambda x: ordersADaily[ordersADaily['date']<=x['date']]\\\n",
    "                                           .agg({'date':'max','ordersPerDateA':'sum','revenuePerDateA':'sum'}),axis=1)\\\n",
    "                                        .sort_values(by=['date'])\n",
    "ordersACummulative.columns=['date','ordersCumA','revenueCumA']\n",
    "\n",
    "#заказы по дням и накопительные для группы B\n",
    "\n",
    "ordersBDaily = orders[orders['group']=='B'][['date','transaction_id','user_id','revenue']]\\\n",
    "                                            .groupby('date',as_index=False)\\\n",
    "                                            .agg({'transaction_id':pd.Series.nunique,'revenue':'sum'})\n",
    "ordersBDaily.columns=['date','ordersPerDateB','revenuePerDateB']\n",
    "\n",
    "ordersBCummulative = ordersBDaily.apply(lambda x: ordersBDaily[ordersBDaily['date']<=x['date']]\\\n",
    "                                           .agg({'date':'max','ordersPerDateB':'sum','revenuePerDateB':'sum'}),axis=1)\\\n",
    "                                        .sort_values(by=['date'])\n",
    "ordersBCummulative.columns=['date','ordersCumB','revenueCumB']\n",
    "\n",
    "#сшиваем полученное в одну талицу\n",
    "\n",
    "data = (\n",
    "    ordersADaily.merge(ordersBDaily, left_on='date', right_on='date', how='left')\n",
    "    .merge(ordersACummulative, left_on='date', right_on='date', how='left')\n",
    "    .merge(ordersBCummulative, left_on='date', right_on='date', how='left')\n",
    "    .merge(visitorsADaily, left_on='date', right_on='date', how='left')\n",
    "    .merge(visitorsBDaily, left_on='date', right_on='date', how='left')\n",
    "    .merge(visitorsACummulative, left_on='date', right_on='date', how='left')\n",
    "    .merge(visitorsBCummulative, left_on='date', right_on='date', how='left')\n",
    ")\n",
    "\n",
    "data.head()"
   ]
  },
  {
   "cell_type": "code",
   "execution_count": 23,
   "metadata": {},
   "outputs": [
    {
     "name": "stdout",
     "output_type": "stream",
     "text": [
      "Статистическая значимость различий в конверсии между группами по «сырым» данным: 0.017\n",
      "Отвергаем нулевую гипотезу: разница статистически значима\n",
      "Относительное различие в конверсии между группами : 0.138\n"
     ]
    }
   ],
   "source": [
    "#создадим переменные, где укажем число совершённых заказов для юзеров, которые делали минимум 1 заказ\n",
    "\n",
    "ordersByUsersA = (orders[orders['group']=='A']\n",
    "                 .groupby('user_id', as_index=False)\n",
    "                 .agg({'transaction_id':pd.Series.nunique}))\n",
    "ordersByUsersA.columns=['user_id','orders']\n",
    "\n",
    "ordersByUsersB = (orders[orders['group']=='B']\n",
    "                 .groupby('user_id', as_index=False)\n",
    "                 .agg({'transaction_id':pd.Series.nunique}))\n",
    "ordersByUsersB.columns=['user_id','orders']\n",
    "\n",
    "#объявим переменные sampleA и sampleB, в которых пользователям из разных групп будет соответствовать количество заказов \n",
    "#тем, кто ничего не заказал, будут соответствовать нули\n",
    "\n",
    "sampleA = pd.concat([ordersByUsersA['orders'],\\\n",
    "                     pd.Series(0,index=np.arange(data['visitorsPerDateA'].sum() - len(ordersByUsersA['orders'])),\\\n",
    "                    name='orders')],axis=0)\n",
    "\n",
    "sampleB = pd.concat([ordersByUsersB['orders'],\\\n",
    "                     pd.Series(0,index=np.arange(data['visitorsPerDateB'].sum() - len(ordersByUsersB['orders'])),\\\n",
    "                    name='orders')],axis=0)\n",
    "\n",
    "print('Статистическая значимость различий в конверсии между группами по «сырым» данным: {0:.3f}'.format(stats.mannwhitneyu(sampleA,sampleB, alternative=\"two-sided\")[1]))\n",
    "\n",
    "alpha = 0.05  # критический уровень статистической значимости\n",
    "\n",
    "results = stats.mannwhitneyu(sampleA,sampleB, alternative=\"two-sided\")[1]\n",
    "\n",
    "if results < alpha:\n",
    "    print('Отвергаем нулевую гипотезу: разница статистически значима')\n",
    "else:\n",
    "    print(\n",
    "        'Не получилось отвергнуть нулевую гипотезу, вывод о различии сделать нельзя'\n",
    "    ) \n",
    "    \n",
    "\n",
    "print('Относительное различие в конверсии между группами : {0:.3f}'.format(sampleB.mean()/sampleA.mean()-1))"
   ]
  },
  {
   "cell_type": "markdown",
   "metadata": {},
   "source": [
    "По сырым данным различия конверисии в группе А и В есть, т.к. p-value получился 0.017, что меньше 0.05 (критического уровня статистической значимости), и нулевая гипотеза об отсутствии различий отвергается. Это косвенно подтверждается вторым числом: относительной разницей конверсии группы В к группе А на 13,8%.\n",
    "\n",
    "Различия по конверсии посчитали, теперь посмотрим средний чек."
   ]
  },
  {
   "cell_type": "code",
   "execution_count": 24,
   "metadata": {},
   "outputs": [
    {
     "name": "stdout",
     "output_type": "stream",
     "text": [
      "Cтатистическая значимость различий в среднем чеке между группами по «сырым» данным: 0.729\n",
      "Не получилось отвергнуть нулевую гипотезу, вывод о различии сделать нельзя\n",
      "Относительные различия в среднем чеке между группами: 0.259\n"
     ]
    }
   ],
   "source": [
    "print('Cтатистическая значимость различий в среднем чеке между группами по «сырым» данным: {0:.3f}'.format(stats.mannwhitneyu(orders[orders['group']=='A']['revenue'],orders[orders['group']=='B']['revenue'], alternative=\"two-sided\")[1]))\n",
    "\n",
    "results = stats.mannwhitneyu(orders[orders['group']=='A']['revenue'],orders[orders['group']=='B']['revenue'], alternative=\"two-sided\")[1]\n",
    "\n",
    "if results < alpha:\n",
    "    print('Отвергаем нулевую гипотезу: разница статистически значима')\n",
    "else:\n",
    "    print(\n",
    "        'Не получилось отвергнуть нулевую гипотезу, вывод о различии сделать нельзя'\n",
    "    ) \n",
    "    \n",
    "\n",
    "print('Относительные различия в среднем чеке между группами: {0:.3f}'.format(orders[orders['group']=='B']['revenue'].mean()/orders[orders['group']=='A']['revenue'].mean()-1))"
   ]
  },
  {
   "cell_type": "markdown",
   "metadata": {},
   "source": [
    "Вывод: По «сырым» данным различий в среднем чеке у групп A и B нет. p-value = 0.729 больше 0.05. Значит, нулевую гипотезу о том, что статистически значимых различий в среднем чеке между группами нет, не отвергаем. \n",
    "Но отношение среднего чека в группе В на 25,9% больше, вероятно, туда попали заказы с аномально высоким чеком.\n"
   ]
  },
  {
   "cell_type": "markdown",
   "metadata": {},
   "source": [
    "Теперь возмемся \"очищать\" данные. Как мы выяснили выше, за аномальных пользователей возмем с 5 и более заказов и тех, чей заказ вышел дороже 60000 рублей. Так мы уберем от 1 до 5% пользователей со слишком большими заказами и их наиболее высоким числом."
   ]
  },
  {
   "cell_type": "code",
   "execution_count": 25,
   "metadata": {},
   "outputs": [
    {
     "data": {
      "text/plain": [
       "1099     148427295\n",
       "949      887908475\n",
       "744      888512513\n",
       "1103    1164614297\n",
       "1136    1307669133\n",
       "858     1316129916\n",
       "425     1920142716\n",
       "227     2038680547\n",
       "1196    2108080724\n",
       "326     2378935119\n",
       "278     2458001652\n",
       "743     4133034833\n",
       "499     4256040402\n",
       "662     4266935830\n",
       "Name: user_id, dtype: int64"
      ]
     },
     "metadata": {},
     "output_type": "display_data"
    },
    {
     "data": {
      "text/plain": [
       "(14,)"
      ]
     },
     "metadata": {},
     "output_type": "display_data"
    }
   ],
   "source": [
    "usersManyOrders = pd.concat([ordersByUsersA[ordersByUsersA['orders']>4]['user_id'], ordersByUsersB[ordersByUsersB['orders']>4]['user_id']],axis=0)\n",
    "\n",
    "usersExpensiveOrders = pd.concat([orders[orders['revenue']>60000]['user_id']],axis=0)\n",
    "\n",
    "abnormalUsers = pd.concat([usersManyOrders,usersExpensiveOrders],axis=0).drop_duplicates().sort_values()\n",
    "\n",
    "display(abnormalUsers)\n",
    "display(abnormalUsers.shape)"
   ]
  },
  {
   "cell_type": "markdown",
   "metadata": {},
   "source": [
    "Вычислили 14 аномальных пользователей из всей выборки. Узнаем, как они повлияли на резульаты теста. Посчитаем статистическую значимость различий в конверсии между группами теста по очищенным данным."
   ]
  },
  {
   "cell_type": "code",
   "execution_count": 26,
   "metadata": {},
   "outputs": [
    {
     "name": "stdout",
     "output_type": "stream",
     "text": [
      "Статистическая значимость различий в конверсии между группами по «очищенным» данным: 0.013\n",
      "Отвергаем нулевую гипотезу: разница статистически значима\n",
      "Относительное различие в конверсии между группами : 0.155\n"
     ]
    }
   ],
   "source": [
    "sampleAfilt = pd.concat([ordersByUsersA[np.logical_not(ordersByUsersA['user_id'].isin(abnormalUsers))]['orders'],\n",
    "                       pd.Series(0,index=np.arange(data['visitorsPerDateA'].sum()-len(ordersByUsersA['orders'])),\n",
    "                                name='orders')],axis=0)\n",
    "\n",
    "sampleBfilt = pd.concat([ordersByUsersB[np.logical_not(ordersByUsersB['user_id'].isin(abnormalUsers))]['orders'],\n",
    "                       pd.Series(0,index=np.arange(data['visitorsPerDateB'].sum()-len(ordersByUsersB['orders'])),\n",
    "                                name='orders')],axis=0)\n",
    "\n",
    "#применим критерий Манна-Уитни\n",
    "\n",
    "print('Статистическая значимость различий в конверсии между группами по «очищенным» данным: {0:.3f}'.format(stats.mannwhitneyu(sampleAfilt,sampleBfilt, alternative=\"two-sided\")[1]))\n",
    "\n",
    "results = stats.mannwhitneyu(sampleAfilt,sampleBfilt, alternative=\"two-sided\")[1]\n",
    "\n",
    "if results < alpha:\n",
    "    print('Отвергаем нулевую гипотезу: разница статистически значима')\n",
    "else:\n",
    "    print(\n",
    "        'Не получилось отвергнуть нулевую гипотезу, вывод о различии сделать нельзя'\n",
    "    ) \n",
    "    \n",
    "\n",
    "print('Относительное различие в конверсии между группами : {0:.3f}'.format(sampleBfilt.mean()/sampleAfilt.mean()-1))"
   ]
  },
  {
   "cell_type": "markdown",
   "metadata": {},
   "source": [
    "По очищенным данным также, как и по сырым, статистические различия в конверсии между группами есть: p-value получился почти таким же (0.013), а относительная разница выросла с 13,8% до 15,5%. Здесь с большой уверенностью можно предполагать, что в группе В намного лучше конверсия. Теперь проверим средний чек."
   ]
  },
  {
   "cell_type": "code",
   "execution_count": 27,
   "metadata": {},
   "outputs": [
    {
     "name": "stdout",
     "output_type": "stream",
     "text": [
      "Статистическая значимость различий в среднем чеке между группами по «очищенным» данным: 0.814\n",
      "Не получилось отвергнуть нулевую гипотезу, вывод о различии сделать нельзя\n",
      "Относительные различия в среднем чеке между группами: -0.007\n"
     ]
    }
   ],
   "source": [
    "sampleAfilt_meancheck = orders[np.logical_and(orders['group']=='A',\n",
    "                            np.logical_not(orders['user_id'].isin(abnormalUsers)))]['revenue']\n",
    "\n",
    "sampleBfilt_meancheck = orders[np.logical_and(orders['group']=='B',\n",
    "                            np.logical_not(orders['user_id'].isin(abnormalUsers)))]['revenue']\n",
    "\n",
    "print('Статистическая значимость различий в среднем чеке между группами по «очищенным» данным: {0:.3f}'.format(stats.mannwhitneyu(sampleAfilt_meancheck,sampleBfilt_meancheck, alternative=\"two-sided\")[1]))\n",
    "\n",
    "results = stats.mannwhitneyu(sampleAfilt_meancheck,sampleBfilt_meancheck, alternative=\"two-sided\")[1]\n",
    "\n",
    "if results < alpha:\n",
    "    print('Отвергаем нулевую гипотезу: разница статистически значима')\n",
    "else:\n",
    "    print(\n",
    "        'Не получилось отвергнуть нулевую гипотезу, вывод о различии сделать нельзя'\n",
    "    ) \n",
    "\n",
    "print('Относительные различия в среднем чеке между группами: {0:.3f}'.format(sampleAfilt_meancheck.mean()/sampleBfilt_meancheck.mean()-1))\n",
    "\n"
   ]
  },
  {
   "cell_type": "code",
   "execution_count": 28,
   "metadata": {},
   "outputs": [
    {
     "data": {
      "image/png": "[encoded data removed]",
      "text/plain": [
       "<Figure size 1200x400 with 1 Axes>"
      ]
     },
     "metadata": {
      "needs_background": "light"
     },
     "output_type": "display_data"
    },
    {
     "data": {
      "image/png": "[encoded data removed]",
      "text/plain": [
       "<Figure size 1200x400 with 1 Axes>"
      ]
     },
     "metadata": {
      "needs_background": "light"
     },
     "output_type": "display_data"
    }
   ],
   "source": [
    "#строим графики кумулятивной конверсии и среднего чека по очищенным данным\n",
    "orders_ok = orders.query('user_id not in @abnormalUsers')\n",
    "\n",
    "\n",
    "ordersFiltered = datesGroup.apply(lambda x: orders_ok[np.logical_and(orders_ok['date'] <= x['date'], orders_ok['group'] == x['group'])]\\\n",
    "                                    .agg({'date':'max', 'group':'max', 'transaction_id':pd.Series.nunique, 'user_id':pd.Series.nunique, 'revenue':'sum'}), axis=1)\\\n",
    "                                    .sort_values(by=['date','group'])\n",
    "\n",
    "cumDataFilt = ordersFiltered.merge(visitorsAggregated, left_on=['date','group'], right_on=['date','group'])\n",
    "cumDataFilt.columns = ['date', 'group', 'orders', 'buyers', 'revenue', 'visitors']\n",
    "\n",
    "\n",
    "cumDataFilt['conversion'] = cumDataFilt['orders']/cumDataFilt['visitors']             \n",
    "cumDataAFilt = cumDataFilt[cumData['group']=='A']\n",
    "cumDataBFilt = cumDataFilt[cumData['group']=='B']\n",
    "\n",
    "cumRevenueAfilt = cumDataFilt[cumDataFilt['group']=='A'][['date','revenue', 'orders']]\n",
    "cumRevenueBfilt = cumDataFilt[cumDataFilt['group']=='B'][['date','revenue', 'orders']]\n",
    "\n",
    "\n",
    "plt.figure(figsize=(12,4), dpi=100)\n",
    "plt.grid()\n",
    "plt.title('Кумулятивная конверсия по группам, очищенные данные')\n",
    "plt.plot(cumDataAFilt['date'], cumDataAFilt['conversion'], label = 'A')\n",
    "plt.plot(cumDataBFilt['date'], cumDataBFilt['conversion'], label = 'B')\n",
    "plt.legend()\n",
    "plt.xlabel('Дата')\n",
    "plt.ylabel('Конверсия')\n",
    "plt.axis([\"2019-08-01\",\"2019-08-31\",0.02,0.04])\n",
    "plt.show()\n",
    "\n",
    "plt.figure(figsize=(12,4), dpi=100)\n",
    "plt.grid()\n",
    "plt.title('Кумулятивный средний чек по группам, очищенные данные')\n",
    "plt.plot(cumRevenueAfilt['date'], cumRevenueAfilt['revenue']/cumRevenueAfilt['orders'], label = 'A')\n",
    "plt.plot(cumRevenueBfilt['date'], cumRevenueBfilt['revenue']/cumRevenueBfilt['orders'], label = 'B')\n",
    "plt.legend()\n",
    "plt.xlabel('Дата')\n",
    "plt.ylabel('Средний чек, руб')\n",
    "plt.show()"
   ]
  },
  {
   "cell_type": "markdown",
   "metadata": {},
   "source": [
    "По очищенным данным также статистических различий в среднем чеке у групп A и B нет, p-value увеличился, но незначительно: с 0,365 до 0,814. И здесь отчетливо можно увидеть влияние выбросов на выборку: относительное различие в среднем чеке упало с 25,9% до -0,7%, то есть средний чек практически не изменился.\n",
    "\n",
    "Также при построении графиков кумулятивной конверсии и среднего чека по очищенным данным видно, что средний чек к концу эксперимента выровнялся, а конверсия у группы В также значительно выше."
   ]
  },
  {
   "cell_type": "markdown",
   "metadata": {},
   "source": [
    "## Общий вывод"
   ]
  },
  {
   "cell_type": "markdown",
   "metadata": {},
   "source": [
    "При предобработке данных было обнаружено, что 58 уникальных пользователей оказались в выборке по обеим группам A/B-теста. Учитывая, что всего в тестировании приняло участие 1031 пользователь, такое количество (5,6%) можно принять за погрешность, т.к. идеальных условий для А/В-теста достичь невозможно.\n",
    "\n",
    "Приоритезация гипотез по фреймворкам ICE и RICE дала разные результаты: топ-3 гипотез у каждого метода отличаются. Это произошло потому, что в RICE добавлена переменная, отражающая возможный охват, и гипотезы скорректировали свой ранг в этом фреймворке. \n",
    "\n",
    "Топ-3 по ICE:\n",
    "- Запустить акцию, дающую скидку на товар в день рождения\n",
    "- Добавить блоки рекомендаций товаров на сайт интернет магазина, чтобы повысить конверсию и средний чек заказа\n",
    "- Добавить форму подписки на все основные страницы, чтобы собрать базу клиентов для email-рассылок\n",
    "\n",
    "Топ-3 по RICE:\n",
    "- Добавить форму подписки на все основные страницы, чтобы собрать базу клиентов для email-рассылок\n",
    "- Добавить блоки рекомендаций товаров на сайт интернет магазина, чтобы повысить конверсию и средний чек заказа\n",
    "- Добавить два новых канала привлечения трафика, что позволит привлекать на 30% больше пользователей\n",
    "\n",
    "При анализе результатов А/В-теста были выявлены факты о том, что конверсия увеличилась на 15,5% при нетронутом среднем чеке и обнаруженном статистическом различии в конверсии как по сырым, так и по очищенным данным. График конверсии также сообщает о том, что тенденций к спаду группы В не ожидается, поэтому можно сделать вывод о том, что тест можно останавливать и признать его очень успешным: мы увеличили конверсию в группе В и не уронили там  средний чек, как это обычно бывает, например при агрессивных акциях или при стимулировании покупателя быстро сделать заказ, не обращая внимание на глубину продуктовой корзины.\n"
   ]
  }
 ],
 "metadata": {
  "ExecuteTimeLog": [
   {
    "duration": 1469,
    "start_time": "2021-09-26T16:26:22.771Z"
   },
   {
    "duration": 78,
    "start_time": "2021-09-26T16:27:39.826Z"
   },
   {
    "duration": 46,
    "start_time": "2021-09-26T16:28:13.098Z"
   },
   {
    "duration": 13,
    "start_time": "2021-09-26T16:36:32.480Z"
   },
   {
    "duration": 10,
    "start_time": "2021-09-26T16:36:54.298Z"
   },
   {
    "duration": 422,
    "start_time": "2021-09-26T16:37:50.424Z"
   },
   {
    "duration": 9,
    "start_time": "2021-09-26T16:38:06.589Z"
   },
   {
    "duration": 8,
    "start_time": "2021-09-26T16:38:13.147Z"
   },
   {
    "duration": 9,
    "start_time": "2021-09-26T16:38:49.334Z"
   },
   {
    "duration": 251,
    "start_time": "2021-09-26T16:45:22.440Z"
   },
   {
    "duration": 14,
    "start_time": "2021-09-26T16:45:29.632Z"
   },
   {
    "duration": 417,
    "start_time": "2021-09-26T16:47:43.979Z"
   },
   {
    "duration": 1598,
    "start_time": "2021-09-26T16:48:33.865Z"
   },
   {
    "duration": 62,
    "start_time": "2021-09-26T16:48:35.466Z"
   },
   {
    "duration": 46,
    "start_time": "2021-09-26T16:48:35.531Z"
   },
   {
    "duration": 52,
    "start_time": "2021-09-26T16:48:35.580Z"
   },
   {
    "duration": 15,
    "start_time": "2021-09-26T16:48:35.634Z"
   },
   {
    "duration": 519,
    "start_time": "2021-09-26T16:48:35.652Z"
   },
   {
    "duration": 15,
    "start_time": "2021-09-26T16:48:47.438Z"
   },
   {
    "duration": 1526,
    "start_time": "2021-09-26T16:49:03.394Z"
   },
   {
    "duration": 65,
    "start_time": "2021-09-26T16:49:04.923Z"
   },
   {
    "duration": 51,
    "start_time": "2021-09-26T16:49:04.991Z"
   },
   {
    "duration": 26,
    "start_time": "2021-09-26T16:49:05.045Z"
   },
   {
    "duration": 16,
    "start_time": "2021-09-26T16:49:05.082Z"
   },
   {
    "duration": 19,
    "start_time": "2021-09-26T16:49:05.101Z"
   },
   {
    "duration": 1520,
    "start_time": "2021-09-26T16:49:26.780Z"
   },
   {
    "duration": 57,
    "start_time": "2021-09-26T16:49:28.303Z"
   },
   {
    "duration": 49,
    "start_time": "2021-09-26T16:49:28.364Z"
   },
   {
    "duration": 10,
    "start_time": "2021-09-26T16:49:28.416Z"
   },
   {
    "duration": 42,
    "start_time": "2021-09-26T16:49:28.429Z"
   },
   {
    "duration": 34,
    "start_time": "2021-09-26T16:49:28.474Z"
   },
   {
    "duration": 17,
    "start_time": "2021-09-26T16:51:31.713Z"
   },
   {
    "duration": 1635,
    "start_time": "2021-09-26T16:56:51.659Z"
   },
   {
    "duration": 2248,
    "start_time": "2021-09-26T16:56:53.297Z"
   },
   {
    "duration": 53,
    "start_time": "2021-09-26T16:56:55.549Z"
   },
   {
    "duration": 11,
    "start_time": "2021-09-26T16:56:55.604Z"
   },
   {
    "duration": 12,
    "start_time": "2021-09-26T16:56:55.617Z"
   },
   {
    "duration": 53,
    "start_time": "2021-09-26T16:56:55.631Z"
   },
   {
    "duration": 17,
    "start_time": "2021-09-26T16:56:55.687Z"
   },
   {
    "duration": 1490,
    "start_time": "2021-09-26T17:35:22.151Z"
   },
   {
    "duration": 76,
    "start_time": "2021-09-26T17:35:23.644Z"
   },
   {
    "duration": 47,
    "start_time": "2021-09-26T17:35:23.723Z"
   },
   {
    "duration": 10,
    "start_time": "2021-09-26T17:35:23.773Z"
   },
   {
    "duration": 19,
    "start_time": "2021-09-26T17:35:23.785Z"
   },
   {
    "duration": 21,
    "start_time": "2021-09-26T17:35:23.806Z"
   },
   {
    "duration": 36,
    "start_time": "2021-09-26T17:35:23.829Z"
   },
   {
    "duration": 8,
    "start_time": "2021-09-26T17:37:21.614Z"
   },
   {
    "duration": 19,
    "start_time": "2021-09-26T17:37:26.713Z"
   },
   {
    "duration": 8,
    "start_time": "2021-09-26T17:37:37.932Z"
   },
   {
    "duration": 1463,
    "start_time": "2021-09-26T18:02:35.087Z"
   },
   {
    "duration": 63,
    "start_time": "2021-09-26T18:02:36.553Z"
   },
   {
    "duration": 47,
    "start_time": "2021-09-26T18:02:36.619Z"
   },
   {
    "duration": 1433,
    "start_time": "2021-09-26T18:02:36.670Z"
   },
   {
    "duration": -47,
    "start_time": "2021-09-26T18:02:38.152Z"
   },
   {
    "duration": -49,
    "start_time": "2021-09-26T18:02:38.155Z"
   },
   {
    "duration": -50,
    "start_time": "2021-09-26T18:02:38.158Z"
   },
   {
    "duration": -51,
    "start_time": "2021-09-26T18:02:38.160Z"
   },
   {
    "duration": -54,
    "start_time": "2021-09-26T18:02:38.164Z"
   },
   {
    "duration": 1478,
    "start_time": "2021-09-26T18:03:05.813Z"
   },
   {
    "duration": 54,
    "start_time": "2021-09-26T18:03:07.294Z"
   },
   {
    "duration": 52,
    "start_time": "2021-09-26T18:03:07.352Z"
   },
   {
    "duration": 24,
    "start_time": "2021-09-26T18:03:07.406Z"
   },
   {
    "duration": 11,
    "start_time": "2021-09-26T18:03:07.463Z"
   },
   {
    "duration": 21,
    "start_time": "2021-09-26T18:03:07.476Z"
   },
   {
    "duration": 22,
    "start_time": "2021-09-26T18:03:07.500Z"
   },
   {
    "duration": 45,
    "start_time": "2021-09-26T18:03:07.525Z"
   },
   {
    "duration": 123,
    "start_time": "2021-09-26T18:03:07.572Z"
   },
   {
    "duration": 391,
    "start_time": "2021-09-26T18:08:42.667Z"
   },
   {
    "duration": 392,
    "start_time": "2021-09-26T18:08:50.860Z"
   },
   {
    "duration": 604,
    "start_time": "2021-09-26T18:10:55.881Z"
   },
   {
    "duration": 859,
    "start_time": "2021-09-26T18:15:02.252Z"
   },
   {
    "duration": 663,
    "start_time": "2021-09-26T18:15:55.952Z"
   },
   {
    "duration": 18,
    "start_time": "2021-09-26T18:18:29.886Z"
   },
   {
    "duration": 332,
    "start_time": "2021-09-26T18:21:12.805Z"
   },
   {
    "duration": 352,
    "start_time": "2021-09-26T18:24:32.029Z"
   },
   {
    "duration": 715,
    "start_time": "2021-09-26T18:25:06.792Z"
   },
   {
    "duration": 364,
    "start_time": "2021-09-26T18:26:16.194Z"
   },
   {
    "duration": 521,
    "start_time": "2021-09-26T18:29:15.390Z"
   },
   {
    "duration": 669,
    "start_time": "2021-09-26T18:30:04.156Z"
   },
   {
    "duration": 744,
    "start_time": "2021-09-26T18:30:14.645Z"
   },
   {
    "duration": 421,
    "start_time": "2021-09-26T18:30:27.485Z"
   },
   {
    "duration": 574,
    "start_time": "2021-09-26T18:30:38.137Z"
   },
   {
    "duration": 478,
    "start_time": "2021-09-26T18:32:10.484Z"
   },
   {
    "duration": 502,
    "start_time": "2021-09-26T18:32:22.119Z"
   },
   {
    "duration": 662,
    "start_time": "2021-09-26T18:39:00.416Z"
   },
   {
    "duration": 265,
    "start_time": "2021-09-26T18:41:05.394Z"
   },
   {
    "duration": 496,
    "start_time": "2021-09-26T18:41:23.074Z"
   },
   {
    "duration": 478,
    "start_time": "2021-09-26T18:44:11.879Z"
   },
   {
    "duration": 18,
    "start_time": "2021-09-26T18:58:16.114Z"
   },
   {
    "duration": 31,
    "start_time": "2021-09-26T18:58:53.339Z"
   },
   {
    "duration": 617,
    "start_time": "2021-09-26T19:02:39.309Z"
   },
   {
    "duration": 799,
    "start_time": "2021-09-26T19:05:52.825Z"
   },
   {
    "duration": 823,
    "start_time": "2021-09-26T19:06:10.517Z"
   },
   {
    "duration": 726,
    "start_time": "2021-09-26T19:06:38.028Z"
   },
   {
    "duration": 254,
    "start_time": "2021-09-26T19:17:18.407Z"
   },
   {
    "duration": 472,
    "start_time": "2021-09-26T19:17:37.901Z"
   },
   {
    "duration": 468,
    "start_time": "2021-09-26T19:18:15.275Z"
   },
   {
    "duration": 482,
    "start_time": "2021-09-26T19:18:27.921Z"
   },
   {
    "duration": 539,
    "start_time": "2021-09-26T19:18:38.578Z"
   },
   {
    "duration": 488,
    "start_time": "2021-09-26T19:22:01.391Z"
   },
   {
    "duration": 12,
    "start_time": "2021-09-26T19:26:46.090Z"
   },
   {
    "duration": 614,
    "start_time": "2021-09-26T19:28:38.660Z"
   },
   {
    "duration": 560,
    "start_time": "2021-09-26T19:29:00.486Z"
   },
   {
    "duration": 2715,
    "start_time": "2021-09-27T18:13:13.388Z"
   },
   {
    "duration": 165,
    "start_time": "2021-09-27T18:13:16.106Z"
   },
   {
    "duration": 119,
    "start_time": "2021-09-27T18:13:16.275Z"
   },
   {
    "duration": 104,
    "start_time": "2021-09-27T18:13:16.397Z"
   },
   {
    "duration": 13,
    "start_time": "2021-09-27T18:13:16.504Z"
   },
   {
    "duration": 36,
    "start_time": "2021-09-27T18:13:16.563Z"
   },
   {
    "duration": 94,
    "start_time": "2021-09-27T18:13:16.602Z"
   },
   {
    "duration": 66,
    "start_time": "2021-09-27T18:13:16.702Z"
   },
   {
    "duration": 1377,
    "start_time": "2021-09-27T18:13:16.791Z"
   },
   {
    "duration": 1009,
    "start_time": "2021-09-27T18:13:18.171Z"
   },
   {
    "duration": 919,
    "start_time": "2021-09-27T18:13:19.183Z"
   },
   {
    "duration": 1003,
    "start_time": "2021-09-27T18:13:20.105Z"
   },
   {
    "duration": 1500,
    "start_time": "2021-09-27T18:13:21.167Z"
   },
   {
    "duration": 1397,
    "start_time": "2021-09-27T18:13:22.671Z"
   },
   {
    "duration": 7,
    "start_time": "2021-09-27T18:25:09.789Z"
   },
   {
    "duration": 394,
    "start_time": "2021-09-27T18:25:37.674Z"
   },
   {
    "duration": 589,
    "start_time": "2021-09-27T18:25:50.699Z"
   },
   {
    "duration": 683,
    "start_time": "2021-09-27T18:25:58.983Z"
   },
   {
    "duration": 764,
    "start_time": "2021-09-27T18:26:27.834Z"
   },
   {
    "duration": 815,
    "start_time": "2021-09-27T18:28:37.763Z"
   },
   {
    "duration": 657,
    "start_time": "2021-09-27T18:29:07.956Z"
   },
   {
    "duration": 617,
    "start_time": "2021-09-27T18:29:24.793Z"
   },
   {
    "duration": 686,
    "start_time": "2021-09-27T18:29:57.946Z"
   },
   {
    "duration": 775,
    "start_time": "2021-09-27T18:30:21.450Z"
   },
   {
    "duration": 678,
    "start_time": "2021-09-27T18:31:12.207Z"
   },
   {
    "duration": 11,
    "start_time": "2021-09-27T18:36:08.771Z"
   },
   {
    "duration": 427,
    "start_time": "2021-09-27T18:42:25.018Z"
   },
   {
    "duration": 13,
    "start_time": "2021-09-27T18:42:37.507Z"
   },
   {
    "duration": 246,
    "start_time": "2021-09-27T18:45:13.089Z"
   },
   {
    "duration": 18,
    "start_time": "2021-09-27T18:45:42.068Z"
   },
   {
    "duration": 212,
    "start_time": "2021-09-27T18:49:25.498Z"
   },
   {
    "duration": 223,
    "start_time": "2021-09-27T18:50:24.911Z"
   },
   {
    "duration": 147,
    "start_time": "2021-09-27T18:51:03.504Z"
   },
   {
    "duration": 221,
    "start_time": "2021-09-27T18:51:08.732Z"
   },
   {
    "duration": 207,
    "start_time": "2021-09-27T18:51:18.470Z"
   },
   {
    "duration": 7,
    "start_time": "2021-09-27T18:55:00.917Z"
   },
   {
    "duration": 636,
    "start_time": "2021-09-27T18:56:37.149Z"
   },
   {
    "duration": 6,
    "start_time": "2021-09-27T19:00:27.678Z"
   },
   {
    "duration": 7,
    "start_time": "2021-09-27T19:11:28.120Z"
   },
   {
    "duration": 6,
    "start_time": "2021-09-27T19:11:32.692Z"
   },
   {
    "duration": 18,
    "start_time": "2021-09-27T19:15:56.680Z"
   },
   {
    "duration": 17,
    "start_time": "2021-09-27T19:16:29.765Z"
   },
   {
    "duration": 78,
    "start_time": "2021-09-27T19:19:04.995Z"
   },
   {
    "duration": 104,
    "start_time": "2021-09-27T19:19:25.326Z"
   },
   {
    "duration": 95,
    "start_time": "2021-09-27T19:19:56.978Z"
   },
   {
    "duration": 102,
    "start_time": "2021-09-27T19:20:04.374Z"
   },
   {
    "duration": 200,
    "start_time": "2021-09-27T19:23:43.728Z"
   },
   {
    "duration": 91,
    "start_time": "2021-09-27T19:29:03.016Z"
   },
   {
    "duration": 102,
    "start_time": "2021-09-27T19:29:10.001Z"
   },
   {
    "duration": 217,
    "start_time": "2021-09-27T19:29:17.328Z"
   },
   {
    "duration": 1391,
    "start_time": "2021-09-27T19:29:30.094Z"
   },
   {
    "duration": 226,
    "start_time": "2021-09-27T19:29:47.853Z"
   },
   {
    "duration": 332,
    "start_time": "2021-09-27T19:32:10.703Z"
   },
   {
    "duration": 327,
    "start_time": "2021-09-27T19:33:19.571Z"
   },
   {
    "duration": 371,
    "start_time": "2021-09-27T19:34:24.666Z"
   },
   {
    "duration": 454,
    "start_time": "2021-09-27T19:35:09.658Z"
   },
   {
    "duration": 460,
    "start_time": "2021-09-27T19:36:38.503Z"
   },
   {
    "duration": 476,
    "start_time": "2021-09-27T19:38:01.895Z"
   },
   {
    "duration": 509,
    "start_time": "2021-09-27T19:38:14.883Z"
   },
   {
    "duration": 1477,
    "start_time": "2021-09-27T19:38:28.721Z"
   },
   {
    "duration": 55,
    "start_time": "2021-09-27T19:38:30.201Z"
   },
   {
    "duration": 50,
    "start_time": "2021-09-27T19:38:30.259Z"
   },
   {
    "duration": 54,
    "start_time": "2021-09-27T19:38:30.311Z"
   },
   {
    "duration": 26,
    "start_time": "2021-09-27T19:38:30.368Z"
   },
   {
    "duration": 20,
    "start_time": "2021-09-27T19:38:30.396Z"
   },
   {
    "duration": 27,
    "start_time": "2021-09-27T19:38:30.419Z"
   },
   {
    "duration": 18,
    "start_time": "2021-09-27T19:38:30.450Z"
   },
   {
    "duration": 614,
    "start_time": "2021-09-27T19:38:30.471Z"
   },
   {
    "duration": 510,
    "start_time": "2021-09-27T19:38:31.087Z"
   },
   {
    "duration": 585,
    "start_time": "2021-09-27T19:38:31.600Z"
   },
   {
    "duration": 538,
    "start_time": "2021-09-27T19:38:32.187Z"
   },
   {
    "duration": 497,
    "start_time": "2021-09-27T19:38:32.728Z"
   },
   {
    "duration": 583,
    "start_time": "2021-09-27T19:38:33.228Z"
   },
   {
    "duration": 659,
    "start_time": "2021-09-27T19:38:33.813Z"
   },
   {
    "duration": 9,
    "start_time": "2021-09-27T19:38:34.475Z"
   },
   {
    "duration": 243,
    "start_time": "2021-09-27T19:38:34.488Z"
   },
   {
    "duration": 828,
    "start_time": "2021-09-27T19:38:34.734Z"
   },
   {
    "duration": 5,
    "start_time": "2021-09-27T19:38:35.565Z"
   },
   {
    "duration": 518,
    "start_time": "2021-09-27T19:38:35.573Z"
   },
   {
    "duration": 127,
    "start_time": "2021-09-27T19:42:54.552Z"
   },
   {
    "duration": 128,
    "start_time": "2021-09-27T19:43:33.851Z"
   },
   {
    "duration": 112,
    "start_time": "2021-09-27T19:43:42.196Z"
   },
   {
    "duration": 231,
    "start_time": "2021-09-27T19:44:12.648Z"
   },
   {
    "duration": 88,
    "start_time": "2021-09-27T19:48:47.941Z"
   },
   {
    "duration": 98,
    "start_time": "2021-09-27T19:49:03.209Z"
   },
   {
    "duration": 584,
    "start_time": "2021-09-27T19:54:38.622Z"
   },
   {
    "duration": 247,
    "start_time": "2021-09-27T19:54:46.616Z"
   },
   {
    "duration": 225,
    "start_time": "2021-09-27T19:55:23.469Z"
   },
   {
    "duration": 1482,
    "start_time": "2021-09-28T18:19:39.448Z"
   },
   {
    "duration": 54,
    "start_time": "2021-09-28T18:19:40.932Z"
   },
   {
    "duration": 47,
    "start_time": "2021-09-28T18:19:40.989Z"
   },
   {
    "duration": 36,
    "start_time": "2021-09-28T18:19:41.038Z"
   },
   {
    "duration": 24,
    "start_time": "2021-09-28T18:19:41.076Z"
   },
   {
    "duration": 21,
    "start_time": "2021-09-28T18:19:41.103Z"
   },
   {
    "duration": 15,
    "start_time": "2021-09-28T18:19:41.126Z"
   },
   {
    "duration": 25,
    "start_time": "2021-09-28T18:19:41.144Z"
   },
   {
    "duration": 650,
    "start_time": "2021-09-28T18:19:41.172Z"
   },
   {
    "duration": 509,
    "start_time": "2021-09-28T18:19:41.824Z"
   },
   {
    "duration": 487,
    "start_time": "2021-09-28T18:19:42.335Z"
   },
   {
    "duration": 568,
    "start_time": "2021-09-28T18:19:42.825Z"
   },
   {
    "duration": 500,
    "start_time": "2021-09-28T18:19:43.396Z"
   },
   {
    "duration": 547,
    "start_time": "2021-09-28T18:19:43.898Z"
   },
   {
    "duration": 673,
    "start_time": "2021-09-28T18:19:44.447Z"
   },
   {
    "duration": 7,
    "start_time": "2021-09-28T18:19:45.123Z"
   },
   {
    "duration": 203,
    "start_time": "2021-09-28T18:19:45.133Z"
   },
   {
    "duration": 700,
    "start_time": "2021-09-28T18:19:45.339Z"
   },
   {
    "duration": 5,
    "start_time": "2021-09-28T18:19:46.041Z"
   },
   {
    "duration": 501,
    "start_time": "2021-09-28T18:19:46.048Z"
   },
   {
    "duration": 238,
    "start_time": "2021-09-28T18:19:46.552Z"
   },
   {
    "duration": 607,
    "start_time": "2021-09-28T19:19:43.593Z"
   },
   {
    "duration": 1509,
    "start_time": "2021-09-28T19:20:26.836Z"
   },
   {
    "duration": 58,
    "start_time": "2021-09-28T19:20:28.348Z"
   },
   {
    "duration": 48,
    "start_time": "2021-09-28T19:20:28.409Z"
   },
   {
    "duration": 25,
    "start_time": "2021-09-28T19:20:28.459Z"
   },
   {
    "duration": 13,
    "start_time": "2021-09-28T19:20:28.486Z"
   },
   {
    "duration": 16,
    "start_time": "2021-09-28T19:20:28.501Z"
   },
   {
    "duration": 46,
    "start_time": "2021-09-28T19:20:28.519Z"
   },
   {
    "duration": 8,
    "start_time": "2021-09-28T19:20:28.572Z"
   },
   {
    "duration": 617,
    "start_time": "2021-09-28T19:20:28.583Z"
   },
   {
    "duration": 491,
    "start_time": "2021-09-28T19:20:29.203Z"
   },
   {
    "duration": 478,
    "start_time": "2021-09-28T19:20:29.697Z"
   },
   {
    "duration": 561,
    "start_time": "2021-09-28T19:20:30.178Z"
   },
   {
    "duration": 496,
    "start_time": "2021-09-28T19:20:30.741Z"
   },
   {
    "duration": 594,
    "start_time": "2021-09-28T19:20:31.239Z"
   },
   {
    "duration": 667,
    "start_time": "2021-09-28T19:20:31.836Z"
   },
   {
    "duration": 6,
    "start_time": "2021-09-28T19:20:32.505Z"
   },
   {
    "duration": 221,
    "start_time": "2021-09-28T19:20:32.513Z"
   },
   {
    "duration": 689,
    "start_time": "2021-09-28T19:20:32.737Z"
   },
   {
    "duration": 6,
    "start_time": "2021-09-28T19:20:33.429Z"
   },
   {
    "duration": 483,
    "start_time": "2021-09-28T19:20:33.437Z"
   },
   {
    "duration": 242,
    "start_time": "2021-09-28T19:20:33.923Z"
   },
   {
    "duration": 113,
    "start_time": "2021-09-28T19:22:22.004Z"
   },
   {
    "duration": 219,
    "start_time": "2021-09-28T19:22:27.925Z"
   },
   {
    "duration": 11,
    "start_time": "2021-09-28T19:35:53.545Z"
   },
   {
    "duration": 407,
    "start_time": "2021-09-28T19:36:43.274Z"
   },
   {
    "duration": 1492,
    "start_time": "2021-09-28T19:37:35.052Z"
   },
   {
    "duration": 56,
    "start_time": "2021-09-28T19:37:36.547Z"
   },
   {
    "duration": 57,
    "start_time": "2021-09-28T19:37:36.606Z"
   },
   {
    "duration": 40,
    "start_time": "2021-09-28T19:37:36.666Z"
   },
   {
    "duration": 11,
    "start_time": "2021-09-28T19:37:36.709Z"
   },
   {
    "duration": 44,
    "start_time": "2021-09-28T19:37:36.723Z"
   },
   {
    "duration": 19,
    "start_time": "2021-09-28T19:37:36.770Z"
   },
   {
    "duration": 18,
    "start_time": "2021-09-28T19:37:36.794Z"
   },
   {
    "duration": 646,
    "start_time": "2021-09-28T19:37:36.816Z"
   },
   {
    "duration": 505,
    "start_time": "2021-09-28T19:37:37.465Z"
   },
   {
    "duration": 479,
    "start_time": "2021-09-28T19:37:37.973Z"
   },
   {
    "duration": 569,
    "start_time": "2021-09-28T19:37:38.462Z"
   },
   {
    "duration": 488,
    "start_time": "2021-09-28T19:37:39.033Z"
   },
   {
    "duration": 594,
    "start_time": "2021-09-28T19:37:39.523Z"
   },
   {
    "duration": 881,
    "start_time": "2021-09-28T19:37:40.120Z"
   },
   {
    "duration": 8,
    "start_time": "2021-09-28T19:37:41.004Z"
   },
   {
    "duration": 334,
    "start_time": "2021-09-28T19:37:41.015Z"
   },
   {
    "duration": 770,
    "start_time": "2021-09-28T19:37:41.352Z"
   },
   {
    "duration": 7,
    "start_time": "2021-09-28T19:37:42.124Z"
   },
   {
    "duration": 498,
    "start_time": "2021-09-28T19:37:42.134Z"
   },
   {
    "duration": 332,
    "start_time": "2021-09-28T19:37:42.634Z"
   },
   {
    "duration": 439,
    "start_time": "2021-09-28T19:37:42.969Z"
   },
   {
    "duration": 282,
    "start_time": "2021-09-28T19:38:27.809Z"
   },
   {
    "duration": 15,
    "start_time": "2021-09-28T19:39:25.848Z"
   },
   {
    "duration": 612,
    "start_time": "2021-09-28T19:41:48.499Z"
   },
   {
    "duration": 9,
    "start_time": "2021-09-28T19:50:28.700Z"
   },
   {
    "duration": 11,
    "start_time": "2021-09-28T19:51:46.594Z"
   },
   {
    "duration": 20,
    "start_time": "2021-09-28T19:53:10.768Z"
   },
   {
    "duration": 16,
    "start_time": "2021-09-28T19:55:41.600Z"
   },
   {
    "duration": 1531,
    "start_time": "2021-09-29T17:32:48.420Z"
   },
   {
    "duration": 59,
    "start_time": "2021-09-29T17:32:49.953Z"
   },
   {
    "duration": 48,
    "start_time": "2021-09-29T17:32:50.015Z"
   },
   {
    "duration": 28,
    "start_time": "2021-09-29T17:32:50.066Z"
   },
   {
    "duration": 11,
    "start_time": "2021-09-29T17:32:50.097Z"
   },
   {
    "duration": 22,
    "start_time": "2021-09-29T17:32:50.110Z"
   },
   {
    "duration": 49,
    "start_time": "2021-09-29T17:32:50.134Z"
   },
   {
    "duration": 8,
    "start_time": "2021-09-29T17:32:50.188Z"
   },
   {
    "duration": 650,
    "start_time": "2021-09-29T17:32:50.199Z"
   },
   {
    "duration": 520,
    "start_time": "2021-09-29T17:32:50.852Z"
   },
   {
    "duration": 514,
    "start_time": "2021-09-29T17:32:51.374Z"
   },
   {
    "duration": 555,
    "start_time": "2021-09-29T17:32:51.890Z"
   },
   {
    "duration": 503,
    "start_time": "2021-09-29T17:32:52.447Z"
   },
   {
    "duration": 584,
    "start_time": "2021-09-29T17:32:52.953Z"
   },
   {
    "duration": 685,
    "start_time": "2021-09-29T17:32:53.539Z"
   },
   {
    "duration": 6,
    "start_time": "2021-09-29T17:32:54.228Z"
   },
   {
    "duration": 260,
    "start_time": "2021-09-29T17:32:54.237Z"
   },
   {
    "duration": 712,
    "start_time": "2021-09-29T17:32:54.499Z"
   },
   {
    "duration": 5,
    "start_time": "2021-09-29T17:32:55.214Z"
   },
   {
    "duration": 505,
    "start_time": "2021-09-29T17:32:55.221Z"
   },
   {
    "duration": 217,
    "start_time": "2021-09-29T17:32:55.728Z"
   },
   {
    "duration": 26,
    "start_time": "2021-09-29T17:32:55.947Z"
   },
   {
    "duration": 18,
    "start_time": "2021-09-29T17:32:55.978Z"
   },
   {
    "duration": 12,
    "start_time": "2021-09-29T17:39:59.698Z"
   },
   {
    "duration": 12,
    "start_time": "2021-09-29T17:47:24.734Z"
   },
   {
    "duration": 15,
    "start_time": "2021-09-29T17:48:13.486Z"
   },
   {
    "duration": 18,
    "start_time": "2021-09-29T17:50:19.430Z"
   },
   {
    "duration": 18,
    "start_time": "2021-09-29T17:51:14.028Z"
   },
   {
    "duration": 86,
    "start_time": "2021-09-29T18:03:26.695Z"
   },
   {
    "duration": 11,
    "start_time": "2021-09-29T18:03:38.492Z"
   },
   {
    "duration": 19,
    "start_time": "2021-09-29T18:04:31.054Z"
   },
   {
    "duration": 13,
    "start_time": "2021-09-29T18:06:07.315Z"
   },
   {
    "duration": 464,
    "start_time": "2021-09-29T18:07:03.415Z"
   },
   {
    "duration": 14,
    "start_time": "2021-09-29T18:08:04.398Z"
   },
   {
    "duration": 15,
    "start_time": "2021-09-29T18:08:31.758Z"
   },
   {
    "duration": 486,
    "start_time": "2021-09-29T18:21:39.871Z"
   },
   {
    "duration": 21,
    "start_time": "2021-09-29T18:23:17.061Z"
   },
   {
    "duration": 1167,
    "start_time": "2021-09-29T19:45:03.447Z"
   },
   {
    "duration": 69,
    "start_time": "2021-09-29T19:45:04.616Z"
   },
   {
    "duration": 31,
    "start_time": "2021-09-29T19:45:04.687Z"
   },
   {
    "duration": 16,
    "start_time": "2021-09-29T19:45:04.719Z"
   },
   {
    "duration": 20,
    "start_time": "2021-09-29T19:45:04.736Z"
   },
   {
    "duration": 15,
    "start_time": "2021-09-29T19:45:04.758Z"
   },
   {
    "duration": 15,
    "start_time": "2021-09-29T19:45:04.775Z"
   },
   {
    "duration": 20,
    "start_time": "2021-09-29T19:45:04.791Z"
   },
   {
    "duration": 360,
    "start_time": "2021-09-29T19:45:04.814Z"
   },
   {
    "duration": 305,
    "start_time": "2021-09-29T19:45:05.176Z"
   },
   {
    "duration": 294,
    "start_time": "2021-09-29T19:45:05.484Z"
   },
   {
    "duration": 389,
    "start_time": "2021-09-29T19:45:05.780Z"
   },
   {
    "duration": 307,
    "start_time": "2021-09-29T19:45:06.170Z"
   },
   {
    "duration": 384,
    "start_time": "2021-09-29T19:45:06.479Z"
   },
   {
    "duration": 442,
    "start_time": "2021-09-29T19:45:06.865Z"
   },
   {
    "duration": 5,
    "start_time": "2021-09-29T19:45:07.309Z"
   },
   {
    "duration": 130,
    "start_time": "2021-09-29T19:45:07.316Z"
   },
   {
    "duration": 456,
    "start_time": "2021-09-29T19:45:07.447Z"
   },
   {
    "duration": 4,
    "start_time": "2021-09-29T19:45:07.906Z"
   },
   {
    "duration": 280,
    "start_time": "2021-09-29T19:45:07.912Z"
   },
   {
    "duration": 124,
    "start_time": "2021-09-29T19:45:08.194Z"
   },
   {
    "duration": 10,
    "start_time": "2021-09-29T19:45:08.320Z"
   },
   {
    "duration": 12,
    "start_time": "2021-09-29T19:45:08.344Z"
   },
   {
    "duration": 24,
    "start_time": "2021-09-29T19:45:08.357Z"
   },
   {
    "duration": 18,
    "start_time": "2021-09-29T19:45:08.383Z"
   },
   {
    "duration": 1881,
    "start_time": "2021-09-30T17:26:19.695Z"
   },
   {
    "duration": 65,
    "start_time": "2021-09-30T17:26:21.578Z"
   },
   {
    "duration": 57,
    "start_time": "2021-09-30T17:26:21.646Z"
   },
   {
    "duration": 23,
    "start_time": "2021-09-30T17:26:21.706Z"
   },
   {
    "duration": 12,
    "start_time": "2021-09-30T17:26:21.731Z"
   },
   {
    "duration": 55,
    "start_time": "2021-09-30T17:26:21.745Z"
   },
   {
    "duration": 16,
    "start_time": "2021-09-30T17:26:21.802Z"
   },
   {
    "duration": 10,
    "start_time": "2021-09-30T17:26:21.821Z"
   },
   {
    "duration": 724,
    "start_time": "2021-09-30T17:26:21.834Z"
   },
   {
    "duration": 558,
    "start_time": "2021-09-30T17:26:22.561Z"
   },
   {
    "duration": 489,
    "start_time": "2021-09-30T17:26:23.122Z"
   },
   {
    "duration": 544,
    "start_time": "2021-09-30T17:26:23.614Z"
   },
   {
    "duration": 489,
    "start_time": "2021-09-30T17:26:24.160Z"
   },
   {
    "duration": 598,
    "start_time": "2021-09-30T17:26:24.651Z"
   },
   {
    "duration": 672,
    "start_time": "2021-09-30T17:26:25.251Z"
   },
   {
    "duration": 5,
    "start_time": "2021-09-30T17:26:25.925Z"
   },
   {
    "duration": 232,
    "start_time": "2021-09-30T17:26:25.933Z"
   },
   {
    "duration": 686,
    "start_time": "2021-09-30T17:26:26.168Z"
   },
   {
    "duration": 5,
    "start_time": "2021-09-30T17:26:26.857Z"
   },
   {
    "duration": 478,
    "start_time": "2021-09-30T17:26:26.864Z"
   },
   {
    "duration": 223,
    "start_time": "2021-09-30T17:26:27.345Z"
   },
   {
    "duration": 24,
    "start_time": "2021-09-30T17:26:27.570Z"
   },
   {
    "duration": 17,
    "start_time": "2021-09-30T17:26:27.598Z"
   },
   {
    "duration": 17,
    "start_time": "2021-09-30T17:26:27.618Z"
   },
   {
    "duration": 53,
    "start_time": "2021-09-30T17:26:27.637Z"
   },
   {
    "duration": 1439,
    "start_time": "2021-09-30T17:32:11.919Z"
   },
   {
    "duration": 57,
    "start_time": "2021-09-30T17:32:13.361Z"
   },
   {
    "duration": 44,
    "start_time": "2021-09-30T17:32:13.421Z"
   },
   {
    "duration": 32,
    "start_time": "2021-09-30T17:32:13.468Z"
   },
   {
    "duration": 9,
    "start_time": "2021-09-30T17:32:13.503Z"
   },
   {
    "duration": 18,
    "start_time": "2021-09-30T17:32:13.516Z"
   },
   {
    "duration": 51,
    "start_time": "2021-09-30T17:32:13.537Z"
   },
   {
    "duration": 9,
    "start_time": "2021-09-30T17:32:13.594Z"
   },
   {
    "duration": 626,
    "start_time": "2021-09-30T17:32:13.606Z"
   },
   {
    "duration": 497,
    "start_time": "2021-09-30T17:32:14.235Z"
   },
   {
    "duration": 490,
    "start_time": "2021-09-30T17:32:14.735Z"
   },
   {
    "duration": 619,
    "start_time": "2021-09-30T17:32:15.227Z"
   },
   {
    "duration": 501,
    "start_time": "2021-09-30T17:32:15.848Z"
   },
   {
    "duration": 624,
    "start_time": "2021-09-30T17:32:16.352Z"
   },
   {
    "duration": 663,
    "start_time": "2021-09-30T17:32:16.979Z"
   },
   {
    "duration": 6,
    "start_time": "2021-09-30T17:32:17.644Z"
   },
   {
    "duration": 279,
    "start_time": "2021-09-30T17:32:17.653Z"
   },
   {
    "duration": 808,
    "start_time": "2021-09-30T17:32:17.983Z"
   },
   {
    "duration": 7,
    "start_time": "2021-09-30T17:32:18.795Z"
   },
   {
    "duration": 489,
    "start_time": "2021-09-30T17:32:18.805Z"
   },
   {
    "duration": 262,
    "start_time": "2021-09-30T17:32:19.297Z"
   },
   {
    "duration": 24,
    "start_time": "2021-09-30T17:32:19.562Z"
   },
   {
    "duration": 19,
    "start_time": "2021-09-30T17:32:19.593Z"
   },
   {
    "duration": 20,
    "start_time": "2021-09-30T17:32:19.615Z"
   },
   {
    "duration": 59,
    "start_time": "2021-09-30T17:32:19.638Z"
   },
   {
    "duration": 26,
    "start_time": "2021-09-30T17:34:24.063Z"
   },
   {
    "duration": 14,
    "start_time": "2021-09-30T17:35:23.412Z"
   },
   {
    "duration": 4160,
    "start_time": "2021-09-30T17:35:49.785Z"
   },
   {
    "duration": 12,
    "start_time": "2021-09-30T17:36:20.760Z"
   },
   {
    "duration": 14,
    "start_time": "2021-09-30T17:37:52.238Z"
   },
   {
    "duration": 6,
    "start_time": "2021-09-30T17:40:39.309Z"
   },
   {
    "duration": 27,
    "start_time": "2021-09-30T17:40:58.684Z"
   },
   {
    "duration": 12,
    "start_time": "2021-09-30T17:41:09.756Z"
   },
   {
    "duration": 6,
    "start_time": "2021-09-30T17:41:24.236Z"
   },
   {
    "duration": 492,
    "start_time": "2021-09-30T17:42:16.478Z"
   },
   {
    "duration": 495,
    "start_time": "2021-09-30T17:42:38.472Z"
   },
   {
    "duration": 1485,
    "start_time": "2021-09-30T17:43:07.706Z"
   },
   {
    "duration": 60,
    "start_time": "2021-09-30T17:43:09.194Z"
   },
   {
    "duration": 65,
    "start_time": "2021-09-30T17:43:09.258Z"
   },
   {
    "duration": 23,
    "start_time": "2021-09-30T17:43:09.326Z"
   },
   {
    "duration": 36,
    "start_time": "2021-09-30T17:43:09.352Z"
   },
   {
    "duration": 14,
    "start_time": "2021-09-30T17:43:09.409Z"
   },
   {
    "duration": 6,
    "start_time": "2021-09-30T17:43:09.425Z"
   },
   {
    "duration": 15,
    "start_time": "2021-09-30T17:43:09.433Z"
   },
   {
    "duration": 33,
    "start_time": "2021-09-30T17:43:09.453Z"
   },
   {
    "duration": 14,
    "start_time": "2021-09-30T17:43:09.493Z"
   },
   {
    "duration": 681,
    "start_time": "2021-09-30T17:43:09.512Z"
   },
   {
    "duration": 531,
    "start_time": "2021-09-30T17:43:10.196Z"
   },
   {
    "duration": 503,
    "start_time": "2021-09-30T17:43:10.730Z"
   },
   {
    "duration": 608,
    "start_time": "2021-09-30T17:43:11.236Z"
   },
   {
    "duration": 505,
    "start_time": "2021-09-30T17:43:11.846Z"
   },
   {
    "duration": 664,
    "start_time": "2021-09-30T17:43:12.354Z"
   },
   {
    "duration": 645,
    "start_time": "2021-09-30T17:43:13.020Z"
   },
   {
    "duration": 29,
    "start_time": "2021-09-30T17:43:13.668Z"
   },
   {
    "duration": 259,
    "start_time": "2021-09-30T17:43:13.701Z"
   },
   {
    "duration": 748,
    "start_time": "2021-09-30T17:43:13.963Z"
   },
   {
    "duration": 5,
    "start_time": "2021-09-30T17:43:14.714Z"
   },
   {
    "duration": 519,
    "start_time": "2021-09-30T17:43:14.722Z"
   },
   {
    "duration": 244,
    "start_time": "2021-09-30T17:43:15.244Z"
   },
   {
    "duration": 18,
    "start_time": "2021-09-30T17:43:15.491Z"
   },
   {
    "duration": 17,
    "start_time": "2021-09-30T17:43:15.512Z"
   },
   {
    "duration": 61,
    "start_time": "2021-09-30T17:43:15.531Z"
   },
   {
    "duration": 17,
    "start_time": "2021-09-30T17:43:15.599Z"
   },
   {
    "duration": 461,
    "start_time": "2021-09-30T17:44:53.875Z"
   },
   {
    "duration": 15,
    "start_time": "2021-09-30T17:45:07.052Z"
   },
   {
    "duration": 7,
    "start_time": "2021-09-30T17:45:25.796Z"
   },
   {
    "duration": 18,
    "start_time": "2021-09-30T17:46:18.623Z"
   },
   {
    "duration": 17,
    "start_time": "2021-09-30T17:46:37.450Z"
   },
   {
    "duration": 14,
    "start_time": "2021-09-30T17:46:53.160Z"
   },
   {
    "duration": 12,
    "start_time": "2021-09-30T17:48:38.327Z"
   },
   {
    "duration": 16,
    "start_time": "2021-09-30T17:49:24.172Z"
   },
   {
    "duration": 13,
    "start_time": "2021-09-30T18:02:17.391Z"
   },
   {
    "duration": 10,
    "start_time": "2021-09-30T18:02:26.771Z"
   },
   {
    "duration": 124,
    "start_time": "2021-09-30T18:02:41.303Z"
   },
   {
    "duration": 14,
    "start_time": "2021-09-30T18:02:53.265Z"
   },
   {
    "duration": 8,
    "start_time": "2021-09-30T18:02:59.527Z"
   },
   {
    "duration": 7,
    "start_time": "2021-09-30T18:03:11.223Z"
   },
   {
    "duration": 1499,
    "start_time": "2021-09-30T18:03:17.273Z"
   },
   {
    "duration": 59,
    "start_time": "2021-09-30T18:03:18.775Z"
   },
   {
    "duration": 49,
    "start_time": "2021-09-30T18:03:18.837Z"
   },
   {
    "duration": 28,
    "start_time": "2021-09-30T18:03:18.889Z"
   },
   {
    "duration": 10,
    "start_time": "2021-09-30T18:03:18.920Z"
   },
   {
    "duration": 57,
    "start_time": "2021-09-30T18:03:18.932Z"
   },
   {
    "duration": 8,
    "start_time": "2021-09-30T18:03:18.993Z"
   },
   {
    "duration": 17,
    "start_time": "2021-09-30T18:03:19.004Z"
   },
   {
    "duration": 20,
    "start_time": "2021-09-30T18:03:19.024Z"
   },
   {
    "duration": 47,
    "start_time": "2021-09-30T18:03:19.047Z"
   },
   {
    "duration": 889,
    "start_time": "2021-09-30T18:03:19.097Z"
   },
   {
    "duration": 519,
    "start_time": "2021-09-30T18:03:19.989Z"
   },
   {
    "duration": 490,
    "start_time": "2021-09-30T18:03:20.510Z"
   },
   {
    "duration": 553,
    "start_time": "2021-09-30T18:03:21.003Z"
   },
   {
    "duration": 488,
    "start_time": "2021-09-30T18:03:21.558Z"
   },
   {
    "duration": 612,
    "start_time": "2021-09-30T18:03:22.048Z"
   },
   {
    "duration": 735,
    "start_time": "2021-09-30T18:03:22.663Z"
   },
   {
    "duration": 7,
    "start_time": "2021-09-30T18:03:23.400Z"
   },
   {
    "duration": 229,
    "start_time": "2021-09-30T18:03:23.410Z"
   },
   {
    "duration": 699,
    "start_time": "2021-09-30T18:03:23.642Z"
   },
   {
    "duration": 7,
    "start_time": "2021-09-30T18:03:24.344Z"
   },
   {
    "duration": 633,
    "start_time": "2021-09-30T18:03:24.358Z"
   },
   {
    "duration": 242,
    "start_time": "2021-09-30T18:03:24.994Z"
   },
   {
    "duration": 26,
    "start_time": "2021-09-30T18:03:25.238Z"
   },
   {
    "duration": 33,
    "start_time": "2021-09-30T18:03:25.266Z"
   },
   {
    "duration": 24,
    "start_time": "2021-09-30T18:03:25.302Z"
   },
   {
    "duration": 19,
    "start_time": "2021-09-30T18:03:25.329Z"
   },
   {
    "duration": 7,
    "start_time": "2021-09-30T18:03:40.926Z"
   },
   {
    "duration": 14,
    "start_time": "2021-09-30T18:03:46.965Z"
   },
   {
    "duration": 11,
    "start_time": "2021-09-30T18:03:56.152Z"
   },
   {
    "duration": 403,
    "start_time": "2021-09-30T18:04:36.681Z"
   },
   {
    "duration": 11,
    "start_time": "2021-09-30T18:05:10.657Z"
   },
   {
    "duration": 19,
    "start_time": "2021-09-30T18:06:02.697Z"
   },
   {
    "duration": 18,
    "start_time": "2021-09-30T18:06:26.485Z"
   },
   {
    "duration": 11,
    "start_time": "2021-09-30T18:06:32.157Z"
   },
   {
    "duration": 494,
    "start_time": "2021-09-30T18:14:38.228Z"
   },
   {
    "duration": 551,
    "start_time": "2021-09-30T18:15:34.007Z"
   },
   {
    "duration": 495,
    "start_time": "2021-09-30T18:16:00.795Z"
   },
   {
    "duration": 652,
    "start_time": "2021-09-30T18:16:57.633Z"
   },
   {
    "duration": 622,
    "start_time": "2021-09-30T18:18:52.218Z"
   },
   {
    "duration": 618,
    "start_time": "2021-09-30T18:19:21.518Z"
   },
   {
    "duration": 822,
    "start_time": "2021-09-30T18:19:30.904Z"
   },
   {
    "duration": 744,
    "start_time": "2021-09-30T18:19:41.450Z"
   },
   {
    "duration": 626,
    "start_time": "2021-09-30T18:20:42.436Z"
   },
   {
    "duration": 14,
    "start_time": "2021-09-30T18:23:54.961Z"
   },
   {
    "duration": 961,
    "start_time": "2021-09-30T18:24:49.089Z"
   },
   {
    "duration": 802,
    "start_time": "2021-09-30T18:26:35.312Z"
   },
   {
    "duration": 652,
    "start_time": "2021-09-30T18:26:50.944Z"
   },
   {
    "duration": 826,
    "start_time": "2021-09-30T18:29:21.103Z"
   },
   {
    "duration": 46,
    "start_time": "2021-09-30T18:29:53.888Z"
   },
   {
    "duration": 47,
    "start_time": "2021-09-30T18:30:32.671Z"
   },
   {
    "duration": 35,
    "start_time": "2021-09-30T18:31:18.574Z"
   },
   {
    "duration": 1400,
    "start_time": "2021-09-30T18:34:27.931Z"
   },
   {
    "duration": 58,
    "start_time": "2021-09-30T18:34:29.333Z"
   },
   {
    "duration": 45,
    "start_time": "2021-09-30T18:34:29.394Z"
   },
   {
    "duration": 42,
    "start_time": "2021-09-30T18:34:29.442Z"
   },
   {
    "duration": 12,
    "start_time": "2021-09-30T18:34:29.487Z"
   },
   {
    "duration": 13,
    "start_time": "2021-09-30T18:34:29.501Z"
   },
   {
    "duration": 15,
    "start_time": "2021-09-30T18:34:29.517Z"
   },
   {
    "duration": 53,
    "start_time": "2021-09-30T18:34:29.537Z"
   },
   {
    "duration": 934,
    "start_time": "2021-09-30T18:34:29.594Z"
   },
   {
    "duration": 10,
    "start_time": "2021-09-30T18:34:30.531Z"
   },
   {
    "duration": 586,
    "start_time": "2021-09-30T18:34:30.543Z"
   },
   {
    "duration": 483,
    "start_time": "2021-09-30T18:34:31.131Z"
   },
   {
    "duration": 454,
    "start_time": "2021-09-30T18:34:31.616Z"
   },
   {
    "duration": 590,
    "start_time": "2021-09-30T18:34:32.073Z"
   },
   {
    "duration": 524,
    "start_time": "2021-09-30T18:34:32.666Z"
   },
   {
    "duration": 691,
    "start_time": "2021-09-30T18:34:33.193Z"
   },
   {
    "duration": 642,
    "start_time": "2021-09-30T18:34:33.886Z"
   },
   {
    "duration": 6,
    "start_time": "2021-09-30T18:34:34.531Z"
   },
   {
    "duration": 283,
    "start_time": "2021-09-30T18:34:34.540Z"
   },
   {
    "duration": 665,
    "start_time": "2021-09-30T18:34:34.825Z"
   },
   {
    "duration": 6,
    "start_time": "2021-09-30T18:34:35.492Z"
   },
   {
    "duration": 470,
    "start_time": "2021-09-30T18:34:35.500Z"
   },
   {
    "duration": 217,
    "start_time": "2021-09-30T18:34:35.984Z"
   },
   {
    "duration": 14,
    "start_time": "2021-09-30T18:34:36.204Z"
   },
   {
    "duration": 17,
    "start_time": "2021-09-30T18:34:36.220Z"
   },
   {
    "duration": 51,
    "start_time": "2021-09-30T18:34:36.239Z"
   },
   {
    "duration": 15,
    "start_time": "2021-09-30T18:34:36.292Z"
   },
   {
    "duration": 1616,
    "start_time": "2021-09-30T18:35:49.032Z"
   },
   {
    "duration": 60,
    "start_time": "2021-09-30T18:35:50.651Z"
   },
   {
    "duration": 49,
    "start_time": "2021-09-30T18:35:50.714Z"
   },
   {
    "duration": 37,
    "start_time": "2021-09-30T18:35:50.766Z"
   },
   {
    "duration": 17,
    "start_time": "2021-09-30T18:35:50.806Z"
   },
   {
    "duration": 13,
    "start_time": "2021-09-30T18:35:50.826Z"
   },
   {
    "duration": 49,
    "start_time": "2021-09-30T18:35:50.841Z"
   },
   {
    "duration": 22,
    "start_time": "2021-09-30T18:35:50.894Z"
   },
   {
    "duration": 712,
    "start_time": "2021-09-30T18:35:50.920Z"
   },
   {
    "duration": 9,
    "start_time": "2021-09-30T18:35:51.635Z"
   },
   {
    "duration": 637,
    "start_time": "2021-09-30T18:35:51.647Z"
   },
   {
    "duration": 543,
    "start_time": "2021-09-30T18:35:52.286Z"
   },
   {
    "duration": 523,
    "start_time": "2021-09-30T18:35:52.832Z"
   },
   {
    "duration": 698,
    "start_time": "2021-09-30T18:35:53.358Z"
   },
   {
    "duration": 489,
    "start_time": "2021-09-30T18:35:54.060Z"
   },
   {
    "duration": 713,
    "start_time": "2021-09-30T18:35:54.552Z"
   },
   {
    "duration": 678,
    "start_time": "2021-09-30T18:35:55.268Z"
   },
   {
    "duration": 6,
    "start_time": "2021-09-30T18:35:55.950Z"
   },
   {
    "duration": 265,
    "start_time": "2021-09-30T18:35:55.959Z"
   },
   {
    "duration": 640,
    "start_time": "2021-09-30T18:35:56.226Z"
   },
   {
    "duration": 6,
    "start_time": "2021-09-30T18:35:56.868Z"
   },
   {
    "duration": 494,
    "start_time": "2021-09-30T18:35:56.884Z"
   },
   {
    "duration": 265,
    "start_time": "2021-09-30T18:35:57.385Z"
   },
   {
    "duration": 16,
    "start_time": "2021-09-30T18:35:57.653Z"
   },
   {
    "duration": 18,
    "start_time": "2021-09-30T18:35:57.683Z"
   },
   {
    "duration": 18,
    "start_time": "2021-09-30T18:35:57.704Z"
   },
   {
    "duration": 59,
    "start_time": "2021-09-30T18:35:57.725Z"
   },
   {
    "duration": 661,
    "start_time": "2021-09-30T18:42:36.839Z"
   },
   {
    "duration": 230,
    "start_time": "2021-09-30T18:42:56.171Z"
   },
   {
    "duration": 230,
    "start_time": "2021-09-30T18:51:55.414Z"
   },
   {
    "duration": 227,
    "start_time": "2021-09-30T18:52:46.102Z"
   },
   {
    "duration": 5,
    "start_time": "2021-09-30T18:52:54.364Z"
   },
   {
    "duration": 21,
    "start_time": "2021-09-30T18:53:23.655Z"
   },
   {
    "duration": 24,
    "start_time": "2021-09-30T18:54:42.144Z"
   },
   {
    "duration": 17,
    "start_time": "2021-09-30T18:55:55.643Z"
   },
   {
    "duration": 100,
    "start_time": "2021-09-30T18:56:57.161Z"
   },
   {
    "duration": 1643,
    "start_time": "2021-09-30T19:02:41.962Z"
   },
   {
    "duration": 59,
    "start_time": "2021-09-30T19:02:43.609Z"
   },
   {
    "duration": 76,
    "start_time": "2021-09-30T19:02:43.671Z"
   },
   {
    "duration": 23,
    "start_time": "2021-09-30T19:02:43.750Z"
   },
   {
    "duration": 19,
    "start_time": "2021-09-30T19:02:43.776Z"
   },
   {
    "duration": 25,
    "start_time": "2021-09-30T19:02:43.799Z"
   },
   {
    "duration": 16,
    "start_time": "2021-09-30T19:02:43.827Z"
   },
   {
    "duration": 53,
    "start_time": "2021-09-30T19:02:43.847Z"
   },
   {
    "duration": 745,
    "start_time": "2021-09-30T19:02:43.904Z"
   },
   {
    "duration": 9,
    "start_time": "2021-09-30T19:02:44.651Z"
   },
   {
    "duration": 869,
    "start_time": "2021-09-30T19:02:44.663Z"
   },
   {
    "duration": 819,
    "start_time": "2021-09-30T19:02:45.535Z"
   },
   {
    "duration": 667,
    "start_time": "2021-09-30T19:02:46.358Z"
   },
   {
    "duration": 703,
    "start_time": "2021-09-30T19:02:47.028Z"
   },
   {
    "duration": 568,
    "start_time": "2021-09-30T19:02:47.733Z"
   },
   {
    "duration": 915,
    "start_time": "2021-09-30T19:02:48.305Z"
   },
   {
    "duration": 891,
    "start_time": "2021-09-30T19:02:49.222Z"
   },
   {
    "duration": 8,
    "start_time": "2021-09-30T19:02:50.119Z"
   },
   {
    "duration": 366,
    "start_time": "2021-09-30T19:02:50.132Z"
   },
   {
    "duration": 725,
    "start_time": "2021-09-30T19:02:50.502Z"
   },
   {
    "duration": 7,
    "start_time": "2021-09-30T19:02:51.230Z"
   },
   {
    "duration": 677,
    "start_time": "2021-09-30T19:02:51.240Z"
   },
   {
    "duration": 243,
    "start_time": "2021-09-30T19:02:51.922Z"
   },
   {
    "duration": 31,
    "start_time": "2021-09-30T19:02:52.168Z"
   },
   {
    "duration": 22,
    "start_time": "2021-09-30T19:02:52.202Z"
   },
   {
    "duration": 61,
    "start_time": "2021-09-30T19:02:52.228Z"
   },
   {
    "duration": 25,
    "start_time": "2021-09-30T19:02:52.293Z"
   },
   {
    "duration": 25,
    "start_time": "2021-09-30T19:09:51.260Z"
   },
   {
    "duration": 22,
    "start_time": "2021-09-30T19:10:16.732Z"
   },
   {
    "duration": 250,
    "start_time": "2021-09-30T19:10:40.090Z"
   },
   {
    "duration": 22,
    "start_time": "2021-09-30T19:11:30.440Z"
   },
   {
    "duration": 19,
    "start_time": "2021-09-30T19:12:15.564Z"
   },
   {
    "duration": 1704,
    "start_time": "2021-09-30T19:13:08.047Z"
   },
   {
    "duration": 58,
    "start_time": "2021-09-30T19:13:09.754Z"
   },
   {
    "duration": 45,
    "start_time": "2021-09-30T19:13:09.815Z"
   },
   {
    "duration": 41,
    "start_time": "2021-09-30T19:13:09.862Z"
   },
   {
    "duration": 11,
    "start_time": "2021-09-30T19:13:09.906Z"
   },
   {
    "duration": 14,
    "start_time": "2021-09-30T19:13:09.920Z"
   },
   {
    "duration": 60,
    "start_time": "2021-09-30T19:13:09.937Z"
   },
   {
    "duration": 17,
    "start_time": "2021-09-30T19:13:10.001Z"
   },
   {
    "duration": 687,
    "start_time": "2021-09-30T19:13:10.022Z"
   },
   {
    "duration": 8,
    "start_time": "2021-09-30T19:13:10.712Z"
   },
   {
    "duration": 614,
    "start_time": "2021-09-30T19:13:10.723Z"
   },
   {
    "duration": 508,
    "start_time": "2021-09-30T19:13:11.339Z"
   },
   {
    "duration": 474,
    "start_time": "2021-09-30T19:13:11.849Z"
   },
   {
    "duration": 619,
    "start_time": "2021-09-30T19:13:12.325Z"
   },
   {
    "duration": 506,
    "start_time": "2021-09-30T19:13:12.947Z"
   },
   {
    "duration": 675,
    "start_time": "2021-09-30T19:13:13.456Z"
   },
   {
    "duration": 697,
    "start_time": "2021-09-30T19:13:14.133Z"
   },
   {
    "duration": 6,
    "start_time": "2021-09-30T19:13:14.833Z"
   },
   {
    "duration": 244,
    "start_time": "2021-09-30T19:13:14.842Z"
   },
   {
    "duration": 628,
    "start_time": "2021-09-30T19:13:15.090Z"
   },
   {
    "duration": 6,
    "start_time": "2021-09-30T19:13:15.721Z"
   },
   {
    "duration": 487,
    "start_time": "2021-09-30T19:13:15.729Z"
   },
   {
    "duration": 226,
    "start_time": "2021-09-30T19:13:16.220Z"
   },
   {
    "duration": 37,
    "start_time": "2021-09-30T19:13:16.449Z"
   },
   {
    "duration": 19,
    "start_time": "2021-09-30T19:13:16.489Z"
   },
   {
    "duration": 23,
    "start_time": "2021-09-30T19:13:16.510Z"
   },
   {
    "duration": 50,
    "start_time": "2021-09-30T19:13:16.535Z"
   },
   {
    "duration": 14,
    "start_time": "2021-09-30T19:34:11.206Z"
   },
   {
    "duration": 8018,
    "start_time": "2021-09-30T19:34:42.291Z"
   },
   {
    "duration": 7954,
    "start_time": "2021-09-30T19:35:19.177Z"
   },
   {
    "duration": 315,
    "start_time": "2021-09-30T19:37:48.210Z"
   },
   {
    "duration": 329,
    "start_time": "2021-09-30T19:38:01.175Z"
   },
   {
    "duration": 19,
    "start_time": "2021-09-30T19:38:06.310Z"
   },
   {
    "duration": 92,
    "start_time": "2021-09-30T19:40:10.389Z"
   },
   {
    "duration": 30,
    "start_time": "2021-09-30T19:40:19.690Z"
   },
   {
    "duration": 33,
    "start_time": "2021-09-30T19:42:46.376Z"
   },
   {
    "duration": 8700,
    "start_time": "2021-09-30T19:44:07.106Z"
   },
   {
    "duration": 8086,
    "start_time": "2021-09-30T19:44:25.344Z"
   },
   {
    "duration": 31,
    "start_time": "2021-09-30T19:44:44.839Z"
   },
   {
    "duration": 527,
    "start_time": "2021-09-30T19:50:26.194Z"
   },
   {
    "duration": 1037,
    "start_time": "2021-09-30T19:53:00.591Z"
   },
   {
    "duration": 1468,
    "start_time": "2021-09-30T19:53:22.792Z"
   },
   {
    "duration": 62,
    "start_time": "2021-09-30T19:53:24.262Z"
   },
   {
    "duration": 46,
    "start_time": "2021-09-30T19:53:24.327Z"
   },
   {
    "duration": 42,
    "start_time": "2021-09-30T19:53:24.376Z"
   },
   {
    "duration": 9,
    "start_time": "2021-09-30T19:53:24.421Z"
   },
   {
    "duration": 12,
    "start_time": "2021-09-30T19:53:24.433Z"
   },
   {
    "duration": 45,
    "start_time": "2021-09-30T19:53:24.447Z"
   },
   {
    "duration": 25,
    "start_time": "2021-09-30T19:53:24.498Z"
   },
   {
    "duration": 710,
    "start_time": "2021-09-30T19:53:24.526Z"
   },
   {
    "duration": 9,
    "start_time": "2021-09-30T19:53:25.239Z"
   },
   {
    "duration": 689,
    "start_time": "2021-09-30T19:53:25.251Z"
   },
   {
    "duration": 528,
    "start_time": "2021-09-30T19:53:25.943Z"
   },
   {
    "duration": 549,
    "start_time": "2021-09-30T19:53:26.473Z"
   },
   {
    "duration": 585,
    "start_time": "2021-09-30T19:53:27.024Z"
   },
   {
    "duration": 549,
    "start_time": "2021-09-30T19:53:27.612Z"
   },
   {
    "duration": 720,
    "start_time": "2021-09-30T19:53:28.163Z"
   },
   {
    "duration": 682,
    "start_time": "2021-09-30T19:53:28.886Z"
   },
   {
    "duration": 17,
    "start_time": "2021-09-30T19:53:29.570Z"
   },
   {
    "duration": 267,
    "start_time": "2021-09-30T19:53:29.593Z"
   },
   {
    "duration": 728,
    "start_time": "2021-09-30T19:53:29.862Z"
   },
   {
    "duration": 8,
    "start_time": "2021-09-30T19:53:30.594Z"
   },
   {
    "duration": 500,
    "start_time": "2021-09-30T19:53:30.607Z"
   },
   {
    "duration": 258,
    "start_time": "2021-09-30T19:53:31.113Z"
   },
   {
    "duration": 36,
    "start_time": "2021-09-30T19:53:31.374Z"
   },
   {
    "duration": 17,
    "start_time": "2021-09-30T19:53:31.412Z"
   },
   {
    "duration": 58,
    "start_time": "2021-09-30T19:53:31.431Z"
   },
   {
    "duration": 24,
    "start_time": "2021-09-30T19:53:31.492Z"
   },
   {
    "duration": 1037,
    "start_time": "2021-09-30T19:53:31.519Z"
   },
   {
    "duration": 1086,
    "start_time": "2021-09-30T19:57:29.482Z"
   },
   {
    "duration": 1046,
    "start_time": "2021-09-30T19:58:41.452Z"
   },
   {
    "duration": 1155,
    "start_time": "2021-09-30T19:59:07.504Z"
   },
   {
    "duration": 1377,
    "start_time": "2021-09-30T20:01:20.282Z"
   },
   {
    "duration": 1355,
    "start_time": "2021-09-30T20:02:07.006Z"
   },
   {
    "duration": 711,
    "start_time": "2021-09-30T20:04:25.347Z"
   },
   {
    "duration": 1442,
    "start_time": "2021-09-30T20:04:34.117Z"
   },
   {
    "duration": 59,
    "start_time": "2021-09-30T20:04:35.561Z"
   },
   {
    "duration": 44,
    "start_time": "2021-09-30T20:04:35.623Z"
   },
   {
    "duration": 31,
    "start_time": "2021-09-30T20:04:35.670Z"
   },
   {
    "duration": 10,
    "start_time": "2021-09-30T20:04:35.704Z"
   },
   {
    "duration": 19,
    "start_time": "2021-09-30T20:04:35.716Z"
   },
   {
    "duration": 15,
    "start_time": "2021-09-30T20:04:35.737Z"
   },
   {
    "duration": 48,
    "start_time": "2021-09-30T20:04:35.756Z"
   },
   {
    "duration": 904,
    "start_time": "2021-09-30T20:04:35.808Z"
   },
   {
    "duration": 9,
    "start_time": "2021-09-30T20:04:36.715Z"
   },
   {
    "duration": 617,
    "start_time": "2021-09-30T20:04:36.726Z"
   },
   {
    "duration": 516,
    "start_time": "2021-09-30T20:04:37.345Z"
   },
   {
    "duration": 476,
    "start_time": "2021-09-30T20:04:37.864Z"
   },
   {
    "duration": 632,
    "start_time": "2021-09-30T20:04:38.343Z"
   },
   {
    "duration": 496,
    "start_time": "2021-09-30T20:04:38.978Z"
   },
   {
    "duration": 700,
    "start_time": "2021-09-30T20:04:39.477Z"
   },
   {
    "duration": 681,
    "start_time": "2021-09-30T20:04:40.184Z"
   },
   {
    "duration": 16,
    "start_time": "2021-09-30T20:04:40.867Z"
   },
   {
    "duration": 213,
    "start_time": "2021-09-30T20:04:40.887Z"
   },
   {
    "duration": 627,
    "start_time": "2021-09-30T20:04:41.103Z"
   },
   {
    "duration": 6,
    "start_time": "2021-09-30T20:04:41.733Z"
   },
   {
    "duration": 491,
    "start_time": "2021-09-30T20:04:41.742Z"
   },
   {
    "duration": 451,
    "start_time": "2021-09-30T20:04:42.237Z"
   },
   {
    "duration": 21,
    "start_time": "2021-09-30T20:04:42.691Z"
   },
   {
    "duration": 82,
    "start_time": "2021-09-30T20:04:42.715Z"
   },
   {
    "duration": 28,
    "start_time": "2021-09-30T20:04:42.801Z"
   },
   {
    "duration": 23,
    "start_time": "2021-09-30T20:04:42.884Z"
   },
   {
    "duration": 746,
    "start_time": "2021-09-30T20:04:42.910Z"
   },
   {
    "duration": 1748,
    "start_time": "2021-09-30T20:06:39.499Z"
   },
   {
    "duration": 1299,
    "start_time": "2021-09-30T20:06:57.042Z"
   },
   {
    "duration": 1033,
    "start_time": "2021-10-01T18:22:48.927Z"
   },
   {
    "duration": 141,
    "start_time": "2021-10-01T18:22:49.961Z"
   },
   {
    "duration": 37,
    "start_time": "2021-10-01T18:22:50.104Z"
   },
   {
    "duration": 16,
    "start_time": "2021-10-01T18:22:50.143Z"
   },
   {
    "duration": 20,
    "start_time": "2021-10-01T18:22:50.160Z"
   },
   {
    "duration": 20,
    "start_time": "2021-10-01T18:22:50.182Z"
   },
   {
    "duration": 9,
    "start_time": "2021-10-01T18:22:50.204Z"
   },
   {
    "duration": 26,
    "start_time": "2021-10-01T18:22:50.215Z"
   },
   {
    "duration": 996,
    "start_time": "2021-10-01T18:22:50.243Z"
   },
   {
    "duration": 6,
    "start_time": "2021-10-01T18:22:51.241Z"
   },
   {
    "duration": 350,
    "start_time": "2021-10-01T18:22:51.249Z"
   },
   {
    "duration": 301,
    "start_time": "2021-10-01T18:22:51.601Z"
   },
   {
    "duration": 280,
    "start_time": "2021-10-01T18:22:51.904Z"
   },
   {
    "duration": 438,
    "start_time": "2021-10-01T18:22:52.186Z"
   },
   {
    "duration": 290,
    "start_time": "2021-10-01T18:22:52.626Z"
   },
   {
    "duration": 470,
    "start_time": "2021-10-01T18:22:52.917Z"
   },
   {
    "duration": 438,
    "start_time": "2021-10-01T18:22:53.389Z"
   },
   {
    "duration": 4,
    "start_time": "2021-10-01T18:22:53.829Z"
   },
   {
    "duration": 116,
    "start_time": "2021-10-01T18:22:53.834Z"
   },
   {
    "duration": 385,
    "start_time": "2021-10-01T18:22:53.952Z"
   },
   {
    "duration": 4,
    "start_time": "2021-10-01T18:22:54.338Z"
   },
   {
    "duration": 268,
    "start_time": "2021-10-01T18:22:54.344Z"
   },
   {
    "duration": 126,
    "start_time": "2021-10-01T18:22:54.614Z"
   },
   {
    "duration": 12,
    "start_time": "2021-10-01T18:22:54.741Z"
   },
   {
    "duration": 9,
    "start_time": "2021-10-01T18:22:54.755Z"
   },
   {
    "duration": 35,
    "start_time": "2021-10-01T18:22:54.766Z"
   },
   {
    "duration": 9,
    "start_time": "2021-10-01T18:22:54.804Z"
   },
   {
    "duration": 752,
    "start_time": "2021-10-01T18:22:54.814Z"
   },
   {
    "duration": 57,
    "start_time": "2021-10-01T18:31:33.103Z"
   },
   {
    "duration": 1504,
    "start_time": "2021-10-02T14:02:44.690Z"
   },
   {
    "duration": 73,
    "start_time": "2021-10-02T14:02:46.197Z"
   },
   {
    "duration": 47,
    "start_time": "2021-10-02T14:02:46.273Z"
   },
   {
    "duration": 23,
    "start_time": "2021-10-02T14:02:46.323Z"
   },
   {
    "duration": 16,
    "start_time": "2021-10-02T14:02:46.349Z"
   },
   {
    "duration": 13,
    "start_time": "2021-10-02T14:02:46.367Z"
   },
   {
    "duration": 45,
    "start_time": "2021-10-02T14:02:46.382Z"
   },
   {
    "duration": 17,
    "start_time": "2021-10-02T14:02:46.431Z"
   },
   {
    "duration": 885,
    "start_time": "2021-10-02T14:02:46.452Z"
   },
   {
    "duration": 10,
    "start_time": "2021-10-02T14:02:47.340Z"
   },
   {
    "duration": 623,
    "start_time": "2021-10-02T14:02:47.352Z"
   },
   {
    "duration": 502,
    "start_time": "2021-10-02T14:02:47.977Z"
   },
   {
    "duration": 490,
    "start_time": "2021-10-02T14:02:48.482Z"
   },
   {
    "duration": 631,
    "start_time": "2021-10-02T14:02:48.975Z"
   },
   {
    "duration": 473,
    "start_time": "2021-10-02T14:02:49.616Z"
   },
   {
    "duration": 800,
    "start_time": "2021-10-02T14:02:50.091Z"
   },
   {
    "duration": 674,
    "start_time": "2021-10-02T14:02:50.894Z"
   },
   {
    "duration": 6,
    "start_time": "2021-10-02T14:02:51.570Z"
   },
   {
    "duration": 236,
    "start_time": "2021-10-02T14:02:51.578Z"
   },
   {
    "duration": 614,
    "start_time": "2021-10-02T14:02:51.817Z"
   },
   {
    "duration": 6,
    "start_time": "2021-10-02T14:02:52.433Z"
   },
   {
    "duration": 470,
    "start_time": "2021-10-02T14:02:52.441Z"
   },
   {
    "duration": 234,
    "start_time": "2021-10-02T14:02:52.915Z"
   },
   {
    "duration": 19,
    "start_time": "2021-10-02T14:02:53.152Z"
   },
   {
    "duration": 42,
    "start_time": "2021-10-02T14:02:53.174Z"
   },
   {
    "duration": 27,
    "start_time": "2021-10-02T14:02:53.218Z"
   },
   {
    "duration": 53,
    "start_time": "2021-10-02T14:02:53.247Z"
   },
   {
    "duration": 1343,
    "start_time": "2021-10-02T14:02:53.302Z"
   },
   {
    "duration": 1583,
    "start_time": "2021-10-02T14:04:41.119Z"
   },
   {
    "duration": 73,
    "start_time": "2021-10-02T14:04:42.705Z"
   },
   {
    "duration": 46,
    "start_time": "2021-10-02T14:04:42.780Z"
   },
   {
    "duration": 22,
    "start_time": "2021-10-02T14:04:42.829Z"
   },
   {
    "duration": 15,
    "start_time": "2021-10-02T14:04:42.854Z"
   },
   {
    "duration": 14,
    "start_time": "2021-10-02T14:04:42.871Z"
   },
   {
    "duration": 40,
    "start_time": "2021-10-02T14:04:42.888Z"
   },
   {
    "duration": 17,
    "start_time": "2021-10-02T14:04:42.933Z"
   },
   {
    "duration": 810,
    "start_time": "2021-10-02T14:04:42.953Z"
   },
   {
    "duration": 10,
    "start_time": "2021-10-02T14:04:43.766Z"
   },
   {
    "duration": 612,
    "start_time": "2021-10-02T14:04:43.778Z"
   },
   {
    "duration": 505,
    "start_time": "2021-10-02T14:04:44.392Z"
   },
   {
    "duration": 502,
    "start_time": "2021-10-02T14:04:44.899Z"
   },
   {
    "duration": 708,
    "start_time": "2021-10-02T14:04:45.404Z"
   },
   {
    "duration": 511,
    "start_time": "2021-10-02T14:04:46.117Z"
   },
   {
    "duration": 667,
    "start_time": "2021-10-02T14:04:46.630Z"
   },
   {
    "duration": 679,
    "start_time": "2021-10-02T14:04:47.300Z"
   },
   {
    "duration": 6,
    "start_time": "2021-10-02T14:04:47.981Z"
   },
   {
    "duration": 239,
    "start_time": "2021-10-02T14:04:47.989Z"
   },
   {
    "duration": 607,
    "start_time": "2021-10-02T14:04:48.231Z"
   },
   {
    "duration": 5,
    "start_time": "2021-10-02T14:04:48.841Z"
   },
   {
    "duration": 503,
    "start_time": "2021-10-02T14:04:48.849Z"
   },
   {
    "duration": 245,
    "start_time": "2021-10-02T14:04:49.355Z"
   },
   {
    "duration": 28,
    "start_time": "2021-10-02T14:04:49.602Z"
   },
   {
    "duration": 18,
    "start_time": "2021-10-02T14:04:49.633Z"
   },
   {
    "duration": 60,
    "start_time": "2021-10-02T14:04:49.658Z"
   },
   {
    "duration": 18,
    "start_time": "2021-10-02T14:04:49.722Z"
   },
   {
    "duration": 1333,
    "start_time": "2021-10-02T14:04:49.743Z"
   },
   {
    "duration": 1490,
    "start_time": "2021-10-02T14:14:54.493Z"
   },
   {
    "duration": 74,
    "start_time": "2021-10-02T14:14:55.987Z"
   },
   {
    "duration": 46,
    "start_time": "2021-10-02T14:14:56.064Z"
   },
   {
    "duration": 24,
    "start_time": "2021-10-02T14:14:56.113Z"
   },
   {
    "duration": 16,
    "start_time": "2021-10-02T14:14:56.139Z"
   },
   {
    "duration": 14,
    "start_time": "2021-10-02T14:14:56.158Z"
   },
   {
    "duration": 15,
    "start_time": "2021-10-02T14:14:56.175Z"
   },
   {
    "duration": 19,
    "start_time": "2021-10-02T14:14:56.220Z"
   },
   {
    "duration": 803,
    "start_time": "2021-10-02T14:14:56.242Z"
   },
   {
    "duration": 9,
    "start_time": "2021-10-02T14:14:57.048Z"
   },
   {
    "duration": 617,
    "start_time": "2021-10-02T14:14:57.060Z"
   },
   {
    "duration": 505,
    "start_time": "2021-10-02T14:14:57.680Z"
   },
   {
    "duration": 462,
    "start_time": "2021-10-02T14:14:58.188Z"
   },
   {
    "duration": 628,
    "start_time": "2021-10-02T14:14:58.653Z"
   },
   {
    "duration": 568,
    "start_time": "2021-10-02T14:14:59.284Z"
   },
   {
    "duration": 643,
    "start_time": "2021-10-02T14:14:59.855Z"
   },
   {
    "duration": 662,
    "start_time": "2021-10-02T14:15:00.502Z"
   },
   {
    "duration": 6,
    "start_time": "2021-10-02T14:15:01.166Z"
   },
   {
    "duration": 202,
    "start_time": "2021-10-02T14:15:01.174Z"
   },
   {
    "duration": 641,
    "start_time": "2021-10-02T14:15:01.378Z"
   },
   {
    "duration": 6,
    "start_time": "2021-10-02T14:15:02.022Z"
   },
   {
    "duration": 478,
    "start_time": "2021-10-02T14:15:02.030Z"
   },
   {
    "duration": 248,
    "start_time": "2021-10-02T14:15:02.517Z"
   },
   {
    "duration": 21,
    "start_time": "2021-10-02T14:15:02.768Z"
   },
   {
    "duration": 36,
    "start_time": "2021-10-02T14:15:02.791Z"
   },
   {
    "duration": 108,
    "start_time": "2021-10-02T14:15:02.830Z"
   },
   {
    "duration": 18,
    "start_time": "2021-10-02T14:15:02.940Z"
   },
   {
    "duration": 1298,
    "start_time": "2021-10-02T14:15:02.961Z"
   },
   {
    "duration": 21,
    "start_time": "2021-10-02T14:16:48.443Z"
   },
   {
    "duration": 1482,
    "start_time": "2021-10-02T14:16:54.410Z"
   },
   {
    "duration": 73,
    "start_time": "2021-10-02T14:16:55.894Z"
   },
   {
    "duration": 45,
    "start_time": "2021-10-02T14:16:55.970Z"
   },
   {
    "duration": 24,
    "start_time": "2021-10-02T14:16:56.018Z"
   },
   {
    "duration": 14,
    "start_time": "2021-10-02T14:16:56.044Z"
   },
   {
    "duration": 13,
    "start_time": "2021-10-02T14:16:56.060Z"
   },
   {
    "duration": 45,
    "start_time": "2021-10-02T14:16:56.076Z"
   },
   {
    "duration": 17,
    "start_time": "2021-10-02T14:16:56.125Z"
   },
   {
    "duration": 811,
    "start_time": "2021-10-02T14:16:56.145Z"
   },
   {
    "duration": 9,
    "start_time": "2021-10-02T14:16:56.959Z"
   },
   {
    "duration": 711,
    "start_time": "2021-10-02T14:16:56.970Z"
   },
   {
    "duration": 495,
    "start_time": "2021-10-02T14:16:57.683Z"
   },
   {
    "duration": 489,
    "start_time": "2021-10-02T14:16:58.181Z"
   },
   {
    "duration": 634,
    "start_time": "2021-10-02T14:16:58.673Z"
   },
   {
    "duration": 566,
    "start_time": "2021-10-02T14:16:59.310Z"
   },
   {
    "duration": 716,
    "start_time": "2021-10-02T14:16:59.879Z"
   },
   {
    "duration": 674,
    "start_time": "2021-10-02T14:17:00.597Z"
   },
   {
    "duration": 6,
    "start_time": "2021-10-02T14:17:01.273Z"
   },
   {
    "duration": 249,
    "start_time": "2021-10-02T14:17:01.282Z"
   },
   {
    "duration": 621,
    "start_time": "2021-10-02T14:17:01.534Z"
   },
   {
    "duration": 6,
    "start_time": "2021-10-02T14:17:02.157Z"
   },
   {
    "duration": 480,
    "start_time": "2021-10-02T14:17:02.165Z"
   },
   {
    "duration": 227,
    "start_time": "2021-10-02T14:17:02.649Z"
   },
   {
    "duration": 19,
    "start_time": "2021-10-02T14:17:02.879Z"
   },
   {
    "duration": 29,
    "start_time": "2021-10-02T14:17:02.900Z"
   },
   {
    "duration": 27,
    "start_time": "2021-10-02T14:17:02.931Z"
   },
   {
    "duration": 27,
    "start_time": "2021-10-02T14:17:02.961Z"
   },
   {
    "duration": 1326,
    "start_time": "2021-10-02T14:17:02.990Z"
   },
   {
    "duration": 622,
    "start_time": "2021-10-02T14:18:08.487Z"
   },
   {
    "duration": 407,
    "start_time": "2021-10-02T14:18:59.261Z"
   },
   {
    "duration": 1502,
    "start_time": "2021-10-02T14:19:05.583Z"
   },
   {
    "duration": 75,
    "start_time": "2021-10-02T14:19:07.088Z"
   },
   {
    "duration": 51,
    "start_time": "2021-10-02T14:19:07.167Z"
   },
   {
    "duration": 24,
    "start_time": "2021-10-02T14:19:07.222Z"
   },
   {
    "duration": 22,
    "start_time": "2021-10-02T14:19:07.250Z"
   },
   {
    "duration": 16,
    "start_time": "2021-10-02T14:19:07.275Z"
   },
   {
    "duration": 36,
    "start_time": "2021-10-02T14:19:07.294Z"
   },
   {
    "duration": 36,
    "start_time": "2021-10-02T14:19:07.334Z"
   },
   {
    "duration": 781,
    "start_time": "2021-10-02T14:19:07.372Z"
   },
   {
    "duration": 10,
    "start_time": "2021-10-02T14:19:08.156Z"
   },
   {
    "duration": 623,
    "start_time": "2021-10-02T14:19:08.168Z"
   },
   {
    "duration": 492,
    "start_time": "2021-10-02T14:19:08.794Z"
   },
   {
    "duration": 475,
    "start_time": "2021-10-02T14:19:09.288Z"
   },
   {
    "duration": 634,
    "start_time": "2021-10-02T14:19:09.766Z"
   },
   {
    "duration": 478,
    "start_time": "2021-10-02T14:19:10.402Z"
   },
   {
    "duration": 697,
    "start_time": "2021-10-02T14:19:10.883Z"
   },
   {
    "duration": 671,
    "start_time": "2021-10-02T14:19:11.583Z"
   },
   {
    "duration": 8,
    "start_time": "2021-10-02T14:19:12.256Z"
   },
   {
    "duration": 213,
    "start_time": "2021-10-02T14:19:12.267Z"
   },
   {
    "duration": 654,
    "start_time": "2021-10-02T14:19:12.483Z"
   },
   {
    "duration": 7,
    "start_time": "2021-10-02T14:19:13.140Z"
   },
   {
    "duration": 495,
    "start_time": "2021-10-02T14:19:13.150Z"
   },
   {
    "duration": 252,
    "start_time": "2021-10-02T14:19:13.651Z"
   },
   {
    "duration": 525,
    "start_time": "2021-10-02T14:19:13.906Z"
   },
   {
    "duration": -150,
    "start_time": "2021-10-02T14:19:14.584Z"
   },
   {
    "duration": -152,
    "start_time": "2021-10-02T14:19:14.587Z"
   },
   {
    "duration": -156,
    "start_time": "2021-10-02T14:19:14.592Z"
   },
   {
    "duration": -176,
    "start_time": "2021-10-02T14:19:14.614Z"
   },
   {
    "duration": 140,
    "start_time": "2021-10-02T14:21:48.863Z"
   },
   {
    "duration": 1504,
    "start_time": "2021-10-02T14:22:53.628Z"
   },
   {
    "duration": 82,
    "start_time": "2021-10-02T14:22:55.135Z"
   },
   {
    "duration": 50,
    "start_time": "2021-10-02T14:22:55.221Z"
   },
   {
    "duration": 63,
    "start_time": "2021-10-02T14:22:55.274Z"
   },
   {
    "duration": 14,
    "start_time": "2021-10-02T14:22:55.340Z"
   },
   {
    "duration": 13,
    "start_time": "2021-10-02T14:22:55.357Z"
   },
   {
    "duration": 48,
    "start_time": "2021-10-02T14:22:55.373Z"
   },
   {
    "duration": 18,
    "start_time": "2021-10-02T14:22:55.424Z"
   },
   {
    "duration": 810,
    "start_time": "2021-10-02T14:22:55.445Z"
   },
   {
    "duration": 10,
    "start_time": "2021-10-02T14:22:56.258Z"
   },
   {
    "duration": 651,
    "start_time": "2021-10-02T14:22:56.270Z"
   },
   {
    "duration": 496,
    "start_time": "2021-10-02T14:22:56.923Z"
   },
   {
    "duration": 476,
    "start_time": "2021-10-02T14:22:57.422Z"
   },
   {
    "duration": 612,
    "start_time": "2021-10-02T14:22:57.901Z"
   },
   {
    "duration": 588,
    "start_time": "2021-10-02T14:22:58.515Z"
   },
   {
    "duration": 667,
    "start_time": "2021-10-02T14:22:59.105Z"
   },
   {
    "duration": 677,
    "start_time": "2021-10-02T14:22:59.774Z"
   },
   {
    "duration": 6,
    "start_time": "2021-10-02T14:23:00.453Z"
   },
   {
    "duration": 230,
    "start_time": "2021-10-02T14:23:00.462Z"
   },
   {
    "duration": 744,
    "start_time": "2021-10-02T14:23:00.695Z"
   },
   {
    "duration": 6,
    "start_time": "2021-10-02T14:23:01.442Z"
   },
   {
    "duration": 480,
    "start_time": "2021-10-02T14:23:01.450Z"
   },
   {
    "duration": 242,
    "start_time": "2021-10-02T14:23:01.937Z"
   },
   {
    "duration": 138,
    "start_time": "2021-10-02T14:23:02.183Z"
   },
   {
    "duration": -19,
    "start_time": "2021-10-02T14:23:02.342Z"
   },
   {
    "duration": -22,
    "start_time": "2021-10-02T14:23:02.347Z"
   },
   {
    "duration": -30,
    "start_time": "2021-10-02T14:23:02.357Z"
   },
   {
    "duration": -34,
    "start_time": "2021-10-02T14:23:02.362Z"
   },
   {
    "duration": 20,
    "start_time": "2021-10-02T14:23:55.216Z"
   },
   {
    "duration": 1735,
    "start_time": "2021-10-02T14:24:24.765Z"
   },
   {
    "duration": 74,
    "start_time": "2021-10-02T14:24:26.503Z"
   },
   {
    "duration": 48,
    "start_time": "2021-10-02T14:24:26.580Z"
   },
   {
    "duration": 24,
    "start_time": "2021-10-02T14:24:26.631Z"
   },
   {
    "duration": 14,
    "start_time": "2021-10-02T14:24:26.657Z"
   },
   {
    "duration": 76,
    "start_time": "2021-10-02T14:24:26.674Z"
   },
   {
    "duration": 18,
    "start_time": "2021-10-02T14:24:26.753Z"
   },
   {
    "duration": 26,
    "start_time": "2021-10-02T14:24:26.775Z"
   },
   {
    "duration": 1254,
    "start_time": "2021-10-02T14:24:26.805Z"
   },
   {
    "duration": 9,
    "start_time": "2021-10-02T14:24:28.061Z"
   },
   {
    "duration": 623,
    "start_time": "2021-10-02T14:24:28.073Z"
   },
   {
    "duration": 499,
    "start_time": "2021-10-02T14:24:28.699Z"
   },
   {
    "duration": 486,
    "start_time": "2021-10-02T14:24:29.200Z"
   },
   {
    "duration": 635,
    "start_time": "2021-10-02T14:24:29.688Z"
   },
   {
    "duration": 491,
    "start_time": "2021-10-02T14:24:30.326Z"
   },
   {
    "duration": 672,
    "start_time": "2021-10-02T14:24:30.820Z"
   },
   {
    "duration": 694,
    "start_time": "2021-10-02T14:24:31.494Z"
   },
   {
    "duration": 5,
    "start_time": "2021-10-02T14:24:32.190Z"
   },
   {
    "duration": 218,
    "start_time": "2021-10-02T14:24:32.216Z"
   },
   {
    "duration": 595,
    "start_time": "2021-10-02T14:24:32.436Z"
   },
   {
    "duration": 5,
    "start_time": "2021-10-02T14:24:33.033Z"
   },
   {
    "duration": 486,
    "start_time": "2021-10-02T14:24:33.041Z"
   },
   {
    "duration": 228,
    "start_time": "2021-10-02T14:24:33.532Z"
   },
   {
    "duration": 20,
    "start_time": "2021-10-02T14:24:33.763Z"
   },
   {
    "duration": 37,
    "start_time": "2021-10-02T14:24:33.786Z"
   },
   {
    "duration": 24,
    "start_time": "2021-10-02T14:24:33.826Z"
   },
   {
    "duration": 18,
    "start_time": "2021-10-02T14:24:33.853Z"
   },
   {
    "duration": 1324,
    "start_time": "2021-10-02T14:24:33.873Z"
   }
  ],
  "kernelspec": {
   "display_name": "Python 3",
   "language": "python",
   "name": "python3"
  },
  "language_info": {
   "codemirror_mode": {
    "name": "ipython",
    "version": 3
   },
   "file_extension": ".py",
   "mimetype": "text/x-python",
   "name": "python",
   "nbconvert_exporter": "python",
   "pygments_lexer": "ipython3",
   "version": "3.8.8"
  },
  "toc": {
   "base_numbering": 1,
   "nav_menu": {},
   "number_sections": true,
   "sideBar": true,
   "skip_h1_title": true,
   "title_cell": "Table of Contents",
   "title_sidebar": "Contents",
   "toc_cell": false,
   "toc_position": {},
   "toc_section_display": true,
   "toc_window_display": true
  }
 },
 "nbformat": 4,
 "nbformat_minor": 2
}
