{
 "cells": [
  {
   "cell_type": "markdown",
   "metadata": {},
   "source": [
    "«Мегалайн» — федеральный оператор сотовой связи. Клиентам предлагают два тарифных плана: «Смарт» и «Ультра». Чтобы скорректировать рекламный бюджет, коммерческий департамент хочет понять, какой тариф приносит больше денег.\n",
    "Необходимо  сделать предварительный анализ тарифов на небольшой выборке клиентов. В нашем распоряжении данные 500 пользователей «Мегалайна»: кто они, откуда, каким тарифом пользуются, сколько звонков и сообщений каждый отправил за 2018 год. Нужно проанализировать поведение клиентов и сделать вывод — какой тариф лучше.\n",
    "\n",
    "**Описание тарифов**\n",
    "\n",
    "Тариф «Смарт»\n",
    "- Ежемесячная плата: 550 рублей\n",
    "- Включено 500 минут разговора, 50 сообщений и 15 Гб интернет-трафика\n",
    "- Стоимость услуг сверх тарифного пакета: 1. минута разговора: 3 рубля («Мегалайн» всегда округляет вверх значения минут и мегабайтов. Если пользователь проговорил всего 1 секунду, в тарифе засчитывается целая минута); 2. сообщение: 3 рубля; 3. 1 Гб интернет-трафика: 200 рублей.\n",
    "\n",
    "Тариф «Ультра»\n",
    "- Ежемесячная плата: 1950 рублей\n",
    "- Включено 3000 минут разговора, 1000 сообщений и 30 Гб интернет-трафика\n",
    "- Стоимость услуг сверх тарифного пакета: 1. минута разговора: 1 рубль; 2. сообщение: 1 рубль; 3. 1 Гб интернет-трафика: 150 рублей.\n",
    "\n",
    "**Общий план проекта**\n",
    "\n",
    "Шаг 1. Подготовить данные\n",
    "- Привести данные к нужным типам;\n",
    "- Найти и исправить ошибки в данных, если они есть.\n",
    "\n",
    "Посчитать для каждого пользователя:\n",
    "- количество сделанных звонков и израсходованных минут разговора по месяцам;\n",
    "- количество отправленных сообщений по месяцам;\n",
    "- объем израсходованного интернет-трафика по месяцам;\n",
    "- помесячную выручку с каждого пользователя.\n",
    "\n",
    "Шаг 2. Проанализировать данные\n",
    "Описать поведение клиентов оператора, исходя из выборки. Сколько минут разговора, сколько сообщений и какой объём интернет-трафика требуется пользователям каждого тарифа в месяц? Посчитать среднее количество, дисперсию и стандартное отклонение. Построить гистограммы, описать распределения.\n",
    "\n",
    "Шаг 3. Проверить гипотезы\n",
    "- средняя выручка пользователей тарифов «Ультра» и «Смарт» различаются;\n",
    "- средняя выручка пользователи из Москвы отличается от выручки пользователей из других регионов.\n",
    "\n",
    "\n",
    "**Примечание:**\n",
    "«Мегалайн» всегда округляет секунды до минут, а мегабайты — до гигабайт. Каждый звонок округляется отдельно: даже если он длился всего 1 секунду, будет засчитан как 1 минута.\n",
    "Для веб-трафика отдельные сессии не считаются. Вместо этого общая сумма за месяц округляется в бо́льшую сторону. Если абонент использует 1025 мегабайт в этом месяце, с него возьмут плату за 2 гигабайта."
   ]
  },
  {
   "cell_type": "markdown",
   "metadata": {},
   "source": [
    "## Изучение данных из файла"
   ]
  },
  {
   "cell_type": "markdown",
   "metadata": {},
   "source": [
    "Сначала извлечем данные и посмотрим общие параметры."
   ]
  },
  {
   "cell_type": "code",
   "execution_count": 1,
   "metadata": {},
   "outputs": [
    {
     "name": "stdout",
     "output_type": "stream",
     "text": [
      "<class 'pandas.core.frame.DataFrame'>\n",
      "RangeIndex: 202607 entries, 0 to 202606\n",
      "Data columns (total 4 columns):\n",
      "id           202607 non-null object\n",
      "call_date    202607 non-null object\n",
      "duration     202607 non-null float64\n",
      "user_id      202607 non-null int64\n",
      "dtypes: float64(1), int64(1), object(2)\n",
      "memory usage: 6.2+ MB\n"
     ]
    },
    {
     "data": {
      "text/html": [
       "<div>\n",
       "<style scoped>\n",
       "    .dataframe tbody tr th:only-of-type {\n",
       "        vertical-align: middle;\n",
       "    }\n",
       "\n",
       "    .dataframe tbody tr th {\n",
       "        vertical-align: top;\n",
       "    }\n",
       "\n",
       "    .dataframe thead th {\n",
       "        text-align: right;\n",
       "    }\n",
       "</style>\n",
       "<table border=\"1\" class=\"dataframe\">\n",
       "  <thead>\n",
       "    <tr style=\"text-align: right;\">\n",
       "      <th></th>\n",
       "      <th>id</th>\n",
       "      <th>call_date</th>\n",
       "      <th>duration</th>\n",
       "      <th>user_id</th>\n",
       "    </tr>\n",
       "  </thead>\n",
       "  <tbody>\n",
       "    <tr>\n",
       "      <td>0</td>\n",
       "      <td>1000_0</td>\n",
       "      <td>2018-07-25</td>\n",
       "      <td>0.00</td>\n",
       "      <td>1000</td>\n",
       "    </tr>\n",
       "    <tr>\n",
       "      <td>1</td>\n",
       "      <td>1000_1</td>\n",
       "      <td>2018-08-17</td>\n",
       "      <td>0.00</td>\n",
       "      <td>1000</td>\n",
       "    </tr>\n",
       "    <tr>\n",
       "      <td>2</td>\n",
       "      <td>1000_2</td>\n",
       "      <td>2018-06-11</td>\n",
       "      <td>2.85</td>\n",
       "      <td>1000</td>\n",
       "    </tr>\n",
       "    <tr>\n",
       "      <td>3</td>\n",
       "      <td>1000_3</td>\n",
       "      <td>2018-09-21</td>\n",
       "      <td>13.80</td>\n",
       "      <td>1000</td>\n",
       "    </tr>\n",
       "    <tr>\n",
       "      <td>4</td>\n",
       "      <td>1000_4</td>\n",
       "      <td>2018-12-15</td>\n",
       "      <td>5.18</td>\n",
       "      <td>1000</td>\n",
       "    </tr>\n",
       "  </tbody>\n",
       "</table>\n",
       "</div>"
      ],
      "text/plain": [
       "       id   call_date  duration  user_id\n",
       "0  1000_0  2018-07-25      0.00     1000\n",
       "1  1000_1  2018-08-17      0.00     1000\n",
       "2  1000_2  2018-06-11      2.85     1000\n",
       "3  1000_3  2018-09-21     13.80     1000\n",
       "4  1000_4  2018-12-15      5.18     1000"
      ]
     },
     "metadata": {},
     "output_type": "display_data"
    },
    {
     "name": "stdout",
     "output_type": "stream",
     "text": [
      "\n",
      "<class 'pandas.core.frame.DataFrame'>\n",
      "RangeIndex: 149396 entries, 0 to 149395\n",
      "Data columns (total 5 columns):\n",
      "Unnamed: 0      149396 non-null int64\n",
      "id              149396 non-null object\n",
      "mb_used         149396 non-null float64\n",
      "session_date    149396 non-null object\n",
      "user_id         149396 non-null int64\n",
      "dtypes: float64(1), int64(2), object(2)\n",
      "memory usage: 5.7+ MB\n"
     ]
    },
    {
     "data": {
      "text/html": [
       "<div>\n",
       "<style scoped>\n",
       "    .dataframe tbody tr th:only-of-type {\n",
       "        vertical-align: middle;\n",
       "    }\n",
       "\n",
       "    .dataframe tbody tr th {\n",
       "        vertical-align: top;\n",
       "    }\n",
       "\n",
       "    .dataframe thead th {\n",
       "        text-align: right;\n",
       "    }\n",
       "</style>\n",
       "<table border=\"1\" class=\"dataframe\">\n",
       "  <thead>\n",
       "    <tr style=\"text-align: right;\">\n",
       "      <th></th>\n",
       "      <th>Unnamed: 0</th>\n",
       "      <th>id</th>\n",
       "      <th>mb_used</th>\n",
       "      <th>session_date</th>\n",
       "      <th>user_id</th>\n",
       "    </tr>\n",
       "  </thead>\n",
       "  <tbody>\n",
       "    <tr>\n",
       "      <td>0</td>\n",
       "      <td>0</td>\n",
       "      <td>1000_0</td>\n",
       "      <td>112.95</td>\n",
       "      <td>2018-11-25</td>\n",
       "      <td>1000</td>\n",
       "    </tr>\n",
       "    <tr>\n",
       "      <td>1</td>\n",
       "      <td>1</td>\n",
       "      <td>1000_1</td>\n",
       "      <td>1052.81</td>\n",
       "      <td>2018-09-07</td>\n",
       "      <td>1000</td>\n",
       "    </tr>\n",
       "    <tr>\n",
       "      <td>2</td>\n",
       "      <td>2</td>\n",
       "      <td>1000_2</td>\n",
       "      <td>1197.26</td>\n",
       "      <td>2018-06-25</td>\n",
       "      <td>1000</td>\n",
       "    </tr>\n",
       "    <tr>\n",
       "      <td>3</td>\n",
       "      <td>3</td>\n",
       "      <td>1000_3</td>\n",
       "      <td>550.27</td>\n",
       "      <td>2018-08-22</td>\n",
       "      <td>1000</td>\n",
       "    </tr>\n",
       "    <tr>\n",
       "      <td>4</td>\n",
       "      <td>4</td>\n",
       "      <td>1000_4</td>\n",
       "      <td>302.56</td>\n",
       "      <td>2018-09-24</td>\n",
       "      <td>1000</td>\n",
       "    </tr>\n",
       "  </tbody>\n",
       "</table>\n",
       "</div>"
      ],
      "text/plain": [
       "   Unnamed: 0      id  mb_used session_date  user_id\n",
       "0           0  1000_0   112.95   2018-11-25     1000\n",
       "1           1  1000_1  1052.81   2018-09-07     1000\n",
       "2           2  1000_2  1197.26   2018-06-25     1000\n",
       "3           3  1000_3   550.27   2018-08-22     1000\n",
       "4           4  1000_4   302.56   2018-09-24     1000"
      ]
     },
     "metadata": {},
     "output_type": "display_data"
    },
    {
     "name": "stdout",
     "output_type": "stream",
     "text": [
      "\n",
      "<class 'pandas.core.frame.DataFrame'>\n",
      "RangeIndex: 123036 entries, 0 to 123035\n",
      "Data columns (total 3 columns):\n",
      "id              123036 non-null object\n",
      "message_date    123036 non-null object\n",
      "user_id         123036 non-null int64\n",
      "dtypes: int64(1), object(2)\n",
      "memory usage: 2.8+ MB\n"
     ]
    },
    {
     "data": {
      "text/html": [
       "<div>\n",
       "<style scoped>\n",
       "    .dataframe tbody tr th:only-of-type {\n",
       "        vertical-align: middle;\n",
       "    }\n",
       "\n",
       "    .dataframe tbody tr th {\n",
       "        vertical-align: top;\n",
       "    }\n",
       "\n",
       "    .dataframe thead th {\n",
       "        text-align: right;\n",
       "    }\n",
       "</style>\n",
       "<table border=\"1\" class=\"dataframe\">\n",
       "  <thead>\n",
       "    <tr style=\"text-align: right;\">\n",
       "      <th></th>\n",
       "      <th>id</th>\n",
       "      <th>message_date</th>\n",
       "      <th>user_id</th>\n",
       "    </tr>\n",
       "  </thead>\n",
       "  <tbody>\n",
       "    <tr>\n",
       "      <td>0</td>\n",
       "      <td>1000_0</td>\n",
       "      <td>2018-06-27</td>\n",
       "      <td>1000</td>\n",
       "    </tr>\n",
       "    <tr>\n",
       "      <td>1</td>\n",
       "      <td>1000_1</td>\n",
       "      <td>2018-10-08</td>\n",
       "      <td>1000</td>\n",
       "    </tr>\n",
       "    <tr>\n",
       "      <td>2</td>\n",
       "      <td>1000_2</td>\n",
       "      <td>2018-08-04</td>\n",
       "      <td>1000</td>\n",
       "    </tr>\n",
       "    <tr>\n",
       "      <td>3</td>\n",
       "      <td>1000_3</td>\n",
       "      <td>2018-06-16</td>\n",
       "      <td>1000</td>\n",
       "    </tr>\n",
       "    <tr>\n",
       "      <td>4</td>\n",
       "      <td>1000_4</td>\n",
       "      <td>2018-12-05</td>\n",
       "      <td>1000</td>\n",
       "    </tr>\n",
       "  </tbody>\n",
       "</table>\n",
       "</div>"
      ],
      "text/plain": [
       "       id message_date  user_id\n",
       "0  1000_0   2018-06-27     1000\n",
       "1  1000_1   2018-10-08     1000\n",
       "2  1000_2   2018-08-04     1000\n",
       "3  1000_3   2018-06-16     1000\n",
       "4  1000_4   2018-12-05     1000"
      ]
     },
     "metadata": {},
     "output_type": "display_data"
    },
    {
     "name": "stdout",
     "output_type": "stream",
     "text": [
      "\n",
      "<class 'pandas.core.frame.DataFrame'>\n",
      "RangeIndex: 2 entries, 0 to 1\n",
      "Data columns (total 8 columns):\n",
      "messages_included        2 non-null int64\n",
      "mb_per_month_included    2 non-null int64\n",
      "minutes_included         2 non-null int64\n",
      "rub_monthly_fee          2 non-null int64\n",
      "rub_per_gb               2 non-null int64\n",
      "rub_per_message          2 non-null int64\n",
      "rub_per_minute           2 non-null int64\n",
      "tariff_name              2 non-null object\n",
      "dtypes: int64(7), object(1)\n",
      "memory usage: 256.0+ bytes\n"
     ]
    },
    {
     "data": {
      "text/html": [
       "<div>\n",
       "<style scoped>\n",
       "    .dataframe tbody tr th:only-of-type {\n",
       "        vertical-align: middle;\n",
       "    }\n",
       "\n",
       "    .dataframe tbody tr th {\n",
       "        vertical-align: top;\n",
       "    }\n",
       "\n",
       "    .dataframe thead th {\n",
       "        text-align: right;\n",
       "    }\n",
       "</style>\n",
       "<table border=\"1\" class=\"dataframe\">\n",
       "  <thead>\n",
       "    <tr style=\"text-align: right;\">\n",
       "      <th></th>\n",
       "      <th>messages_included</th>\n",
       "      <th>mb_per_month_included</th>\n",
       "      <th>minutes_included</th>\n",
       "      <th>rub_monthly_fee</th>\n",
       "      <th>rub_per_gb</th>\n",
       "      <th>rub_per_message</th>\n",
       "      <th>rub_per_minute</th>\n",
       "      <th>tariff_name</th>\n",
       "    </tr>\n",
       "  </thead>\n",
       "  <tbody>\n",
       "    <tr>\n",
       "      <td>0</td>\n",
       "      <td>50</td>\n",
       "      <td>15360</td>\n",
       "      <td>500</td>\n",
       "      <td>550</td>\n",
       "      <td>200</td>\n",
       "      <td>3</td>\n",
       "      <td>3</td>\n",
       "      <td>smart</td>\n",
       "    </tr>\n",
       "    <tr>\n",
       "      <td>1</td>\n",
       "      <td>1000</td>\n",
       "      <td>30720</td>\n",
       "      <td>3000</td>\n",
       "      <td>1950</td>\n",
       "      <td>150</td>\n",
       "      <td>1</td>\n",
       "      <td>1</td>\n",
       "      <td>ultra</td>\n",
       "    </tr>\n",
       "  </tbody>\n",
       "</table>\n",
       "</div>"
      ],
      "text/plain": [
       "   messages_included  mb_per_month_included  minutes_included  \\\n",
       "0                 50                  15360               500   \n",
       "1               1000                  30720              3000   \n",
       "\n",
       "   rub_monthly_fee  rub_per_gb  rub_per_message  rub_per_minute tariff_name  \n",
       "0              550         200                3               3       smart  \n",
       "1             1950         150                1               1       ultra  "
      ]
     },
     "metadata": {},
     "output_type": "display_data"
    },
    {
     "name": "stdout",
     "output_type": "stream",
     "text": [
      "\n",
      "<class 'pandas.core.frame.DataFrame'>\n",
      "RangeIndex: 500 entries, 0 to 499\n",
      "Data columns (total 8 columns):\n",
      "user_id       500 non-null int64\n",
      "age           500 non-null int64\n",
      "churn_date    38 non-null object\n",
      "city          500 non-null object\n",
      "first_name    500 non-null object\n",
      "last_name     500 non-null object\n",
      "reg_date      500 non-null object\n",
      "tariff        500 non-null object\n",
      "dtypes: int64(2), object(6)\n",
      "memory usage: 31.4+ KB\n"
     ]
    },
    {
     "data": {
      "text/html": [
       "<div>\n",
       "<style scoped>\n",
       "    .dataframe tbody tr th:only-of-type {\n",
       "        vertical-align: middle;\n",
       "    }\n",
       "\n",
       "    .dataframe tbody tr th {\n",
       "        vertical-align: top;\n",
       "    }\n",
       "\n",
       "    .dataframe thead th {\n",
       "        text-align: right;\n",
       "    }\n",
       "</style>\n",
       "<table border=\"1\" class=\"dataframe\">\n",
       "  <thead>\n",
       "    <tr style=\"text-align: right;\">\n",
       "      <th></th>\n",
       "      <th>user_id</th>\n",
       "      <th>age</th>\n",
       "      <th>churn_date</th>\n",
       "      <th>city</th>\n",
       "      <th>first_name</th>\n",
       "      <th>last_name</th>\n",
       "      <th>reg_date</th>\n",
       "      <th>tariff</th>\n",
       "    </tr>\n",
       "  </thead>\n",
       "  <tbody>\n",
       "    <tr>\n",
       "      <td>0</td>\n",
       "      <td>1000</td>\n",
       "      <td>52</td>\n",
       "      <td>NaN</td>\n",
       "      <td>Краснодар</td>\n",
       "      <td>Рафаил</td>\n",
       "      <td>Верещагин</td>\n",
       "      <td>2018-05-25</td>\n",
       "      <td>ultra</td>\n",
       "    </tr>\n",
       "    <tr>\n",
       "      <td>1</td>\n",
       "      <td>1001</td>\n",
       "      <td>41</td>\n",
       "      <td>NaN</td>\n",
       "      <td>Москва</td>\n",
       "      <td>Иван</td>\n",
       "      <td>Ежов</td>\n",
       "      <td>2018-11-01</td>\n",
       "      <td>smart</td>\n",
       "    </tr>\n",
       "    <tr>\n",
       "      <td>2</td>\n",
       "      <td>1002</td>\n",
       "      <td>59</td>\n",
       "      <td>NaN</td>\n",
       "      <td>Стерлитамак</td>\n",
       "      <td>Евгений</td>\n",
       "      <td>Абрамович</td>\n",
       "      <td>2018-06-17</td>\n",
       "      <td>smart</td>\n",
       "    </tr>\n",
       "    <tr>\n",
       "      <td>3</td>\n",
       "      <td>1003</td>\n",
       "      <td>23</td>\n",
       "      <td>NaN</td>\n",
       "      <td>Москва</td>\n",
       "      <td>Белла</td>\n",
       "      <td>Белякова</td>\n",
       "      <td>2018-08-17</td>\n",
       "      <td>ultra</td>\n",
       "    </tr>\n",
       "    <tr>\n",
       "      <td>4</td>\n",
       "      <td>1004</td>\n",
       "      <td>68</td>\n",
       "      <td>NaN</td>\n",
       "      <td>Новокузнецк</td>\n",
       "      <td>Татьяна</td>\n",
       "      <td>Авдеенко</td>\n",
       "      <td>2018-05-14</td>\n",
       "      <td>ultra</td>\n",
       "    </tr>\n",
       "  </tbody>\n",
       "</table>\n",
       "</div>"
      ],
      "text/plain": [
       "   user_id  age churn_date         city first_name  last_name    reg_date  \\\n",
       "0     1000   52        NaN    Краснодар     Рафаил  Верещагин  2018-05-25   \n",
       "1     1001   41        NaN       Москва       Иван       Ежов  2018-11-01   \n",
       "2     1002   59        NaN  Стерлитамак    Евгений  Абрамович  2018-06-17   \n",
       "3     1003   23        NaN       Москва      Белла   Белякова  2018-08-17   \n",
       "4     1004   68        NaN  Новокузнецк    Татьяна   Авдеенко  2018-05-14   \n",
       "\n",
       "  tariff  \n",
       "0  ultra  \n",
       "1  smart  \n",
       "2  smart  \n",
       "3  ultra  \n",
       "4  ultra  "
      ]
     },
     "metadata": {},
     "output_type": "display_data"
    },
    {
     "name": "stdout",
     "output_type": "stream",
     "text": [
      "\n"
     ]
    }
   ],
   "source": [
    "#импортируем библиотеки\n",
    "import pandas as pd\n",
    "\n",
    "from IPython.display import display\n",
    "\n",
    "import matplotlib.pyplot as plt\n",
    "\n",
    "from scipy import stats as st\n",
    "import numpy as np\n",
    "\n",
    "\n",
    "\n",
    "calls = pd.read_csv('/datasets/calls.csv')\n",
    "internet = pd.read_csv('/datasets/internet.csv')\n",
    "messages = pd.read_csv('/datasets/messages.csv')\n",
    "tariffs = pd.read_csv('/datasets/tariffs.csv')\n",
    "users = pd.read_csv('/datasets/users.csv')\n",
    "\n",
    "#циклом выведем базовую инфу по таблицам\n",
    "tabs = [calls, internet, messages, tariffs, users]\n",
    "for tab in tabs:\n",
    "    tab.info()\n",
    "    display(tab.head())\n",
    "    print('')"
   ]
  },
  {
   "cell_type": "markdown",
   "metadata": {},
   "source": [
    "Далее пойдем по порядку, начав со Звонков"
   ]
  },
  {
   "cell_type": "code",
   "execution_count": 2,
   "metadata": {},
   "outputs": [
    {
     "data": {
      "image/png": "[encoded data removed]",
      "text/plain": [
       "<Figure size 432x288 with 1 Axes>"
      ]
     },
     "metadata": {
      "needs_background": "light"
     },
     "output_type": "display_data"
    },
    {
     "data": {
      "text/plain": [
       "count    202607.000000\n",
       "mean          6.755887\n",
       "std           5.843365\n",
       "min           0.000000\n",
       "25%           1.300000\n",
       "50%           6.000000\n",
       "75%          10.700000\n",
       "max          38.000000\n",
       "Name: duration, dtype: float64"
      ]
     },
     "execution_count": 2,
     "metadata": {},
     "output_type": "execute_result"
    }
   ],
   "source": [
    "plt.title('Длительность звонков')\n",
    "calls['duration'].hist()\n",
    "plt.show()\n",
    "calls['duration'].describe()"
   ]
  },
  {
   "cell_type": "markdown",
   "metadata": {},
   "source": [
    "В соответствии с условиями нужно будет **округлить** продолжительность звонка в большую сторону, а также перевести тип данных в столбще Дата звонка в дату. Нули здесь видимо означают неуспешные звонки, их трогать не будем.\n",
    "\n",
    "Теперь смотрим Интернет."
   ]
  },
  {
   "cell_type": "code",
   "execution_count": 3,
   "metadata": {},
   "outputs": [
    {
     "data": {
      "image/png": "[encoded data removed]",
      "text/plain": [
       "<Figure size 432x288 with 1 Axes>"
      ]
     },
     "metadata": {
      "needs_background": "light"
     },
     "output_type": "display_data"
    },
    {
     "data": {
      "text/plain": [
       "count    149396.000000\n",
       "mean        370.192426\n",
       "std         278.300951\n",
       "min           0.000000\n",
       "25%         138.187500\n",
       "50%         348.015000\n",
       "75%         559.552500\n",
       "max        1724.830000\n",
       "Name: mb_used, dtype: float64"
      ]
     },
     "execution_count": 3,
     "metadata": {},
     "output_type": "execute_result"
    }
   ],
   "source": [
    "plt.title('Интернет, объем трафика на одну сессию')\n",
    "internet['mb_used'].hist()\n",
    "plt.show()\n",
    "internet['mb_used'].describe()"
   ]
  },
  {
   "cell_type": "markdown",
   "metadata": {},
   "source": [
    "Здесь видим, что в среднем сессия занимает 350мб, но потом надо объединить данные с группировкой по пользователям, т.к. здесь общее число сессий. \n",
    "И надо также перевести в Дату столбец Дата сессии и округлить месячный объем мегабайт до гигабайт при группировке.\n",
    "\n",
    "Еще вопрос вызывает наличие строк с 0ми в мегабайтах, посмотрим на них отдельно."
   ]
  },
  {
   "cell_type": "code",
   "execution_count": 4,
   "metadata": {},
   "outputs": [
    {
     "data": {
      "text/html": [
       "<div>\n",
       "<style scoped>\n",
       "    .dataframe tbody tr th:only-of-type {\n",
       "        vertical-align: middle;\n",
       "    }\n",
       "\n",
       "    .dataframe tbody tr th {\n",
       "        vertical-align: top;\n",
       "    }\n",
       "\n",
       "    .dataframe thead th {\n",
       "        text-align: right;\n",
       "    }\n",
       "</style>\n",
       "<table border=\"1\" class=\"dataframe\">\n",
       "  <thead>\n",
       "    <tr style=\"text-align: right;\">\n",
       "      <th></th>\n",
       "      <th>Unnamed: 0</th>\n",
       "      <th>id</th>\n",
       "      <th>mb_used</th>\n",
       "      <th>session_date</th>\n",
       "      <th>user_id</th>\n",
       "    </tr>\n",
       "  </thead>\n",
       "  <tbody>\n",
       "    <tr>\n",
       "      <td>11</td>\n",
       "      <td>11</td>\n",
       "      <td>1000_11</td>\n",
       "      <td>0.0</td>\n",
       "      <td>2018-08-28</td>\n",
       "      <td>1000</td>\n",
       "    </tr>\n",
       "    <tr>\n",
       "      <td>38</td>\n",
       "      <td>38</td>\n",
       "      <td>1000_38</td>\n",
       "      <td>0.0</td>\n",
       "      <td>2018-11-27</td>\n",
       "      <td>1000</td>\n",
       "    </tr>\n",
       "    <tr>\n",
       "      <td>46</td>\n",
       "      <td>46</td>\n",
       "      <td>1000_46</td>\n",
       "      <td>0.0</td>\n",
       "      <td>2018-06-30</td>\n",
       "      <td>1000</td>\n",
       "    </tr>\n",
       "    <tr>\n",
       "      <td>67</td>\n",
       "      <td>67</td>\n",
       "      <td>1000_67</td>\n",
       "      <td>0.0</td>\n",
       "      <td>2018-06-16</td>\n",
       "      <td>1000</td>\n",
       "    </tr>\n",
       "    <tr>\n",
       "      <td>72</td>\n",
       "      <td>72</td>\n",
       "      <td>1000_72</td>\n",
       "      <td>0.0</td>\n",
       "      <td>2018-06-15</td>\n",
       "      <td>1000</td>\n",
       "    </tr>\n",
       "    <tr>\n",
       "      <td>...</td>\n",
       "      <td>...</td>\n",
       "      <td>...</td>\n",
       "      <td>...</td>\n",
       "      <td>...</td>\n",
       "      <td>...</td>\n",
       "    </tr>\n",
       "    <tr>\n",
       "      <td>149380</td>\n",
       "      <td>149380</td>\n",
       "      <td>1499_141</td>\n",
       "      <td>0.0</td>\n",
       "      <td>2018-12-11</td>\n",
       "      <td>1499</td>\n",
       "    </tr>\n",
       "    <tr>\n",
       "      <td>149381</td>\n",
       "      <td>149381</td>\n",
       "      <td>1499_142</td>\n",
       "      <td>0.0</td>\n",
       "      <td>2018-11-01</td>\n",
       "      <td>1499</td>\n",
       "    </tr>\n",
       "    <tr>\n",
       "      <td>149383</td>\n",
       "      <td>149383</td>\n",
       "      <td>1499_144</td>\n",
       "      <td>0.0</td>\n",
       "      <td>2018-11-27</td>\n",
       "      <td>1499</td>\n",
       "    </tr>\n",
       "    <tr>\n",
       "      <td>149386</td>\n",
       "      <td>149386</td>\n",
       "      <td>1499_147</td>\n",
       "      <td>0.0</td>\n",
       "      <td>2018-10-21</td>\n",
       "      <td>1499</td>\n",
       "    </tr>\n",
       "    <tr>\n",
       "      <td>149393</td>\n",
       "      <td>149393</td>\n",
       "      <td>1499_154</td>\n",
       "      <td>0.0</td>\n",
       "      <td>2018-10-27</td>\n",
       "      <td>1499</td>\n",
       "    </tr>\n",
       "  </tbody>\n",
       "</table>\n",
       "<p>19598 rows × 5 columns</p>\n",
       "</div>"
      ],
      "text/plain": [
       "        Unnamed: 0        id  mb_used session_date  user_id\n",
       "11              11   1000_11      0.0   2018-08-28     1000\n",
       "38              38   1000_38      0.0   2018-11-27     1000\n",
       "46              46   1000_46      0.0   2018-06-30     1000\n",
       "67              67   1000_67      0.0   2018-06-16     1000\n",
       "72              72   1000_72      0.0   2018-06-15     1000\n",
       "...            ...       ...      ...          ...      ...\n",
       "149380      149380  1499_141      0.0   2018-12-11     1499\n",
       "149381      149381  1499_142      0.0   2018-11-01     1499\n",
       "149383      149383  1499_144      0.0   2018-11-27     1499\n",
       "149386      149386  1499_147      0.0   2018-10-21     1499\n",
       "149393      149393  1499_154      0.0   2018-10-27     1499\n",
       "\n",
       "[19598 rows x 5 columns]"
      ]
     },
     "execution_count": 4,
     "metadata": {},
     "output_type": "execute_result"
    }
   ],
   "source": [
    "#сразу на будущее промаркируем строчки в отдельный датафрейм\n",
    "zero_mb = internet.query('mb_used == 0').index\n",
    "\n",
    "internet.query('mb_used == 0')"
   ]
  },
  {
   "cell_type": "markdown",
   "metadata": {},
   "source": [
    "Почти 20 тысяч строк из 149 несут баранки в нашу таблицу, искажая все параметры. Это скорее всего ничтожно маленький трафик, например пуши, которые весят меньше 10кб, но машина все равно зафиксировала его в статистику с 0.\n",
    "В любом случае эти строки не повлияют на вычисление объема трафика на одного пользователя, поэтому их можно **удалить**.\n",
    "\n",
    "Далее смс."
   ]
  },
  {
   "cell_type": "code",
   "execution_count": 5,
   "metadata": {},
   "outputs": [
    {
     "data": {
      "text/plain": [
       "'СМС на пользователя'"
      ]
     },
     "metadata": {},
     "output_type": "display_data"
    },
    {
     "data": {
      "image/png": "[encoded data removed]",
      "text/plain": [
       "<Figure size 432x288 with 1 Axes>"
      ]
     },
     "metadata": {
      "needs_background": "light"
     },
     "output_type": "display_data"
    },
    {
     "data": {
      "text/plain": [
       "count     426.000000\n",
       "mean      288.816901\n",
       "std       267.607552\n",
       "min         1.000000\n",
       "25%        85.750000\n",
       "50%       215.500000\n",
       "75%       414.000000\n",
       "max      1463.000000\n",
       "Name: id, dtype: float64"
      ]
     },
     "execution_count": 5,
     "metadata": {},
     "output_type": "execute_result"
    }
   ],
   "source": [
    "display('СМС на пользователя')\n",
    "messages.pivot_table(index='user_id', values='id', aggfunc='count').hist()\n",
    "plt.show()\n",
    "messages.pivot_table(index='user_id', values='id', aggfunc='count')['id'].describe()"
   ]
  },
  {
   "cell_type": "markdown",
   "metadata": {},
   "source": [
    "В среднем по 288 смс на пользователя. Кстати 74 человека вообще ни разу не отправляли смс.\n",
    "\n",
    "Переведем также столбец Дата смс в корректный тип.\n",
    "\n",
    "Далее таблица с пользователями."
   ]
  },
  {
   "cell_type": "code",
   "execution_count": 6,
   "metadata": {},
   "outputs": [
    {
     "data": {
      "image/png": "[encoded data removed]",
      "text/plain": [
       "<Figure size 432x288 with 1 Axes>"
      ]
     },
     "metadata": {
      "needs_background": "light"
     },
     "output_type": "display_data"
    },
    {
     "data": {
      "image/png": "[encoded data removed]",
      "text/plain": [
       "<Figure size 432x288 with 1 Axes>"
      ]
     },
     "metadata": {
      "needs_background": "light"
     },
     "output_type": "display_data"
    },
    {
     "data": {
      "text/plain": [
       "count    500.00000\n",
       "mean      46.58800\n",
       "std       16.66763\n",
       "min       18.00000\n",
       "25%       32.00000\n",
       "50%       46.00000\n",
       "75%       62.00000\n",
       "max       75.00000\n",
       "Name: age, dtype: float64"
      ]
     },
     "metadata": {},
     "output_type": "display_data"
    },
    {
     "data": {
      "text/plain": [
       "'Города:'"
      ]
     },
     "metadata": {},
     "output_type": "display_data"
    },
    {
     "data": {
      "text/plain": [
       "Москва             99\n",
       "Санкт-Петербург    39\n",
       "Новосибирск        16\n",
       "Омск               14\n",
       "Казань             14\n",
       "                   ..\n",
       "Нижневартовск       1\n",
       "Подольск            1\n",
       "Иваново             1\n",
       "Архангельск         1\n",
       "Химки               1\n",
       "Name: city, Length: 76, dtype: int64"
      ]
     },
     "metadata": {},
     "output_type": "display_data"
    },
    {
     "data": {
      "text/plain": [
       "'Значения в столбце Дата прекращения пользования тарифом:'"
      ]
     },
     "metadata": {},
     "output_type": "display_data"
    },
    {
     "data": {
      "text/plain": [
       "array([nan, '2018-10-05', '2018-12-18', '2018-11-21', '2018-10-03',\n",
       "       '2018-10-14', '2018-12-09', '2018-12-11', '2018-12-26',\n",
       "       '2018-08-31', '2018-12-03', '2018-12-23', '2018-11-07',\n",
       "       '2018-12-16', '2018-12-20', '2018-11-30', '2018-12-21',\n",
       "       '2018-08-17', '2018-09-02', '2018-10-04', '2018-11-13',\n",
       "       '2018-11-22', '2018-10-28', '2018-11-26', '2018-11-27',\n",
       "       '2018-11-16', '2018-10-27', '2018-12-30', '2018-09-27',\n",
       "       '2018-12-25', '2018-12-14', '2018-12-24', '2018-09-26',\n",
       "       '2018-10-25'], dtype=object)"
      ]
     },
     "metadata": {},
     "output_type": "display_data"
    },
    {
     "data": {
      "text/plain": [
       "'Из них отсутсвует: '"
      ]
     },
     "metadata": {},
     "output_type": "display_data"
    },
    {
     "data": {
      "text/plain": [
       "462"
      ]
     },
     "metadata": {},
     "output_type": "display_data"
    }
   ],
   "source": [
    "plt.title('Пользователи. Возраст')\n",
    "users['age'].hist()\n",
    "plt.show()\n",
    "\n",
    "users.boxplot(column='age')\n",
    "plt.show()\n",
    "\n",
    "display(users['age'].describe())\n",
    "\n",
    "display('Города:')\n",
    "display(users['city'].value_counts())\n",
    "\n",
    "display('Значения в столбце Дата прекращения пользования тарифом:')\n",
    "display(users['churn_date'].unique())\n",
    "display('Из них отсутсвует: ', users['churn_date'].isna().sum())"
   ]
  },
  {
   "cell_type": "markdown",
   "metadata": {},
   "source": [
    "Наблюдаем практически идеальную выборку по возрасту: здесь равномерно присутствуют практически все возраста от 18 до 75. \n",
    "\n",
    "Также география пользователей - практически вся Россия, всего 76 населенных пункотов, большинство из Москвы и Санкт-Петербурга. Но для проекта нам потребуется исслодовать Москву и остальных, поэтому заменим их на 2 большие группы: **Москва и Регионы**.\n",
    "\n",
    "Что касается прекращения пользования тарифом, то на момент выборки уже 500-462=38 пользователей перестали сидеть на исследуемых тарифах - это тоже надо взять на заметку.\n",
    "\n",
    "И надо тоже поменять тип данных в столбцах дат."
   ]
  },
  {
   "cell_type": "markdown",
   "metadata": {},
   "source": [
    "Итого, что надо поправить: \n",
    "- изменить тип данных в столбцах с датами во всех таблицах\n",
    "- удалить строки с 0ми в таблице traffic\n",
    "- присвоить пользователям группы Москва либо Регионы\n",
    "- в каждую таблицу добавить столбец с месяцем для последующей помесячной группировки\n",
    "- сгруппировать в таблицах данные по user_id для последующего анализа\n",
    "- округлить количество минут и мегабайт трафика при группировке"
   ]
  },
  {
   "cell_type": "markdown",
   "metadata": {},
   "source": [
    "## Предобработка данных"
   ]
  },
  {
   "cell_type": "markdown",
   "metadata": {},
   "source": [
    "Начнем с дат."
   ]
  },
  {
   "cell_type": "code",
   "execution_count": 7,
   "metadata": {},
   "outputs": [],
   "source": [
    "#dates = [calls['call_date'], internet['session_date'], messages['message_date'], users['churn_date'], users['reg_date']]\n",
    "#for date in dates:\n",
    "    #pd.to_datetime(date, format='%Y-%m-%dT%H:%M:%S')\n",
    "    #это цикл, который не сработал: в dates сидят копии датафреймов, и из-за этого он не менял в исходниках данные\n",
    "    \n",
    "\n",
    "calls['call_date'] = pd.to_datetime(calls['call_date'], format='%Y-%m-%dT%H:%M:%S')\n",
    "internet['session_date'] = pd.to_datetime(internet['session_date'], format='%Y-%m-%dT%H:%M:%S')\n",
    "messages['message_date'] = pd.to_datetime(messages['message_date'], format='%Y-%m-%dT%H:%M:%S')\n",
    "users['churn_date'] = pd.to_datetime(users['churn_date'], format='%Y-%m-%dT%H:%M:%S')\n",
    "users['reg_date'] = pd.to_datetime(users['reg_date'], format='%Y-%m-%dT%H:%M:%S')\n",
    "    "
   ]
  },
  {
   "cell_type": "code",
   "execution_count": 8,
   "metadata": {},
   "outputs": [
    {
     "name": "stdout",
     "output_type": "stream",
     "text": [
      "<class 'pandas.core.frame.DataFrame'>\n",
      "RangeIndex: 149396 entries, 0 to 149395\n",
      "Data columns (total 5 columns):\n",
      "Unnamed: 0      149396 non-null int64\n",
      "id              149396 non-null object\n",
      "mb_used         149396 non-null float64\n",
      "session_date    149396 non-null datetime64[ns]\n",
      "user_id         149396 non-null int64\n",
      "dtypes: datetime64[ns](1), float64(1), int64(2), object(1)\n",
      "memory usage: 5.7+ MB\n"
     ]
    }
   ],
   "source": [
    "internet.info()"
   ]
  },
  {
   "cell_type": "markdown",
   "metadata": {},
   "source": [
    "Сейчас удалим нули в трафике."
   ]
  },
  {
   "cell_type": "code",
   "execution_count": 9,
   "metadata": {},
   "outputs": [
    {
     "data": {
      "text/html": [
       "<div>\n",
       "<style scoped>\n",
       "    .dataframe tbody tr th:only-of-type {\n",
       "        vertical-align: middle;\n",
       "    }\n",
       "\n",
       "    .dataframe tbody tr th {\n",
       "        vertical-align: top;\n",
       "    }\n",
       "\n",
       "    .dataframe thead th {\n",
       "        text-align: right;\n",
       "    }\n",
       "</style>\n",
       "<table border=\"1\" class=\"dataframe\">\n",
       "  <thead>\n",
       "    <tr style=\"text-align: right;\">\n",
       "      <th></th>\n",
       "      <th>index</th>\n",
       "      <th>Unnamed: 0</th>\n",
       "      <th>id</th>\n",
       "      <th>mb_used</th>\n",
       "      <th>session_date</th>\n",
       "      <th>user_id</th>\n",
       "    </tr>\n",
       "  </thead>\n",
       "  <tbody>\n",
       "    <tr>\n",
       "      <td>0</td>\n",
       "      <td>0</td>\n",
       "      <td>0</td>\n",
       "      <td>1000_0</td>\n",
       "      <td>112.95</td>\n",
       "      <td>2018-11-25</td>\n",
       "      <td>1000</td>\n",
       "    </tr>\n",
       "    <tr>\n",
       "      <td>1</td>\n",
       "      <td>1</td>\n",
       "      <td>1</td>\n",
       "      <td>1000_1</td>\n",
       "      <td>1052.81</td>\n",
       "      <td>2018-09-07</td>\n",
       "      <td>1000</td>\n",
       "    </tr>\n",
       "    <tr>\n",
       "      <td>2</td>\n",
       "      <td>2</td>\n",
       "      <td>2</td>\n",
       "      <td>1000_2</td>\n",
       "      <td>1197.26</td>\n",
       "      <td>2018-06-25</td>\n",
       "      <td>1000</td>\n",
       "    </tr>\n",
       "    <tr>\n",
       "      <td>3</td>\n",
       "      <td>3</td>\n",
       "      <td>3</td>\n",
       "      <td>1000_3</td>\n",
       "      <td>550.27</td>\n",
       "      <td>2018-08-22</td>\n",
       "      <td>1000</td>\n",
       "    </tr>\n",
       "    <tr>\n",
       "      <td>4</td>\n",
       "      <td>4</td>\n",
       "      <td>4</td>\n",
       "      <td>1000_4</td>\n",
       "      <td>302.56</td>\n",
       "      <td>2018-09-24</td>\n",
       "      <td>1000</td>\n",
       "    </tr>\n",
       "  </tbody>\n",
       "</table>\n",
       "</div>"
      ],
      "text/plain": [
       "   index  Unnamed: 0      id  mb_used session_date  user_id\n",
       "0      0           0  1000_0   112.95   2018-11-25     1000\n",
       "1      1           1  1000_1  1052.81   2018-09-07     1000\n",
       "2      2           2  1000_2  1197.26   2018-06-25     1000\n",
       "3      3           3  1000_3   550.27   2018-08-22     1000\n",
       "4      4           4  1000_4   302.56   2018-09-24     1000"
      ]
     },
     "metadata": {},
     "output_type": "display_data"
    },
    {
     "name": "stdout",
     "output_type": "stream",
     "text": [
      "<class 'pandas.core.frame.DataFrame'>\n",
      "RangeIndex: 129798 entries, 0 to 129797\n",
      "Data columns (total 6 columns):\n",
      "index           129798 non-null int64\n",
      "Unnamed: 0      129798 non-null int64\n",
      "id              129798 non-null object\n",
      "mb_used         129798 non-null float64\n",
      "session_date    129798 non-null datetime64[ns]\n",
      "user_id         129798 non-null int64\n",
      "dtypes: datetime64[ns](1), float64(1), int64(3), object(1)\n",
      "memory usage: 5.9+ MB\n"
     ]
    }
   ],
   "source": [
    "internet = internet.query('mb_used > 0')\n",
    "internet = internet.reset_index()\n",
    "display(internet.head())\n",
    "internet.info()"
   ]
  },
  {
   "cell_type": "markdown",
   "metadata": {},
   "source": [
    "Теперь города: менять их в исходнике не будем, а создадим в таблице users столбец с группой: Москву пометим 1, остальные города 0."
   ]
  },
  {
   "cell_type": "code",
   "execution_count": 10,
   "metadata": {},
   "outputs": [
    {
     "data": {
      "text/html": [
       "<div>\n",
       "<style scoped>\n",
       "    .dataframe tbody tr th:only-of-type {\n",
       "        vertical-align: middle;\n",
       "    }\n",
       "\n",
       "    .dataframe tbody tr th {\n",
       "        vertical-align: top;\n",
       "    }\n",
       "\n",
       "    .dataframe thead th {\n",
       "        text-align: right;\n",
       "    }\n",
       "</style>\n",
       "<table border=\"1\" class=\"dataframe\">\n",
       "  <thead>\n",
       "    <tr style=\"text-align: right;\">\n",
       "      <th></th>\n",
       "      <th>user_id</th>\n",
       "      <th>age</th>\n",
       "      <th>churn_date</th>\n",
       "      <th>city</th>\n",
       "      <th>first_name</th>\n",
       "      <th>last_name</th>\n",
       "      <th>reg_date</th>\n",
       "      <th>tariff</th>\n",
       "      <th>city_type</th>\n",
       "    </tr>\n",
       "  </thead>\n",
       "  <tbody>\n",
       "    <tr>\n",
       "      <td>0</td>\n",
       "      <td>1000</td>\n",
       "      <td>52</td>\n",
       "      <td>NaT</td>\n",
       "      <td>Краснодар</td>\n",
       "      <td>Рафаил</td>\n",
       "      <td>Верещагин</td>\n",
       "      <td>2018-05-25</td>\n",
       "      <td>ultra</td>\n",
       "      <td>0</td>\n",
       "    </tr>\n",
       "    <tr>\n",
       "      <td>1</td>\n",
       "      <td>1001</td>\n",
       "      <td>41</td>\n",
       "      <td>NaT</td>\n",
       "      <td>Москва</td>\n",
       "      <td>Иван</td>\n",
       "      <td>Ежов</td>\n",
       "      <td>2018-11-01</td>\n",
       "      <td>smart</td>\n",
       "      <td>1</td>\n",
       "    </tr>\n",
       "    <tr>\n",
       "      <td>2</td>\n",
       "      <td>1002</td>\n",
       "      <td>59</td>\n",
       "      <td>NaT</td>\n",
       "      <td>Стерлитамак</td>\n",
       "      <td>Евгений</td>\n",
       "      <td>Абрамович</td>\n",
       "      <td>2018-06-17</td>\n",
       "      <td>smart</td>\n",
       "      <td>0</td>\n",
       "    </tr>\n",
       "    <tr>\n",
       "      <td>3</td>\n",
       "      <td>1003</td>\n",
       "      <td>23</td>\n",
       "      <td>NaT</td>\n",
       "      <td>Москва</td>\n",
       "      <td>Белла</td>\n",
       "      <td>Белякова</td>\n",
       "      <td>2018-08-17</td>\n",
       "      <td>ultra</td>\n",
       "      <td>1</td>\n",
       "    </tr>\n",
       "    <tr>\n",
       "      <td>4</td>\n",
       "      <td>1004</td>\n",
       "      <td>68</td>\n",
       "      <td>NaT</td>\n",
       "      <td>Новокузнецк</td>\n",
       "      <td>Татьяна</td>\n",
       "      <td>Авдеенко</td>\n",
       "      <td>2018-05-14</td>\n",
       "      <td>ultra</td>\n",
       "      <td>0</td>\n",
       "    </tr>\n",
       "  </tbody>\n",
       "</table>\n",
       "</div>"
      ],
      "text/plain": [
       "   user_id  age churn_date         city first_name  last_name   reg_date  \\\n",
       "0     1000   52        NaT    Краснодар     Рафаил  Верещагин 2018-05-25   \n",
       "1     1001   41        NaT       Москва       Иван       Ежов 2018-11-01   \n",
       "2     1002   59        NaT  Стерлитамак    Евгений  Абрамович 2018-06-17   \n",
       "3     1003   23        NaT       Москва      Белла   Белякова 2018-08-17   \n",
       "4     1004   68        NaT  Новокузнецк    Татьяна   Авдеенко 2018-05-14   \n",
       "\n",
       "  tariff  city_type  \n",
       "0  ultra          0  \n",
       "1  smart          1  \n",
       "2  smart          0  \n",
       "3  ultra          1  \n",
       "4  ultra          0  "
      ]
     },
     "execution_count": 10,
     "metadata": {},
     "output_type": "execute_result"
    }
   ],
   "source": [
    "def city_type(row_values):\n",
    "    if row_values['city'] == 'Москва': return 1\n",
    "    return 0\n",
    "\n",
    "users['city_type'] = users.apply(city_type, axis = 1)\n",
    "users.head()"
   ]
  },
  {
   "cell_type": "markdown",
   "metadata": {},
   "source": [
    "Добавим месяц в таблицы."
   ]
  },
  {
   "cell_type": "code",
   "execution_count": 11,
   "metadata": {},
   "outputs": [],
   "source": [
    "calls['month'] = calls['call_date'].dt.month\n",
    "internet['month'] = internet['session_date'].dt.month\n",
    "messages['month'] = messages['message_date'].dt.month"
   ]
  },
  {
   "cell_type": "markdown",
   "metadata": {},
   "source": [
    "Прежде, чем делать группировку, округлим длительность звонков в большую сторону до минуты."
   ]
  },
  {
   "cell_type": "code",
   "execution_count": 12,
   "metadata": {},
   "outputs": [
    {
     "data": {
      "text/html": [
       "<div>\n",
       "<style scoped>\n",
       "    .dataframe tbody tr th:only-of-type {\n",
       "        vertical-align: middle;\n",
       "    }\n",
       "\n",
       "    .dataframe tbody tr th {\n",
       "        vertical-align: top;\n",
       "    }\n",
       "\n",
       "    .dataframe thead th {\n",
       "        text-align: right;\n",
       "    }\n",
       "</style>\n",
       "<table border=\"1\" class=\"dataframe\">\n",
       "  <thead>\n",
       "    <tr style=\"text-align: right;\">\n",
       "      <th></th>\n",
       "      <th>id</th>\n",
       "      <th>call_date</th>\n",
       "      <th>duration</th>\n",
       "      <th>user_id</th>\n",
       "      <th>month</th>\n",
       "    </tr>\n",
       "  </thead>\n",
       "  <tbody>\n",
       "    <tr>\n",
       "      <td>0</td>\n",
       "      <td>1000_0</td>\n",
       "      <td>2018-07-25</td>\n",
       "      <td>0.0</td>\n",
       "      <td>1000</td>\n",
       "      <td>7</td>\n",
       "    </tr>\n",
       "    <tr>\n",
       "      <td>1</td>\n",
       "      <td>1000_1</td>\n",
       "      <td>2018-08-17</td>\n",
       "      <td>0.0</td>\n",
       "      <td>1000</td>\n",
       "      <td>8</td>\n",
       "    </tr>\n",
       "    <tr>\n",
       "      <td>2</td>\n",
       "      <td>1000_2</td>\n",
       "      <td>2018-06-11</td>\n",
       "      <td>3.0</td>\n",
       "      <td>1000</td>\n",
       "      <td>6</td>\n",
       "    </tr>\n",
       "    <tr>\n",
       "      <td>3</td>\n",
       "      <td>1000_3</td>\n",
       "      <td>2018-09-21</td>\n",
       "      <td>14.0</td>\n",
       "      <td>1000</td>\n",
       "      <td>9</td>\n",
       "    </tr>\n",
       "    <tr>\n",
       "      <td>4</td>\n",
       "      <td>1000_4</td>\n",
       "      <td>2018-12-15</td>\n",
       "      <td>6.0</td>\n",
       "      <td>1000</td>\n",
       "      <td>12</td>\n",
       "    </tr>\n",
       "  </tbody>\n",
       "</table>\n",
       "</div>"
      ],
      "text/plain": [
       "       id  call_date  duration  user_id  month\n",
       "0  1000_0 2018-07-25       0.0     1000      7\n",
       "1  1000_1 2018-08-17       0.0     1000      8\n",
       "2  1000_2 2018-06-11       3.0     1000      6\n",
       "3  1000_3 2018-09-21      14.0     1000      9\n",
       "4  1000_4 2018-12-15       6.0     1000     12"
      ]
     },
     "execution_count": 12,
     "metadata": {},
     "output_type": "execute_result"
    }
   ],
   "source": [
    "#округлим методом np.ceil в большую сторону\n",
    "calls['duration'] = np.ceil(calls['duration'])\n",
    "calls.head()"
   ]
  },
  {
   "cell_type": "markdown",
   "metadata": {},
   "source": [
    "Теперь сделаем таблицы с группировкой по пользователям."
   ]
  },
  {
   "cell_type": "code",
   "execution_count": 13,
   "metadata": {},
   "outputs": [
    {
     "data": {
      "text/html": [
       "<div>\n",
       "<style scoped>\n",
       "    .dataframe tbody tr th:only-of-type {\n",
       "        vertical-align: middle;\n",
       "    }\n",
       "\n",
       "    .dataframe tbody tr th {\n",
       "        vertical-align: top;\n",
       "    }\n",
       "\n",
       "    .dataframe thead th {\n",
       "        text-align: right;\n",
       "    }\n",
       "</style>\n",
       "<table border=\"1\" class=\"dataframe\">\n",
       "  <thead>\n",
       "    <tr style=\"text-align: right;\">\n",
       "      <th></th>\n",
       "      <th>user_id</th>\n",
       "      <th>month</th>\n",
       "      <th>calls_count</th>\n",
       "      <th>calls_sum</th>\n",
       "    </tr>\n",
       "  </thead>\n",
       "  <tbody>\n",
       "    <tr>\n",
       "      <td>0</td>\n",
       "      <td>1000</td>\n",
       "      <td>5</td>\n",
       "      <td>22</td>\n",
       "      <td>159.0</td>\n",
       "    </tr>\n",
       "    <tr>\n",
       "      <td>1</td>\n",
       "      <td>1000</td>\n",
       "      <td>6</td>\n",
       "      <td>43</td>\n",
       "      <td>172.0</td>\n",
       "    </tr>\n",
       "    <tr>\n",
       "      <td>2</td>\n",
       "      <td>1000</td>\n",
       "      <td>7</td>\n",
       "      <td>47</td>\n",
       "      <td>340.0</td>\n",
       "    </tr>\n",
       "    <tr>\n",
       "      <td>3</td>\n",
       "      <td>1000</td>\n",
       "      <td>8</td>\n",
       "      <td>52</td>\n",
       "      <td>408.0</td>\n",
       "    </tr>\n",
       "    <tr>\n",
       "      <td>4</td>\n",
       "      <td>1000</td>\n",
       "      <td>9</td>\n",
       "      <td>58</td>\n",
       "      <td>466.0</td>\n",
       "    </tr>\n",
       "    <tr>\n",
       "      <td>5</td>\n",
       "      <td>1000</td>\n",
       "      <td>10</td>\n",
       "      <td>57</td>\n",
       "      <td>350.0</td>\n",
       "    </tr>\n",
       "    <tr>\n",
       "      <td>6</td>\n",
       "      <td>1000</td>\n",
       "      <td>11</td>\n",
       "      <td>43</td>\n",
       "      <td>338.0</td>\n",
       "    </tr>\n",
       "    <tr>\n",
       "      <td>7</td>\n",
       "      <td>1000</td>\n",
       "      <td>12</td>\n",
       "      <td>46</td>\n",
       "      <td>333.0</td>\n",
       "    </tr>\n",
       "    <tr>\n",
       "      <td>8</td>\n",
       "      <td>1001</td>\n",
       "      <td>11</td>\n",
       "      <td>59</td>\n",
       "      <td>430.0</td>\n",
       "    </tr>\n",
       "    <tr>\n",
       "      <td>9</td>\n",
       "      <td>1001</td>\n",
       "      <td>12</td>\n",
       "      <td>63</td>\n",
       "      <td>414.0</td>\n",
       "    </tr>\n",
       "  </tbody>\n",
       "</table>\n",
       "</div>"
      ],
      "text/plain": [
       "   user_id  month  calls_count  calls_sum\n",
       "0     1000      5           22      159.0\n",
       "1     1000      6           43      172.0\n",
       "2     1000      7           47      340.0\n",
       "3     1000      8           52      408.0\n",
       "4     1000      9           58      466.0\n",
       "5     1000     10           57      350.0\n",
       "6     1000     11           43      338.0\n",
       "7     1000     12           46      333.0\n",
       "8     1001     11           59      430.0\n",
       "9     1001     12           63      414.0"
      ]
     },
     "metadata": {},
     "output_type": "display_data"
    },
    {
     "data": {
      "text/html": [
       "<div>\n",
       "<style scoped>\n",
       "    .dataframe tbody tr th:only-of-type {\n",
       "        vertical-align: middle;\n",
       "    }\n",
       "\n",
       "    .dataframe tbody tr th {\n",
       "        vertical-align: top;\n",
       "    }\n",
       "\n",
       "    .dataframe thead th {\n",
       "        text-align: right;\n",
       "    }\n",
       "</style>\n",
       "<table border=\"1\" class=\"dataframe\">\n",
       "  <thead>\n",
       "    <tr style=\"text-align: right;\">\n",
       "      <th></th>\n",
       "      <th>user_id</th>\n",
       "      <th>month</th>\n",
       "      <th>mb_used</th>\n",
       "    </tr>\n",
       "  </thead>\n",
       "  <tbody>\n",
       "    <tr>\n",
       "      <td>0</td>\n",
       "      <td>1000</td>\n",
       "      <td>5</td>\n",
       "      <td>2253.49</td>\n",
       "    </tr>\n",
       "    <tr>\n",
       "      <td>1</td>\n",
       "      <td>1000</td>\n",
       "      <td>6</td>\n",
       "      <td>23233.77</td>\n",
       "    </tr>\n",
       "    <tr>\n",
       "      <td>2</td>\n",
       "      <td>1000</td>\n",
       "      <td>7</td>\n",
       "      <td>14003.64</td>\n",
       "    </tr>\n",
       "    <tr>\n",
       "      <td>3</td>\n",
       "      <td>1000</td>\n",
       "      <td>8</td>\n",
       "      <td>14055.93</td>\n",
       "    </tr>\n",
       "    <tr>\n",
       "      <td>4</td>\n",
       "      <td>1000</td>\n",
       "      <td>9</td>\n",
       "      <td>14568.91</td>\n",
       "    </tr>\n",
       "    <tr>\n",
       "      <td>5</td>\n",
       "      <td>1000</td>\n",
       "      <td>10</td>\n",
       "      <td>14702.49</td>\n",
       "    </tr>\n",
       "    <tr>\n",
       "      <td>6</td>\n",
       "      <td>1000</td>\n",
       "      <td>11</td>\n",
       "      <td>14756.47</td>\n",
       "    </tr>\n",
       "    <tr>\n",
       "      <td>7</td>\n",
       "      <td>1000</td>\n",
       "      <td>12</td>\n",
       "      <td>9817.61</td>\n",
       "    </tr>\n",
       "    <tr>\n",
       "      <td>8</td>\n",
       "      <td>1001</td>\n",
       "      <td>11</td>\n",
       "      <td>18429.34</td>\n",
       "    </tr>\n",
       "    <tr>\n",
       "      <td>9</td>\n",
       "      <td>1001</td>\n",
       "      <td>12</td>\n",
       "      <td>14036.66</td>\n",
       "    </tr>\n",
       "  </tbody>\n",
       "</table>\n",
       "</div>"
      ],
      "text/plain": [
       "   user_id  month   mb_used\n",
       "0     1000      5   2253.49\n",
       "1     1000      6  23233.77\n",
       "2     1000      7  14003.64\n",
       "3     1000      8  14055.93\n",
       "4     1000      9  14568.91\n",
       "5     1000     10  14702.49\n",
       "6     1000     11  14756.47\n",
       "7     1000     12   9817.61\n",
       "8     1001     11  18429.34\n",
       "9     1001     12  14036.66"
      ]
     },
     "metadata": {},
     "output_type": "display_data"
    },
    {
     "data": {
      "text/html": [
       "<div>\n",
       "<style scoped>\n",
       "    .dataframe tbody tr th:only-of-type {\n",
       "        vertical-align: middle;\n",
       "    }\n",
       "\n",
       "    .dataframe tbody tr th {\n",
       "        vertical-align: top;\n",
       "    }\n",
       "\n",
       "    .dataframe thead th {\n",
       "        text-align: right;\n",
       "    }\n",
       "</style>\n",
       "<table border=\"1\" class=\"dataframe\">\n",
       "  <thead>\n",
       "    <tr style=\"text-align: right;\">\n",
       "      <th></th>\n",
       "      <th>user_id</th>\n",
       "      <th>month</th>\n",
       "      <th>messages</th>\n",
       "    </tr>\n",
       "  </thead>\n",
       "  <tbody>\n",
       "    <tr>\n",
       "      <td>0</td>\n",
       "      <td>1000</td>\n",
       "      <td>5</td>\n",
       "      <td>22</td>\n",
       "    </tr>\n",
       "    <tr>\n",
       "      <td>1</td>\n",
       "      <td>1000</td>\n",
       "      <td>6</td>\n",
       "      <td>60</td>\n",
       "    </tr>\n",
       "    <tr>\n",
       "      <td>2</td>\n",
       "      <td>1000</td>\n",
       "      <td>7</td>\n",
       "      <td>75</td>\n",
       "    </tr>\n",
       "    <tr>\n",
       "      <td>3</td>\n",
       "      <td>1000</td>\n",
       "      <td>8</td>\n",
       "      <td>81</td>\n",
       "    </tr>\n",
       "    <tr>\n",
       "      <td>4</td>\n",
       "      <td>1000</td>\n",
       "      <td>9</td>\n",
       "      <td>57</td>\n",
       "    </tr>\n",
       "    <tr>\n",
       "      <td>5</td>\n",
       "      <td>1000</td>\n",
       "      <td>10</td>\n",
       "      <td>73</td>\n",
       "    </tr>\n",
       "    <tr>\n",
       "      <td>6</td>\n",
       "      <td>1000</td>\n",
       "      <td>11</td>\n",
       "      <td>58</td>\n",
       "    </tr>\n",
       "    <tr>\n",
       "      <td>7</td>\n",
       "      <td>1000</td>\n",
       "      <td>12</td>\n",
       "      <td>70</td>\n",
       "    </tr>\n",
       "    <tr>\n",
       "      <td>8</td>\n",
       "      <td>1002</td>\n",
       "      <td>6</td>\n",
       "      <td>4</td>\n",
       "    </tr>\n",
       "    <tr>\n",
       "      <td>9</td>\n",
       "      <td>1002</td>\n",
       "      <td>7</td>\n",
       "      <td>11</td>\n",
       "    </tr>\n",
       "  </tbody>\n",
       "</table>\n",
       "</div>"
      ],
      "text/plain": [
       "   user_id  month  messages\n",
       "0     1000      5        22\n",
       "1     1000      6        60\n",
       "2     1000      7        75\n",
       "3     1000      8        81\n",
       "4     1000      9        57\n",
       "5     1000     10        73\n",
       "6     1000     11        58\n",
       "7     1000     12        70\n",
       "8     1002      6         4\n",
       "9     1002      7        11"
      ]
     },
     "metadata": {},
     "output_type": "display_data"
    }
   ],
   "source": [
    "#для звонков\n",
    "calls_grouped = calls.groupby(['user_id','month'], as_index=False).agg({'duration': ['count','sum']})\n",
    "calls_grouped.columns = ['user_id', 'month', 'calls_count', 'calls_sum']\n",
    "display(calls_grouped.head(10))\n",
    "\n",
    "#для интернета\n",
    "internet_grouped = internet.groupby(['user_id','month'], as_index=False).agg({'mb_used':'sum'})\n",
    "display(internet_grouped.head(10))\n",
    "\n",
    "#для смс\n",
    "messages_grouped = messages.groupby(['user_id','month'], as_index=False).agg({'message_date':'count'})\n",
    "messages_grouped.columns = ['user_id', 'month', 'messages']\n",
    "display(messages_grouped.head(10))"
   ]
  },
  {
   "cell_type": "markdown",
   "metadata": {},
   "source": [
    "Теперь округлим мегабайты в гигабайты в соответствии с правилами оператора."
   ]
  },
  {
   "cell_type": "code",
   "execution_count": 14,
   "metadata": {},
   "outputs": [
    {
     "data": {
      "text/html": [
       "<div>\n",
       "<style scoped>\n",
       "    .dataframe tbody tr th:only-of-type {\n",
       "        vertical-align: middle;\n",
       "    }\n",
       "\n",
       "    .dataframe tbody tr th {\n",
       "        vertical-align: top;\n",
       "    }\n",
       "\n",
       "    .dataframe thead th {\n",
       "        text-align: right;\n",
       "    }\n",
       "</style>\n",
       "<table border=\"1\" class=\"dataframe\">\n",
       "  <thead>\n",
       "    <tr style=\"text-align: right;\">\n",
       "      <th></th>\n",
       "      <th>user_id</th>\n",
       "      <th>month</th>\n",
       "      <th>gb_used</th>\n",
       "    </tr>\n",
       "  </thead>\n",
       "  <tbody>\n",
       "    <tr>\n",
       "      <td>0</td>\n",
       "      <td>1000</td>\n",
       "      <td>5</td>\n",
       "      <td>3.0</td>\n",
       "    </tr>\n",
       "    <tr>\n",
       "      <td>1</td>\n",
       "      <td>1000</td>\n",
       "      <td>6</td>\n",
       "      <td>23.0</td>\n",
       "    </tr>\n",
       "    <tr>\n",
       "      <td>2</td>\n",
       "      <td>1000</td>\n",
       "      <td>7</td>\n",
       "      <td>14.0</td>\n",
       "    </tr>\n",
       "    <tr>\n",
       "      <td>3</td>\n",
       "      <td>1000</td>\n",
       "      <td>8</td>\n",
       "      <td>14.0</td>\n",
       "    </tr>\n",
       "    <tr>\n",
       "      <td>4</td>\n",
       "      <td>1000</td>\n",
       "      <td>9</td>\n",
       "      <td>15.0</td>\n",
       "    </tr>\n",
       "  </tbody>\n",
       "</table>\n",
       "</div>"
      ],
      "text/plain": [
       "   user_id  month  gb_used\n",
       "0     1000      5      3.0\n",
       "1     1000      6     23.0\n",
       "2     1000      7     14.0\n",
       "3     1000      8     14.0\n",
       "4     1000      9     15.0"
      ]
     },
     "execution_count": 14,
     "metadata": {},
     "output_type": "execute_result"
    }
   ],
   "source": [
    "#переводим в гигабайты\n",
    "internet_grouped['mb_used'] = internet_grouped['mb_used']/1024\n",
    "\n",
    "#также переводим в гигабайты и в таблице Tariffs\n",
    "tariffs['mb_per_month_included'] = tariffs['mb_per_month_included']/1024\n",
    "tariffs.rename(columns={'mb_per_month_included':'gb_per_month_included'}, inplace = True)\n",
    "\n",
    "#округляем\n",
    "internet_grouped['mb_used'] = np.ceil(internet_grouped['mb_used'])\n",
    "internet_grouped.columns = ['user_id', 'month', 'gb_used']\n",
    "internet_grouped.head()"
   ]
  },
  {
   "cell_type": "markdown",
   "metadata": {},
   "source": [
    "Остался последний шаг: склеим все данные в одну таблицу, где будет вся помесячная статистика для каждого пользователя."
   ]
  },
  {
   "cell_type": "code",
   "execution_count": 15,
   "metadata": {},
   "outputs": [
    {
     "name": "stdout",
     "output_type": "stream",
     "text": [
      "<class 'pandas.core.frame.DataFrame'>\n",
      "Int64Index: 3214 entries, 0 to 3213\n",
      "Data columns (total 21 columns):\n",
      "user_id                  3214 non-null int64\n",
      "month                    3214 non-null int64\n",
      "calls_count              3174 non-null float64\n",
      "calls_sum                3174 non-null float64\n",
      "gb_used                  3201 non-null float64\n",
      "messages                 2717 non-null float64\n",
      "age                      3214 non-null int64\n",
      "churn_date               187 non-null datetime64[ns]\n",
      "city                     3214 non-null object\n",
      "first_name               3214 non-null object\n",
      "last_name                3214 non-null object\n",
      "reg_date                 3214 non-null datetime64[ns]\n",
      "tariff                   3214 non-null object\n",
      "city_type                3214 non-null int64\n",
      "messages_included        3214 non-null int64\n",
      "gb_per_month_included    3214 non-null float64\n",
      "minutes_included         3214 non-null int64\n",
      "rub_monthly_fee          3214 non-null int64\n",
      "rub_per_gb               3214 non-null int64\n",
      "rub_per_message          3214 non-null int64\n",
      "rub_per_minute           3214 non-null int64\n",
      "dtypes: datetime64[ns](2), float64(5), int64(10), object(4)\n",
      "memory usage: 552.4+ KB\n"
     ]
    },
    {
     "data": {
      "text/html": [
       "<div>\n",
       "<style scoped>\n",
       "    .dataframe tbody tr th:only-of-type {\n",
       "        vertical-align: middle;\n",
       "    }\n",
       "\n",
       "    .dataframe tbody tr th {\n",
       "        vertical-align: top;\n",
       "    }\n",
       "\n",
       "    .dataframe thead th {\n",
       "        text-align: right;\n",
       "    }\n",
       "</style>\n",
       "<table border=\"1\" class=\"dataframe\">\n",
       "  <thead>\n",
       "    <tr style=\"text-align: right;\">\n",
       "      <th></th>\n",
       "      <th>user_id</th>\n",
       "      <th>month</th>\n",
       "      <th>calls_count</th>\n",
       "      <th>calls_sum</th>\n",
       "      <th>gb_used</th>\n",
       "      <th>messages</th>\n",
       "      <th>age</th>\n",
       "      <th>churn_date</th>\n",
       "      <th>city</th>\n",
       "      <th>first_name</th>\n",
       "      <th>last_name</th>\n",
       "      <th>reg_date</th>\n",
       "      <th>tariff</th>\n",
       "      <th>city_type</th>\n",
       "      <th>messages_included</th>\n",
       "      <th>gb_per_month_included</th>\n",
       "      <th>minutes_included</th>\n",
       "      <th>rub_monthly_fee</th>\n",
       "      <th>rub_per_gb</th>\n",
       "      <th>rub_per_message</th>\n",
       "      <th>rub_per_minute</th>\n",
       "    </tr>\n",
       "  </thead>\n",
       "  <tbody>\n",
       "    <tr>\n",
       "      <td>0</td>\n",
       "      <td>1000</td>\n",
       "      <td>5</td>\n",
       "      <td>22.0</td>\n",
       "      <td>159.0</td>\n",
       "      <td>3.0</td>\n",
       "      <td>22.0</td>\n",
       "      <td>52</td>\n",
       "      <td>NaT</td>\n",
       "      <td>Краснодар</td>\n",
       "      <td>Рафаил</td>\n",
       "      <td>Верещагин</td>\n",
       "      <td>2018-05-25</td>\n",
       "      <td>ultra</td>\n",
       "      <td>0</td>\n",
       "      <td>1000</td>\n",
       "      <td>30.0</td>\n",
       "      <td>3000</td>\n",
       "      <td>1950</td>\n",
       "      <td>150</td>\n",
       "      <td>1</td>\n",
       "      <td>1</td>\n",
       "    </tr>\n",
       "    <tr>\n",
       "      <td>1</td>\n",
       "      <td>1000</td>\n",
       "      <td>6</td>\n",
       "      <td>43.0</td>\n",
       "      <td>172.0</td>\n",
       "      <td>23.0</td>\n",
       "      <td>60.0</td>\n",
       "      <td>52</td>\n",
       "      <td>NaT</td>\n",
       "      <td>Краснодар</td>\n",
       "      <td>Рафаил</td>\n",
       "      <td>Верещагин</td>\n",
       "      <td>2018-05-25</td>\n",
       "      <td>ultra</td>\n",
       "      <td>0</td>\n",
       "      <td>1000</td>\n",
       "      <td>30.0</td>\n",
       "      <td>3000</td>\n",
       "      <td>1950</td>\n",
       "      <td>150</td>\n",
       "      <td>1</td>\n",
       "      <td>1</td>\n",
       "    </tr>\n",
       "    <tr>\n",
       "      <td>2</td>\n",
       "      <td>1000</td>\n",
       "      <td>7</td>\n",
       "      <td>47.0</td>\n",
       "      <td>340.0</td>\n",
       "      <td>14.0</td>\n",
       "      <td>75.0</td>\n",
       "      <td>52</td>\n",
       "      <td>NaT</td>\n",
       "      <td>Краснодар</td>\n",
       "      <td>Рафаил</td>\n",
       "      <td>Верещагин</td>\n",
       "      <td>2018-05-25</td>\n",
       "      <td>ultra</td>\n",
       "      <td>0</td>\n",
       "      <td>1000</td>\n",
       "      <td>30.0</td>\n",
       "      <td>3000</td>\n",
       "      <td>1950</td>\n",
       "      <td>150</td>\n",
       "      <td>1</td>\n",
       "      <td>1</td>\n",
       "    </tr>\n",
       "    <tr>\n",
       "      <td>3</td>\n",
       "      <td>1000</td>\n",
       "      <td>8</td>\n",
       "      <td>52.0</td>\n",
       "      <td>408.0</td>\n",
       "      <td>14.0</td>\n",
       "      <td>81.0</td>\n",
       "      <td>52</td>\n",
       "      <td>NaT</td>\n",
       "      <td>Краснодар</td>\n",
       "      <td>Рафаил</td>\n",
       "      <td>Верещагин</td>\n",
       "      <td>2018-05-25</td>\n",
       "      <td>ultra</td>\n",
       "      <td>0</td>\n",
       "      <td>1000</td>\n",
       "      <td>30.0</td>\n",
       "      <td>3000</td>\n",
       "      <td>1950</td>\n",
       "      <td>150</td>\n",
       "      <td>1</td>\n",
       "      <td>1</td>\n",
       "    </tr>\n",
       "    <tr>\n",
       "      <td>4</td>\n",
       "      <td>1000</td>\n",
       "      <td>9</td>\n",
       "      <td>58.0</td>\n",
       "      <td>466.0</td>\n",
       "      <td>15.0</td>\n",
       "      <td>57.0</td>\n",
       "      <td>52</td>\n",
       "      <td>NaT</td>\n",
       "      <td>Краснодар</td>\n",
       "      <td>Рафаил</td>\n",
       "      <td>Верещагин</td>\n",
       "      <td>2018-05-25</td>\n",
       "      <td>ultra</td>\n",
       "      <td>0</td>\n",
       "      <td>1000</td>\n",
       "      <td>30.0</td>\n",
       "      <td>3000</td>\n",
       "      <td>1950</td>\n",
       "      <td>150</td>\n",
       "      <td>1</td>\n",
       "      <td>1</td>\n",
       "    </tr>\n",
       "  </tbody>\n",
       "</table>\n",
       "</div>"
      ],
      "text/plain": [
       "   user_id  month  calls_count  calls_sum  gb_used  messages  age churn_date  \\\n",
       "0     1000      5         22.0      159.0      3.0      22.0   52        NaT   \n",
       "1     1000      6         43.0      172.0     23.0      60.0   52        NaT   \n",
       "2     1000      7         47.0      340.0     14.0      75.0   52        NaT   \n",
       "3     1000      8         52.0      408.0     14.0      81.0   52        NaT   \n",
       "4     1000      9         58.0      466.0     15.0      57.0   52        NaT   \n",
       "\n",
       "        city first_name  last_name   reg_date tariff  city_type  \\\n",
       "0  Краснодар     Рафаил  Верещагин 2018-05-25  ultra          0   \n",
       "1  Краснодар     Рафаил  Верещагин 2018-05-25  ultra          0   \n",
       "2  Краснодар     Рафаил  Верещагин 2018-05-25  ultra          0   \n",
       "3  Краснодар     Рафаил  Верещагин 2018-05-25  ultra          0   \n",
       "4  Краснодар     Рафаил  Верещагин 2018-05-25  ultra          0   \n",
       "\n",
       "   messages_included  gb_per_month_included  minutes_included  \\\n",
       "0               1000                   30.0              3000   \n",
       "1               1000                   30.0              3000   \n",
       "2               1000                   30.0              3000   \n",
       "3               1000                   30.0              3000   \n",
       "4               1000                   30.0              3000   \n",
       "\n",
       "   rub_monthly_fee  rub_per_gb  rub_per_message  rub_per_minute  \n",
       "0             1950         150                1               1  \n",
       "1             1950         150                1               1  \n",
       "2             1950         150                1               1  \n",
       "3             1950         150                1               1  \n",
       "4             1950         150                1               1  "
      ]
     },
     "execution_count": 15,
     "metadata": {},
     "output_type": "execute_result"
    }
   ],
   "source": [
    "user_data = calls_grouped.merge(internet_grouped, on=['user_id','month'], how='outer')\n",
    "user_data = user_data.merge(messages_grouped, on=['user_id','month'], how='outer')\n",
    "user_data = user_data.merge(users, on=['user_id'], how='left')\n",
    "\n",
    "#приведем название столбца с тарифами к одному виду, чтобы успешно соединить таблицы\n",
    "tariffs.rename(columns={'tariff_name':'tariff'}, inplace = True)\n",
    "user_data = user_data.merge(tariffs, on=['tariff'], how='left')\n",
    "\n",
    "#опция чтобы увидеть все столбцы\n",
    "pd.options.display.max_columns = None\n",
    "\n",
    "user_data.info()\n",
    "user_data.head()"
   ]
  },
  {
   "cell_type": "markdown",
   "metadata": {},
   "source": [
    "Теперь посчитаем выручку с пользователя. "
   ]
  },
  {
   "cell_type": "code",
   "execution_count": 16,
   "metadata": {},
   "outputs": [
    {
     "data": {
      "text/html": [
       "<div>\n",
       "<style scoped>\n",
       "    .dataframe tbody tr th:only-of-type {\n",
       "        vertical-align: middle;\n",
       "    }\n",
       "\n",
       "    .dataframe tbody tr th {\n",
       "        vertical-align: top;\n",
       "    }\n",
       "\n",
       "    .dataframe thead th {\n",
       "        text-align: right;\n",
       "    }\n",
       "</style>\n",
       "<table border=\"1\" class=\"dataframe\">\n",
       "  <thead>\n",
       "    <tr style=\"text-align: right;\">\n",
       "      <th></th>\n",
       "      <th>user_id</th>\n",
       "      <th>month</th>\n",
       "      <th>calls_count</th>\n",
       "      <th>calls_sum</th>\n",
       "      <th>gb_used</th>\n",
       "      <th>messages</th>\n",
       "      <th>age</th>\n",
       "      <th>churn_date</th>\n",
       "      <th>city</th>\n",
       "      <th>first_name</th>\n",
       "      <th>last_name</th>\n",
       "      <th>reg_date</th>\n",
       "      <th>tariff</th>\n",
       "      <th>city_type</th>\n",
       "      <th>messages_included</th>\n",
       "      <th>gb_per_month_included</th>\n",
       "      <th>minutes_included</th>\n",
       "      <th>rub_monthly_fee</th>\n",
       "      <th>rub_per_gb</th>\n",
       "      <th>rub_per_message</th>\n",
       "      <th>rub_per_minute</th>\n",
       "      <th>min_over</th>\n",
       "      <th>gb_over</th>\n",
       "      <th>sms_over</th>\n",
       "      <th>monthly_cash</th>\n",
       "    </tr>\n",
       "  </thead>\n",
       "  <tbody>\n",
       "    <tr>\n",
       "      <td>0</td>\n",
       "      <td>1000</td>\n",
       "      <td>5</td>\n",
       "      <td>22.0</td>\n",
       "      <td>159.0</td>\n",
       "      <td>3.0</td>\n",
       "      <td>22.0</td>\n",
       "      <td>52</td>\n",
       "      <td>NaT</td>\n",
       "      <td>Краснодар</td>\n",
       "      <td>Рафаил</td>\n",
       "      <td>Верещагин</td>\n",
       "      <td>2018-05-25</td>\n",
       "      <td>ultra</td>\n",
       "      <td>0</td>\n",
       "      <td>1000</td>\n",
       "      <td>30.0</td>\n",
       "      <td>3000</td>\n",
       "      <td>1950</td>\n",
       "      <td>150</td>\n",
       "      <td>1</td>\n",
       "      <td>1</td>\n",
       "      <td>0.0</td>\n",
       "      <td>0.0</td>\n",
       "      <td>0.0</td>\n",
       "      <td>1950.0</td>\n",
       "    </tr>\n",
       "    <tr>\n",
       "      <td>1</td>\n",
       "      <td>1000</td>\n",
       "      <td>6</td>\n",
       "      <td>43.0</td>\n",
       "      <td>172.0</td>\n",
       "      <td>23.0</td>\n",
       "      <td>60.0</td>\n",
       "      <td>52</td>\n",
       "      <td>NaT</td>\n",
       "      <td>Краснодар</td>\n",
       "      <td>Рафаил</td>\n",
       "      <td>Верещагин</td>\n",
       "      <td>2018-05-25</td>\n",
       "      <td>ultra</td>\n",
       "      <td>0</td>\n",
       "      <td>1000</td>\n",
       "      <td>30.0</td>\n",
       "      <td>3000</td>\n",
       "      <td>1950</td>\n",
       "      <td>150</td>\n",
       "      <td>1</td>\n",
       "      <td>1</td>\n",
       "      <td>0.0</td>\n",
       "      <td>0.0</td>\n",
       "      <td>0.0</td>\n",
       "      <td>1950.0</td>\n",
       "    </tr>\n",
       "    <tr>\n",
       "      <td>2</td>\n",
       "      <td>1000</td>\n",
       "      <td>7</td>\n",
       "      <td>47.0</td>\n",
       "      <td>340.0</td>\n",
       "      <td>14.0</td>\n",
       "      <td>75.0</td>\n",
       "      <td>52</td>\n",
       "      <td>NaT</td>\n",
       "      <td>Краснодар</td>\n",
       "      <td>Рафаил</td>\n",
       "      <td>Верещагин</td>\n",
       "      <td>2018-05-25</td>\n",
       "      <td>ultra</td>\n",
       "      <td>0</td>\n",
       "      <td>1000</td>\n",
       "      <td>30.0</td>\n",
       "      <td>3000</td>\n",
       "      <td>1950</td>\n",
       "      <td>150</td>\n",
       "      <td>1</td>\n",
       "      <td>1</td>\n",
       "      <td>0.0</td>\n",
       "      <td>0.0</td>\n",
       "      <td>0.0</td>\n",
       "      <td>1950.0</td>\n",
       "    </tr>\n",
       "    <tr>\n",
       "      <td>3</td>\n",
       "      <td>1000</td>\n",
       "      <td>8</td>\n",
       "      <td>52.0</td>\n",
       "      <td>408.0</td>\n",
       "      <td>14.0</td>\n",
       "      <td>81.0</td>\n",
       "      <td>52</td>\n",
       "      <td>NaT</td>\n",
       "      <td>Краснодар</td>\n",
       "      <td>Рафаил</td>\n",
       "      <td>Верещагин</td>\n",
       "      <td>2018-05-25</td>\n",
       "      <td>ultra</td>\n",
       "      <td>0</td>\n",
       "      <td>1000</td>\n",
       "      <td>30.0</td>\n",
       "      <td>3000</td>\n",
       "      <td>1950</td>\n",
       "      <td>150</td>\n",
       "      <td>1</td>\n",
       "      <td>1</td>\n",
       "      <td>0.0</td>\n",
       "      <td>0.0</td>\n",
       "      <td>0.0</td>\n",
       "      <td>1950.0</td>\n",
       "    </tr>\n",
       "    <tr>\n",
       "      <td>4</td>\n",
       "      <td>1000</td>\n",
       "      <td>9</td>\n",
       "      <td>58.0</td>\n",
       "      <td>466.0</td>\n",
       "      <td>15.0</td>\n",
       "      <td>57.0</td>\n",
       "      <td>52</td>\n",
       "      <td>NaT</td>\n",
       "      <td>Краснодар</td>\n",
       "      <td>Рафаил</td>\n",
       "      <td>Верещагин</td>\n",
       "      <td>2018-05-25</td>\n",
       "      <td>ultra</td>\n",
       "      <td>0</td>\n",
       "      <td>1000</td>\n",
       "      <td>30.0</td>\n",
       "      <td>3000</td>\n",
       "      <td>1950</td>\n",
       "      <td>150</td>\n",
       "      <td>1</td>\n",
       "      <td>1</td>\n",
       "      <td>0.0</td>\n",
       "      <td>0.0</td>\n",
       "      <td>0.0</td>\n",
       "      <td>1950.0</td>\n",
       "    </tr>\n",
       "  </tbody>\n",
       "</table>\n",
       "</div>"
      ],
      "text/plain": [
       "   user_id  month  calls_count  calls_sum  gb_used  messages  age churn_date  \\\n",
       "0     1000      5         22.0      159.0      3.0      22.0   52        NaT   \n",
       "1     1000      6         43.0      172.0     23.0      60.0   52        NaT   \n",
       "2     1000      7         47.0      340.0     14.0      75.0   52        NaT   \n",
       "3     1000      8         52.0      408.0     14.0      81.0   52        NaT   \n",
       "4     1000      9         58.0      466.0     15.0      57.0   52        NaT   \n",
       "\n",
       "        city first_name  last_name   reg_date tariff  city_type  \\\n",
       "0  Краснодар     Рафаил  Верещагин 2018-05-25  ultra          0   \n",
       "1  Краснодар     Рафаил  Верещагин 2018-05-25  ultra          0   \n",
       "2  Краснодар     Рафаил  Верещагин 2018-05-25  ultra          0   \n",
       "3  Краснодар     Рафаил  Верещагин 2018-05-25  ultra          0   \n",
       "4  Краснодар     Рафаил  Верещагин 2018-05-25  ultra          0   \n",
       "\n",
       "   messages_included  gb_per_month_included  minutes_included  \\\n",
       "0               1000                   30.0              3000   \n",
       "1               1000                   30.0              3000   \n",
       "2               1000                   30.0              3000   \n",
       "3               1000                   30.0              3000   \n",
       "4               1000                   30.0              3000   \n",
       "\n",
       "   rub_monthly_fee  rub_per_gb  rub_per_message  rub_per_minute  min_over  \\\n",
       "0             1950         150                1               1       0.0   \n",
       "1             1950         150                1               1       0.0   \n",
       "2             1950         150                1               1       0.0   \n",
       "3             1950         150                1               1       0.0   \n",
       "4             1950         150                1               1       0.0   \n",
       "\n",
       "   gb_over  sms_over  monthly_cash  \n",
       "0      0.0       0.0        1950.0  \n",
       "1      0.0       0.0        1950.0  \n",
       "2      0.0       0.0        1950.0  \n",
       "3      0.0       0.0        1950.0  \n",
       "4      0.0       0.0        1950.0  "
      ]
     },
     "execution_count": 16,
     "metadata": {},
     "output_type": "execute_result"
    }
   ],
   "source": [
    "def min_over(row_values):\n",
    "    result = (row_values['calls_sum'] - row_values['minutes_included']) * row_values['rub_per_minute']\n",
    "    if result >0: return result\n",
    "    return 0\n",
    "\n",
    "def gb_over(row_values):\n",
    "    result = (row_values['gb_used'] - row_values['gb_per_month_included']) * row_values['rub_per_gb']\n",
    "    if result >0: return result\n",
    "    return 0\n",
    "\n",
    "def sms_over(row_values):\n",
    "    result = (row_values['messages'] - row_values['messages_included']) * row_values['rub_per_message']\n",
    "    if result >0: return result\n",
    "    return 0\n",
    "\n",
    "user_data['min_over'] = user_data.apply(min_over, axis = 1)\n",
    "user_data['gb_over'] = user_data.apply(gb_over, axis = 1)\n",
    "user_data['sms_over'] = user_data.apply(sms_over, axis = 1)\n",
    "\n",
    "user_data['monthly_cash'] = user_data['rub_monthly_fee'] + user_data['min_over'] + user_data['gb_over'] + user_data['sms_over']\n",
    "user_data.head()"
   ]
  },
  {
   "cell_type": "markdown",
   "metadata": {},
   "source": [
    "И выделим в отдельную таблицу, добавив столбцы с тарифом и регионом:"
   ]
  },
  {
   "cell_type": "code",
   "execution_count": 17,
   "metadata": {},
   "outputs": [
    {
     "data": {
      "text/html": [
       "<div>\n",
       "<style scoped>\n",
       "    .dataframe tbody tr th:only-of-type {\n",
       "        vertical-align: middle;\n",
       "    }\n",
       "\n",
       "    .dataframe tbody tr th {\n",
       "        vertical-align: top;\n",
       "    }\n",
       "\n",
       "    .dataframe thead th {\n",
       "        text-align: right;\n",
       "    }\n",
       "</style>\n",
       "<table border=\"1\" class=\"dataframe\">\n",
       "  <thead>\n",
       "    <tr style=\"text-align: right;\">\n",
       "      <th></th>\n",
       "      <th>user_id</th>\n",
       "      <th>month</th>\n",
       "      <th>tariff</th>\n",
       "      <th>city_type</th>\n",
       "      <th>monthly_cash</th>\n",
       "    </tr>\n",
       "  </thead>\n",
       "  <tbody>\n",
       "    <tr>\n",
       "      <td>0</td>\n",
       "      <td>1000</td>\n",
       "      <td>5</td>\n",
       "      <td>ultra</td>\n",
       "      <td>0</td>\n",
       "      <td>1950.0</td>\n",
       "    </tr>\n",
       "    <tr>\n",
       "      <td>1</td>\n",
       "      <td>1000</td>\n",
       "      <td>6</td>\n",
       "      <td>ultra</td>\n",
       "      <td>0</td>\n",
       "      <td>1950.0</td>\n",
       "    </tr>\n",
       "    <tr>\n",
       "      <td>2</td>\n",
       "      <td>1000</td>\n",
       "      <td>7</td>\n",
       "      <td>ultra</td>\n",
       "      <td>0</td>\n",
       "      <td>1950.0</td>\n",
       "    </tr>\n",
       "    <tr>\n",
       "      <td>3</td>\n",
       "      <td>1000</td>\n",
       "      <td>8</td>\n",
       "      <td>ultra</td>\n",
       "      <td>0</td>\n",
       "      <td>1950.0</td>\n",
       "    </tr>\n",
       "    <tr>\n",
       "      <td>4</td>\n",
       "      <td>1000</td>\n",
       "      <td>9</td>\n",
       "      <td>ultra</td>\n",
       "      <td>0</td>\n",
       "      <td>1950.0</td>\n",
       "    </tr>\n",
       "    <tr>\n",
       "      <td>...</td>\n",
       "      <td>...</td>\n",
       "      <td>...</td>\n",
       "      <td>...</td>\n",
       "      <td>...</td>\n",
       "      <td>...</td>\n",
       "    </tr>\n",
       "    <tr>\n",
       "      <td>3209</td>\n",
       "      <td>1498</td>\n",
       "      <td>10</td>\n",
       "      <td>smart</td>\n",
       "      <td>0</td>\n",
       "      <td>1750.0</td>\n",
       "    </tr>\n",
       "    <tr>\n",
       "      <td>3210</td>\n",
       "      <td>1499</td>\n",
       "      <td>9</td>\n",
       "      <td>smart</td>\n",
       "      <td>0</td>\n",
       "      <td>550.0</td>\n",
       "    </tr>\n",
       "    <tr>\n",
       "      <td>3211</td>\n",
       "      <td>1499</td>\n",
       "      <td>10</td>\n",
       "      <td>smart</td>\n",
       "      <td>0</td>\n",
       "      <td>1150.0</td>\n",
       "    </tr>\n",
       "    <tr>\n",
       "      <td>3212</td>\n",
       "      <td>1499</td>\n",
       "      <td>11</td>\n",
       "      <td>smart</td>\n",
       "      <td>0</td>\n",
       "      <td>1513.0</td>\n",
       "    </tr>\n",
       "    <tr>\n",
       "      <td>3213</td>\n",
       "      <td>1499</td>\n",
       "      <td>12</td>\n",
       "      <td>smart</td>\n",
       "      <td>0</td>\n",
       "      <td>598.0</td>\n",
       "    </tr>\n",
       "  </tbody>\n",
       "</table>\n",
       "<p>3214 rows × 5 columns</p>\n",
       "</div>"
      ],
      "text/plain": [
       "      user_id  month tariff  city_type  monthly_cash\n",
       "0        1000      5  ultra          0        1950.0\n",
       "1        1000      6  ultra          0        1950.0\n",
       "2        1000      7  ultra          0        1950.0\n",
       "3        1000      8  ultra          0        1950.0\n",
       "4        1000      9  ultra          0        1950.0\n",
       "...       ...    ...    ...        ...           ...\n",
       "3209     1498     10  smart          0        1750.0\n",
       "3210     1499      9  smart          0         550.0\n",
       "3211     1499     10  smart          0        1150.0\n",
       "3212     1499     11  smart          0        1513.0\n",
       "3213     1499     12  smart          0         598.0\n",
       "\n",
       "[3214 rows x 5 columns]"
      ]
     },
     "execution_count": 17,
     "metadata": {},
     "output_type": "execute_result"
    }
   ],
   "source": [
    "user_rev = user_data.pivot_table(index=['user_id', 'month', 'tariff', 'city_type'], values = 'monthly_cash', aggfunc='sum').reset_index()\n",
    "user_rev"
   ]
  },
  {
   "cell_type": "markdown",
   "metadata": {},
   "source": [
    "## Расчёты и анализ результатов"
   ]
  },
  {
   "cell_type": "markdown",
   "metadata": {},
   "source": [
    "Опишем тариф Ultra."
   ]
  },
  {
   "cell_type": "code",
   "execution_count": 18,
   "metadata": {},
   "outputs": [
    {
     "data": {
      "image/png": "[encoded data removed]",
      "text/plain": [
       "<Figure size 720x504 with 1 Axes>"
      ]
     },
     "metadata": {
      "needs_background": "light"
     },
     "output_type": "display_data"
    },
    {
     "data": {
      "image/png": "[encoded data removed]",
      "text/plain": [
       "<Figure size 720x504 with 1 Axes>"
      ]
     },
     "metadata": {
      "needs_background": "light"
     },
     "output_type": "display_data"
    },
    {
     "data": {
      "text/plain": [
       "count     951.000000\n",
       "mean      545.451104\n",
       "std       306.925754\n",
       "min         0.000000\n",
       "25%       310.000000\n",
       "50%       528.000000\n",
       "75%       756.500000\n",
       "max      1673.000000\n",
       "Name: calls_sum, dtype: float64"
      ]
     },
     "metadata": {},
     "output_type": "display_data"
    },
    {
     "data": {
      "image/png": "[encoded data removed]",
      "text/plain": [
       "<Figure size 720x504 with 1 Axes>"
      ]
     },
     "metadata": {
      "needs_background": "light"
     },
     "output_type": "display_data"
    },
    {
     "data": {
      "image/png": "[encoded data removed]",
      "text/plain": [
       "<Figure size 720x504 with 1 Axes>"
      ]
     },
     "metadata": {
      "needs_background": "light"
     },
     "output_type": "display_data"
    },
    {
     "data": {
      "text/plain": [
       "count    795.000000\n",
       "mean      61.161006\n",
       "std       45.931026\n",
       "min        1.000000\n",
       "25%       24.000000\n",
       "50%       51.000000\n",
       "75%       87.500000\n",
       "max      224.000000\n",
       "Name: messages, dtype: float64"
      ]
     },
     "metadata": {},
     "output_type": "display_data"
    },
    {
     "data": {
      "image/png": "[encoded data removed]",
      "text/plain": [
       "<Figure size 720x504 with 1 Axes>"
      ]
     },
     "metadata": {
      "needs_background": "light"
     },
     "output_type": "display_data"
    },
    {
     "data": {
      "image/png": "[encoded data removed]",
      "text/plain": [
       "<Figure size 720x504 with 1 Axes>"
      ]
     },
     "metadata": {
      "needs_background": "light"
     },
     "output_type": "display_data"
    },
    {
     "data": {
      "text/plain": [
       "count    974.000000\n",
       "mean      19.714579\n",
       "std        9.687335\n",
       "min        1.000000\n",
       "25%       12.000000\n",
       "50%       19.000000\n",
       "75%       27.000000\n",
       "max       49.000000\n",
       "Name: gb_used, dtype: float64"
      ]
     },
     "metadata": {},
     "output_type": "display_data"
    }
   ],
   "source": [
    "ultra = user_data.query('tariff == \"ultra\"')\n",
    "\n",
    "cols = ['calls_sum', 'messages', 'gb_used']\n",
    "for col in cols:\n",
    "    plt.figure(figsize=(10,7))\n",
    "    plt.title(col)\n",
    "    ultra[col].hist(bins = 100)\n",
    "    plt.show()\n",
    "    plt.figure(figsize=(10,7))\n",
    "    ultra.boxplot(column=col)\n",
    "    plt.show()\n",
    "    display(ultra[col].describe())\n"
   ]
  },
  {
   "cell_type": "code",
   "execution_count": 19,
   "metadata": {},
   "outputs": [
    {
     "data": {
      "image/png": "[encoded data removed]",
      "text/plain": [
       "<Figure size 1080x720 with 2 Axes>"
      ]
     },
     "metadata": {
      "needs_background": "light"
     },
     "output_type": "display_data"
    }
   ],
   "source": [
    "def plot_hist_boxplot(df, group_col, column, title = 'Диаграмма распределений и боксплоты', bins = [50, 50]):\n",
    "    \n",
    "    np.warnings.filterwarnings('ignore', category=np.VisibleDeprecationWarning)\n",
    "    \n",
    "    fig, axes = plt.subplots(2, 1, figsize=(15, 10))\n",
    "    \n",
    "    for item in df[group_col].unique():\n",
    "        axes[0].hist(df.loc[df[group_col] == item, column], bins = bins[0], label = item, alpha = 0.5)\n",
    "    axes[0].legend()\n",
    "    axes[0].grid()\n",
    "    \n",
    "    df.boxplot(column, by=group_col, ax = axes[1], vert = False)\n",
    "    fig.suptitle(title)\n",
    "    \n",
    "    plt.show()\n",
    "    \n",
    "plot_hist_boxplot(user_data, 'tariff', 'calls_sum')"
   ]
  },
  {
   "cell_type": "markdown",
   "metadata": {},
   "source": [
    "Медианные значения для пользователей Ультра:\n",
    "- звонки 756 минут. Все пользователи уложились в лимит 3000 минут, значит его более чем достаточно.\n",
    "- смс 51 шт. График смещен влево - значит что большинство пользователей уменьшает использование смс, тем более 1000 смс в месяц слишком много, самое большое значение было 224 шт за месяц.\n",
    "- интернет 19 ГБ. Более чем в 75% случаев пользователи уложились в лимит 30ГБ, значит, что он в целом адекватен.\n",
    "\n",
    "Посчитаем дисперсию и стандартное отклонение для этих значений. \n",
    "Исходные данные будем считать выборкой, а не генеральной совокупностью, т.к. у федерального оператора сотовой связи явно в разы больше пользователей, чем 500 человек. Поэтому будем приминять соответствующий коэффициент в расчетах."
   ]
  },
  {
   "cell_type": "code",
   "execution_count": 20,
   "metadata": {},
   "outputs": [
    {
     "name": "stdout",
     "output_type": "stream",
     "text": [
      "ДЛЯ ULTRA:\n",
      " \n",
      "Дисперсия для calls_sum 94203.41839614812\n",
      "Стандартное отклонение для  calls_sum : 306.92575388218586\n",
      "\n",
      "Дисперсия для messages 2109.6591828651995\n",
      "Стандартное отклонение для  messages : 45.93102636416042\n",
      "\n",
      "Дисперсия для gb_used 93.84445321419604\n",
      "Стандартное отклонение для  gb_used : 9.687334680612414\n",
      "\n"
     ]
    }
   ],
   "source": [
    "print('ДЛЯ ULTRA:')\n",
    "print(' ')\n",
    "for col in cols:\n",
    "    print('Дисперсия для', col, np.var(ultra[col], ddof=1))\n",
    "    print('Стандартное отклонение для ', col, ':', np.std(ultra[col], ddof=1))\n",
    "    print('')\n",
    "    "
   ]
  },
  {
   "cell_type": "markdown",
   "metadata": {},
   "source": [
    "Теперь возьмемся за второй тариф Smart."
   ]
  },
  {
   "cell_type": "code",
   "execution_count": 21,
   "metadata": {},
   "outputs": [
    {
     "data": {
      "image/png": "[encoded data removed]",
      "text/plain": [
       "<Figure size 720x504 with 1 Axes>"
      ]
     },
     "metadata": {
      "needs_background": "light"
     },
     "output_type": "display_data"
    },
    {
     "data": {
      "image/png": "[encoded data removed]",
      "text/plain": [
       "<Figure size 720x504 with 1 Axes>"
      ]
     },
     "metadata": {
      "needs_background": "light"
     },
     "output_type": "display_data"
    },
    {
     "data": {
      "text/plain": [
       "count    2223.000000\n",
       "mean      419.062978\n",
       "std       189.325618\n",
       "min         0.000000\n",
       "25%       285.000000\n",
       "50%       423.000000\n",
       "75%       545.500000\n",
       "max      1435.000000\n",
       "Name: calls_sum, dtype: float64"
      ]
     },
     "metadata": {},
     "output_type": "display_data"
    },
    {
     "data": {
      "image/png": "[encoded data removed]",
      "text/plain": [
       "<Figure size 720x504 with 1 Axes>"
      ]
     },
     "metadata": {
      "needs_background": "light"
     },
     "output_type": "display_data"
    },
    {
     "data": {
      "image/png": "[encoded data removed]",
      "text/plain": [
       "<Figure size 720x504 with 1 Axes>"
      ]
     },
     "metadata": {
      "needs_background": "light"
     },
     "output_type": "display_data"
    },
    {
     "data": {
      "text/plain": [
       "count    1922.000000\n",
       "mean       38.716441\n",
       "std        26.787949\n",
       "min         1.000000\n",
       "25%        17.000000\n",
       "50%        34.000000\n",
       "75%        55.000000\n",
       "max       143.000000\n",
       "Name: messages, dtype: float64"
      ]
     },
     "metadata": {},
     "output_type": "display_data"
    },
    {
     "data": {
      "image/png": "[encoded data removed]",
      "text/plain": [
       "<Figure size 720x504 with 1 Axes>"
      ]
     },
     "metadata": {
      "needs_background": "light"
     },
     "output_type": "display_data"
    },
    {
     "data": {
      "image/png": "[encoded data removed]",
      "text/plain": [
       "<Figure size 720x504 with 1 Axes>"
      ]
     },
     "metadata": {
      "needs_background": "light"
     },
     "output_type": "display_data"
    },
    {
     "data": {
      "text/plain": [
       "count    2227.000000\n",
       "mean       16.343511\n",
       "std         5.728752\n",
       "min         1.000000\n",
       "25%        13.000000\n",
       "50%        17.000000\n",
       "75%        20.000000\n",
       "max        38.000000\n",
       "Name: gb_used, dtype: float64"
      ]
     },
     "metadata": {},
     "output_type": "display_data"
    }
   ],
   "source": [
    "smart = user_data.query('tariff == \"smart\"')\n",
    "\n",
    "for col in cols:\n",
    "    plt.figure(figsize=(10,7))\n",
    "    plt.title(col)\n",
    "    smart[col].hist(bins = 100)\n",
    "    plt.show()\n",
    "    plt.figure(figsize=(10,7))\n",
    "    smart.boxplot(column=col)\n",
    "    plt.show()\n",
    "    display(smart[col].describe())\n",
    "\n"
   ]
  },
  {
   "cell_type": "markdown",
   "metadata": {},
   "source": [
    "Медианные значения для пользователей Смарт:\n",
    "- звонки 423 минуты. Можно отметить, что практически в 75% случаев пользователи укладываются в лимит 500 минут, то есть его в целом хватает.\n",
    "- смс 34 шт (график также смещен влево, как и у первого тарифа). Также в 3/4 от выборки пользователи уложились в лимит.\n",
    "- интернет 17 ГБ. А вот трафика пользователям явно не хватает: более чем в половине случаев юзеры превышают лимит гигабайт и, соответсвенно, несут доп расходы на него.\n",
    "\n",
    "Теперь аналогично вычислим дисперсию и стандартное отклонение."
   ]
  },
  {
   "cell_type": "code",
   "execution_count": 22,
   "metadata": {},
   "outputs": [
    {
     "name": "stdout",
     "output_type": "stream",
     "text": [
      "ДЛЯ SMART:\n",
      " \n",
      "Дисперсия для calls_sum 35844.1895513438\n",
      "Стандартное отклонение для  calls_sum : 189.3256177894154\n",
      "\n",
      "Дисперсия для messages 717.5942011753547\n",
      "Стандартное отклонение для  messages : 26.787948804926344\n",
      "\n",
      "Дисперсия для gb_used 32.81860455546182\n",
      "Стандартное отклонение для  gb_used : 5.728752443199289\n",
      "\n"
     ]
    }
   ],
   "source": [
    "print('ДЛЯ SMART:')\n",
    "print(' ')\n",
    "for col in cols:\n",
    "    print('Дисперсия для', col, np.var(smart[col], ddof=1))\n",
    "    print('Стандартное отклонение для ', col, ':', np.std(smart[col], ddof=1))\n",
    "    print('')"
   ]
  },
  {
   "cell_type": "markdown",
   "metadata": {},
   "source": [
    "Выведем графики по двум тарифам на одну ось для сравенения."
   ]
  },
  {
   "cell_type": "code",
   "execution_count": 24,
   "metadata": {},
   "outputs": [
    {
     "data": {
      "image/png": "[encoded data removed]",
      "text/plain": [
       "<Figure size 720x504 with 1 Axes>"
      ]
     },
     "metadata": {
      "needs_background": "light"
     },
     "output_type": "display_data"
    },
    {
     "data": {
      "image/png": "[encoded data removed]",
      "text/plain": [
       "<Figure size 720x504 with 1 Axes>"
      ]
     },
     "metadata": {
      "needs_background": "light"
     },
     "output_type": "display_data"
    },
    {
     "data": {
      "image/png": "[encoded data removed]",
      "text/plain": [
       "<Figure size 720x504 with 1 Axes>"
      ]
     },
     "metadata": {
      "needs_background": "light"
     },
     "output_type": "display_data"
    },
    {
     "data": {
      "image/png": "[encoded data removed]",
      "text/plain": [
       "<Figure size 720x504 with 1 Axes>"
      ]
     },
     "metadata": {
      "needs_background": "light"
     },
     "output_type": "display_data"
    },
    {
     "data": {
      "image/png": "[encoded data removed]",
      "text/plain": [
       "<Figure size 720x504 with 1 Axes>"
      ]
     },
     "metadata": {
      "needs_background": "light"
     },
     "output_type": "display_data"
    },
    {
     "data": {
      "image/png": "[encoded data removed]",
      "text/plain": [
       "<Figure size 720x504 with 1 Axes>"
      ]
     },
     "metadata": {
      "needs_background": "light"
     },
     "output_type": "display_data"
    },
    {
     "data": {
      "image/png": "[encoded data removed]",
      "text/plain": [
       "<Figure size 720x504 with 1 Axes>"
      ]
     },
     "metadata": {
      "needs_background": "light"
     },
     "output_type": "display_data"
    },
    {
     "data": {
      "image/png": "[encoded data removed]",
      "text/plain": [
       "<Figure size 720x504 with 1 Axes>"
      ]
     },
     "metadata": {
      "needs_background": "light"
     },
     "output_type": "display_data"
    },
    {
     "data": {
      "image/png": "[encoded data removed]",
      "text/plain": [
       "<Figure size 720x504 with 1 Axes>"
      ]
     },
     "metadata": {
      "needs_background": "light"
     },
     "output_type": "display_data"
    }
   ],
   "source": [
    "for col in cols:\n",
    "    plt.figure(figsize=(10,7))\n",
    "    plt.title(col)\n",
    "    ultra[col].hist(bins = 100, alpha=0.8)\n",
    "    smart[col].hist(bins = 100, alpha=0.8)\n",
    "\n",
    "for col in cols:\n",
    "    plt.figure(figsize=(10,7))\n",
    "    ultra.boxplot(column=col, vert=False)\n",
    "    plt.show()\n",
    "    plt.figure(figsize=(10,7))\n",
    "    smart.boxplot(column=col, vert=False)\n",
    "    plt.show()"
   ]
  },
  {
   "cell_type": "markdown",
   "metadata": {},
   "source": [
    "## Проверка гипотез"
   ]
  },
  {
   "cell_type": "markdown",
   "metadata": {},
   "source": [
    "Проверим следующие гипотезы:\n",
    "- средняя выручка пользователей тарифов «Ультра» и «Смарт» различаются;\n",
    "- средняя выручка пользователи из Москвы отличается от выручки пользователей из других регионов.\n",
    "\n",
    "Пороговое значение alpha установим стандартное 0.05."
   ]
  },
  {
   "cell_type": "markdown",
   "metadata": {},
   "source": [
    "Проверим первую гипотезу. \n",
    "\n",
    "Нулевая гипотеза Н0: \"Средняя выручка пользователей тарифов «Ультра» и «Смарт» одинаковы\"\n",
    "\n",
    "Альтернативная гипотеза Н1: \"Средняя выручка пользователей тарифов «Ультра» и «Смарт» не одинаковы\"\n",
    "\n",
    "Для анализа возьмем массивы ежемесячной выручки с пользователей из столбца monthly_cash."
   ]
  },
  {
   "cell_type": "code",
   "execution_count": 25,
   "metadata": {},
   "outputs": [
    {
     "name": "stdout",
     "output_type": "stream",
     "text": [
      "p-значение: 0.0000000000\n",
      "Отвергаем нулевую гипотезу\n"
     ]
    }
   ],
   "source": [
    "#sample_1 = user_rev.query('tariff == \"ultra\"').pivot_table(index='user_id', values='monthly_cash')['monthly_cash']\n",
    "#sample_2 = user_rev.query('tariff == \"smart\"').pivot_table(index='user_id', values='monthly_cash')['monthly_cash']\n",
    "sample_1 = user_rev.query('tariff == \"ultra\"')['monthly_cash']\n",
    "sample_2 = user_rev.query('tariff == \"smart\"')['monthly_cash']\n",
    "\n",
    "alpha = 0.05\n",
    "results = st.ttest_ind(sample_1, sample_2)\n",
    "\n",
    "print('p-значение: {:.10f}'.format(results.pvalue))\n",
    "\n",
    "if results.pvalue < alpha:\n",
    "    print('Отвергаем нулевую гипотезу')\n",
    "else:\n",
    "    print('Не получилось отвергнуть нулевую гипотезу') "
   ]
  },
  {
   "cell_type": "markdown",
   "metadata": {},
   "source": [
    "**Вывод**: утверждение, что средняя выручка с пользователей 2х тарифов одинакова, очень маловероятно.\n",
    "Но это в принипе и логично: один тариф стоит 1950р, другой 550р: уже на старте разница почти в 4 раза. Данную гипотезу логичнее преобразовать, исследовав не выручку, а прибыль с каждого клиента, т.е. очистив выручку от затраченных расходов на обслуживание клиента, тогда выводы были бы намного ценнее."
   ]
  },
  {
   "cell_type": "markdown",
   "metadata": {},
   "source": [
    "Тепреь проверим вторую гипотезу.\n",
    "\n",
    "Нулевая гипотеза Н0: \"средняя выручка пользователи из Москвы не отличается от выручки пользователей из других регионов\"\n",
    "\n",
    "Альтернативная гипотеза Н1: \"средняя выручка пользователи из Москвы и выручка пользователей из других регионов разные\"\n",
    "\n",
    "Для анализа возьмем массивы ежемесячной выручки с пользователей из столбца monthly_cash и проведем дифференциацию по городу Москва/НеМосква\n"
   ]
  },
  {
   "cell_type": "code",
   "execution_count": 26,
   "metadata": {},
   "outputs": [
    {
     "name": "stdout",
     "output_type": "stream",
     "text": [
      "p-значение: 0.5440152912\n",
      "Не получилось отвергнуть нулевую гипотезу\n"
     ]
    }
   ],
   "source": [
    "#sample_1 = user_rev.query('city_type == 1').pivot_table(index='user_id', values='monthly_cash')['monthly_cash']\n",
    "#sample_2 = user_rev.query('city_type == 0').pivot_table(index='user_id', values='monthly_cash')['monthly_cash']\n",
    "\n",
    "sample_1 = user_rev.query('city_type == 1')['monthly_cash']\n",
    "sample_2 = user_rev.query('city_type == 0')['monthly_cash']\n",
    "\n",
    "alpha = 0.05\n",
    "results = st.ttest_ind(sample_1, sample_2)\n",
    "\n",
    "print('p-значение: {:.10f}'.format(results.pvalue))\n",
    "\n",
    "if results.pvalue < alpha:\n",
    "    print('Отвергаем нулевую гипотезу')\n",
    "else:\n",
    "    print('Не получилось отвергнуть нулевую гипотезу') "
   ]
  },
  {
   "cell_type": "markdown",
   "metadata": {},
   "source": [
    "**Вывод**: нельзя опровергнуть тот факт, что средняя выручка пользователи из Москвы не отличается от выручки пользователей из других регионов. То есть, с большой долей вероятности, москвичи тратят на связь больше, чем в других регионах. Это тоже логически подтверждается тем фактом, что уровень жизни значительно выше, чем в большинстве регионов России."
   ]
  },
  {
   "cell_type": "markdown",
   "metadata": {},
   "source": [
    "## Общий вывод"
   ]
  },
  {
   "cell_type": "markdown",
   "metadata": {},
   "source": [
    "Мы проанализировали выборку из 500 пользователей федерального ОСС из разных регионов РФ. Качество исходных данных отличное, артефактов практически нет, предобработка данных минимальна.\n",
    "\n",
    "Проанализировав пользователей на разных тарифов, мы сделали выводы о том, что в целом лимиты расходов, выделенные оператором на тариф, адекватны и подходят под большинство запросов пользователей, за исключением лимита на интренет-трафик в тарифе Смарт: там в более чем половине случаев пользователи превышали лимит. Это скорее всего обусловлено увеличением потребления контента в интеренете, где постоянно увеличивается качество аудио/видео, а значит и объем затраченного трафика.\n",
    "\n",
    "Также отмечается тенденция на снижение использования классических смс-сообщений: видимо, интернет-мессенджеры знанимают все больше и больше доли на рынке."
   ]
  }
 ],
 "metadata": {
  "ExecuteTimeLog": [
   {
    "duration": 289,
    "start_time": "2021-07-30T15:26:26.223Z"
   },
   {
    "duration": 744,
    "start_time": "2021-07-30T15:27:27.956Z"
   },
   {
    "duration": 421,
    "start_time": "2021-07-30T15:37:52.841Z"
   },
   {
    "duration": 420,
    "start_time": "2021-07-30T15:38:06.006Z"
   },
   {
    "duration": 415,
    "start_time": "2021-07-30T15:38:31.386Z"
   },
   {
    "duration": 440,
    "start_time": "2021-07-30T15:38:41.614Z"
   },
   {
    "duration": 424,
    "start_time": "2021-07-30T15:38:51.536Z"
   },
   {
    "duration": 454,
    "start_time": "2021-07-30T15:39:30.552Z"
   },
   {
    "duration": 255,
    "start_time": "2021-07-30T15:49:43.372Z"
   },
   {
    "duration": 261,
    "start_time": "2021-07-30T15:50:35.799Z"
   },
   {
    "duration": 25,
    "start_time": "2021-07-30T15:51:28.884Z"
   },
   {
    "duration": 15,
    "start_time": "2021-07-30T15:52:03.633Z"
   },
   {
    "duration": 251,
    "start_time": "2021-07-30T15:53:26.930Z"
   },
   {
    "duration": 188,
    "start_time": "2021-07-30T15:53:48.850Z"
   },
   {
    "duration": 1019,
    "start_time": "2021-07-30T15:55:03.635Z"
   },
   {
    "duration": 207,
    "start_time": "2021-07-30T15:55:04.656Z"
   },
   {
    "duration": 418,
    "start_time": "2021-07-31T06:59:29.779Z"
   },
   {
    "duration": 1541,
    "start_time": "2021-07-31T06:59:34.873Z"
   },
   {
    "duration": 360,
    "start_time": "2021-07-31T06:59:36.417Z"
   },
   {
    "duration": 317,
    "start_time": "2021-07-31T06:59:36.779Z"
   },
   {
    "duration": 317,
    "start_time": "2021-07-31T07:00:12.681Z"
   },
   {
    "duration": 351,
    "start_time": "2021-07-31T07:00:39.172Z"
   },
   {
    "duration": 530,
    "start_time": "2021-07-31T07:06:42.331Z"
   },
   {
    "duration": 313,
    "start_time": "2021-07-31T07:07:22.668Z"
   },
   {
    "duration": 300,
    "start_time": "2021-07-31T07:08:26.779Z"
   },
   {
    "duration": 304,
    "start_time": "2021-07-31T07:08:50.654Z"
   },
   {
    "duration": 327,
    "start_time": "2021-07-31T07:09:21.588Z"
   },
   {
    "duration": 18542,
    "start_time": "2021-07-31T08:55:14.490Z"
   },
   {
    "duration": 1113,
    "start_time": "2021-07-31T08:55:52.817Z"
   },
   {
    "duration": 324,
    "start_time": "2021-07-31T08:56:03.185Z"
   },
   {
    "duration": 319,
    "start_time": "2021-07-31T08:56:13.489Z"
   },
   {
    "duration": 823,
    "start_time": "2021-07-31T08:56:52.269Z"
   },
   {
    "duration": 580,
    "start_time": "2021-07-31T08:58:08.846Z"
   },
   {
    "duration": 521,
    "start_time": "2021-07-31T08:58:31.168Z"
   },
   {
    "duration": 528,
    "start_time": "2021-07-31T08:58:52.297Z"
   },
   {
    "duration": 1968,
    "start_time": "2021-07-31T09:16:14.950Z"
   },
   {
    "duration": 405,
    "start_time": "2021-07-31T09:16:16.920Z"
   },
   {
    "duration": 366,
    "start_time": "2021-07-31T09:16:17.328Z"
   },
   {
    "duration": 388,
    "start_time": "2021-07-31T09:16:17.696Z"
   },
   {
    "duration": 518,
    "start_time": "2021-07-31T09:16:18.086Z"
   },
   {
    "duration": 10009,
    "start_time": "2021-07-31T09:19:14.468Z"
   },
   {
    "duration": 468,
    "start_time": "2021-07-31T09:19:57.228Z"
   },
   {
    "duration": 33,
    "start_time": "2021-07-31T09:22:07.921Z"
   },
   {
    "duration": 2107,
    "start_time": "2021-07-31T09:26:30.853Z"
   },
   {
    "duration": 354,
    "start_time": "2021-07-31T09:26:32.963Z"
   },
   {
    "duration": 336,
    "start_time": "2021-07-31T09:26:33.320Z"
   },
   {
    "duration": 32,
    "start_time": "2021-07-31T09:26:33.658Z"
   },
   {
    "duration": 363,
    "start_time": "2021-07-31T09:26:33.693Z"
   },
   {
    "duration": 484,
    "start_time": "2021-07-31T09:26:34.059Z"
   },
   {
    "duration": 473,
    "start_time": "2021-07-31T09:32:41.532Z"
   },
   {
    "duration": 121,
    "start_time": "2021-07-31T09:32:53.336Z"
   },
   {
    "duration": 583,
    "start_time": "2021-07-31T09:33:10.472Z"
   },
   {
    "duration": 565,
    "start_time": "2021-07-31T09:36:56.801Z"
   },
   {
    "duration": 471,
    "start_time": "2021-07-31T09:43:14.446Z"
   },
   {
    "duration": 493,
    "start_time": "2021-07-31T09:43:37.199Z"
   },
   {
    "duration": 86,
    "start_time": "2021-07-31T09:57:29.797Z"
   },
   {
    "duration": 580,
    "start_time": "2021-07-31T09:57:55.408Z"
   },
   {
    "duration": 117,
    "start_time": "2021-07-31T09:58:03.256Z"
   },
   {
    "duration": 108,
    "start_time": "2021-07-31T09:59:04.678Z"
   },
   {
    "duration": 380,
    "start_time": "2021-07-31T10:01:11.300Z"
   },
   {
    "duration": 446,
    "start_time": "2021-07-31T10:01:32.287Z"
   },
   {
    "duration": 2020,
    "start_time": "2021-07-31T10:02:23.439Z"
   },
   {
    "duration": 380,
    "start_time": "2021-07-31T10:02:25.462Z"
   },
   {
    "duration": 449,
    "start_time": "2021-07-31T10:02:25.845Z"
   },
   {
    "duration": 30,
    "start_time": "2021-07-31T10:02:26.297Z"
   },
   {
    "duration": 392,
    "start_time": "2021-07-31T10:02:26.330Z"
   },
   {
    "duration": 568,
    "start_time": "2021-07-31T10:02:26.725Z"
   },
   {
    "duration": 147,
    "start_time": "2021-07-31T10:02:27.296Z"
   },
   {
    "duration": 568,
    "start_time": "2021-07-31T10:02:27.457Z"
   },
   {
    "duration": 1936,
    "start_time": "2021-07-31T10:03:30.294Z"
   },
   {
    "duration": 353,
    "start_time": "2021-07-31T10:03:32.255Z"
   },
   {
    "duration": 344,
    "start_time": "2021-07-31T10:03:32.611Z"
   },
   {
    "duration": 504,
    "start_time": "2021-07-31T10:03:32.958Z"
   },
   {
    "duration": -94,
    "start_time": "2021-07-31T10:03:33.561Z"
   },
   {
    "duration": -95,
    "start_time": "2021-07-31T10:03:33.563Z"
   },
   {
    "duration": -96,
    "start_time": "2021-07-31T10:03:33.566Z"
   },
   {
    "duration": -98,
    "start_time": "2021-07-31T10:03:33.569Z"
   },
   {
    "duration": 28,
    "start_time": "2021-07-31T10:03:53.280Z"
   },
   {
    "duration": 28,
    "start_time": "2021-07-31T10:04:54.671Z"
   },
   {
    "duration": 2049,
    "start_time": "2021-07-31T10:05:01.746Z"
   },
   {
    "duration": 392,
    "start_time": "2021-07-31T10:05:03.798Z"
   },
   {
    "duration": 367,
    "start_time": "2021-07-31T10:05:04.193Z"
   },
   {
    "duration": 38,
    "start_time": "2021-07-31T10:05:04.563Z"
   },
   {
    "duration": 393,
    "start_time": "2021-07-31T10:05:04.604Z"
   },
   {
    "duration": 555,
    "start_time": "2021-07-31T10:05:05.000Z"
   },
   {
    "duration": 123,
    "start_time": "2021-07-31T10:05:05.558Z"
   },
   {
    "duration": 39,
    "start_time": "2021-07-31T10:05:05.684Z"
   },
   {
    "duration": 552,
    "start_time": "2021-07-31T10:06:29.824Z"
   },
   {
    "duration": 1974,
    "start_time": "2021-07-31T10:06:52.948Z"
   },
   {
    "duration": 380,
    "start_time": "2021-07-31T10:06:54.924Z"
   },
   {
    "duration": 353,
    "start_time": "2021-07-31T10:06:55.307Z"
   },
   {
    "duration": 43,
    "start_time": "2021-07-31T10:06:55.663Z"
   },
   {
    "duration": 424,
    "start_time": "2021-07-31T10:06:55.709Z"
   },
   {
    "duration": 550,
    "start_time": "2021-07-31T10:06:56.135Z"
   },
   {
    "duration": 132,
    "start_time": "2021-07-31T10:06:56.687Z"
   },
   {
    "duration": 74,
    "start_time": "2021-07-31T10:06:56.822Z"
   },
   {
    "duration": 52,
    "start_time": "2021-07-31T10:07:50.933Z"
   },
   {
    "duration": 2144,
    "start_time": "2021-07-31T10:08:26.953Z"
   },
   {
    "duration": 388,
    "start_time": "2021-07-31T10:08:29.100Z"
   },
   {
    "duration": 370,
    "start_time": "2021-07-31T10:08:29.491Z"
   },
   {
    "duration": 39,
    "start_time": "2021-07-31T10:08:29.865Z"
   },
   {
    "duration": 491,
    "start_time": "2021-07-31T10:08:29.907Z"
   },
   {
    "duration": 574,
    "start_time": "2021-07-31T10:08:30.401Z"
   },
   {
    "duration": 130,
    "start_time": "2021-07-31T10:08:30.977Z"
   },
   {
    "duration": 23,
    "start_time": "2021-07-31T10:08:31.110Z"
   },
   {
    "duration": 71,
    "start_time": "2021-07-31T10:08:31.135Z"
   },
   {
    "duration": 617,
    "start_time": "2021-07-31T10:09:33.074Z"
   },
   {
    "duration": 138,
    "start_time": "2021-07-31T10:09:50.841Z"
   },
   {
    "duration": 711,
    "start_time": "2021-07-31T10:09:59.806Z"
   },
   {
    "duration": 24,
    "start_time": "2021-07-31T10:10:26.335Z"
   },
   {
    "duration": 101,
    "start_time": "2021-07-31T10:11:13.128Z"
   },
   {
    "duration": 21,
    "start_time": "2021-07-31T10:11:20.582Z"
   },
   {
    "duration": 97,
    "start_time": "2021-07-31T10:17:22.609Z"
   },
   {
    "duration": 17,
    "start_time": "2021-07-31T10:17:29.491Z"
   },
   {
    "duration": 37,
    "start_time": "2021-07-31T10:17:37.320Z"
   },
   {
    "duration": 32,
    "start_time": "2021-07-31T10:22:11.301Z"
   },
   {
    "duration": 21,
    "start_time": "2021-07-31T10:22:42.632Z"
   },
   {
    "duration": 22,
    "start_time": "2021-07-31T10:22:50.972Z"
   },
   {
    "duration": 33,
    "start_time": "2021-07-31T10:23:01.227Z"
   },
   {
    "duration": 492,
    "start_time": "2021-07-31T10:31:52.988Z"
   },
   {
    "duration": 68,
    "start_time": "2021-07-31T10:32:04.834Z"
   },
   {
    "duration": 389,
    "start_time": "2021-07-31T10:36:13.637Z"
   },
   {
    "duration": 52,
    "start_time": "2021-07-31T10:36:19.249Z"
   },
   {
    "duration": 1551,
    "start_time": "2021-07-31T10:37:09.608Z"
   },
   {
    "duration": 2015,
    "start_time": "2021-07-31T10:42:02.686Z"
   },
   {
    "duration": 411,
    "start_time": "2021-07-31T10:42:04.703Z"
   },
   {
    "duration": 385,
    "start_time": "2021-07-31T10:42:05.117Z"
   },
   {
    "duration": 38,
    "start_time": "2021-07-31T10:42:05.505Z"
   },
   {
    "duration": 382,
    "start_time": "2021-07-31T10:42:05.555Z"
   },
   {
    "duration": 553,
    "start_time": "2021-07-31T10:42:05.939Z"
   },
   {
    "duration": 119,
    "start_time": "2021-07-31T10:42:06.494Z"
   },
   {
    "duration": 21,
    "start_time": "2021-07-31T10:42:06.616Z"
   },
   {
    "duration": 61,
    "start_time": "2021-07-31T10:42:06.640Z"
   },
   {
    "duration": 27,
    "start_time": "2021-07-31T10:42:06.704Z"
   },
   {
    "duration": 497,
    "start_time": "2021-07-31T10:42:06.757Z"
   },
   {
    "duration": -138,
    "start_time": "2021-07-31T10:42:07.395Z"
   },
   {
    "duration": 2018,
    "start_time": "2021-07-31T10:42:43.763Z"
   },
   {
    "duration": 376,
    "start_time": "2021-07-31T10:42:45.783Z"
   },
   {
    "duration": 345,
    "start_time": "2021-07-31T10:42:46.164Z"
   },
   {
    "duration": 49,
    "start_time": "2021-07-31T10:42:46.512Z"
   },
   {
    "duration": 473,
    "start_time": "2021-07-31T10:42:46.564Z"
   },
   {
    "duration": 548,
    "start_time": "2021-07-31T10:42:47.040Z"
   },
   {
    "duration": 144,
    "start_time": "2021-07-31T10:42:47.591Z"
   },
   {
    "duration": 23,
    "start_time": "2021-07-31T10:42:47.738Z"
   },
   {
    "duration": 41,
    "start_time": "2021-07-31T10:42:47.764Z"
   },
   {
    "duration": 62,
    "start_time": "2021-07-31T10:42:47.807Z"
   },
   {
    "duration": 65,
    "start_time": "2021-07-31T10:42:47.872Z"
   },
   {
    "duration": 1635,
    "start_time": "2021-07-31T10:42:47.956Z"
   },
   {
    "duration": 43,
    "start_time": "2021-07-31T10:51:03.176Z"
   },
   {
    "duration": 2043,
    "start_time": "2021-08-01T10:48:44.458Z"
   },
   {
    "duration": 360,
    "start_time": "2021-08-01T10:48:46.504Z"
   },
   {
    "duration": 359,
    "start_time": "2021-08-01T10:48:46.867Z"
   },
   {
    "duration": 35,
    "start_time": "2021-08-01T10:48:47.229Z"
   },
   {
    "duration": 376,
    "start_time": "2021-08-01T10:48:47.267Z"
   },
   {
    "duration": 527,
    "start_time": "2021-08-01T10:48:47.646Z"
   },
   {
    "duration": 107,
    "start_time": "2021-08-01T10:48:48.201Z"
   },
   {
    "duration": 18,
    "start_time": "2021-08-01T10:48:48.311Z"
   },
   {
    "duration": 39,
    "start_time": "2021-08-01T10:48:48.331Z"
   },
   {
    "duration": 59,
    "start_time": "2021-08-01T10:48:48.373Z"
   },
   {
    "duration": 81,
    "start_time": "2021-08-01T10:48:48.435Z"
   },
   {
    "duration": 46,
    "start_time": "2021-08-01T10:48:48.518Z"
   },
   {
    "duration": 73,
    "start_time": "2021-08-01T10:49:12.358Z"
   },
   {
    "duration": 1906,
    "start_time": "2021-08-01T10:51:12.139Z"
   },
   {
    "duration": 364,
    "start_time": "2021-08-01T10:51:14.047Z"
   },
   {
    "duration": 341,
    "start_time": "2021-08-01T10:51:14.414Z"
   },
   {
    "duration": 46,
    "start_time": "2021-08-01T10:51:14.759Z"
   },
   {
    "duration": 364,
    "start_time": "2021-08-01T10:51:14.809Z"
   },
   {
    "duration": 542,
    "start_time": "2021-08-01T10:51:15.176Z"
   },
   {
    "duration": 162,
    "start_time": "2021-08-01T10:51:15.721Z"
   },
   {
    "duration": 27,
    "start_time": "2021-08-01T10:51:15.888Z"
   },
   {
    "duration": 42,
    "start_time": "2021-08-01T10:51:15.917Z"
   },
   {
    "duration": 43,
    "start_time": "2021-08-01T10:51:15.961Z"
   },
   {
    "duration": 71,
    "start_time": "2021-08-01T10:51:16.006Z"
   },
   {
    "duration": 53,
    "start_time": "2021-08-01T10:51:16.080Z"
   },
   {
    "duration": 70,
    "start_time": "2021-08-01T10:56:33.709Z"
   },
   {
    "duration": 470,
    "start_time": "2021-08-01T10:57:45.299Z"
   },
   {
    "duration": 110,
    "start_time": "2021-08-01T14:59:35.157Z"
   },
   {
    "duration": 356,
    "start_time": "2021-08-01T14:59:47.089Z"
   },
   {
    "duration": 1394,
    "start_time": "2021-08-01T14:59:58.875Z"
   },
   {
    "duration": 134,
    "start_time": "2021-08-01T15:00:28.797Z"
   },
   {
    "duration": 1459,
    "start_time": "2021-08-01T15:01:03.442Z"
   },
   {
    "duration": 101,
    "start_time": "2021-08-01T15:01:17.956Z"
   },
   {
    "duration": 109,
    "start_time": "2021-08-01T15:01:24.141Z"
   },
   {
    "duration": 119,
    "start_time": "2021-08-01T15:02:03.580Z"
   },
   {
    "duration": 113,
    "start_time": "2021-08-01T15:02:09.124Z"
   },
   {
    "duration": 100,
    "start_time": "2021-08-01T15:03:26.642Z"
   },
   {
    "duration": 123,
    "start_time": "2021-08-01T15:05:14.171Z"
   },
   {
    "duration": 126,
    "start_time": "2021-08-01T15:06:18.961Z"
   },
   {
    "duration": 142,
    "start_time": "2021-08-01T15:06:34.088Z"
   },
   {
    "duration": 1513,
    "start_time": "2021-08-01T15:07:14.561Z"
   },
   {
    "duration": 119,
    "start_time": "2021-08-01T15:07:25.167Z"
   },
   {
    "duration": 350,
    "start_time": "2021-08-01T15:15:26.059Z"
   },
   {
    "duration": 1986,
    "start_time": "2021-08-01T15:15:30.846Z"
   },
   {
    "duration": 370,
    "start_time": "2021-08-01T15:15:32.835Z"
   },
   {
    "duration": 335,
    "start_time": "2021-08-01T15:15:33.209Z"
   },
   {
    "duration": 35,
    "start_time": "2021-08-01T15:15:33.547Z"
   },
   {
    "duration": 361,
    "start_time": "2021-08-01T15:15:33.600Z"
   },
   {
    "duration": 543,
    "start_time": "2021-08-01T15:15:33.964Z"
   },
   {
    "duration": 118,
    "start_time": "2021-08-01T15:15:34.510Z"
   },
   {
    "duration": 17,
    "start_time": "2021-08-01T15:15:34.631Z"
   },
   {
    "duration": 55,
    "start_time": "2021-08-01T15:15:34.651Z"
   },
   {
    "duration": 33,
    "start_time": "2021-08-01T15:15:34.709Z"
   },
   {
    "duration": 94,
    "start_time": "2021-08-01T15:15:34.746Z"
   },
   {
    "duration": 460,
    "start_time": "2021-08-01T15:15:34.842Z"
   },
   {
    "duration": -80,
    "start_time": "2021-08-01T15:15:35.385Z"
   },
   {
    "duration": 535,
    "start_time": "2021-08-01T15:21:25.271Z"
   },
   {
    "duration": 2007,
    "start_time": "2021-08-01T15:26:51.500Z"
   },
   {
    "duration": 348,
    "start_time": "2021-08-01T15:26:53.510Z"
   },
   {
    "duration": 346,
    "start_time": "2021-08-01T15:26:53.861Z"
   },
   {
    "duration": 34,
    "start_time": "2021-08-01T15:26:54.211Z"
   },
   {
    "duration": 375,
    "start_time": "2021-08-01T15:26:54.248Z"
   },
   {
    "duration": 509,
    "start_time": "2021-08-01T15:26:54.625Z"
   },
   {
    "duration": 125,
    "start_time": "2021-08-01T15:26:55.137Z"
   },
   {
    "duration": 17,
    "start_time": "2021-08-01T15:26:55.266Z"
   },
   {
    "duration": 49,
    "start_time": "2021-08-01T15:26:55.301Z"
   },
   {
    "duration": 50,
    "start_time": "2021-08-01T15:26:55.352Z"
   },
   {
    "duration": 71,
    "start_time": "2021-08-01T15:26:55.405Z"
   },
   {
    "duration": 459,
    "start_time": "2021-08-01T15:26:55.479Z"
   },
   {
    "duration": -140,
    "start_time": "2021-08-01T15:26:56.081Z"
   },
   {
    "duration": 1999,
    "start_time": "2021-08-01T15:27:18.316Z"
   },
   {
    "duration": 362,
    "start_time": "2021-08-01T15:27:20.317Z"
   },
   {
    "duration": 343,
    "start_time": "2021-08-01T15:27:20.683Z"
   },
   {
    "duration": 32,
    "start_time": "2021-08-01T15:27:21.029Z"
   },
   {
    "duration": 374,
    "start_time": "2021-08-01T15:27:21.063Z"
   },
   {
    "duration": 507,
    "start_time": "2021-08-01T15:27:21.440Z"
   },
   {
    "duration": 124,
    "start_time": "2021-08-01T15:27:21.949Z"
   },
   {
    "duration": 25,
    "start_time": "2021-08-01T15:27:22.077Z"
   },
   {
    "duration": 36,
    "start_time": "2021-08-01T15:27:22.105Z"
   },
   {
    "duration": 62,
    "start_time": "2021-08-01T15:27:22.143Z"
   },
   {
    "duration": 75,
    "start_time": "2021-08-01T15:27:22.208Z"
   },
   {
    "duration": 477,
    "start_time": "2021-08-01T15:27:22.285Z"
   },
   {
    "duration": -143,
    "start_time": "2021-08-01T15:27:22.909Z"
   },
   {
    "duration": 84,
    "start_time": "2021-08-01T15:28:50.134Z"
   },
   {
    "duration": 33,
    "start_time": "2021-08-01T15:29:01.974Z"
   },
   {
    "duration": 66,
    "start_time": "2021-08-01T15:29:03.493Z"
   },
   {
    "duration": 341,
    "start_time": "2021-08-01T15:29:06.957Z"
   },
   {
    "duration": 139,
    "start_time": "2021-08-01T15:34:41.889Z"
   },
   {
    "duration": 2996,
    "start_time": "2021-08-01T15:35:02.304Z"
   },
   {
    "duration": 358,
    "start_time": "2021-08-01T15:35:05.304Z"
   },
   {
    "duration": 344,
    "start_time": "2021-08-01T15:35:05.665Z"
   },
   {
    "duration": 33,
    "start_time": "2021-08-01T15:35:06.012Z"
   },
   {
    "duration": 376,
    "start_time": "2021-08-01T15:35:06.048Z"
   },
   {
    "duration": 518,
    "start_time": "2021-08-01T15:35:06.427Z"
   },
   {
    "duration": 121,
    "start_time": "2021-08-01T15:35:06.947Z"
   },
   {
    "duration": 29,
    "start_time": "2021-08-01T15:35:07.072Z"
   },
   {
    "duration": 48,
    "start_time": "2021-08-01T15:35:07.103Z"
   },
   {
    "duration": 55,
    "start_time": "2021-08-01T15:35:07.153Z"
   },
   {
    "duration": 66,
    "start_time": "2021-08-01T15:35:07.210Z"
   },
   {
    "duration": 26,
    "start_time": "2021-08-01T15:35:07.278Z"
   },
   {
    "duration": 156,
    "start_time": "2021-08-01T15:35:07.306Z"
   },
   {
    "duration": 143,
    "start_time": "2021-08-01T15:35:07.465Z"
   },
   {
    "duration": 16,
    "start_time": "2021-08-01T15:37:30.217Z"
   },
   {
    "duration": 2011,
    "start_time": "2021-08-01T15:37:40.925Z"
   },
   {
    "duration": 363,
    "start_time": "2021-08-01T15:37:42.939Z"
   },
   {
    "duration": 330,
    "start_time": "2021-08-01T15:37:43.305Z"
   },
   {
    "duration": 33,
    "start_time": "2021-08-01T15:37:43.637Z"
   },
   {
    "duration": 366,
    "start_time": "2021-08-01T15:37:43.673Z"
   },
   {
    "duration": 518,
    "start_time": "2021-08-01T15:37:44.042Z"
   },
   {
    "duration": 117,
    "start_time": "2021-08-01T15:37:44.564Z"
   },
   {
    "duration": 30,
    "start_time": "2021-08-01T15:37:44.686Z"
   },
   {
    "duration": 47,
    "start_time": "2021-08-01T15:37:44.719Z"
   },
   {
    "duration": 59,
    "start_time": "2021-08-01T15:37:44.768Z"
   },
   {
    "duration": 81,
    "start_time": "2021-08-01T15:37:44.829Z"
   },
   {
    "duration": 13,
    "start_time": "2021-08-01T15:37:44.913Z"
   },
   {
    "duration": 16,
    "start_time": "2021-08-01T15:37:44.928Z"
   },
   {
    "duration": 165,
    "start_time": "2021-08-01T15:37:44.946Z"
   },
   {
    "duration": 1921,
    "start_time": "2021-08-01T15:41:53.857Z"
   },
   {
    "duration": 337,
    "start_time": "2021-08-01T15:41:55.801Z"
   },
   {
    "duration": 387,
    "start_time": "2021-08-01T15:41:56.141Z"
   },
   {
    "duration": 51,
    "start_time": "2021-08-01T15:41:56.532Z"
   },
   {
    "duration": 360,
    "start_time": "2021-08-01T15:41:56.602Z"
   },
   {
    "duration": 546,
    "start_time": "2021-08-01T15:41:56.965Z"
   },
   {
    "duration": 117,
    "start_time": "2021-08-01T15:41:57.514Z"
   },
   {
    "duration": 17,
    "start_time": "2021-08-01T15:41:57.635Z"
   },
   {
    "duration": 65,
    "start_time": "2021-08-01T15:41:57.655Z"
   },
   {
    "duration": 34,
    "start_time": "2021-08-01T15:41:57.723Z"
   },
   {
    "duration": 89,
    "start_time": "2021-08-01T15:41:57.760Z"
   },
   {
    "duration": 14,
    "start_time": "2021-08-01T15:41:57.852Z"
   },
   {
    "duration": 114,
    "start_time": "2021-08-01T15:41:57.868Z"
   },
   {
    "duration": 620,
    "start_time": "2021-08-01T15:42:47.602Z"
   },
   {
    "duration": 83,
    "start_time": "2021-08-01T15:43:00.419Z"
   },
   {
    "duration": 122,
    "start_time": "2021-08-01T15:43:27.985Z"
   },
   {
    "duration": 79,
    "start_time": "2021-08-01T15:43:33.930Z"
   },
   {
    "duration": 76,
    "start_time": "2021-08-01T15:43:48.645Z"
   },
   {
    "duration": 121,
    "start_time": "2021-08-01T15:47:17.364Z"
   },
   {
    "duration": 72,
    "start_time": "2021-08-01T15:47:29.219Z"
   },
   {
    "duration": 78,
    "start_time": "2021-08-01T15:48:53.540Z"
   },
   {
    "duration": 77,
    "start_time": "2021-08-01T15:49:15.169Z"
   },
   {
    "duration": 127,
    "start_time": "2021-08-01T15:49:30.981Z"
   },
   {
    "duration": 73,
    "start_time": "2021-08-01T15:52:44.169Z"
   },
   {
    "duration": 484,
    "start_time": "2021-08-01T15:53:16.691Z"
   },
   {
    "duration": 79,
    "start_time": "2021-08-01T15:53:32.074Z"
   },
   {
    "duration": 79,
    "start_time": "2021-08-01T16:06:38.063Z"
   },
   {
    "duration": 15,
    "start_time": "2021-08-01T16:08:50.468Z"
   },
   {
    "duration": 2047,
    "start_time": "2021-08-01T16:10:15.070Z"
   },
   {
    "duration": 361,
    "start_time": "2021-08-01T16:10:17.120Z"
   },
   {
    "duration": 345,
    "start_time": "2021-08-01T16:10:17.485Z"
   },
   {
    "duration": 34,
    "start_time": "2021-08-01T16:10:17.834Z"
   },
   {
    "duration": 382,
    "start_time": "2021-08-01T16:10:17.871Z"
   },
   {
    "duration": 550,
    "start_time": "2021-08-01T16:10:18.256Z"
   },
   {
    "duration": 114,
    "start_time": "2021-08-01T16:10:18.809Z"
   },
   {
    "duration": 16,
    "start_time": "2021-08-01T16:10:18.926Z"
   },
   {
    "duration": 72,
    "start_time": "2021-08-01T16:10:18.946Z"
   },
   {
    "duration": 33,
    "start_time": "2021-08-01T16:10:19.020Z"
   },
   {
    "duration": 89,
    "start_time": "2021-08-01T16:10:19.056Z"
   },
   {
    "duration": 14,
    "start_time": "2021-08-01T16:10:19.147Z"
   },
   {
    "duration": 117,
    "start_time": "2021-08-01T16:10:19.164Z"
   },
   {
    "duration": 29,
    "start_time": "2021-08-01T16:10:19.284Z"
   },
   {
    "duration": 184,
    "start_time": "2021-08-01T16:14:21.243Z"
   },
   {
    "duration": 127,
    "start_time": "2021-08-01T16:14:30.798Z"
   },
   {
    "duration": 80,
    "start_time": "2021-08-01T16:14:40.052Z"
   },
   {
    "duration": 82,
    "start_time": "2021-08-01T16:18:37.616Z"
   },
   {
    "duration": 1574,
    "start_time": "2021-08-01T16:19:23.185Z"
   },
   {
    "duration": 86,
    "start_time": "2021-08-01T16:19:38.121Z"
   },
   {
    "duration": 92,
    "start_time": "2021-08-01T16:19:59.110Z"
   },
   {
    "duration": 118,
    "start_time": "2021-08-01T16:20:08.666Z"
   },
   {
    "duration": 79,
    "start_time": "2021-08-01T16:20:21.046Z"
   },
   {
    "duration": 79,
    "start_time": "2021-08-01T16:25:19.804Z"
   },
   {
    "duration": 9034,
    "start_time": "2021-08-01T16:26:26.809Z"
   },
   {
    "duration": 2043,
    "start_time": "2021-08-01T16:27:16.582Z"
   },
   {
    "duration": 389,
    "start_time": "2021-08-01T16:27:18.627Z"
   },
   {
    "duration": 343,
    "start_time": "2021-08-01T16:27:19.019Z"
   },
   {
    "duration": 47,
    "start_time": "2021-08-01T16:27:19.365Z"
   },
   {
    "duration": 385,
    "start_time": "2021-08-01T16:27:19.415Z"
   },
   {
    "duration": 519,
    "start_time": "2021-08-01T16:27:19.802Z"
   },
   {
    "duration": 121,
    "start_time": "2021-08-01T16:27:20.324Z"
   },
   {
    "duration": 16,
    "start_time": "2021-08-01T16:27:20.449Z"
   },
   {
    "duration": 66,
    "start_time": "2021-08-01T16:27:20.468Z"
   },
   {
    "duration": 34,
    "start_time": "2021-08-01T16:27:20.536Z"
   },
   {
    "duration": 87,
    "start_time": "2021-08-01T16:27:20.572Z"
   },
   {
    "duration": 14,
    "start_time": "2021-08-01T16:27:20.661Z"
   },
   {
    "duration": 550,
    "start_time": "2021-08-01T16:27:20.677Z"
   },
   {
    "duration": -25,
    "start_time": "2021-08-01T16:27:21.255Z"
   },
   {
    "duration": 396,
    "start_time": "2021-08-01T16:27:56.407Z"
   },
   {
    "duration": 71,
    "start_time": "2021-08-01T16:28:21.990Z"
   },
   {
    "duration": 70,
    "start_time": "2021-08-01T16:28:59.159Z"
   },
   {
    "duration": 1360,
    "start_time": "2021-08-01T16:29:14.031Z"
   },
   {
    "duration": 1953,
    "start_time": "2021-08-01T16:29:42.025Z"
   },
   {
    "duration": 375,
    "start_time": "2021-08-01T16:29:43.981Z"
   },
   {
    "duration": 366,
    "start_time": "2021-08-01T16:29:44.359Z"
   },
   {
    "duration": 30,
    "start_time": "2021-08-01T16:29:44.728Z"
   },
   {
    "duration": 381,
    "start_time": "2021-08-01T16:29:44.760Z"
   },
   {
    "duration": 528,
    "start_time": "2021-08-01T16:29:45.144Z"
   },
   {
    "duration": 107,
    "start_time": "2021-08-01T16:29:45.701Z"
   },
   {
    "duration": 19,
    "start_time": "2021-08-01T16:29:45.812Z"
   },
   {
    "duration": 82,
    "start_time": "2021-08-01T16:29:45.835Z"
   },
   {
    "duration": 36,
    "start_time": "2021-08-01T16:29:45.920Z"
   },
   {
    "duration": 94,
    "start_time": "2021-08-01T16:29:45.959Z"
   },
   {
    "duration": 16,
    "start_time": "2021-08-01T16:29:46.056Z"
   },
   {
    "duration": 125,
    "start_time": "2021-08-01T16:29:46.075Z"
   },
   {
    "duration": 1479,
    "start_time": "2021-08-01T16:29:46.203Z"
   },
   {
    "duration": 13,
    "start_time": "2021-08-01T16:30:24.433Z"
   },
   {
    "duration": 2029,
    "start_time": "2021-08-01T16:30:38.371Z"
   },
   {
    "duration": 346,
    "start_time": "2021-08-01T16:30:40.403Z"
   },
   {
    "duration": 355,
    "start_time": "2021-08-01T16:30:40.753Z"
   },
   {
    "duration": 36,
    "start_time": "2021-08-01T16:30:41.111Z"
   },
   {
    "duration": 384,
    "start_time": "2021-08-01T16:30:41.149Z"
   },
   {
    "duration": 564,
    "start_time": "2021-08-01T16:30:41.536Z"
   },
   {
    "duration": 112,
    "start_time": "2021-08-01T16:30:42.103Z"
   },
   {
    "duration": 23,
    "start_time": "2021-08-01T16:30:42.218Z"
   },
   {
    "duration": 73,
    "start_time": "2021-08-01T16:30:42.245Z"
   },
   {
    "duration": 37,
    "start_time": "2021-08-01T16:30:42.321Z"
   },
   {
    "duration": 97,
    "start_time": "2021-08-01T16:30:42.361Z"
   },
   {
    "duration": 15,
    "start_time": "2021-08-01T16:30:42.460Z"
   },
   {
    "duration": 104,
    "start_time": "2021-08-01T16:30:42.478Z"
   },
   {
    "duration": 14,
    "start_time": "2021-08-01T16:30:42.601Z"
   },
   {
    "duration": 2072,
    "start_time": "2021-08-01T19:06:34.356Z"
   },
   {
    "duration": 398,
    "start_time": "2021-08-01T19:06:36.430Z"
   },
   {
    "duration": 364,
    "start_time": "2021-08-01T19:06:36.831Z"
   },
   {
    "duration": 33,
    "start_time": "2021-08-01T19:06:37.198Z"
   },
   {
    "duration": 409,
    "start_time": "2021-08-01T19:06:37.234Z"
   },
   {
    "duration": 550,
    "start_time": "2021-08-01T19:06:37.646Z"
   },
   {
    "duration": 137,
    "start_time": "2021-08-01T19:06:38.199Z"
   },
   {
    "duration": 27,
    "start_time": "2021-08-01T19:06:38.340Z"
   },
   {
    "duration": 53,
    "start_time": "2021-08-01T19:06:38.371Z"
   },
   {
    "duration": 62,
    "start_time": "2021-08-01T19:06:38.427Z"
   },
   {
    "duration": 82,
    "start_time": "2021-08-01T19:06:38.491Z"
   },
   {
    "duration": 17,
    "start_time": "2021-08-01T19:06:38.576Z"
   },
   {
    "duration": 116,
    "start_time": "2021-08-01T19:06:38.596Z"
   },
   {
    "duration": 52,
    "start_time": "2021-08-01T19:06:38.715Z"
   },
   {
    "duration": 4,
    "start_time": "2021-08-01T19:07:36.114Z"
   },
   {
    "duration": 25,
    "start_time": "2021-08-01T19:15:07.252Z"
   },
   {
    "duration": 20,
    "start_time": "2021-08-01T19:15:39.985Z"
   },
   {
    "duration": 27,
    "start_time": "2021-08-01T19:16:33.278Z"
   },
   {
    "duration": 2034,
    "start_time": "2021-08-01T19:16:53.393Z"
   },
   {
    "duration": 401,
    "start_time": "2021-08-01T19:16:55.430Z"
   },
   {
    "duration": 377,
    "start_time": "2021-08-01T19:16:55.835Z"
   },
   {
    "duration": 34,
    "start_time": "2021-08-01T19:16:56.215Z"
   },
   {
    "duration": 421,
    "start_time": "2021-08-01T19:16:56.252Z"
   },
   {
    "duration": 556,
    "start_time": "2021-08-01T19:16:56.676Z"
   },
   {
    "duration": 133,
    "start_time": "2021-08-01T19:16:57.234Z"
   },
   {
    "duration": 22,
    "start_time": "2021-08-01T19:16:57.372Z"
   },
   {
    "duration": 77,
    "start_time": "2021-08-01T19:16:57.397Z"
   },
   {
    "duration": 38,
    "start_time": "2021-08-01T19:16:57.478Z"
   },
   {
    "duration": 98,
    "start_time": "2021-08-01T19:16:57.519Z"
   },
   {
    "duration": 14,
    "start_time": "2021-08-01T19:16:57.619Z"
   },
   {
    "duration": 108,
    "start_time": "2021-08-01T19:16:57.635Z"
   },
   {
    "duration": 30,
    "start_time": "2021-08-01T19:16:57.745Z"
   },
   {
    "duration": 30,
    "start_time": "2021-08-01T19:16:57.778Z"
   },
   {
    "duration": 370,
    "start_time": "2021-08-01T19:18:47.400Z"
   },
   {
    "duration": 31,
    "start_time": "2021-08-01T19:19:12.563Z"
   },
   {
    "duration": 30,
    "start_time": "2021-08-01T19:23:38.268Z"
   },
   {
    "duration": 46,
    "start_time": "2021-08-01T19:25:44.476Z"
   },
   {
    "duration": 66,
    "start_time": "2021-08-01T19:30:11.806Z"
   },
   {
    "duration": 58,
    "start_time": "2021-08-01T19:31:08.060Z"
   },
   {
    "duration": 67,
    "start_time": "2021-08-01T19:31:40.331Z"
   },
   {
    "duration": 65,
    "start_time": "2021-08-01T19:55:50.007Z"
   },
   {
    "duration": 272,
    "start_time": "2021-08-01T19:58:58.878Z"
   },
   {
    "duration": 28,
    "start_time": "2021-08-01T19:59:21.672Z"
   },
   {
    "duration": 30,
    "start_time": "2021-08-01T20:00:15.173Z"
   },
   {
    "duration": 175,
    "start_time": "2021-08-01T20:03:49.136Z"
   },
   {
    "duration": 161,
    "start_time": "2021-08-01T20:04:05.680Z"
   },
   {
    "duration": 2006,
    "start_time": "2021-08-01T20:06:49.511Z"
   },
   {
    "duration": 378,
    "start_time": "2021-08-01T20:06:51.520Z"
   },
   {
    "duration": 356,
    "start_time": "2021-08-01T20:06:51.901Z"
   },
   {
    "duration": 41,
    "start_time": "2021-08-01T20:06:52.259Z"
   },
   {
    "duration": 389,
    "start_time": "2021-08-01T20:06:52.303Z"
   },
   {
    "duration": 526,
    "start_time": "2021-08-01T20:06:52.695Z"
   },
   {
    "duration": 132,
    "start_time": "2021-08-01T20:06:53.223Z"
   },
   {
    "duration": 22,
    "start_time": "2021-08-01T20:06:53.358Z"
   },
   {
    "duration": 54,
    "start_time": "2021-08-01T20:06:53.383Z"
   },
   {
    "duration": 54,
    "start_time": "2021-08-01T20:06:53.439Z"
   },
   {
    "duration": 85,
    "start_time": "2021-08-01T20:06:53.496Z"
   },
   {
    "duration": 16,
    "start_time": "2021-08-01T20:06:53.583Z"
   },
   {
    "duration": 106,
    "start_time": "2021-08-01T20:06:53.601Z"
   },
   {
    "duration": 16,
    "start_time": "2021-08-01T20:06:53.709Z"
   },
   {
    "duration": 91,
    "start_time": "2021-08-01T20:06:53.727Z"
   },
   {
    "duration": 176,
    "start_time": "2021-08-01T20:06:53.821Z"
   },
   {
    "duration": 465,
    "start_time": "2021-08-01T20:09:03.032Z"
   },
   {
    "duration": 480,
    "start_time": "2021-08-01T20:09:14.121Z"
   },
   {
    "duration": 480,
    "start_time": "2021-08-01T20:10:35.229Z"
   },
   {
    "duration": 2164,
    "start_time": "2021-08-03T19:09:34.437Z"
   },
   {
    "duration": 391,
    "start_time": "2021-08-03T19:09:36.604Z"
   },
   {
    "duration": 359,
    "start_time": "2021-08-03T19:09:36.998Z"
   },
   {
    "duration": 37,
    "start_time": "2021-08-03T19:09:37.369Z"
   },
   {
    "duration": 416,
    "start_time": "2021-08-03T19:09:37.408Z"
   },
   {
    "duration": 673,
    "start_time": "2021-08-03T19:09:37.827Z"
   },
   {
    "duration": 124,
    "start_time": "2021-08-03T19:09:38.502Z"
   },
   {
    "duration": 29,
    "start_time": "2021-08-03T19:09:38.629Z"
   },
   {
    "duration": 52,
    "start_time": "2021-08-03T19:09:38.661Z"
   },
   {
    "duration": 68,
    "start_time": "2021-08-03T19:09:38.715Z"
   },
   {
    "duration": 84,
    "start_time": "2021-08-03T19:09:38.786Z"
   },
   {
    "duration": 17,
    "start_time": "2021-08-03T19:09:38.873Z"
   },
   {
    "duration": 105,
    "start_time": "2021-08-03T19:09:38.892Z"
   },
   {
    "duration": 17,
    "start_time": "2021-08-03T19:09:38.999Z"
   },
   {
    "duration": 103,
    "start_time": "2021-08-03T19:09:39.018Z"
   },
   {
    "duration": 565,
    "start_time": "2021-08-03T19:09:39.123Z"
   },
   {
    "duration": 93,
    "start_time": "2021-08-03T19:09:39.690Z"
   },
   {
    "duration": -101,
    "start_time": "2021-08-03T19:09:39.887Z"
   },
   {
    "duration": 418,
    "start_time": "2021-08-03T19:09:48.235Z"
   },
   {
    "duration": 21,
    "start_time": "2021-08-03T19:09:59.230Z"
   },
   {
    "duration": 30,
    "start_time": "2021-08-03T19:10:37.873Z"
   },
   {
    "duration": 28,
    "start_time": "2021-08-03T19:11:46.107Z"
   },
   {
    "duration": 54,
    "start_time": "2021-08-03T19:13:48.403Z"
   },
   {
    "duration": 89,
    "start_time": "2021-08-03T19:15:35.789Z"
   },
   {
    "duration": 315,
    "start_time": "2021-08-03T19:16:05.850Z"
   },
   {
    "duration": 550,
    "start_time": "2021-08-03T19:18:08.512Z"
   },
   {
    "duration": 568,
    "start_time": "2021-08-03T19:18:30.191Z"
   },
   {
    "duration": 656,
    "start_time": "2021-08-03T19:18:56.142Z"
   },
   {
    "duration": 540,
    "start_time": "2021-08-03T19:19:06.210Z"
   },
   {
    "duration": 2122,
    "start_time": "2021-08-03T19:19:23.865Z"
   },
   {
    "duration": 392,
    "start_time": "2021-08-03T19:19:25.990Z"
   },
   {
    "duration": 373,
    "start_time": "2021-08-03T19:19:26.385Z"
   },
   {
    "duration": 35,
    "start_time": "2021-08-03T19:19:26.761Z"
   },
   {
    "duration": 393,
    "start_time": "2021-08-03T19:19:26.799Z"
   },
   {
    "duration": 565,
    "start_time": "2021-08-03T19:19:27.194Z"
   },
   {
    "duration": 144,
    "start_time": "2021-08-03T19:19:27.763Z"
   },
   {
    "duration": 17,
    "start_time": "2021-08-03T19:19:27.911Z"
   },
   {
    "duration": 67,
    "start_time": "2021-08-03T19:19:27.931Z"
   },
   {
    "duration": 33,
    "start_time": "2021-08-03T19:19:28.000Z"
   },
   {
    "duration": 87,
    "start_time": "2021-08-03T19:19:28.035Z"
   },
   {
    "duration": 31,
    "start_time": "2021-08-03T19:19:28.125Z"
   },
   {
    "duration": 117,
    "start_time": "2021-08-03T19:19:28.159Z"
   },
   {
    "duration": 17,
    "start_time": "2021-08-03T19:19:28.278Z"
   },
   {
    "duration": 92,
    "start_time": "2021-08-03T19:19:28.297Z"
   },
   {
    "duration": 562,
    "start_time": "2021-08-03T19:19:28.392Z"
   },
   {
    "duration": 39,
    "start_time": "2021-08-03T19:19:28.957Z"
   },
   {
    "duration": 575,
    "start_time": "2021-08-03T19:19:28.999Z"
   },
   {
    "duration": 583,
    "start_time": "2021-08-03T19:20:30.519Z"
   },
   {
    "duration": 27,
    "start_time": "2021-08-03T19:21:23.064Z"
   },
   {
    "duration": 622,
    "start_time": "2021-08-03T19:21:23.094Z"
   },
   {
    "duration": 314,
    "start_time": "2021-08-03T19:21:32.767Z"
   },
   {
    "duration": 532,
    "start_time": "2021-08-03T19:22:07.568Z"
   },
   {
    "duration": 1979,
    "start_time": "2021-08-03T19:22:39.101Z"
   },
   {
    "duration": 646,
    "start_time": "2021-08-03T19:22:45.915Z"
   },
   {
    "duration": 761,
    "start_time": "2021-08-03T19:23:25.464Z"
   },
   {
    "duration": 462,
    "start_time": "2021-08-03T19:23:46.835Z"
   },
   {
    "duration": 505,
    "start_time": "2021-08-03T19:24:10.193Z"
   },
   {
    "duration": 321,
    "start_time": "2021-08-03T19:24:17.343Z"
   },
   {
    "duration": 346,
    "start_time": "2021-08-03T19:24:24.003Z"
   },
   {
    "duration": 403,
    "start_time": "2021-08-03T19:24:29.351Z"
   },
   {
    "duration": 441,
    "start_time": "2021-08-03T19:24:59.485Z"
   },
   {
    "duration": 681,
    "start_time": "2021-08-03T19:25:51.156Z"
   },
   {
    "duration": 496,
    "start_time": "2021-08-03T19:26:08.219Z"
   },
   {
    "duration": 7031,
    "start_time": "2021-08-03T19:26:45.195Z"
   },
   {
    "duration": 821,
    "start_time": "2021-08-03T19:26:59.894Z"
   },
   {
    "duration": 879,
    "start_time": "2021-08-03T19:30:42.417Z"
   },
   {
    "duration": 1023,
    "start_time": "2021-08-03T19:31:42.203Z"
   },
   {
    "duration": 1171,
    "start_time": "2021-08-03T19:32:24.283Z"
   },
   {
    "duration": 1050,
    "start_time": "2021-08-03T19:33:23.116Z"
   },
   {
    "duration": 1030,
    "start_time": "2021-08-03T19:34:00.627Z"
   },
   {
    "duration": 1157,
    "start_time": "2021-08-03T19:35:07.328Z"
   },
   {
    "duration": 842,
    "start_time": "2021-08-03T19:35:51.898Z"
   },
   {
    "duration": 663,
    "start_time": "2021-08-03T19:36:07.022Z"
   },
   {
    "duration": 913,
    "start_time": "2021-08-03T19:36:52.297Z"
   },
   {
    "duration": 889,
    "start_time": "2021-08-03T19:37:23.495Z"
   },
   {
    "duration": 575,
    "start_time": "2021-08-03T19:51:38.113Z"
   },
   {
    "duration": 3181,
    "start_time": "2021-08-03T19:51:51.178Z"
   },
   {
    "duration": 2843,
    "start_time": "2021-08-03T19:54:19.738Z"
   },
   {
    "duration": 2795,
    "start_time": "2021-08-03T19:56:10.914Z"
   },
   {
    "duration": 6,
    "start_time": "2021-08-03T20:03:37.263Z"
   },
   {
    "duration": 7,
    "start_time": "2021-08-03T20:04:50.695Z"
   },
   {
    "duration": 10,
    "start_time": "2021-08-03T20:06:43.630Z"
   },
   {
    "duration": 2134,
    "start_time": "2021-08-04T17:13:20.510Z"
   },
   {
    "duration": 414,
    "start_time": "2021-08-04T17:13:22.647Z"
   },
   {
    "duration": 388,
    "start_time": "2021-08-04T17:13:23.064Z"
   },
   {
    "duration": 62,
    "start_time": "2021-08-04T17:13:23.455Z"
   },
   {
    "duration": 411,
    "start_time": "2021-08-04T17:13:23.520Z"
   },
   {
    "duration": 584,
    "start_time": "2021-08-04T17:13:23.934Z"
   },
   {
    "duration": 138,
    "start_time": "2021-08-04T17:13:24.521Z"
   },
   {
    "duration": 28,
    "start_time": "2021-08-04T17:13:24.664Z"
   },
   {
    "duration": 54,
    "start_time": "2021-08-04T17:13:24.696Z"
   },
   {
    "duration": 68,
    "start_time": "2021-08-04T17:13:24.752Z"
   },
   {
    "duration": 89,
    "start_time": "2021-08-04T17:13:24.822Z"
   },
   {
    "duration": 14,
    "start_time": "2021-08-04T17:13:24.914Z"
   },
   {
    "duration": 129,
    "start_time": "2021-08-04T17:13:24.930Z"
   },
   {
    "duration": 45,
    "start_time": "2021-08-04T17:13:25.062Z"
   },
   {
    "duration": 90,
    "start_time": "2021-08-04T17:13:25.111Z"
   },
   {
    "duration": 532,
    "start_time": "2021-08-04T17:13:25.205Z"
   },
   {
    "duration": 30,
    "start_time": "2021-08-04T17:13:25.740Z"
   },
   {
    "duration": 3244,
    "start_time": "2021-08-04T17:13:25.787Z"
   },
   {
    "duration": 10,
    "start_time": "2021-08-04T17:13:29.034Z"
   },
   {
    "duration": 21114,
    "start_time": "2021-08-04T17:20:00.590Z"
   },
   {
    "duration": 52,
    "start_time": "2021-08-04T17:20:33.446Z"
   },
   {
    "duration": 149,
    "start_time": "2021-08-04T17:21:06.366Z"
   },
   {
    "duration": 44,
    "start_time": "2021-08-04T17:21:28.584Z"
   },
   {
    "duration": 28,
    "start_time": "2021-08-04T17:21:40.614Z"
   },
   {
    "duration": 143,
    "start_time": "2021-08-04T17:21:48.085Z"
   },
   {
    "duration": 137,
    "start_time": "2021-08-04T17:21:52.785Z"
   },
   {
    "duration": 55,
    "start_time": "2021-08-04T17:22:02.567Z"
   },
   {
    "duration": 129,
    "start_time": "2021-08-04T17:22:35.811Z"
   },
   {
    "duration": 138,
    "start_time": "2021-08-04T17:22:41.933Z"
   },
   {
    "duration": 414,
    "start_time": "2021-08-04T17:22:58.050Z"
   },
   {
    "duration": 11,
    "start_time": "2021-08-04T17:23:05.713Z"
   },
   {
    "duration": 7,
    "start_time": "2021-08-04T17:23:23.108Z"
   },
   {
    "duration": 22,
    "start_time": "2021-08-04T17:23:55.583Z"
   },
   {
    "duration": 157,
    "start_time": "2021-08-04T17:24:39.881Z"
   },
   {
    "duration": 12,
    "start_time": "2021-08-04T17:25:01.970Z"
   },
   {
    "duration": 3230,
    "start_time": "2021-08-04T17:26:28.105Z"
   },
   {
    "duration": 17,
    "start_time": "2021-08-04T17:27:56.505Z"
   },
   {
    "duration": 3311,
    "start_time": "2021-08-04T17:28:18.422Z"
   },
   {
    "duration": 16,
    "start_time": "2021-08-04T17:42:53.367Z"
   },
   {
    "duration": 16,
    "start_time": "2021-08-04T17:43:36.989Z"
   },
   {
    "duration": 19,
    "start_time": "2021-08-04T17:43:46.675Z"
   },
   {
    "duration": 17,
    "start_time": "2021-08-04T17:44:01.397Z"
   },
   {
    "duration": 2191,
    "start_time": "2021-08-04T17:45:54.024Z"
   },
   {
    "duration": 395,
    "start_time": "2021-08-04T17:45:56.219Z"
   },
   {
    "duration": 388,
    "start_time": "2021-08-04T17:45:56.617Z"
   },
   {
    "duration": 38,
    "start_time": "2021-08-04T17:45:57.009Z"
   },
   {
    "duration": 400,
    "start_time": "2021-08-04T17:45:57.050Z"
   },
   {
    "duration": 557,
    "start_time": "2021-08-04T17:45:57.452Z"
   },
   {
    "duration": 130,
    "start_time": "2021-08-04T17:45:58.011Z"
   },
   {
    "duration": 18,
    "start_time": "2021-08-04T17:45:58.145Z"
   },
   {
    "duration": 68,
    "start_time": "2021-08-04T17:45:58.166Z"
   },
   {
    "duration": 59,
    "start_time": "2021-08-04T17:45:58.237Z"
   },
   {
    "duration": 68,
    "start_time": "2021-08-04T17:45:58.298Z"
   },
   {
    "duration": 22,
    "start_time": "2021-08-04T17:45:58.386Z"
   },
   {
    "duration": 118,
    "start_time": "2021-08-04T17:45:58.411Z"
   },
   {
    "duration": 16,
    "start_time": "2021-08-04T17:45:58.531Z"
   },
   {
    "duration": 96,
    "start_time": "2021-08-04T17:45:58.549Z"
   },
   {
    "duration": 542,
    "start_time": "2021-08-04T17:45:58.648Z"
   },
   {
    "duration": 32,
    "start_time": "2021-08-04T17:45:59.193Z"
   },
   {
    "duration": 2989,
    "start_time": "2021-08-04T17:45:59.228Z"
   },
   {
    "duration": 15,
    "start_time": "2021-08-04T17:46:02.219Z"
   },
   {
    "duration": 3334,
    "start_time": "2021-08-04T17:46:02.237Z"
   },
   {
    "duration": 25,
    "start_time": "2021-08-04T17:46:05.573Z"
   },
   {
    "duration": 10093,
    "start_time": "2021-08-04T17:56:26.614Z"
   },
   {
    "duration": 10,
    "start_time": "2021-08-04T17:57:00.607Z"
   },
   {
    "duration": 8,
    "start_time": "2021-08-04T18:00:11.630Z"
   },
   {
    "duration": 9,
    "start_time": "2021-08-04T18:00:59.694Z"
   },
   {
    "duration": 9,
    "start_time": "2021-08-04T18:01:41.518Z"
   },
   {
    "duration": 7,
    "start_time": "2021-08-04T18:01:46.546Z"
   },
   {
    "duration": 10,
    "start_time": "2021-08-04T18:01:53.402Z"
   },
   {
    "duration": 9,
    "start_time": "2021-08-04T18:01:59.449Z"
   },
   {
    "duration": 32,
    "start_time": "2021-08-04T18:02:53.494Z"
   },
   {
    "duration": 728,
    "start_time": "2021-08-04T18:06:34.739Z"
   },
   {
    "duration": 424,
    "start_time": "2021-08-04T18:07:18.497Z"
   },
   {
    "duration": 39,
    "start_time": "2021-08-04T18:07:41.055Z"
   },
   {
    "duration": 29,
    "start_time": "2021-08-04T18:08:09.129Z"
   },
   {
    "duration": 39,
    "start_time": "2021-08-04T18:13:20.286Z"
   },
   {
    "duration": 2233,
    "start_time": "2021-08-04T18:15:27.400Z"
   },
   {
    "duration": 399,
    "start_time": "2021-08-04T18:15:29.636Z"
   },
   {
    "duration": 375,
    "start_time": "2021-08-04T18:15:30.038Z"
   },
   {
    "duration": 37,
    "start_time": "2021-08-04T18:15:30.416Z"
   },
   {
    "duration": 417,
    "start_time": "2021-08-04T18:15:30.456Z"
   },
   {
    "duration": 559,
    "start_time": "2021-08-04T18:15:30.875Z"
   },
   {
    "duration": 137,
    "start_time": "2021-08-04T18:15:31.436Z"
   },
   {
    "duration": 29,
    "start_time": "2021-08-04T18:15:31.577Z"
   },
   {
    "duration": 56,
    "start_time": "2021-08-04T18:15:31.609Z"
   },
   {
    "duration": 64,
    "start_time": "2021-08-04T18:15:31.668Z"
   },
   {
    "duration": 91,
    "start_time": "2021-08-04T18:15:31.734Z"
   },
   {
    "duration": 15,
    "start_time": "2021-08-04T18:15:31.828Z"
   },
   {
    "duration": 153,
    "start_time": "2021-08-04T18:15:31.847Z"
   },
   {
    "duration": 24,
    "start_time": "2021-08-04T18:15:32.003Z"
   },
   {
    "duration": 120,
    "start_time": "2021-08-04T18:15:32.030Z"
   },
   {
    "duration": 835,
    "start_time": "2021-08-04T18:15:32.153Z"
   },
   {
    "duration": 42,
    "start_time": "2021-08-04T18:15:32.993Z"
   },
   {
    "duration": 2924,
    "start_time": "2021-08-04T18:15:33.037Z"
   },
   {
    "duration": 33,
    "start_time": "2021-08-04T18:15:35.963Z"
   },
   {
    "duration": 2946,
    "start_time": "2021-08-04T18:15:35.999Z"
   },
   {
    "duration": 46,
    "start_time": "2021-08-04T18:15:38.948Z"
   },
   {
    "duration": 51,
    "start_time": "2021-08-04T18:15:38.997Z"
   },
   {
    "duration": 30,
    "start_time": "2021-08-04T18:17:02.403Z"
   },
   {
    "duration": 155,
    "start_time": "2021-08-04T18:41:14.751Z"
   },
   {
    "duration": 2204,
    "start_time": "2021-08-04T21:52:51.257Z"
   },
   {
    "duration": 460,
    "start_time": "2021-08-04T21:52:53.487Z"
   },
   {
    "duration": 402,
    "start_time": "2021-08-04T21:52:53.951Z"
   },
   {
    "duration": 63,
    "start_time": "2021-08-04T21:52:54.357Z"
   },
   {
    "duration": 518,
    "start_time": "2021-08-04T21:52:54.423Z"
   },
   {
    "duration": 751,
    "start_time": "2021-08-04T21:52:54.944Z"
   },
   {
    "duration": 183,
    "start_time": "2021-08-04T21:52:55.698Z"
   },
   {
    "duration": 28,
    "start_time": "2021-08-04T21:52:55.885Z"
   },
   {
    "duration": 86,
    "start_time": "2021-08-04T21:52:55.918Z"
   },
   {
    "duration": 39,
    "start_time": "2021-08-04T21:52:56.007Z"
   },
   {
    "duration": 107,
    "start_time": "2021-08-04T21:52:56.049Z"
   },
   {
    "duration": 30,
    "start_time": "2021-08-04T21:52:56.158Z"
   },
   {
    "duration": 136,
    "start_time": "2021-08-04T21:52:56.191Z"
   },
   {
    "duration": 23,
    "start_time": "2021-08-04T21:52:56.330Z"
   },
   {
    "duration": 117,
    "start_time": "2021-08-04T21:52:56.356Z"
   },
   {
    "duration": 654,
    "start_time": "2021-08-04T21:52:56.487Z"
   },
   {
    "duration": 62,
    "start_time": "2021-08-04T21:52:57.143Z"
   },
   {
    "duration": 2952,
    "start_time": "2021-08-04T21:52:57.209Z"
   },
   {
    "duration": 36,
    "start_time": "2021-08-04T21:53:00.164Z"
   },
   {
    "duration": 2995,
    "start_time": "2021-08-04T21:53:00.202Z"
   },
   {
    "duration": 15,
    "start_time": "2021-08-04T21:53:03.200Z"
   },
   {
    "duration": 85,
    "start_time": "2021-08-04T21:53:03.218Z"
   },
   {
    "duration": 34,
    "start_time": "2021-08-04T21:53:03.311Z"
   },
   {
    "duration": 1203,
    "start_time": "2021-08-04T22:57:41.472Z"
   },
   {
    "duration": 2030,
    "start_time": "2021-08-07T09:14:48.727Z"
   },
   {
    "duration": 348,
    "start_time": "2021-08-07T09:14:50.760Z"
   },
   {
    "duration": 348,
    "start_time": "2021-08-07T09:14:51.112Z"
   },
   {
    "duration": 36,
    "start_time": "2021-08-07T09:14:51.462Z"
   },
   {
    "duration": 370,
    "start_time": "2021-08-07T09:14:51.501Z"
   },
   {
    "duration": 515,
    "start_time": "2021-08-07T09:14:51.874Z"
   },
   {
    "duration": 126,
    "start_time": "2021-08-07T09:14:52.391Z"
   },
   {
    "duration": 17,
    "start_time": "2021-08-07T09:14:52.521Z"
   },
   {
    "duration": 72,
    "start_time": "2021-08-07T09:14:52.541Z"
   },
   {
    "duration": 40,
    "start_time": "2021-08-07T09:14:52.616Z"
   },
   {
    "duration": 66,
    "start_time": "2021-08-07T09:14:52.659Z"
   },
   {
    "duration": 35,
    "start_time": "2021-08-07T09:14:52.727Z"
   },
   {
    "duration": 106,
    "start_time": "2021-08-07T09:14:52.765Z"
   },
   {
    "duration": 16,
    "start_time": "2021-08-07T09:14:52.873Z"
   },
   {
    "duration": 87,
    "start_time": "2021-08-07T09:14:52.892Z"
   },
   {
    "duration": 479,
    "start_time": "2021-08-07T09:14:52.981Z"
   },
   {
    "duration": 37,
    "start_time": "2021-08-07T09:14:53.462Z"
   },
   {
    "duration": 2763,
    "start_time": "2021-08-07T09:14:53.501Z"
   },
   {
    "duration": 12,
    "start_time": "2021-08-07T09:14:56.267Z"
   },
   {
    "duration": 3172,
    "start_time": "2021-08-07T09:14:56.282Z"
   },
   {
    "duration": 14,
    "start_time": "2021-08-07T09:14:59.456Z"
   },
   {
    "duration": 634,
    "start_time": "2021-08-07T09:14:59.472Z"
   },
   {
    "duration": 2734,
    "start_time": "2021-08-07T09:15:00.111Z"
   },
   {
    "duration": 41,
    "start_time": "2021-08-07T09:15:02.848Z"
   },
   {
    "duration": 31,
    "start_time": "2021-08-07T09:15:02.892Z"
   },
   {
    "duration": 725,
    "start_time": "2021-08-07T09:17:01.022Z"
   },
   {
    "duration": 2697,
    "start_time": "2021-08-07T09:17:07.115Z"
   },
   {
    "duration": 2791,
    "start_time": "2021-08-07T09:17:18.405Z"
   },
   {
    "duration": 2748,
    "start_time": "2021-08-07T09:17:25.876Z"
   },
   {
    "duration": 3071,
    "start_time": "2021-08-07T09:30:31.146Z"
   },
   {
    "duration": 310,
    "start_time": "2021-08-07T09:31:44.998Z"
   },
   {
    "duration": 4731,
    "start_time": "2021-08-07T09:32:16.453Z"
   },
   {
    "duration": 3862,
    "start_time": "2021-08-07T09:37:54.608Z"
   },
   {
    "duration": 4804,
    "start_time": "2021-08-07T09:38:40.608Z"
   },
   {
    "duration": 3268,
    "start_time": "2021-08-07T09:39:21.861Z"
   },
   {
    "duration": 3916,
    "start_time": "2021-08-07T09:39:40.002Z"
   },
   {
    "duration": 3939,
    "start_time": "2021-08-07T09:40:44.730Z"
   },
   {
    "duration": 3923,
    "start_time": "2021-08-07T09:41:05.568Z"
   },
   {
    "duration": 4359,
    "start_time": "2021-08-07T09:43:12.634Z"
   },
   {
    "duration": 4936,
    "start_time": "2021-08-07T09:46:52.119Z"
   },
   {
    "duration": 5821,
    "start_time": "2021-08-07T09:47:13.805Z"
   },
   {
    "duration": 4332,
    "start_time": "2021-08-07T09:48:44.472Z"
   },
   {
    "duration": 4849,
    "start_time": "2021-08-07T09:48:59.625Z"
   },
   {
    "duration": 3415,
    "start_time": "2021-08-07T09:53:10.191Z"
   },
   {
    "duration": 4896,
    "start_time": "2021-08-07T09:54:44.449Z"
   },
   {
    "duration": 4570,
    "start_time": "2021-08-07T09:55:13.728Z"
   },
   {
    "duration": 15,
    "start_time": "2021-08-07T09:59:27.044Z"
   },
   {
    "duration": 14,
    "start_time": "2021-08-07T10:01:07.431Z"
   },
   {
    "duration": 2046,
    "start_time": "2021-08-07T21:57:13.437Z"
   },
   {
    "duration": 391,
    "start_time": "2021-08-07T21:57:15.486Z"
   },
   {
    "duration": 363,
    "start_time": "2021-08-07T21:57:15.881Z"
   },
   {
    "duration": 46,
    "start_time": "2021-08-07T21:57:16.247Z"
   },
   {
    "duration": 383,
    "start_time": "2021-08-07T21:57:16.295Z"
   },
   {
    "duration": 533,
    "start_time": "2021-08-07T21:57:16.681Z"
   },
   {
    "duration": 131,
    "start_time": "2021-08-07T21:57:17.217Z"
   },
   {
    "duration": 26,
    "start_time": "2021-08-07T21:57:17.352Z"
   },
   {
    "duration": 51,
    "start_time": "2021-08-07T21:57:17.381Z"
   },
   {
    "duration": 57,
    "start_time": "2021-08-07T21:57:17.435Z"
   },
   {
    "duration": 83,
    "start_time": "2021-08-07T21:57:17.495Z"
   },
   {
    "duration": 14,
    "start_time": "2021-08-07T21:57:17.580Z"
   },
   {
    "duration": 109,
    "start_time": "2021-08-07T21:57:17.597Z"
   },
   {
    "duration": 15,
    "start_time": "2021-08-07T21:57:17.708Z"
   },
   {
    "duration": 91,
    "start_time": "2021-08-07T21:57:17.726Z"
   },
   {
    "duration": 587,
    "start_time": "2021-08-07T21:57:17.820Z"
   },
   {
    "duration": 52,
    "start_time": "2021-08-07T21:57:18.409Z"
   },
   {
    "duration": 3140,
    "start_time": "2021-08-07T21:57:18.464Z"
   },
   {
    "duration": 1641,
    "start_time": "2021-08-07T21:57:21.607Z"
   },
   {
    "duration": 25,
    "start_time": "2021-08-07T21:57:23.251Z"
   },
   {
    "duration": 4063,
    "start_time": "2021-08-07T21:57:23.279Z"
   },
   {
    "duration": 22,
    "start_time": "2021-08-07T21:57:27.345Z"
   },
   {
    "duration": 1135,
    "start_time": "2021-08-07T21:57:27.374Z"
   },
   {
    "duration": 5145,
    "start_time": "2021-08-07T21:57:28.512Z"
   },
   {
    "duration": 16,
    "start_time": "2021-08-07T21:57:33.662Z"
   },
   {
    "duration": 155,
    "start_time": "2021-08-07T21:57:33.680Z"
   }
  ],
  "kernelspec": {
   "display_name": "Python 3",
   "language": "python",
   "name": "python3"
  },
  "language_info": {
   "codemirror_mode": {
    "name": "ipython",
    "version": 3
   },
   "file_extension": ".py",
   "mimetype": "text/x-python",
   "name": "python",
   "nbconvert_exporter": "python",
   "pygments_lexer": "ipython3",
   "version": "3.8.8"
  },
  "toc": {
   "base_numbering": 1,
   "nav_menu": {},
   "number_sections": true,
   "sideBar": true,
   "skip_h1_title": true,
   "title_cell": "Table of Contents",
   "title_sidebar": "Contents",
   "toc_cell": false,
   "toc_position": {},
   "toc_section_display": true,
   "toc_window_display": true
  }
 },
 "nbformat": 4,
 "nbformat_minor": 2
}
