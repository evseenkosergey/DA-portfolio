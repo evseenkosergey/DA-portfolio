{
 "cells": [
  {
   "cell_type": "markdown",
   "metadata": {},
   "source": [
    "**Проект по SQL для сервиса по прочтению книг.**\n",
    "\n",
    "Цель — проанализировать базу данных крупного сервиса для чтения книг по подписке и сформулировать ценностное предложение для нового продукта. В базе данных — информация о книгах, издательствах, авторах, а также пользовательские обзоры книг.\n",
    "\n",
    "Описание данных\n",
    "\n",
    "Таблица **books** Содержит данные о книгах:\n",
    "- book_id — идентификатор книги;\n",
    "- author_id — идентификатор автора;\n",
    "- title — название книги;\n",
    "- num_pages — количество страниц;\n",
    "- publication_date — дата публикации книги;\n",
    "- publisher_id — идентификатор издателя.\n",
    "\n",
    "Таблица **authors** Содержит данные об авторах:\n",
    "- author_id — идентификатор автора;\n",
    "- author — имя автора.\n",
    "\n",
    "Таблица **publishers** Содержит данные об издательствах:\n",
    "- publisher_id — идентификатор издательства;\n",
    "- publisher — название издательства;\n",
    "\n",
    "Таблица **ratings** Содержит данные о пользовательских оценках книг:\n",
    "- rating_id — идентификатор оценки;\n",
    "- book_id — идентификатор книги;\n",
    "- username — имя пользователя, оставившего оценку;\n",
    "- rating — оценка книги.\n",
    "\n",
    "Таблица **reviews** Содержит данные о пользовательских обзорах:\n",
    "\n",
    "- review_id — идентификатор обзора;\n",
    "- book_id — идентификатор книги;\n",
    "- username — имя автора обзора;\n",
    "- text — текст обзора.\n",
    "\n",
    "Задания:\n",
    "\n",
    "- Посчитайте, сколько книг вышло после 1 января 2000 года;\n",
    "- Для каждой книги посчитайте количество обзоров и среднюю оценку;\n",
    "- Определите издательство, которое выпустило наибольшее число книг толще 50 страниц — так вы исключите из анализа брошюры;\n",
    "- Определите автора с самой высокой средней оценкой книг — учитывайте только книги с 50 и более оценками;\n",
    "- Посчитайте среднее количество обзоров от пользователей, которые поставили больше 50 оценок.\n",
    "\n",
    "**Структура данных:**\n",
    "\n",
    "\n",
    "<img src=https://storage.yandexcloud.net/cloud-evseenko/Untitled_(33).png>\n",
    "<br>\n"
   ]
  },
  {
   "cell_type": "markdown",
   "metadata": {},
   "source": [
    "# Предобработка"
   ]
  },
  {
   "cell_type": "code",
   "execution_count": 1,
   "metadata": {},
   "outputs": [],
   "source": [
    "# импортируем библиотеки\n",
    "import pandas as pd\n",
    "from sqlalchemy import create_engine"
   ]
  },
  {
   "cell_type": "code",
   "execution_count": 2,
   "metadata": {},
   "outputs": [],
   "source": [
    "# устанавливаем параметры\n",
    "db_config = {'user': 'praktikum_student', # имя пользователя\n",
    "            'pwd': 'Sdf4$2;d-d30pp', # пароль\n",
    "            'host': 'rc1b-wcoijxj3yxfsf3fs.mdb.yandexcloud.net',\n",
    "            'port': 6432, # порт подключения\n",
    "            'db': 'data-analyst-final-project-db'} # название базы данных\n",
    "\n",
    "connection_string = 'postgresql://{}:{}@{}:{}/{}'.format(db_config['user'], \n",
    "                                                         db_config['pwd'], \n",
    "                                                         db_config['host'], \n",
    "                                                         db_config['port'],\n",
    "                                                        db_config['db']) \n",
    "\n",
    "# сохраняем коннектор\n",
    "engine = create_engine(connection_string, connect_args={'sslmode':'require'})\n"
   ]
  },
  {
   "cell_type": "code",
   "execution_count": 3,
   "metadata": {
    "scrolled": false
   },
   "outputs": [
    {
     "name": "stdout",
     "output_type": "stream",
     "text": [
      "\u001b[1mbooks\u001b[0m\n"
     ]
    },
    {
     "data": {
      "text/html": [
       "<div>\n",
       "<style scoped>\n",
       "    .dataframe tbody tr th:only-of-type {\n",
       "        vertical-align: middle;\n",
       "    }\n",
       "\n",
       "    .dataframe tbody tr th {\n",
       "        vertical-align: top;\n",
       "    }\n",
       "\n",
       "    .dataframe thead th {\n",
       "        text-align: right;\n",
       "    }\n",
       "</style>\n",
       "<table border=\"1\" class=\"dataframe\">\n",
       "  <thead>\n",
       "    <tr style=\"text-align: right;\">\n",
       "      <th></th>\n",
       "      <th>book_id</th>\n",
       "      <th>author_id</th>\n",
       "      <th>title</th>\n",
       "      <th>num_pages</th>\n",
       "      <th>publication_date</th>\n",
       "      <th>publisher_id</th>\n",
       "    </tr>\n",
       "  </thead>\n",
       "  <tbody>\n",
       "    <tr>\n",
       "      <td>0</td>\n",
       "      <td>1</td>\n",
       "      <td>546</td>\n",
       "      <td>'Salem's Lot</td>\n",
       "      <td>594</td>\n",
       "      <td>2005-11-01</td>\n",
       "      <td>93</td>\n",
       "    </tr>\n",
       "    <tr>\n",
       "      <td>1</td>\n",
       "      <td>2</td>\n",
       "      <td>465</td>\n",
       "      <td>1 000 Places to See Before You Die</td>\n",
       "      <td>992</td>\n",
       "      <td>2003-05-22</td>\n",
       "      <td>336</td>\n",
       "    </tr>\n",
       "    <tr>\n",
       "      <td>2</td>\n",
       "      <td>3</td>\n",
       "      <td>407</td>\n",
       "      <td>13 Little Blue Envelopes (Little Blue Envelope...</td>\n",
       "      <td>322</td>\n",
       "      <td>2010-12-21</td>\n",
       "      <td>135</td>\n",
       "    </tr>\n",
       "    <tr>\n",
       "      <td>3</td>\n",
       "      <td>4</td>\n",
       "      <td>82</td>\n",
       "      <td>1491: New Revelations of the Americas Before C...</td>\n",
       "      <td>541</td>\n",
       "      <td>2006-10-10</td>\n",
       "      <td>309</td>\n",
       "    </tr>\n",
       "    <tr>\n",
       "      <td>4</td>\n",
       "      <td>5</td>\n",
       "      <td>125</td>\n",
       "      <td>1776</td>\n",
       "      <td>386</td>\n",
       "      <td>2006-07-04</td>\n",
       "      <td>268</td>\n",
       "    </tr>\n",
       "  </tbody>\n",
       "</table>\n",
       "</div>"
      ],
      "text/plain": [
       "   book_id  author_id                                              title  \\\n",
       "0        1        546                                       'Salem's Lot   \n",
       "1        2        465                 1 000 Places to See Before You Die   \n",
       "2        3        407  13 Little Blue Envelopes (Little Blue Envelope...   \n",
       "3        4         82  1491: New Revelations of the Americas Before C...   \n",
       "4        5        125                                               1776   \n",
       "\n",
       "   num_pages publication_date  publisher_id  \n",
       "0        594       2005-11-01            93  \n",
       "1        992       2003-05-22           336  \n",
       "2        322       2010-12-21           135  \n",
       "3        541       2006-10-10           309  \n",
       "4        386       2006-07-04           268  "
      ]
     },
     "metadata": {},
     "output_type": "display_data"
    },
    {
     "name": "stdout",
     "output_type": "stream",
     "text": [
      "\n",
      "\u001b[1mметод info\u001b[0m\n",
      "<class 'pandas.core.frame.DataFrame'>\n",
      "RangeIndex: 1000 entries, 0 to 999\n",
      "Data columns (total 6 columns):\n",
      "book_id             1000 non-null int64\n",
      "author_id           1000 non-null int64\n",
      "title               1000 non-null object\n",
      "num_pages           1000 non-null int64\n",
      "publication_date    1000 non-null object\n",
      "publisher_id        1000 non-null int64\n",
      "dtypes: int64(4), object(2)\n",
      "memory usage: 47.0+ KB\n"
     ]
    },
    {
     "data": {
      "text/plain": [
       "None"
      ]
     },
     "metadata": {},
     "output_type": "display_data"
    },
    {
     "name": "stdout",
     "output_type": "stream",
     "text": [
      "\n",
      "\u001b[1mметод isna().sum()\u001b[0m\n"
     ]
    },
    {
     "data": {
      "text/plain": [
       "book_id             0\n",
       "author_id           0\n",
       "title               0\n",
       "num_pages           0\n",
       "publication_date    0\n",
       "publisher_id        0\n",
       "dtype: int64"
      ]
     },
     "metadata": {},
     "output_type": "display_data"
    },
    {
     "name": "stdout",
     "output_type": "stream",
     "text": [
      "\n",
      "\u001b[1mметод .duplicated().sum()\u001b[0m\n"
     ]
    },
    {
     "data": {
      "text/plain": [
       "0"
      ]
     },
     "metadata": {},
     "output_type": "display_data"
    },
    {
     "name": "stdout",
     "output_type": "stream",
     "text": [
      "\n",
      "\u001b[1mauthors\u001b[0m\n"
     ]
    },
    {
     "data": {
      "text/html": [
       "<div>\n",
       "<style scoped>\n",
       "    .dataframe tbody tr th:only-of-type {\n",
       "        vertical-align: middle;\n",
       "    }\n",
       "\n",
       "    .dataframe tbody tr th {\n",
       "        vertical-align: top;\n",
       "    }\n",
       "\n",
       "    .dataframe thead th {\n",
       "        text-align: right;\n",
       "    }\n",
       "</style>\n",
       "<table border=\"1\" class=\"dataframe\">\n",
       "  <thead>\n",
       "    <tr style=\"text-align: right;\">\n",
       "      <th></th>\n",
       "      <th>author_id</th>\n",
       "      <th>author</th>\n",
       "    </tr>\n",
       "  </thead>\n",
       "  <tbody>\n",
       "    <tr>\n",
       "      <td>0</td>\n",
       "      <td>1</td>\n",
       "      <td>A.S. Byatt</td>\n",
       "    </tr>\n",
       "    <tr>\n",
       "      <td>1</td>\n",
       "      <td>2</td>\n",
       "      <td>Aesop/Laura Harris/Laura Gibbs</td>\n",
       "    </tr>\n",
       "    <tr>\n",
       "      <td>2</td>\n",
       "      <td>3</td>\n",
       "      <td>Agatha Christie</td>\n",
       "    </tr>\n",
       "    <tr>\n",
       "      <td>3</td>\n",
       "      <td>4</td>\n",
       "      <td>Alan Brennert</td>\n",
       "    </tr>\n",
       "    <tr>\n",
       "      <td>4</td>\n",
       "      <td>5</td>\n",
       "      <td>Alan Moore/David   Lloyd</td>\n",
       "    </tr>\n",
       "  </tbody>\n",
       "</table>\n",
       "</div>"
      ],
      "text/plain": [
       "   author_id                          author\n",
       "0          1                      A.S. Byatt\n",
       "1          2  Aesop/Laura Harris/Laura Gibbs\n",
       "2          3                 Agatha Christie\n",
       "3          4                   Alan Brennert\n",
       "4          5        Alan Moore/David   Lloyd"
      ]
     },
     "metadata": {},
     "output_type": "display_data"
    },
    {
     "name": "stdout",
     "output_type": "stream",
     "text": [
      "\n",
      "\u001b[1mметод info\u001b[0m\n",
      "<class 'pandas.core.frame.DataFrame'>\n",
      "RangeIndex: 636 entries, 0 to 635\n",
      "Data columns (total 2 columns):\n",
      "author_id    636 non-null int64\n",
      "author       636 non-null object\n",
      "dtypes: int64(1), object(1)\n",
      "memory usage: 10.1+ KB\n"
     ]
    },
    {
     "data": {
      "text/plain": [
       "None"
      ]
     },
     "metadata": {},
     "output_type": "display_data"
    },
    {
     "name": "stdout",
     "output_type": "stream",
     "text": [
      "\n",
      "\u001b[1mметод isna().sum()\u001b[0m\n"
     ]
    },
    {
     "data": {
      "text/plain": [
       "author_id    0\n",
       "author       0\n",
       "dtype: int64"
      ]
     },
     "metadata": {},
     "output_type": "display_data"
    },
    {
     "name": "stdout",
     "output_type": "stream",
     "text": [
      "\n",
      "\u001b[1mметод .duplicated().sum()\u001b[0m\n"
     ]
    },
    {
     "data": {
      "text/plain": [
       "0"
      ]
     },
     "metadata": {},
     "output_type": "display_data"
    },
    {
     "name": "stdout",
     "output_type": "stream",
     "text": [
      "\n",
      "\u001b[1mpublishers\u001b[0m\n"
     ]
    },
    {
     "data": {
      "text/html": [
       "<div>\n",
       "<style scoped>\n",
       "    .dataframe tbody tr th:only-of-type {\n",
       "        vertical-align: middle;\n",
       "    }\n",
       "\n",
       "    .dataframe tbody tr th {\n",
       "        vertical-align: top;\n",
       "    }\n",
       "\n",
       "    .dataframe thead th {\n",
       "        text-align: right;\n",
       "    }\n",
       "</style>\n",
       "<table border=\"1\" class=\"dataframe\">\n",
       "  <thead>\n",
       "    <tr style=\"text-align: right;\">\n",
       "      <th></th>\n",
       "      <th>publisher_id</th>\n",
       "      <th>publisher</th>\n",
       "    </tr>\n",
       "  </thead>\n",
       "  <tbody>\n",
       "    <tr>\n",
       "      <td>0</td>\n",
       "      <td>1</td>\n",
       "      <td>Ace</td>\n",
       "    </tr>\n",
       "    <tr>\n",
       "      <td>1</td>\n",
       "      <td>2</td>\n",
       "      <td>Ace Book</td>\n",
       "    </tr>\n",
       "    <tr>\n",
       "      <td>2</td>\n",
       "      <td>3</td>\n",
       "      <td>Ace Books</td>\n",
       "    </tr>\n",
       "    <tr>\n",
       "      <td>3</td>\n",
       "      <td>4</td>\n",
       "      <td>Ace Hardcover</td>\n",
       "    </tr>\n",
       "    <tr>\n",
       "      <td>4</td>\n",
       "      <td>5</td>\n",
       "      <td>Addison Wesley Publishing Company</td>\n",
       "    </tr>\n",
       "  </tbody>\n",
       "</table>\n",
       "</div>"
      ],
      "text/plain": [
       "   publisher_id                          publisher\n",
       "0             1                                Ace\n",
       "1             2                           Ace Book\n",
       "2             3                          Ace Books\n",
       "3             4                      Ace Hardcover\n",
       "4             5  Addison Wesley Publishing Company"
      ]
     },
     "metadata": {},
     "output_type": "display_data"
    },
    {
     "name": "stdout",
     "output_type": "stream",
     "text": [
      "\n",
      "\u001b[1mметод info\u001b[0m\n",
      "<class 'pandas.core.frame.DataFrame'>\n",
      "RangeIndex: 340 entries, 0 to 339\n",
      "Data columns (total 2 columns):\n",
      "publisher_id    340 non-null int64\n",
      "publisher       340 non-null object\n",
      "dtypes: int64(1), object(1)\n",
      "memory usage: 5.4+ KB\n"
     ]
    },
    {
     "data": {
      "text/plain": [
       "None"
      ]
     },
     "metadata": {},
     "output_type": "display_data"
    },
    {
     "name": "stdout",
     "output_type": "stream",
     "text": [
      "\n",
      "\u001b[1mметод isna().sum()\u001b[0m\n"
     ]
    },
    {
     "data": {
      "text/plain": [
       "publisher_id    0\n",
       "publisher       0\n",
       "dtype: int64"
      ]
     },
     "metadata": {},
     "output_type": "display_data"
    },
    {
     "name": "stdout",
     "output_type": "stream",
     "text": [
      "\n",
      "\u001b[1mметод .duplicated().sum()\u001b[0m\n"
     ]
    },
    {
     "data": {
      "text/plain": [
       "0"
      ]
     },
     "metadata": {},
     "output_type": "display_data"
    },
    {
     "name": "stdout",
     "output_type": "stream",
     "text": [
      "\n",
      "\u001b[1mratings\u001b[0m\n"
     ]
    },
    {
     "data": {
      "text/html": [
       "<div>\n",
       "<style scoped>\n",
       "    .dataframe tbody tr th:only-of-type {\n",
       "        vertical-align: middle;\n",
       "    }\n",
       "\n",
       "    .dataframe tbody tr th {\n",
       "        vertical-align: top;\n",
       "    }\n",
       "\n",
       "    .dataframe thead th {\n",
       "        text-align: right;\n",
       "    }\n",
       "</style>\n",
       "<table border=\"1\" class=\"dataframe\">\n",
       "  <thead>\n",
       "    <tr style=\"text-align: right;\">\n",
       "      <th></th>\n",
       "      <th>rating_id</th>\n",
       "      <th>book_id</th>\n",
       "      <th>username</th>\n",
       "      <th>rating</th>\n",
       "    </tr>\n",
       "  </thead>\n",
       "  <tbody>\n",
       "    <tr>\n",
       "      <td>0</td>\n",
       "      <td>1</td>\n",
       "      <td>1</td>\n",
       "      <td>ryanfranco</td>\n",
       "      <td>4</td>\n",
       "    </tr>\n",
       "    <tr>\n",
       "      <td>1</td>\n",
       "      <td>2</td>\n",
       "      <td>1</td>\n",
       "      <td>grantpatricia</td>\n",
       "      <td>2</td>\n",
       "    </tr>\n",
       "    <tr>\n",
       "      <td>2</td>\n",
       "      <td>3</td>\n",
       "      <td>1</td>\n",
       "      <td>brandtandrea</td>\n",
       "      <td>5</td>\n",
       "    </tr>\n",
       "    <tr>\n",
       "      <td>3</td>\n",
       "      <td>4</td>\n",
       "      <td>2</td>\n",
       "      <td>lorichen</td>\n",
       "      <td>3</td>\n",
       "    </tr>\n",
       "    <tr>\n",
       "      <td>4</td>\n",
       "      <td>5</td>\n",
       "      <td>2</td>\n",
       "      <td>mariokeller</td>\n",
       "      <td>2</td>\n",
       "    </tr>\n",
       "  </tbody>\n",
       "</table>\n",
       "</div>"
      ],
      "text/plain": [
       "   rating_id  book_id       username  rating\n",
       "0          1        1     ryanfranco       4\n",
       "1          2        1  grantpatricia       2\n",
       "2          3        1   brandtandrea       5\n",
       "3          4        2       lorichen       3\n",
       "4          5        2    mariokeller       2"
      ]
     },
     "metadata": {},
     "output_type": "display_data"
    },
    {
     "name": "stdout",
     "output_type": "stream",
     "text": [
      "\n",
      "\u001b[1mметод info\u001b[0m\n",
      "<class 'pandas.core.frame.DataFrame'>\n",
      "RangeIndex: 6456 entries, 0 to 6455\n",
      "Data columns (total 4 columns):\n",
      "rating_id    6456 non-null int64\n",
      "book_id      6456 non-null int64\n",
      "username     6456 non-null object\n",
      "rating       6456 non-null int64\n",
      "dtypes: int64(3), object(1)\n",
      "memory usage: 201.9+ KB\n"
     ]
    },
    {
     "data": {
      "text/plain": [
       "None"
      ]
     },
     "metadata": {},
     "output_type": "display_data"
    },
    {
     "name": "stdout",
     "output_type": "stream",
     "text": [
      "\n",
      "\u001b[1mметод isna().sum()\u001b[0m\n"
     ]
    },
    {
     "data": {
      "text/plain": [
       "rating_id    0\n",
       "book_id      0\n",
       "username     0\n",
       "rating       0\n",
       "dtype: int64"
      ]
     },
     "metadata": {},
     "output_type": "display_data"
    },
    {
     "name": "stdout",
     "output_type": "stream",
     "text": [
      "\n",
      "\u001b[1mметод .duplicated().sum()\u001b[0m\n"
     ]
    },
    {
     "data": {
      "text/plain": [
       "0"
      ]
     },
     "metadata": {},
     "output_type": "display_data"
    },
    {
     "name": "stdout",
     "output_type": "stream",
     "text": [
      "\n",
      "\u001b[1mreviews\u001b[0m\n"
     ]
    },
    {
     "data": {
      "text/html": [
       "<div>\n",
       "<style scoped>\n",
       "    .dataframe tbody tr th:only-of-type {\n",
       "        vertical-align: middle;\n",
       "    }\n",
       "\n",
       "    .dataframe tbody tr th {\n",
       "        vertical-align: top;\n",
       "    }\n",
       "\n",
       "    .dataframe thead th {\n",
       "        text-align: right;\n",
       "    }\n",
       "</style>\n",
       "<table border=\"1\" class=\"dataframe\">\n",
       "  <thead>\n",
       "    <tr style=\"text-align: right;\">\n",
       "      <th></th>\n",
       "      <th>review_id</th>\n",
       "      <th>book_id</th>\n",
       "      <th>username</th>\n",
       "      <th>text</th>\n",
       "    </tr>\n",
       "  </thead>\n",
       "  <tbody>\n",
       "    <tr>\n",
       "      <td>0</td>\n",
       "      <td>1</td>\n",
       "      <td>1</td>\n",
       "      <td>brandtandrea</td>\n",
       "      <td>Mention society tell send professor analysis. ...</td>\n",
       "    </tr>\n",
       "    <tr>\n",
       "      <td>1</td>\n",
       "      <td>2</td>\n",
       "      <td>1</td>\n",
       "      <td>ryanfranco</td>\n",
       "      <td>Foot glass pretty audience hit themselves. Amo...</td>\n",
       "    </tr>\n",
       "    <tr>\n",
       "      <td>2</td>\n",
       "      <td>3</td>\n",
       "      <td>2</td>\n",
       "      <td>lorichen</td>\n",
       "      <td>Listen treat keep worry. Miss husband tax but ...</td>\n",
       "    </tr>\n",
       "    <tr>\n",
       "      <td>3</td>\n",
       "      <td>4</td>\n",
       "      <td>3</td>\n",
       "      <td>johnsonamanda</td>\n",
       "      <td>Finally month interesting blue could nature cu...</td>\n",
       "    </tr>\n",
       "    <tr>\n",
       "      <td>4</td>\n",
       "      <td>5</td>\n",
       "      <td>3</td>\n",
       "      <td>scotttamara</td>\n",
       "      <td>Nation purpose heavy give wait song will. List...</td>\n",
       "    </tr>\n",
       "  </tbody>\n",
       "</table>\n",
       "</div>"
      ],
      "text/plain": [
       "   review_id  book_id       username  \\\n",
       "0          1        1   brandtandrea   \n",
       "1          2        1     ryanfranco   \n",
       "2          3        2       lorichen   \n",
       "3          4        3  johnsonamanda   \n",
       "4          5        3    scotttamara   \n",
       "\n",
       "                                                text  \n",
       "0  Mention society tell send professor analysis. ...  \n",
       "1  Foot glass pretty audience hit themselves. Amo...  \n",
       "2  Listen treat keep worry. Miss husband tax but ...  \n",
       "3  Finally month interesting blue could nature cu...  \n",
       "4  Nation purpose heavy give wait song will. List...  "
      ]
     },
     "metadata": {},
     "output_type": "display_data"
    },
    {
     "name": "stdout",
     "output_type": "stream",
     "text": [
      "\n",
      "\u001b[1mметод info\u001b[0m\n",
      "<class 'pandas.core.frame.DataFrame'>\n",
      "RangeIndex: 2793 entries, 0 to 2792\n",
      "Data columns (total 4 columns):\n",
      "review_id    2793 non-null int64\n",
      "book_id      2793 non-null int64\n",
      "username     2793 non-null object\n",
      "text         2793 non-null object\n",
      "dtypes: int64(2), object(2)\n",
      "memory usage: 87.4+ KB\n"
     ]
    },
    {
     "data": {
      "text/plain": [
       "None"
      ]
     },
     "metadata": {},
     "output_type": "display_data"
    },
    {
     "name": "stdout",
     "output_type": "stream",
     "text": [
      "\n",
      "\u001b[1mметод isna().sum()\u001b[0m\n"
     ]
    },
    {
     "data": {
      "text/plain": [
       "review_id    0\n",
       "book_id      0\n",
       "username     0\n",
       "text         0\n",
       "dtype: int64"
      ]
     },
     "metadata": {},
     "output_type": "display_data"
    },
    {
     "name": "stdout",
     "output_type": "stream",
     "text": [
      "\n",
      "\u001b[1mметод .duplicated().sum()\u001b[0m\n"
     ]
    },
    {
     "data": {
      "text/plain": [
       "0"
      ]
     },
     "metadata": {},
     "output_type": "display_data"
    },
    {
     "name": "stdout",
     "output_type": "stream",
     "text": [
      "\n"
     ]
    }
   ],
   "source": [
    "#изучим таблицы\n",
    "\n",
    "info_func = 'SELECT * FROM {}'\n",
    "\n",
    "data = ['books', 'authors', 'publishers', 'ratings', 'reviews']\n",
    "\n",
    "#в цикле выведем первые 5 строк, инфо, пропуски и дубликаты\n",
    "for i in data:\n",
    "    print('\\033[1m' + i + '\\033[0m')\n",
    "    display(pd.read_sql(info_func.format(i), engine).head())\n",
    "    print()\n",
    "    print('\\033[1m' + 'метод info' + '\\033[0m')\n",
    "    display((pd.read_sql(info_func.format(i), engine).info()))\n",
    "    print()\n",
    "    print('\\033[1m' + 'метод isna().sum()' + '\\033[0m')\n",
    "    display((pd.read_sql(info_func.format(i), engine).isna().sum()))\n",
    "    print()\n",
    "    print('\\033[1m' + 'метод .duplicated().sum()' + '\\033[0m')\n",
    "    display((pd.read_sql(info_func.format(i), engine).duplicated().sum()))\n",
    "    print()"
   ]
  },
  {
   "cell_type": "markdown",
   "metadata": {},
   "source": [
    "Дубликатов, пропусков нет, в целом данные в порядке, можно продолжать анализ."
   ]
  },
  {
   "cell_type": "markdown",
   "metadata": {},
   "source": [
    "## 1 задание: Посчитайте, сколько книг вышло после 1 января 2000 года"
   ]
  },
  {
   "cell_type": "code",
   "execution_count": 4,
   "metadata": {},
   "outputs": [],
   "source": [
    "#функция для выполнения sql-запроса\n",
    "def result(query):\n",
    "    return pd.io.sql.read_sql(query, con = engine)"
   ]
  },
  {
   "cell_type": "code",
   "execution_count": 5,
   "metadata": {},
   "outputs": [
    {
     "name": "stdout",
     "output_type": "stream",
     "text": [
      "После 1 января 2000 года вышло [821] книг\n"
     ]
    }
   ],
   "source": [
    "query1 = '''SELECT COUNT(title)\n",
    "            FROM books\n",
    "            WHERE publication_date >= '2000-01-01'\n",
    "         '''\n",
    "\n",
    "print('После 1 января 2000 года вышло {} книг'.format(result(query1).values[0]))"
   ]
  },
  {
   "cell_type": "markdown",
   "metadata": {},
   "source": [
    "## 2 задание: Для каждой книги посчитайте количество обзоров и среднюю оценку"
   ]
  },
  {
   "cell_type": "code",
   "execution_count": 7,
   "metadata": {},
   "outputs": [
    {
     "name": "stdout",
     "output_type": "stream",
     "text": [
      "Таблица с количством обзоров и средней оценкой книг (сортировка по количеству обзоров)\n"
     ]
    },
    {
     "data": {
      "text/html": [
       "<div>\n",
       "<style scoped>\n",
       "    .dataframe tbody tr th:only-of-type {\n",
       "        vertical-align: middle;\n",
       "    }\n",
       "\n",
       "    .dataframe tbody tr th {\n",
       "        vertical-align: top;\n",
       "    }\n",
       "\n",
       "    .dataframe thead th {\n",
       "        text-align: right;\n",
       "    }\n",
       "</style>\n",
       "<table border=\"1\" class=\"dataframe\">\n",
       "  <thead>\n",
       "    <tr style=\"text-align: right;\">\n",
       "      <th></th>\n",
       "      <th>book_id</th>\n",
       "      <th>author_id</th>\n",
       "      <th>title</th>\n",
       "      <th>num_pages</th>\n",
       "      <th>publication_date</th>\n",
       "      <th>publisher_id</th>\n",
       "      <th>reviews_num</th>\n",
       "      <th>avg_rating</th>\n",
       "    </tr>\n",
       "  </thead>\n",
       "  <tbody>\n",
       "    <tr>\n",
       "      <td>0</td>\n",
       "      <td>948</td>\n",
       "      <td>554</td>\n",
       "      <td>Twilight (Twilight  #1)</td>\n",
       "      <td>501</td>\n",
       "      <td>2006-09-06</td>\n",
       "      <td>176</td>\n",
       "      <td>7</td>\n",
       "      <td>3.662500</td>\n",
       "    </tr>\n",
       "    <tr>\n",
       "      <td>1</td>\n",
       "      <td>963</td>\n",
       "      <td>527</td>\n",
       "      <td>Water for Elephants</td>\n",
       "      <td>335</td>\n",
       "      <td>2007-05-01</td>\n",
       "      <td>12</td>\n",
       "      <td>6</td>\n",
       "      <td>3.977273</td>\n",
       "    </tr>\n",
       "    <tr>\n",
       "      <td>2</td>\n",
       "      <td>734</td>\n",
       "      <td>278</td>\n",
       "      <td>The Glass Castle</td>\n",
       "      <td>288</td>\n",
       "      <td>2006-01-17</td>\n",
       "      <td>258</td>\n",
       "      <td>6</td>\n",
       "      <td>4.206897</td>\n",
       "    </tr>\n",
       "    <tr>\n",
       "      <td>3</td>\n",
       "      <td>302</td>\n",
       "      <td>236</td>\n",
       "      <td>Harry Potter and the Prisoner of Azkaban (Harr...</td>\n",
       "      <td>435</td>\n",
       "      <td>2004-05-01</td>\n",
       "      <td>255</td>\n",
       "      <td>6</td>\n",
       "      <td>4.414634</td>\n",
       "    </tr>\n",
       "    <tr>\n",
       "      <td>4</td>\n",
       "      <td>695</td>\n",
       "      <td>395</td>\n",
       "      <td>The Curious Incident of the Dog in the Night-Time</td>\n",
       "      <td>226</td>\n",
       "      <td>2004-05-18</td>\n",
       "      <td>309</td>\n",
       "      <td>6</td>\n",
       "      <td>4.081081</td>\n",
       "    </tr>\n",
       "    <tr>\n",
       "      <td>5</td>\n",
       "      <td>696</td>\n",
       "      <td>106</td>\n",
       "      <td>The Da Vinci Code (Robert Langdon  #2)</td>\n",
       "      <td>489</td>\n",
       "      <td>2006-03-28</td>\n",
       "      <td>15</td>\n",
       "      <td>6</td>\n",
       "      <td>3.830508</td>\n",
       "    </tr>\n",
       "    <tr>\n",
       "      <td>6</td>\n",
       "      <td>627</td>\n",
       "      <td>469</td>\n",
       "      <td>The Alchemist</td>\n",
       "      <td>197</td>\n",
       "      <td>1993-05-01</td>\n",
       "      <td>133</td>\n",
       "      <td>6</td>\n",
       "      <td>3.789474</td>\n",
       "    </tr>\n",
       "    <tr>\n",
       "      <td>7</td>\n",
       "      <td>750</td>\n",
       "      <td>240</td>\n",
       "      <td>The Hobbit  or There and Back Again</td>\n",
       "      <td>366</td>\n",
       "      <td>2002-08-15</td>\n",
       "      <td>154</td>\n",
       "      <td>6</td>\n",
       "      <td>4.125000</td>\n",
       "    </tr>\n",
       "    <tr>\n",
       "      <td>8</td>\n",
       "      <td>656</td>\n",
       "      <td>402</td>\n",
       "      <td>The Book Thief</td>\n",
       "      <td>552</td>\n",
       "      <td>2006-03-14</td>\n",
       "      <td>9</td>\n",
       "      <td>6</td>\n",
       "      <td>4.264151</td>\n",
       "    </tr>\n",
       "    <tr>\n",
       "      <td>9</td>\n",
       "      <td>779</td>\n",
       "      <td>498</td>\n",
       "      <td>The Lightning Thief (Percy Jackson and the Oly...</td>\n",
       "      <td>375</td>\n",
       "      <td>2006-03-01</td>\n",
       "      <td>91</td>\n",
       "      <td>6</td>\n",
       "      <td>4.080645</td>\n",
       "    </tr>\n",
       "  </tbody>\n",
       "</table>\n",
       "</div>"
      ],
      "text/plain": [
       "   book_id  author_id                                              title  \\\n",
       "0      948        554                            Twilight (Twilight  #1)   \n",
       "1      963        527                                Water for Elephants   \n",
       "2      734        278                                   The Glass Castle   \n",
       "3      302        236  Harry Potter and the Prisoner of Azkaban (Harr...   \n",
       "4      695        395  The Curious Incident of the Dog in the Night-Time   \n",
       "5      696        106             The Da Vinci Code (Robert Langdon  #2)   \n",
       "6      627        469                                      The Alchemist   \n",
       "7      750        240                The Hobbit  or There and Back Again   \n",
       "8      656        402                                     The Book Thief   \n",
       "9      779        498  The Lightning Thief (Percy Jackson and the Oly...   \n",
       "\n",
       "   num_pages publication_date  publisher_id  reviews_num  avg_rating  \n",
       "0        501       2006-09-06           176            7    3.662500  \n",
       "1        335       2007-05-01            12            6    3.977273  \n",
       "2        288       2006-01-17           258            6    4.206897  \n",
       "3        435       2004-05-01           255            6    4.414634  \n",
       "4        226       2004-05-18           309            6    4.081081  \n",
       "5        489       2006-03-28            15            6    3.830508  \n",
       "6        197       1993-05-01           133            6    3.789474  \n",
       "7        366       2002-08-15           154            6    4.125000  \n",
       "8        552       2006-03-14             9            6    4.264151  \n",
       "9        375       2006-03-01            91            6    4.080645  "
      ]
     },
     "metadata": {},
     "output_type": "display_data"
    }
   ],
   "source": [
    "query2 =  '''SELECT books.*, COUNT(distinct review_id) as reviews_num, AVG(ratings.rating) as avg_rating\n",
    "             FROM  books\n",
    "             LEFT JOIN reviews ON books.book_id = reviews.book_id\n",
    "             LEFT JOIN ratings ON books.book_id = ratings.book_id\n",
    "             GROUP BY books.book_id\n",
    "             ORDER BY reviews_num  DESC \n",
    "             \n",
    "        '''\n",
    "\n",
    "\n",
    "books_rev_rtg = result(query2)\n",
    "\n",
    "print('Таблица с количством обзоров и средней оценкой книг (сортировка по количеству обзоров)')\n",
    "display(books_rev_rtg.head(10))"
   ]
  },
  {
   "cell_type": "markdown",
   "metadata": {},
   "source": [
    "## 3 задание: Определите издательство, которое выпустило наибольшее число книг толще 50 страниц"
   ]
  },
  {
   "cell_type": "code",
   "execution_count": 9,
   "metadata": {},
   "outputs": [
    {
     "name": "stdout",
     "output_type": "stream",
     "text": [
      "Издательство, которое выпустило наибольшее число книг толще 50 страниц:\n"
     ]
    },
    {
     "data": {
      "text/html": [
       "<div>\n",
       "<style scoped>\n",
       "    .dataframe tbody tr th:only-of-type {\n",
       "        vertical-align: middle;\n",
       "    }\n",
       "\n",
       "    .dataframe tbody tr th {\n",
       "        vertical-align: top;\n",
       "    }\n",
       "\n",
       "    .dataframe thead th {\n",
       "        text-align: right;\n",
       "    }\n",
       "</style>\n",
       "<table border=\"1\" class=\"dataframe\">\n",
       "  <thead>\n",
       "    <tr style=\"text-align: right;\">\n",
       "      <th></th>\n",
       "      <th>publisher_id</th>\n",
       "      <th>publisher</th>\n",
       "      <th>book_cnt</th>\n",
       "    </tr>\n",
       "  </thead>\n",
       "  <tbody>\n",
       "    <tr>\n",
       "      <td>0</td>\n",
       "      <td>212</td>\n",
       "      <td>Penguin Books</td>\n",
       "      <td>42</td>\n",
       "    </tr>\n",
       "  </tbody>\n",
       "</table>\n",
       "</div>"
      ],
      "text/plain": [
       "   publisher_id      publisher  book_cnt\n",
       "0           212  Penguin Books        42"
      ]
     },
     "metadata": {},
     "output_type": "display_data"
    }
   ],
   "source": [
    "query3 = '''SELECT publishers.*, COUNT(book_id) as book_cnt\n",
    "           FROM \n",
    "                  publishers \n",
    "                  INNER JOIN books ON publishers.publisher_id = books.publisher_id\n",
    "           WHERE num_pages > 50      \n",
    "           GROUP BY publishers.publisher_id\n",
    "           ORDER BY COUNT(book_id) DESC\n",
    "           LIMIT 1\n",
    "        '''\n",
    "\n",
    "print('Издательство, которое выпустило наибольшее число книг толще 50 страниц:')\n",
    "display(result(query3))"
   ]
  },
  {
   "cell_type": "markdown",
   "metadata": {},
   "source": [
    "## 4 задание: Определите автора с самой высокой средней оценкой книг — учитывайте только книги с 50 и более оценками"
   ]
  },
  {
   "cell_type": "code",
   "execution_count": 10,
   "metadata": {},
   "outputs": [
    {
     "name": "stdout",
     "output_type": "stream",
     "text": [
      "Автор с самой высокой средней оценкой книг (с 50 оценками и более):\n"
     ]
    },
    {
     "data": {
      "text/html": [
       "<div>\n",
       "<style scoped>\n",
       "    .dataframe tbody tr th:only-of-type {\n",
       "        vertical-align: middle;\n",
       "    }\n",
       "\n",
       "    .dataframe tbody tr th {\n",
       "        vertical-align: top;\n",
       "    }\n",
       "\n",
       "    .dataframe thead th {\n",
       "        text-align: right;\n",
       "    }\n",
       "</style>\n",
       "<table border=\"1\" class=\"dataframe\">\n",
       "  <thead>\n",
       "    <tr style=\"text-align: right;\">\n",
       "      <th></th>\n",
       "      <th>author</th>\n",
       "      <th>avg_rtg</th>\n",
       "    </tr>\n",
       "  </thead>\n",
       "  <tbody>\n",
       "    <tr>\n",
       "      <td>0</td>\n",
       "      <td>J.K. Rowling/Mary GrandPré</td>\n",
       "      <td>4.283844</td>\n",
       "    </tr>\n",
       "  </tbody>\n",
       "</table>\n",
       "</div>"
      ],
      "text/plain": [
       "                       author   avg_rtg\n",
       "0  J.K. Rowling/Mary GrandPré  4.283844"
      ]
     },
     "metadata": {},
     "output_type": "display_data"
    }
   ],
   "source": [
    "query4 = '''SELECT author, AVG(subq.avg_rating) AS avg_rtg\n",
    "            FROM\n",
    "                (SELECT author, books.book_id, AVG(rating) AS avg_rating\n",
    "                FROM authors\n",
    "                LEFT JOIN books ON books.author_id = authors.author_id\n",
    "                LEFT JOIN ratings ON ratings.book_id = books.book_id\n",
    "                GROUP BY author, books.book_id\n",
    "                HAVING COUNT(rating) > 50) AS subq\n",
    "            GROUP BY author\n",
    "            ORDER BY avg_rtg DESC\n",
    "            LIMIT 1\n",
    "           \n",
    "           \n",
    "        '''\n",
    "\n",
    "print('Автор с самой высокой средней оценкой книг (с 50 оценками и более):')\n",
    "display(result(query4))"
   ]
  },
  {
   "cell_type": "markdown",
   "metadata": {},
   "source": [
    "## 5 задание: Посчитайте среднее количество обзоров от пользователей, которые поставили больше 50 оценок"
   ]
  },
  {
   "cell_type": "code",
   "execution_count": 11,
   "metadata": {},
   "outputs": [
    {
     "name": "stdout",
     "output_type": "stream",
     "text": [
      "Среднее количество обзоров от пользователей, которые поставили больше 50 оценок:  [24.3]\n"
     ]
    }
   ],
   "source": [
    "query5 = '''SELECT AVG(reviews_num)\n",
    "           FROM \n",
    "               (SELECT ratings.username, COUNT(DISTINCT review_id) as reviews_num\n",
    "                FROM \n",
    "                reviews\n",
    "                RIGHT OUTER JOIN ratings ON reviews.username = ratings.username         \n",
    "                GROUP BY ratings.username\n",
    "                HAVING COUNT(DISTINCT ratings.book_id) > 50) as A\n",
    "        '''\n",
    "\n",
    "print('Среднее количество обзоров от пользователей, которые поставили больше 50 оценок: ',result(query5).values[0].round(1))"
   ]
  },
  {
   "cell_type": "markdown",
   "metadata": {},
   "source": [
    "## Общие выводы"
   ]
  },
  {
   "cell_type": "markdown",
   "metadata": {},
   "source": [
    "- После 1 января 2000 года вышло 821 книг\n",
    "- топ 5 книг по количеству обзоров, а значит по общественному интересу:\n",
    "    - Twilight (Twilight #1)\n",
    "    - The Hobbit or There and Back Again\n",
    "    - The Catcher in the Rye\n",
    "    - Harry Potter and the Prisoner of Azkaban\n",
    "    - Harry Potter and the Chamber of Secrets\n",
    "- Издательство, которое выпустило наибольшее число книг толще 50 страниц - Penguin Books (42 книги)\n",
    "- Автор с самой высокой средней оценкой книг (с 50 оценками и более) - J.K. Rowling/Mary GrandPré (ср.рейтинг 4.3)\n",
    "- Среднее количество обзоров от пользователей, которые поставили больше 50 оценок:  24.3\n",
    "\n",
    "Чтобы на старте завоевать как можно больше аудитории, необходимо бить в самые популярные тренды, чтобы как можно быстрее выйти на достаточное количество подписчиков. Для этого рекомендуется:\n",
    "- первоочередно продвигать популярные серии романов, отслеживать их можно по количеству обзоров пользовтелей - чем их больше, тем сильнее внимание аудитории к книге и серии в целом. \n",
    "- обратить внимание на издательство Penguin Books - они выпустили 42 книги, больше, чем все остальные издатели. Вероятно, у них есть какое-то конкурентное преимущество (может быть опыт, пиар и т.д.), которым можно воспользоваться.\n",
    "- акцентировать внимание на авторов с высокими оценками книг, например J.K. Rowling/Mary GrandPré (ср.рейтинг 4.3), т.к. такие книги может выбирать тот сегмент аудитории, который делает свой выбор исходя из рейтингов (по аналогии с кино и ресторанами)\n",
    "- мониторить \"инфлюенсеров\" среди книг - тех пользователей, которые делают много обзоров и ставят много оценок. Наверняка эти люди разбираются в том, что делают и имеют какую-то свою аудиторию. У таких пользователей есть смысл купить рекламу своего сервиса в их блогах или соцсетях, чтобы максимально точно охватить нашу целевую аудиторию."
   ]
  }
 ],
 "metadata": {
  "ExecuteTimeLog": [
   {
    "duration": 96,
    "start_time": "2021-12-21T18:28:19.274Z"
   },
   {
    "duration": 1112,
    "start_time": "2021-12-21T18:28:41.282Z"
   },
   {
    "duration": 7,
    "start_time": "2021-12-21T18:29:42.138Z"
   },
   {
    "duration": 346,
    "start_time": "2021-12-21T18:34:18.117Z"
   },
   {
    "duration": 639,
    "start_time": "2021-12-21T18:34:27.185Z"
   },
   {
    "duration": 439,
    "start_time": "2021-12-21T18:37:20.129Z"
   },
   {
    "duration": 55,
    "start_time": "2021-12-21T18:37:26.395Z"
   },
   {
    "duration": 57,
    "start_time": "2021-12-21T18:37:32.723Z"
   },
   {
    "duration": 285,
    "start_time": "2021-12-21T18:39:07.412Z"
   },
   {
    "duration": 261,
    "start_time": "2021-12-21T18:39:26.857Z"
   },
   {
    "duration": 914,
    "start_time": "2021-12-21T18:43:29.772Z"
   },
   {
    "duration": 56,
    "start_time": "2021-12-21T18:43:39.348Z"
   },
   {
    "duration": 309,
    "start_time": "2021-12-21T18:43:50.685Z"
   },
   {
    "duration": 232,
    "start_time": "2021-12-21T18:44:02.610Z"
   },
   {
    "duration": 85,
    "start_time": "2021-12-21T18:45:46.120Z"
   },
   {
    "duration": 55,
    "start_time": "2021-12-21T18:46:05.610Z"
   },
   {
    "duration": 56,
    "start_time": "2021-12-21T18:46:11.577Z"
   },
   {
    "duration": 299,
    "start_time": "2021-12-21T18:46:20.031Z"
   },
   {
    "duration": 56,
    "start_time": "2021-12-21T18:46:25.142Z"
   },
   {
    "duration": 60,
    "start_time": "2021-12-21T18:47:11.313Z"
   },
   {
    "duration": 306,
    "start_time": "2021-12-21T18:48:27.163Z"
   },
   {
    "duration": 337,
    "start_time": "2021-12-21T18:48:35.005Z"
   },
   {
    "duration": 313,
    "start_time": "2021-12-21T18:52:54.514Z"
   },
   {
    "duration": 102,
    "start_time": "2021-12-21T18:53:12.356Z"
   },
   {
    "duration": 621,
    "start_time": "2021-12-21T18:53:21.702Z"
   },
   {
    "duration": 576,
    "start_time": "2021-12-21T18:53:50.378Z"
   },
   {
    "duration": 677,
    "start_time": "2021-12-21T18:54:25.001Z"
   },
   {
    "duration": 79,
    "start_time": "2021-12-21T18:55:33.111Z"
   },
   {
    "duration": 932,
    "start_time": "2021-12-21T19:05:50.145Z"
   },
   {
    "duration": 992,
    "start_time": "2021-12-21T19:06:04.363Z"
   },
   {
    "duration": 870,
    "start_time": "2021-12-21T19:06:45.567Z"
   },
   {
    "duration": 1167,
    "start_time": "2021-12-21T19:07:38.576Z"
   },
   {
    "duration": 1165,
    "start_time": "2021-12-21T19:07:55.130Z"
   },
   {
    "duration": 119,
    "start_time": "2021-12-21T19:48:46.168Z"
   },
   {
    "duration": 108,
    "start_time": "2021-12-21T19:50:22.940Z"
   },
   {
    "duration": 89,
    "start_time": "2021-12-21T19:52:39.899Z"
   },
   {
    "duration": 833,
    "start_time": "2021-12-21T19:53:35.131Z"
   },
   {
    "duration": 92,
    "start_time": "2021-12-21T19:53:58.634Z"
   },
   {
    "duration": 246,
    "start_time": "2021-12-21T19:55:17.204Z"
   },
   {
    "duration": 60,
    "start_time": "2021-12-21T19:55:26.914Z"
   },
   {
    "duration": 63,
    "start_time": "2021-12-21T19:56:23.453Z"
   },
   {
    "duration": 66,
    "start_time": "2021-12-21T19:58:08.271Z"
   },
   {
    "duration": 64,
    "start_time": "2021-12-21T19:59:23.919Z"
   },
   {
    "duration": 242,
    "start_time": "2021-12-21T20:01:14.007Z"
   },
   {
    "duration": 65,
    "start_time": "2021-12-21T20:01:21.839Z"
   },
   {
    "duration": 65,
    "start_time": "2021-12-21T20:01:58.135Z"
   },
   {
    "duration": 66,
    "start_time": "2021-12-21T20:02:28.352Z"
   },
   {
    "duration": 90,
    "start_time": "2021-12-21T20:05:27.466Z"
   },
   {
    "duration": 91,
    "start_time": "2021-12-21T20:06:02.995Z"
   },
   {
    "duration": 1167,
    "start_time": "2021-12-21T20:07:34.224Z"
   },
   {
    "duration": 249,
    "start_time": "2021-12-21T20:08:01.061Z"
   },
   {
    "duration": 7,
    "start_time": "2021-12-21T20:08:05.187Z"
   },
   {
    "duration": 236,
    "start_time": "2021-12-21T20:08:08.922Z"
   },
   {
    "duration": 1193,
    "start_time": "2021-12-21T20:15:31.315Z"
   },
   {
    "duration": 98,
    "start_time": "2021-12-21T20:18:46.516Z"
   },
   {
    "duration": 891,
    "start_time": "2021-12-21T20:41:15.301Z"
   },
   {
    "duration": 1837,
    "start_time": "2021-12-21T20:41:16.195Z"
   },
   {
    "duration": 54,
    "start_time": "2021-12-21T20:41:18.035Z"
   },
   {
    "duration": 1738,
    "start_time": "2021-12-21T20:41:18.092Z"
   },
   {
    "duration": 1180,
    "start_time": "2021-12-21T20:41:19.832Z"
   },
   {
    "duration": 1088,
    "start_time": "2021-12-21T20:41:21.015Z"
   },
   {
    "duration": 1322,
    "start_time": "2021-12-21T20:41:22.105Z"
   },
   {
    "duration": 115,
    "start_time": "2021-12-21T20:42:37.787Z"
   },
   {
    "duration": 91,
    "start_time": "2021-12-21T20:42:46.969Z"
   },
   {
    "duration": 194,
    "start_time": "2021-12-21T20:43:50.184Z"
   },
   {
    "duration": 732,
    "start_time": "2021-12-21T20:46:09.872Z"
   },
   {
    "duration": 656,
    "start_time": "2021-12-21T20:46:31.901Z"
   },
   {
    "duration": 611,
    "start_time": "2021-12-21T20:46:53.927Z"
   },
   {
    "duration": 88,
    "start_time": "2021-12-21T20:47:43.557Z"
   },
   {
    "duration": 871,
    "start_time": "2021-12-21T20:49:59.230Z"
   },
   {
    "duration": 1322,
    "start_time": "2021-12-21T20:50:00.104Z"
   },
   {
    "duration": 58,
    "start_time": "2021-12-21T20:50:01.430Z"
   },
   {
    "duration": 272,
    "start_time": "2021-12-21T20:50:01.491Z"
   },
   {
    "duration": 82,
    "start_time": "2021-12-21T20:50:01.766Z"
   },
   {
    "duration": 129,
    "start_time": "2021-12-21T20:50:01.850Z"
   },
   {
    "duration": 92,
    "start_time": "2021-12-21T20:50:01.981Z"
   },
   {
    "duration": 1366,
    "start_time": "2021-12-21T20:50:52.681Z"
   },
   {
    "duration": 1343,
    "start_time": "2021-12-21T20:51:51.497Z"
   },
   {
    "duration": 91,
    "start_time": "2021-12-21T20:54:44.316Z"
   },
   {
    "duration": 902,
    "start_time": "2021-12-21T20:54:54.143Z"
   },
   {
    "duration": 1664,
    "start_time": "2021-12-21T20:54:55.047Z"
   },
   {
    "duration": 61,
    "start_time": "2021-12-21T20:54:56.714Z"
   },
   {
    "duration": 266,
    "start_time": "2021-12-21T20:54:56.778Z"
   },
   {
    "duration": 434,
    "start_time": "2021-12-21T20:54:57.047Z"
   },
   {
    "duration": 131,
    "start_time": "2021-12-21T20:54:57.483Z"
   },
   {
    "duration": 315,
    "start_time": "2021-12-21T20:54:57.617Z"
   },
   {
    "duration": 878,
    "start_time": "2021-12-21T20:56:10.539Z"
   },
   {
    "duration": 1542,
    "start_time": "2021-12-21T20:56:11.420Z"
   },
   {
    "duration": 4,
    "start_time": "2021-12-21T20:56:12.967Z"
   },
   {
    "duration": 285,
    "start_time": "2021-12-21T20:56:12.975Z"
   },
   {
    "duration": 257,
    "start_time": "2021-12-21T20:56:13.264Z"
   },
   {
    "duration": 364,
    "start_time": "2021-12-21T20:56:13.523Z"
   },
   {
    "duration": 296,
    "start_time": "2021-12-21T20:56:13.890Z"
   },
   {
    "duration": 350,
    "start_time": "2021-12-21T20:56:14.189Z"
   },
   {
    "duration": 272,
    "start_time": "2021-12-22T05:05:21.297Z"
   },
   {
    "duration": 598,
    "start_time": "2021-12-22T05:05:33.916Z"
   },
   {
    "duration": 1735,
    "start_time": "2021-12-22T05:05:34.516Z"
   },
   {
    "duration": 2,
    "start_time": "2021-12-22T05:05:36.253Z"
   },
   {
    "duration": 70,
    "start_time": "2021-12-22T05:05:36.257Z"
   },
   {
    "duration": 85,
    "start_time": "2021-12-22T05:05:36.330Z"
   },
   {
    "duration": 143,
    "start_time": "2021-12-22T05:05:36.416Z"
   },
   {
    "duration": 70,
    "start_time": "2021-12-22T05:05:36.561Z"
   },
   {
    "duration": 76,
    "start_time": "2021-12-22T05:05:36.633Z"
   },
   {
    "duration": 104,
    "start_time": "2021-12-22T05:05:36.711Z"
   },
   {
    "duration": 77,
    "start_time": "2021-12-22T05:06:06.058Z"
   },
   {
    "duration": 75,
    "start_time": "2021-12-22T05:06:10.238Z"
   },
   {
    "duration": 103,
    "start_time": "2021-12-22T05:08:06.013Z"
   },
   {
    "duration": 103,
    "start_time": "2021-12-22T05:08:14.085Z"
   },
   {
    "duration": 105,
    "start_time": "2021-12-22T05:11:08.284Z"
   },
   {
    "duration": 105,
    "start_time": "2021-12-22T05:11:10.735Z"
   },
   {
    "duration": 640,
    "start_time": "2021-12-22T05:11:21.502Z"
   },
   {
    "duration": 1718,
    "start_time": "2021-12-22T05:11:22.144Z"
   },
   {
    "duration": 3,
    "start_time": "2021-12-22T05:11:23.864Z"
   },
   {
    "duration": 83,
    "start_time": "2021-12-22T05:11:23.868Z"
   },
   {
    "duration": 84,
    "start_time": "2021-12-22T05:11:23.953Z"
   },
   {
    "duration": 145,
    "start_time": "2021-12-22T05:11:24.038Z"
   },
   {
    "duration": 71,
    "start_time": "2021-12-22T05:11:24.185Z"
   },
   {
    "duration": 75,
    "start_time": "2021-12-22T05:11:24.259Z"
   },
   {
    "duration": 102,
    "start_time": "2021-12-22T05:11:24.336Z"
   },
   {
    "duration": 594,
    "start_time": "2021-12-22T05:14:20.309Z"
   },
   {
    "duration": 1587,
    "start_time": "2021-12-22T05:14:20.905Z"
   },
   {
    "duration": 3,
    "start_time": "2021-12-22T05:14:22.495Z"
   },
   {
    "duration": 69,
    "start_time": "2021-12-22T05:14:22.500Z"
   },
   {
    "duration": 79,
    "start_time": "2021-12-22T05:14:22.571Z"
   },
   {
    "duration": 133,
    "start_time": "2021-12-22T05:14:22.651Z"
   },
   {
    "duration": 64,
    "start_time": "2021-12-22T05:14:22.786Z"
   },
   {
    "duration": 69,
    "start_time": "2021-12-22T05:14:22.852Z"
   },
   {
    "duration": 97,
    "start_time": "2021-12-22T05:14:22.923Z"
   },
   {
    "duration": 509,
    "start_time": "2021-12-22T06:27:12.629Z"
   },
   {
    "duration": 868,
    "start_time": "2021-12-22T06:27:18.352Z"
   },
   {
    "duration": 45,
    "start_time": "2021-12-22T06:27:19.223Z"
   },
   {
    "duration": 1559,
    "start_time": "2021-12-22T06:27:19.271Z"
   },
   {
    "duration": 5,
    "start_time": "2021-12-22T06:27:20.833Z"
   },
   {
    "duration": 66,
    "start_time": "2021-12-22T06:27:20.841Z"
   },
   {
    "duration": 89,
    "start_time": "2021-12-22T06:27:20.909Z"
   },
   {
    "duration": 125,
    "start_time": "2021-12-22T06:27:21.001Z"
   },
   {
    "duration": 67,
    "start_time": "2021-12-22T06:27:21.130Z"
   },
   {
    "duration": 67,
    "start_time": "2021-12-22T06:27:21.200Z"
   },
   {
    "duration": 91,
    "start_time": "2021-12-22T06:27:21.270Z"
   },
   {
    "duration": 107,
    "start_time": "2021-12-22T06:27:58.879Z"
   },
   {
    "duration": 106,
    "start_time": "2021-12-22T06:29:47.697Z"
   },
   {
    "duration": 108,
    "start_time": "2021-12-22T06:29:57.894Z"
   },
   {
    "duration": 57,
    "start_time": "2021-12-22T06:33:56.963Z"
   },
   {
    "duration": 1603,
    "start_time": "2021-12-22T06:35:45.909Z"
   },
   {
    "duration": 115,
    "start_time": "2021-12-22T06:36:00.854Z"
   },
   {
    "duration": 847,
    "start_time": "2021-12-22T16:39:24.141Z"
   },
   {
    "duration": 185,
    "start_time": "2021-12-22T16:39:24.991Z"
   },
   {
    "duration": 1852,
    "start_time": "2021-12-22T16:39:25.179Z"
   },
   {
    "duration": 4,
    "start_time": "2021-12-22T16:39:27.033Z"
   },
   {
    "duration": 74,
    "start_time": "2021-12-22T16:39:27.040Z"
   },
   {
    "duration": 98,
    "start_time": "2021-12-22T16:39:27.116Z"
   },
   {
    "duration": 150,
    "start_time": "2021-12-22T16:39:27.216Z"
   },
   {
    "duration": 75,
    "start_time": "2021-12-22T16:39:27.369Z"
   },
   {
    "duration": 81,
    "start_time": "2021-12-22T16:39:27.446Z"
   },
   {
    "duration": 105,
    "start_time": "2021-12-22T16:39:27.531Z"
   },
   {
    "duration": 823,
    "start_time": "2021-12-22T16:45:10.021Z"
   },
   {
    "duration": 41,
    "start_time": "2021-12-22T16:45:10.847Z"
   },
   {
    "duration": 1650,
    "start_time": "2021-12-22T16:45:10.895Z"
   },
   {
    "duration": 5,
    "start_time": "2021-12-22T16:45:12.548Z"
   },
   {
    "duration": 66,
    "start_time": "2021-12-22T16:45:12.556Z"
   },
   {
    "duration": 90,
    "start_time": "2021-12-22T16:45:12.625Z"
   },
   {
    "duration": 137,
    "start_time": "2021-12-22T16:45:12.718Z"
   },
   {
    "duration": 69,
    "start_time": "2021-12-22T16:45:12.858Z"
   },
   {
    "duration": 72,
    "start_time": "2021-12-22T16:45:12.929Z"
   },
   {
    "duration": 97,
    "start_time": "2021-12-22T16:45:13.003Z"
   },
   {
    "duration": 764,
    "start_time": "2021-12-22T16:47:51.355Z"
   },
   {
    "duration": 827,
    "start_time": "2021-12-22T16:48:02.466Z"
   },
   {
    "duration": 108,
    "start_time": "2021-12-22T16:49:31.915Z"
   },
   {
    "duration": 635,
    "start_time": "2021-12-22T16:50:57.725Z"
   },
   {
    "duration": 676,
    "start_time": "2021-12-22T16:51:30.018Z"
   },
   {
    "duration": 634,
    "start_time": "2021-12-22T16:52:06.913Z"
   },
   {
    "duration": 692,
    "start_time": "2021-12-22T16:52:52.904Z"
   },
   {
    "duration": 653,
    "start_time": "2021-12-22T16:53:07.460Z"
   },
   {
    "duration": 684,
    "start_time": "2021-12-22T16:53:21.560Z"
   },
   {
    "duration": 650,
    "start_time": "2021-12-22T16:55:52.981Z"
   },
   {
    "duration": 110,
    "start_time": "2021-12-22T16:56:21.916Z"
   },
   {
    "duration": 115,
    "start_time": "2021-12-22T17:04:31.074Z"
   },
   {
    "duration": 695,
    "start_time": "2021-12-22T17:05:00.228Z"
   },
   {
    "duration": 117,
    "start_time": "2021-12-22T17:05:18.933Z"
   },
   {
    "duration": 118,
    "start_time": "2021-12-22T17:05:35.579Z"
   },
   {
    "duration": 118,
    "start_time": "2021-12-22T17:05:41.015Z"
   },
   {
    "duration": 102,
    "start_time": "2021-12-22T17:06:08.991Z"
   },
   {
    "duration": 125,
    "start_time": "2021-12-22T17:06:30.434Z"
   },
   {
    "duration": 118,
    "start_time": "2021-12-22T17:06:51.750Z"
   },
   {
    "duration": 672,
    "start_time": "2021-12-22T17:15:04.651Z"
   },
   {
    "duration": 73,
    "start_time": "2021-12-22T17:15:18.807Z"
   },
   {
    "duration": 298,
    "start_time": "2021-12-22T17:18:32.163Z"
   },
   {
    "duration": 70,
    "start_time": "2021-12-22T17:18:40.479Z"
   },
   {
    "duration": 643,
    "start_time": "2021-12-22T17:19:25.867Z"
   },
   {
    "duration": 71,
    "start_time": "2021-12-22T17:20:53.279Z"
   },
   {
    "duration": 71,
    "start_time": "2021-12-22T17:22:33.805Z"
   },
   {
    "duration": 73,
    "start_time": "2021-12-22T17:22:54.111Z"
   },
   {
    "duration": 75,
    "start_time": "2021-12-22T17:23:50.230Z"
   },
   {
    "duration": 63,
    "start_time": "2021-12-22T17:49:28.172Z"
   },
   {
    "duration": 63,
    "start_time": "2021-12-22T17:50:52.894Z"
   },
   {
    "duration": 63,
    "start_time": "2021-12-22T17:51:05.811Z"
   },
   {
    "duration": 5,
    "start_time": "2021-12-22T17:52:01.122Z"
   },
   {
    "duration": 64,
    "start_time": "2021-12-22T17:52:15.243Z"
   },
   {
    "duration": 65,
    "start_time": "2021-12-22T17:52:27.062Z"
   },
   {
    "duration": 836,
    "start_time": "2021-12-22T17:52:36.266Z"
   },
   {
    "duration": 643,
    "start_time": "2021-12-22T17:53:29.989Z"
   },
   {
    "duration": 65,
    "start_time": "2021-12-22T17:54:32.339Z"
   },
   {
    "duration": 634,
    "start_time": "2021-12-22T17:55:14.504Z"
   },
   {
    "duration": 678,
    "start_time": "2021-12-22T17:55:28.064Z"
   },
   {
    "duration": 626,
    "start_time": "2021-12-22T17:56:08.173Z"
   },
   {
    "duration": 628,
    "start_time": "2021-12-22T17:56:57.911Z"
   },
   {
    "duration": 635,
    "start_time": "2021-12-22T17:57:06.770Z"
   },
   {
    "duration": 698,
    "start_time": "2021-12-22T17:57:23.953Z"
   },
   {
    "duration": 977,
    "start_time": "2021-12-22T17:57:28.987Z"
   },
   {
    "duration": 65,
    "start_time": "2021-12-22T17:57:35.742Z"
   },
   {
    "duration": 72,
    "start_time": "2021-12-22T17:58:39.288Z"
   },
   {
    "duration": 66,
    "start_time": "2021-12-22T17:59:04.272Z"
   },
   {
    "duration": 822,
    "start_time": "2021-12-22T17:59:21.528Z"
   },
   {
    "duration": 1412,
    "start_time": "2021-12-22T17:59:32.329Z"
   },
   {
    "duration": 68,
    "start_time": "2021-12-22T18:00:02.981Z"
   },
   {
    "duration": 67,
    "start_time": "2021-12-22T18:00:14.828Z"
   },
   {
    "duration": 65,
    "start_time": "2021-12-22T18:00:24.415Z"
   },
   {
    "duration": 812,
    "start_time": "2021-12-22T18:01:23.686Z"
   },
   {
    "duration": 38,
    "start_time": "2021-12-22T18:01:24.500Z"
   },
   {
    "duration": 1814,
    "start_time": "2021-12-22T18:01:24.541Z"
   },
   {
    "duration": 4,
    "start_time": "2021-12-22T18:01:26.358Z"
   },
   {
    "duration": 73,
    "start_time": "2021-12-22T18:01:26.364Z"
   },
   {
    "duration": 70,
    "start_time": "2021-12-22T18:01:26.440Z"
   },
   {
    "duration": 99,
    "start_time": "2021-12-22T18:01:26.513Z"
   },
   {
    "duration": 147,
    "start_time": "2021-12-22T18:01:26.616Z"
   },
   {
    "duration": 73,
    "start_time": "2021-12-22T18:01:26.765Z"
   },
   {
    "duration": 78,
    "start_time": "2021-12-22T18:01:26.841Z"
   },
   {
    "duration": 104,
    "start_time": "2021-12-22T18:01:26.921Z"
   },
   {
    "duration": 73,
    "start_time": "2021-12-22T18:02:51.287Z"
   },
   {
    "duration": 749,
    "start_time": "2021-12-22T18:02:59.870Z"
   },
   {
    "duration": 75,
    "start_time": "2021-12-22T18:03:04.321Z"
   },
   {
    "duration": 669,
    "start_time": "2021-12-22T18:03:30.895Z"
   },
   {
    "duration": 1044,
    "start_time": "2021-12-22T18:03:44.381Z"
   },
   {
    "duration": 920,
    "start_time": "2021-12-22T18:03:56.302Z"
   },
   {
    "duration": 76,
    "start_time": "2021-12-22T18:04:11.630Z"
   },
   {
    "duration": 73,
    "start_time": "2021-12-22T18:04:46.714Z"
   },
   {
    "duration": 74,
    "start_time": "2021-12-22T18:06:47.390Z"
   },
   {
    "duration": 844,
    "start_time": "2021-12-22T18:09:19.660Z"
   },
   {
    "duration": 44,
    "start_time": "2021-12-22T18:09:20.507Z"
   },
   {
    "duration": 1749,
    "start_time": "2021-12-22T18:09:20.554Z"
   },
   {
    "duration": 3,
    "start_time": "2021-12-22T18:09:22.306Z"
   },
   {
    "duration": 69,
    "start_time": "2021-12-22T18:09:22.312Z"
   },
   {
    "duration": 70,
    "start_time": "2021-12-22T18:09:22.383Z"
   },
   {
    "duration": 93,
    "start_time": "2021-12-22T18:09:22.456Z"
   },
   {
    "duration": 143,
    "start_time": "2021-12-22T18:09:22.552Z"
   },
   {
    "duration": 73,
    "start_time": "2021-12-22T18:09:22.697Z"
   },
   {
    "duration": 76,
    "start_time": "2021-12-22T18:09:22.773Z"
   },
   {
    "duration": 102,
    "start_time": "2021-12-22T18:09:22.851Z"
   },
   {
    "duration": 438,
    "start_time": "2021-12-22T19:57:24.211Z"
   },
   {
    "duration": 864,
    "start_time": "2021-12-22T19:57:41.622Z"
   },
   {
    "duration": 45,
    "start_time": "2021-12-22T19:57:42.489Z"
   },
   {
    "duration": 2111,
    "start_time": "2021-12-22T19:57:42.537Z"
   },
   {
    "duration": 3,
    "start_time": "2021-12-22T19:57:44.651Z"
   },
   {
    "duration": 799,
    "start_time": "2021-12-22T19:57:44.656Z"
   },
   {
    "duration": 792,
    "start_time": "2021-12-22T19:57:45.457Z"
   },
   {
    "duration": 446,
    "start_time": "2021-12-22T19:57:46.252Z"
   },
   {
    "duration": 444,
    "start_time": "2021-12-22T19:57:46.702Z"
   },
   {
    "duration": 492,
    "start_time": "2021-12-22T19:57:47.150Z"
   },
   {
    "duration": 1577,
    "start_time": "2021-12-22T19:57:47.644Z"
   },
   {
    "duration": 1189,
    "start_time": "2021-12-22T19:57:49.223Z"
   },
   {
    "duration": 122,
    "start_time": "2021-12-22T19:58:44.686Z"
   },
   {
    "duration": 67,
    "start_time": "2021-12-22T19:59:43.003Z"
   },
   {
    "duration": 66,
    "start_time": "2021-12-22T20:00:19.168Z"
   },
   {
    "duration": 590,
    "start_time": "2021-12-22T20:04:10.252Z"
   },
   {
    "duration": 95,
    "start_time": "2021-12-22T20:04:16.449Z"
   },
   {
    "duration": 75,
    "start_time": "2021-12-22T20:04:43.032Z"
   },
   {
    "duration": 881,
    "start_time": "2021-12-22T20:07:07.872Z"
   },
   {
    "duration": 59,
    "start_time": "2021-12-22T20:07:12.271Z"
   },
   {
    "duration": 59,
    "start_time": "2021-12-22T20:07:15.758Z"
   },
   {
    "duration": 897,
    "start_time": "2021-12-22T20:14:26.828Z"
   },
   {
    "duration": 61,
    "start_time": "2021-12-22T20:15:00.938Z"
   },
   {
    "duration": 62,
    "start_time": "2021-12-22T20:15:11.433Z"
   },
   {
    "duration": 123,
    "start_time": "2021-12-22T20:17:35.926Z"
   },
   {
    "duration": 213,
    "start_time": "2021-12-22T20:19:17.861Z"
   },
   {
    "duration": 139,
    "start_time": "2021-12-22T20:19:30.769Z"
   },
   {
    "duration": 192,
    "start_time": "2021-12-22T20:19:34.001Z"
   },
   {
    "duration": 188,
    "start_time": "2021-12-22T20:19:37.304Z"
   },
   {
    "duration": 402,
    "start_time": "2021-12-22T20:20:28.926Z"
   },
   {
    "duration": 9773,
    "start_time": "2021-12-22T20:21:00.412Z"
   },
   {
    "duration": 480,
    "start_time": "2021-12-22T20:21:22.282Z"
   },
   {
    "duration": 128,
    "start_time": "2021-12-22T20:21:29.203Z"
   },
   {
    "duration": 548,
    "start_time": "2021-12-22T20:21:32.273Z"
   },
   {
    "duration": 381,
    "start_time": "2021-12-22T20:21:36.545Z"
   },
   {
    "duration": 393,
    "start_time": "2021-12-22T20:21:44.384Z"
   },
   {
    "duration": 1366,
    "start_time": "2021-12-22T20:22:06.105Z"
   },
   {
    "duration": 391,
    "start_time": "2021-12-22T20:22:09.256Z"
   },
   {
    "duration": 390,
    "start_time": "2021-12-22T20:22:27.641Z"
   },
   {
    "duration": 482,
    "start_time": "2021-12-22T20:22:41.870Z"
   },
   {
    "duration": 375,
    "start_time": "2021-12-22T20:22:44.413Z"
   },
   {
    "duration": 389,
    "start_time": "2021-12-22T20:22:48.838Z"
   },
   {
    "duration": 385,
    "start_time": "2021-12-22T20:23:02.077Z"
   },
   {
    "duration": 386,
    "start_time": "2021-12-22T20:23:08.140Z"
   },
   {
    "duration": 475,
    "start_time": "2021-12-22T20:24:40.270Z"
   },
   {
    "duration": 513,
    "start_time": "2021-12-22T20:24:47.925Z"
   },
   {
    "duration": 373,
    "start_time": "2021-12-22T20:25:05.478Z"
   },
   {
    "duration": 373,
    "start_time": "2021-12-22T20:25:17.981Z"
   },
   {
    "duration": 369,
    "start_time": "2021-12-22T20:25:23.579Z"
   },
   {
    "duration": 597,
    "start_time": "2021-12-22T20:25:59.291Z"
   },
   {
    "duration": 369,
    "start_time": "2021-12-22T20:26:12.858Z"
   },
   {
    "duration": 391,
    "start_time": "2021-12-22T20:26:17.321Z"
   },
   {
    "duration": 4,
    "start_time": "2021-12-22T20:26:27.817Z"
   },
   {
    "duration": 356,
    "start_time": "2021-12-22T20:26:29.599Z"
   },
   {
    "duration": 425,
    "start_time": "2021-12-22T20:27:01.047Z"
   },
   {
    "duration": 905,
    "start_time": "2021-12-22T20:35:21.955Z"
   },
   {
    "duration": 38,
    "start_time": "2021-12-22T20:35:22.863Z"
   },
   {
    "duration": 1726,
    "start_time": "2021-12-22T20:35:22.904Z"
   },
   {
    "duration": 453,
    "start_time": "2021-12-22T20:35:24.634Z"
   },
   {
    "duration": -1835,
    "start_time": "2021-12-22T20:35:26.925Z"
   },
   {
    "duration": -1833,
    "start_time": "2021-12-22T20:35:26.926Z"
   },
   {
    "duration": -1832,
    "start_time": "2021-12-22T20:35:26.927Z"
   },
   {
    "duration": -1832,
    "start_time": "2021-12-22T20:35:26.929Z"
   },
   {
    "duration": -1831,
    "start_time": "2021-12-22T20:35:26.930Z"
   },
   {
    "duration": -1829,
    "start_time": "2021-12-22T20:35:26.931Z"
   },
   {
    "duration": -1828,
    "start_time": "2021-12-22T20:35:26.932Z"
   },
   {
    "duration": -1827,
    "start_time": "2021-12-22T20:35:26.933Z"
   },
   {
    "duration": -1825,
    "start_time": "2021-12-22T20:35:26.934Z"
   },
   {
    "duration": 382,
    "start_time": "2021-12-22T20:38:14.052Z"
   },
   {
    "duration": 3,
    "start_time": "2021-12-22T20:38:25.323Z"
   },
   {
    "duration": 6,
    "start_time": "2021-12-22T20:38:26.618Z"
   },
   {
    "duration": 1520,
    "start_time": "2021-12-22T20:38:27.909Z"
   },
   {
    "duration": 4,
    "start_time": "2021-12-22T20:38:34.034Z"
   },
   {
    "duration": 65,
    "start_time": "2021-12-22T20:38:35.393Z"
   },
   {
    "duration": 789,
    "start_time": "2021-12-22T20:46:08.286Z"
   },
   {
    "duration": 958,
    "start_time": "2021-12-22T20:46:32.517Z"
   },
   {
    "duration": 760,
    "start_time": "2021-12-22T20:46:43.157Z"
   },
   {
    "duration": 788,
    "start_time": "2021-12-22T20:48:29.918Z"
   },
   {
    "duration": 659,
    "start_time": "2021-12-23T06:41:13.399Z"
   },
   {
    "duration": 165,
    "start_time": "2021-12-23T06:41:14.060Z"
   },
   {
    "duration": 1624,
    "start_time": "2021-12-23T06:41:14.227Z"
   },
   {
    "duration": 3,
    "start_time": "2021-12-23T06:41:15.853Z"
   },
   {
    "duration": 97,
    "start_time": "2021-12-23T06:41:15.857Z"
   },
   {
    "duration": 66,
    "start_time": "2021-12-23T06:41:15.956Z"
   },
   {
    "duration": 84,
    "start_time": "2021-12-23T06:41:16.024Z"
   },
   {
    "duration": 135,
    "start_time": "2021-12-23T06:41:16.111Z"
   },
   {
    "duration": 68,
    "start_time": "2021-12-23T06:41:16.248Z"
   },
   {
    "duration": 70,
    "start_time": "2021-12-23T06:41:16.318Z"
   },
   {
    "duration": 98,
    "start_time": "2021-12-23T06:41:16.390Z"
   },
   {
    "duration": 623,
    "start_time": "2021-12-23T06:41:57.611Z"
   },
   {
    "duration": 567,
    "start_time": "2021-12-23T06:42:08.763Z"
   },
   {
    "duration": 555,
    "start_time": "2021-12-23T06:42:31.436Z"
   },
   {
    "duration": 660,
    "start_time": "2021-12-23T06:42:52.738Z"
   },
   {
    "duration": 622,
    "start_time": "2021-12-23T06:43:12.017Z"
   },
   {
    "duration": 533,
    "start_time": "2021-12-23T06:43:14.072Z"
   },
   {
    "duration": 70,
    "start_time": "2021-12-23T06:46:03.974Z"
   },
   {
    "duration": 64,
    "start_time": "2021-12-23T06:46:20.148Z"
   },
   {
    "duration": 65,
    "start_time": "2021-12-23T06:46:28.719Z"
   },
   {
    "duration": 381,
    "start_time": "2021-12-23T06:48:07.046Z"
   },
   {
    "duration": 380,
    "start_time": "2021-12-23T06:48:19.924Z"
   },
   {
    "duration": 371,
    "start_time": "2021-12-23T06:49:17.097Z"
   },
   {
    "duration": 370,
    "start_time": "2021-12-23T06:50:28.757Z"
   },
   {
    "duration": 370,
    "start_time": "2021-12-23T06:50:36.460Z"
   },
   {
    "duration": 388,
    "start_time": "2021-12-23T06:51:15.169Z"
   },
   {
    "duration": 384,
    "start_time": "2021-12-23T06:51:51.720Z"
   },
   {
    "duration": 325,
    "start_time": "2021-12-23T06:53:56.873Z"
   },
   {
    "duration": 372,
    "start_time": "2021-12-23T06:54:02.175Z"
   },
   {
    "duration": 381,
    "start_time": "2021-12-23T06:54:09.704Z"
   },
   {
    "duration": 327,
    "start_time": "2021-12-23T06:55:06.277Z"
   },
   {
    "duration": 373,
    "start_time": "2021-12-23T06:55:08.691Z"
   },
   {
    "duration": 92,
    "start_time": "2021-12-23T06:56:05.664Z"
   },
   {
    "duration": 286,
    "start_time": "2021-12-23T06:56:15.822Z"
   },
   {
    "duration": 2,
    "start_time": "2021-12-23T06:56:24.303Z"
   },
   {
    "duration": 64,
    "start_time": "2021-12-23T06:56:26.150Z"
   },
   {
    "duration": 87,
    "start_time": "2021-12-23T06:56:27.518Z"
   },
   {
    "duration": 97,
    "start_time": "2021-12-23T06:56:34.845Z"
   },
   {
    "duration": 291,
    "start_time": "2021-12-23T06:56:37.469Z"
   },
   {
    "duration": 366,
    "start_time": "2021-12-23T06:56:41.797Z"
   },
   {
    "duration": 376,
    "start_time": "2021-12-23T06:56:44.301Z"
   },
   {
    "duration": 361,
    "start_time": "2021-12-23T06:57:05.837Z"
   },
   {
    "duration": 364,
    "start_time": "2021-12-23T06:57:10.627Z"
   },
   {
    "duration": 600,
    "start_time": "2021-12-23T06:57:57.544Z"
   },
   {
    "duration": 641,
    "start_time": "2021-12-23T06:58:01.624Z"
   },
   {
    "duration": 592,
    "start_time": "2021-12-23T06:58:17.207Z"
   },
   {
    "duration": 367,
    "start_time": "2021-12-23T06:58:30.278Z"
   },
   {
    "duration": 599,
    "start_time": "2021-12-23T06:58:43.734Z"
   },
   {
    "duration": 601,
    "start_time": "2021-12-23T06:59:09.140Z"
   },
   {
    "duration": 652,
    "start_time": "2021-12-23T07:03:05.728Z"
   },
   {
    "duration": 27,
    "start_time": "2021-12-23T07:03:06.382Z"
   },
   {
    "duration": 1683,
    "start_time": "2021-12-23T07:03:06.412Z"
   },
   {
    "duration": 3,
    "start_time": "2021-12-23T07:03:08.096Z"
   },
   {
    "duration": 71,
    "start_time": "2021-12-23T07:03:08.100Z"
   },
   {
    "duration": 69,
    "start_time": "2021-12-23T07:03:08.173Z"
   },
   {
    "duration": 87,
    "start_time": "2021-12-23T07:03:08.245Z"
   },
   {
    "duration": 139,
    "start_time": "2021-12-23T07:03:08.334Z"
   },
   {
    "duration": 69,
    "start_time": "2021-12-23T07:03:08.475Z"
   },
   {
    "duration": 73,
    "start_time": "2021-12-23T07:03:08.546Z"
   },
   {
    "duration": 100,
    "start_time": "2021-12-23T07:03:08.621Z"
   }
  ],
  "kernelspec": {
   "display_name": "Python 3",
   "language": "python",
   "name": "python3"
  },
  "language_info": {
   "codemirror_mode": {
    "name": "ipython",
    "version": 3
   },
   "file_extension": ".py",
   "mimetype": "text/x-python",
   "name": "python",
   "nbconvert_exporter": "python",
   "pygments_lexer": "ipython3",
   "version": "3.8.8"
  },
  "toc": {
   "base_numbering": 1,
   "nav_menu": {},
   "number_sections": true,
   "sideBar": true,
   "skip_h1_title": true,
   "title_cell": "Table of Contents",
   "title_sidebar": "Contents",
   "toc_cell": false,
   "toc_position": {},
   "toc_section_display": true,
   "toc_window_display": false
  }
 },
 "nbformat": 4,
 "nbformat_minor": 2
}
